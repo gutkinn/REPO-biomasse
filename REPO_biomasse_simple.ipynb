{
 "cells": [
  {
   "cell_type": "code",
   "execution_count": null,
   "metadata": {},
   "outputs": [],
   "source": [
    "!git clone https://github.com/gutkinn/REPO-biomasse.git\n",
    "%cd REPO-biomasse\n",
    "import os\n",
    "import yaml\n",
    "\n",
    "with open(\"environnement.yml\") as file_handle:\n",
    "    environment_data = yaml.safe_load(file_handle)\n",
    "\n",
    "for dependency in environment_data[\"dependencies\"]:\n",
    "    if isinstance(dependency, dict):\n",
    "        for lib in dependency['pip']:\n",
    "          os.system(f\"pip install {lib}\")\n",
    "    else:\n",
    "        os.system(f\"pip install {dependency}\")\n",
    "\n",
    "\n",
    "print('Ok, good to go!')"
   ]
  },
  {
   "cell_type": "code",
   "execution_count": 3,
   "metadata": {},
   "outputs": [
    {
     "ename": "TypeError",
     "evalue": "main() missing 1 required positional argument: 'point_extract'",
     "output_type": "error",
     "traceback": [
      "\u001b[1;31m---------------------------------------------------------------------------\u001b[0m",
      "\u001b[1;31mTypeError\u001b[0m                                 Traceback (most recent call last)",
      "Cell \u001b[1;32mIn[3], line 11\u001b[0m\n\u001b[0;32m      8\u001b[0m point_extract \u001b[38;5;241m=\u001b[39m \u001b[38;5;28;01mFalse\u001b[39;00m\n\u001b[0;32m      9\u001b[0m download \u001b[38;5;241m=\u001b[39m \u001b[38;5;28;01mFalse\u001b[39;00m\n\u001b[1;32m---> 11\u001b[0m \u001b[43mmain\u001b[49m\u001b[43m(\u001b[49m\u001b[43min_points\u001b[49m\u001b[43m,\u001b[49m\u001b[43m \u001b[49m\u001b[43min_area\u001b[49m\u001b[43m,\u001b[49m\u001b[43m \u001b[49m\u001b[43mout_dir\u001b[49m\u001b[43m,\u001b[49m\u001b[43mtrain_year\u001b[49m\u001b[43m,\u001b[49m\u001b[43mpredict_month\u001b[49m\u001b[43m,\u001b[49m\u001b[43m \u001b[49m\u001b[43mmodel\u001b[49m\u001b[43m,\u001b[49m\u001b[43m \u001b[49m\u001b[43mpoint_extract\u001b[49m\u001b[43m,\u001b[49m\u001b[43m \u001b[49m\u001b[43mdownload\u001b[49m\u001b[43m)\u001b[49m\n",
      "\u001b[1;31mTypeError\u001b[0m: main() missing 1 required positional argument: 'point_extract'"
     ]
    }
   ],
   "source": [
    "from REPO_biomasse import main\n",
    "in_points = r\"./in_data/donnees_sites_test.csv\"\n",
    "in_area = r\"./in_data/test_location.gpkg\"\n",
    "out_dir = r\"./out_data\"\n",
    "train_year = 2023\n",
    "predict_month = \"06\"\n",
    "model = \"LR\"\n",
    "point_extract = False\n",
    "download = False\n",
    "\n",
    "main(in_points, in_area, out_dir,train_year,predict_month, model, point_extract, download)\n"
   ]
  }
 ],
 "metadata": {
  "kernelspec": {
   "display_name": "VI_dry",
   "language": "python",
   "name": "python3"
  },
  "language_info": {
   "codemirror_mode": {
    "name": "ipython",
    "version": 3
   },
   "file_extension": ".py",
   "mimetype": "text/x-python",
   "name": "python",
   "nbconvert_exporter": "python",
   "pygments_lexer": "ipython3",
   "version": "3.9.0"
  }
 },
 "nbformat": 4,
 "nbformat_minor": 2
}
