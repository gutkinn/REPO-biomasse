{
 "cells": [
  {
   "cell_type": "markdown",
   "metadata": {},
   "source": [
    "# Regression model for dry biomasse assessment"
   ]
  },
  {
   "cell_type": "code",
   "execution_count": 3,
   "metadata": {},
   "outputs": [],
   "source": [
    "# Import required packages\n",
    "import numpy as np\n",
    "np.float = float\n",
    "\n",
    "import pandas as pd\n",
    "from sklearn.model_selection import train_test_split\n",
    "from sklearn.model_selection import KFold\n",
    "from sklearn.model_selection import cross_val_score\n",
    "from sklearn.model_selection import LeaveOneOut\n",
    "\n",
    "from sklearn.metrics import mean_absolute_error\n",
    "from sklearn.metrics import mean_squared_error\n",
    "from sklearn.metrics import mean_absolute_error\n",
    "from sklearn.metrics import r2_score\n",
    "from math import sqrt\n",
    "from sklearn.linear_model import LinearRegression\n",
    "from numpy import mean\n",
    "from numpy import absolute\n",
    "from numpy import sqrt\n",
    "from sklearn.metrics import mean_squared_error\n",
    "\n",
    "\n",
    "from sklearn import preprocessing\n",
    "import joblib\n",
    "import matplotlib.pyplot as plt"
   ]
  },
  {
   "cell_type": "markdown",
   "metadata": {},
   "source": [
    "## Simple LRMs"
   ]
  },
  {
   "cell_type": "markdown",
   "metadata": {},
   "source": [
    "#### 1. Sites BZ26"
   ]
  },
  {
   "cell_type": "code",
   "execution_count": 4,
   "metadata": {
    "tags": []
   },
   "outputs": [
    {
     "data": {
      "text/html": [
       "<div>\n",
       "<style scoped>\n",
       "    .dataframe tbody tr th:only-of-type {\n",
       "        vertical-align: middle;\n",
       "    }\n",
       "\n",
       "    .dataframe tbody tr th {\n",
       "        vertical-align: top;\n",
       "    }\n",
       "\n",
       "    .dataframe thead th {\n",
       "        text-align: right;\n",
       "    }\n",
       "</style>\n",
       "<table border=\"1\" class=\"dataframe\">\n",
       "  <thead>\n",
       "    <tr style=\"text-align: right;\">\n",
       "      <th></th>\n",
       "      <th>date</th>\n",
       "      <th>B01</th>\n",
       "      <th>B02</th>\n",
       "      <th>B03</th>\n",
       "      <th>B04</th>\n",
       "      <th>B05</th>\n",
       "      <th>B06</th>\n",
       "      <th>B07</th>\n",
       "      <th>B08</th>\n",
       "      <th>B8A</th>\n",
       "      <th>B11</th>\n",
       "      <th>B12</th>\n",
       "      <th>NDVI</th>\n",
       "      <th>STI</th>\n",
       "      <th>NDTI</th>\n",
       "      <th>DFI</th>\n",
       "      <th>NDRI</th>\n",
       "      <th>Date de mesure</th>\n",
       "      <th>Biomasse (gMS/m2)</th>\n",
       "      <th>Biomasse (kg/ha)</th>\n",
       "    </tr>\n",
       "  </thead>\n",
       "  <tbody>\n",
       "    <tr>\n",
       "      <th>0</th>\n",
       "      <td>2018-11-10</td>\n",
       "      <td>947.885638</td>\n",
       "      <td>1301.585106</td>\n",
       "      <td>1878.664894</td>\n",
       "      <td>2601.18617</td>\n",
       "      <td>3018.941489</td>\n",
       "      <td>3318.523936</td>\n",
       "      <td>3595.013298</td>\n",
       "      <td>3858.62234</td>\n",
       "      <td>3914.414894</td>\n",
       "      <td>5173.558511</td>\n",
       "      <td>4309.505319</td>\n",
       "      <td>0.194655</td>\n",
       "      <td>1.200499</td>\n",
       "      <td>0.091115</td>\n",
       "      <td>11.258753</td>\n",
       "      <td>-0.247199</td>\n",
       "      <td>2018-11-09 00:00:00</td>\n",
       "      <td>496.15</td>\n",
       "      <td>496.15</td>\n",
       "    </tr>\n",
       "  </tbody>\n",
       "</table>\n",
       "</div>"
      ],
      "text/plain": [
       "        date         B01          B02          B03         B04          B05  \\\n",
       "0 2018-11-10  947.885638  1301.585106  1878.664894  2601.18617  3018.941489   \n",
       "\n",
       "           B06          B07         B08          B8A          B11  \\\n",
       "0  3318.523936  3595.013298  3858.62234  3914.414894  5173.558511   \n",
       "\n",
       "           B12      NDVI       STI      NDTI        DFI      NDRI  \\\n",
       "0  4309.505319  0.194655  1.200499  0.091115  11.258753 -0.247199   \n",
       "\n",
       "        Date de mesure  Biomasse (gMS/m2)  Biomasse (kg/ha)  \n",
       "0  2018-11-09 00:00:00             496.15            496.15  "
      ]
     },
     "execution_count": 4,
     "metadata": {},
     "output_type": "execute_result"
    }
   ],
   "source": [
    "# Import input data \n",
    "data_BZ26 = pd.read_excel(\"./Model_data_completed.xlsx\", sheet_name = \"BZ26 Monthly\", parse_dates=True)\n",
    "data_BZ26.head(1)"
   ]
  },
  {
   "cell_type": "code",
   "execution_count": 5,
   "metadata": {},
   "outputs": [
    {
     "data": {
      "text/plain": [
       "date\n",
       "2018-11-10    496.15\n",
       "Name: Biomasse (kg/ha), dtype: float64"
      ]
     },
     "execution_count": 5,
     "metadata": {},
     "output_type": "execute_result"
    }
   ],
   "source": [
    "# Observed biomass\n",
    "obs_mass = data_BZ26[\"Biomasse (kg/ha)\"]\n",
    "obs_mass.index = data_BZ26.date\n",
    "obs_mass.head(1)"
   ]
  },
  {
   "cell_type": "code",
   "execution_count": 6,
   "metadata": {},
   "outputs": [
    {
     "data": {
      "text/html": [
       "<div>\n",
       "<style scoped>\n",
       "    .dataframe tbody tr th:only-of-type {\n",
       "        vertical-align: middle;\n",
       "    }\n",
       "\n",
       "    .dataframe tbody tr th {\n",
       "        vertical-align: top;\n",
       "    }\n",
       "\n",
       "    .dataframe thead th {\n",
       "        text-align: right;\n",
       "    }\n",
       "</style>\n",
       "<table border=\"1\" class=\"dataframe\">\n",
       "  <thead>\n",
       "    <tr style=\"text-align: right;\">\n",
       "      <th></th>\n",
       "      <th>date</th>\n",
       "      <th>B01</th>\n",
       "      <th>B02</th>\n",
       "      <th>B03</th>\n",
       "      <th>B04</th>\n",
       "      <th>B05</th>\n",
       "      <th>B06</th>\n",
       "      <th>B07</th>\n",
       "      <th>B08</th>\n",
       "      <th>B8A</th>\n",
       "      <th>B11</th>\n",
       "      <th>B12</th>\n",
       "      <th>NDVI</th>\n",
       "      <th>STI</th>\n",
       "      <th>NDTI</th>\n",
       "      <th>DFI</th>\n",
       "      <th>NDRI</th>\n",
       "    </tr>\n",
       "    <tr>\n",
       "      <th>date</th>\n",
       "      <th></th>\n",
       "      <th></th>\n",
       "      <th></th>\n",
       "      <th></th>\n",
       "      <th></th>\n",
       "      <th></th>\n",
       "      <th></th>\n",
       "      <th></th>\n",
       "      <th></th>\n",
       "      <th></th>\n",
       "      <th></th>\n",
       "      <th></th>\n",
       "      <th></th>\n",
       "      <th></th>\n",
       "      <th></th>\n",
       "      <th></th>\n",
       "      <th></th>\n",
       "    </tr>\n",
       "  </thead>\n",
       "  <tbody>\n",
       "    <tr>\n",
       "      <th>2018-01-04</th>\n",
       "      <td>2018-01-04</td>\n",
       "      <td>890.00266</td>\n",
       "      <td>1348.335106</td>\n",
       "      <td>2029.957447</td>\n",
       "      <td>2958.531915</td>\n",
       "      <td>3358.143617</td>\n",
       "      <td>3634.125</td>\n",
       "      <td>3907.300532</td>\n",
       "      <td>4308.058511</td>\n",
       "      <td>4259.787234</td>\n",
       "      <td>5270.683511</td>\n",
       "      <td>4181.170213</td>\n",
       "      <td>0.185717</td>\n",
       "      <td>1.260576</td>\n",
       "      <td>0.11527</td>\n",
       "      <td>14.195813</td>\n",
       "      <td>-0.171245</td>\n",
       "    </tr>\n",
       "  </tbody>\n",
       "</table>\n",
       "</div>"
      ],
      "text/plain": [
       "                 date        B01          B02          B03          B04  \\\n",
       "date                                                                      \n",
       "2018-01-04 2018-01-04  890.00266  1348.335106  2029.957447  2958.531915   \n",
       "\n",
       "                    B05       B06          B07          B08          B8A  \\\n",
       "date                                                                       \n",
       "2018-01-04  3358.143617  3634.125  3907.300532  4308.058511  4259.787234   \n",
       "\n",
       "                    B11          B12      NDVI       STI     NDTI        DFI  \\\n",
       "date                                                                           \n",
       "2018-01-04  5270.683511  4181.170213  0.185717  1.260576  0.11527  14.195813   \n",
       "\n",
       "                NDRI  \n",
       "date                  \n",
       "2018-01-04 -0.171245  "
      ]
     },
     "execution_count": 6,
     "metadata": {},
     "output_type": "execute_result"
    }
   ],
   "source": [
    "# Spectral indices\n",
    "si_BZ26 = pd.read_excel(\"D:/01. Dr Abdourahamane/05. EO-AFRICA-RDF-Project/Article/Last Research Paper/BZ26_SI.xlsx\", parse_dates=True)\n",
    "si_BZ26.index = si_BZ26.date\n",
    "si_BZ26.head(1)"
   ]
  },
  {
   "cell_type": "code",
   "execution_count": 7,
   "metadata": {
    "tags": []
   },
   "outputs": [],
   "source": [
    "# Dry season\n",
    "d_month =(si_BZ26.index.month == 10) |(si_BZ26.index.month == 11) | (si_BZ26.index.month == 12) | (si_BZ26.index.month == 1) | (si_BZ26.index.month == 2) | (si_BZ26.index.month == 3) | (si_BZ26.index.month == 4) | (si_BZ26.index.month == 5)\n",
    "si_BZ26 = si_BZ26[d_month]\n",
    "#si_BZ26.head(2)"
   ]
  },
  {
   "cell_type": "markdown",
   "metadata": {
    "tags": []
   },
   "source": [
    "#### Model 1:  X = STI"
   ]
  },
  {
   "cell_type": "code",
   "execution_count": 6,
   "metadata": {
    "tags": []
   },
   "outputs": [
    {
     "data": {
      "text/html": [
       "<div>\n",
       "<style scoped>\n",
       "    .dataframe tbody tr th:only-of-type {\n",
       "        vertical-align: middle;\n",
       "    }\n",
       "\n",
       "    .dataframe tbody tr th {\n",
       "        vertical-align: top;\n",
       "    }\n",
       "\n",
       "    .dataframe thead th {\n",
       "        text-align: right;\n",
       "    }\n",
       "</style>\n",
       "<table border=\"1\" class=\"dataframe\">\n",
       "  <thead>\n",
       "    <tr style=\"text-align: right;\">\n",
       "      <th></th>\n",
       "      <th>STI</th>\n",
       "      <th>Biomasse (kg/ha)</th>\n",
       "    </tr>\n",
       "  </thead>\n",
       "  <tbody>\n",
       "    <tr>\n",
       "      <th>0</th>\n",
       "      <td>1.200499</td>\n",
       "      <td>496.15</td>\n",
       "    </tr>\n",
       "  </tbody>\n",
       "</table>\n",
       "</div>"
      ],
      "text/plain": [
       "        STI  Biomasse (kg/ha)\n",
       "0  1.200499            496.15"
      ]
     },
     "execution_count": 6,
     "metadata": {},
     "output_type": "execute_result"
    }
   ],
   "source": [
    "# Define input output data\n",
    "sti_data = data_BZ26.iloc[:, [13, 19]]\n",
    "sti_data.head(1)"
   ]
  },
  {
   "cell_type": "code",
   "execution_count": 7,
   "metadata": {},
   "outputs": [
    {
     "data": {
      "text/html": [
       "<div>\n",
       "<style scoped>\n",
       "    .dataframe tbody tr th:only-of-type {\n",
       "        vertical-align: middle;\n",
       "    }\n",
       "\n",
       "    .dataframe tbody tr th {\n",
       "        vertical-align: top;\n",
       "    }\n",
       "\n",
       "    .dataframe thead th {\n",
       "        text-align: right;\n",
       "    }\n",
       "</style>\n",
       "<table border=\"1\" class=\"dataframe\">\n",
       "  <thead>\n",
       "    <tr style=\"text-align: right;\">\n",
       "      <th></th>\n",
       "      <th>coef</th>\n",
       "      <th>cste</th>\n",
       "      <th>R2</th>\n",
       "      <th>RMSE</th>\n",
       "      <th>mae</th>\n",
       "      <th>MAPE</th>\n",
       "    </tr>\n",
       "  </thead>\n",
       "  <tbody>\n",
       "    <tr>\n",
       "      <th>6</th>\n",
       "      <td>[3110.0470647078832]</td>\n",
       "      <td>-3417.589164</td>\n",
       "      <td>0.435977</td>\n",
       "      <td>167.622245</td>\n",
       "      <td>156.472011</td>\n",
       "      <td>0.412598</td>\n",
       "    </tr>\n",
       "  </tbody>\n",
       "</table>\n",
       "</div>"
      ],
      "text/plain": [
       "                   coef         cste        R2        RMSE         mae  \\\n",
       "6  [3110.0470647078832] -3417.589164  0.435977  167.622245  156.472011   \n",
       "\n",
       "       MAPE  \n",
       "6  0.412598  "
      ]
     },
     "execution_count": 7,
     "metadata": {},
     "output_type": "execute_result"
    }
   ],
   "source": [
    "# Define predictor and response variables\n",
    "coef_list = []\n",
    "cste_list = []\n",
    "R2_list = []\n",
    "mae_list = []\n",
    "RMSE_list = []\n",
    "MAPE_list = []\n",
    "for i in range(0, len(sti_data)):\n",
    "    X = sti_data[[\"STI\"]]\n",
    "    var_out = X.index.isin([i])\n",
    "    X = X.loc[~var_out]         # Leave one out\n",
    "    \n",
    "    y = sti_data[\"Biomasse (kg/ha)\"][X.index] # same indices as X\n",
    "    \n",
    "    model_1 = LinearRegression().fit(X, y)\n",
    "    \n",
    "    coef = model_1.coef_\n",
    "    coef_list.append(coef)\n",
    "    \n",
    "    cste =  model_1.intercept_\n",
    "    cste_list.append(cste)\n",
    "    \n",
    "    X = sti_data[[\"STI\"]]\n",
    "    y = sti_data[\"Biomasse (kg/ha)\"]\n",
    "    \n",
    "    R2 = r2_score(y.values,  (model_1.predict(X)))\n",
    "    R2_list.append(R2)\n",
    "    RMSE = mean_squared_error(y.values, (model_1.predict(X)), squared=False)\n",
    "    RMSE_list.append(RMSE)\n",
    "    mae = mean_absolute_error(y.values,  (model_1.predict(X)))\n",
    "    mae_list.append(mae)\n",
    "    mape = np.mean(np.abs((y.values - (model_1.predict(X))))/y.values)\n",
    "    MAPE_list.append(mape)\n",
    "    \n",
    "result_dic = {\"coef\" : coef_list, \"cste\": cste_list, \"R2\" : R2_list,\"RMSE\": RMSE_list, \"mae\": mae_list, \"MAPE\": MAPE_list}    \n",
    "reg_results = pd.DataFrame(result_dic)\n",
    "reg_results.loc[reg_results.RMSE == reg_results.RMSE.min()]  "
   ]
  },
  {
   "cell_type": "code",
   "execution_count": 8,
   "metadata": {
    "tags": []
   },
   "outputs": [],
   "source": [
    "# Predict the out var using the best model\n",
    "model_1 = LinearRegression()\n",
    "model_1.coef_ = reg_results.coef.values[6]\n",
    "model_1.intercept_ = reg_results.cste.values[6]"
   ]
  },
  {
   "cell_type": "markdown",
   "metadata": {
    "tags": []
   },
   "source": [
    "### Plot the results"
   ]
  },
  {
   "cell_type": "code",
   "execution_count": 9,
   "metadata": {
    "tags": []
   },
   "outputs": [
    {
     "data": {
      "text/html": [
       "<div>\n",
       "<style scoped>\n",
       "    .dataframe tbody tr th:only-of-type {\n",
       "        vertical-align: middle;\n",
       "    }\n",
       "\n",
       "    .dataframe tbody tr th {\n",
       "        vertical-align: top;\n",
       "    }\n",
       "\n",
       "    .dataframe thead th {\n",
       "        text-align: right;\n",
       "    }\n",
       "</style>\n",
       "<table border=\"1\" class=\"dataframe\">\n",
       "  <thead>\n",
       "    <tr style=\"text-align: right;\">\n",
       "      <th></th>\n",
       "      <th>date</th>\n",
       "      <th>B01</th>\n",
       "      <th>B02</th>\n",
       "      <th>B03</th>\n",
       "      <th>B04</th>\n",
       "      <th>B05</th>\n",
       "      <th>B06</th>\n",
       "      <th>B07</th>\n",
       "      <th>B08</th>\n",
       "      <th>B8A</th>\n",
       "      <th>B11</th>\n",
       "      <th>B12</th>\n",
       "      <th>NDVI</th>\n",
       "      <th>STI</th>\n",
       "      <th>NDTI</th>\n",
       "      <th>DFI</th>\n",
       "      <th>NDRI</th>\n",
       "    </tr>\n",
       "    <tr>\n",
       "      <th>date</th>\n",
       "      <th></th>\n",
       "      <th></th>\n",
       "      <th></th>\n",
       "      <th></th>\n",
       "      <th></th>\n",
       "      <th></th>\n",
       "      <th></th>\n",
       "      <th></th>\n",
       "      <th></th>\n",
       "      <th></th>\n",
       "      <th></th>\n",
       "      <th></th>\n",
       "      <th></th>\n",
       "      <th></th>\n",
       "      <th></th>\n",
       "      <th></th>\n",
       "      <th></th>\n",
       "    </tr>\n",
       "  </thead>\n",
       "  <tbody>\n",
       "    <tr>\n",
       "      <th>2018-01-04</th>\n",
       "      <td>2018-01-04</td>\n",
       "      <td>890.00266</td>\n",
       "      <td>1348.335106</td>\n",
       "      <td>2029.957447</td>\n",
       "      <td>2958.531915</td>\n",
       "      <td>3358.143617</td>\n",
       "      <td>3634.125</td>\n",
       "      <td>3907.300532</td>\n",
       "      <td>4308.058511</td>\n",
       "      <td>4259.787234</td>\n",
       "      <td>5270.683511</td>\n",
       "      <td>4181.170213</td>\n",
       "      <td>0.185717</td>\n",
       "      <td>1.260576</td>\n",
       "      <td>0.11527</td>\n",
       "      <td>14.195813</td>\n",
       "      <td>-0.171245</td>\n",
       "    </tr>\n",
       "  </tbody>\n",
       "</table>\n",
       "</div>"
      ],
      "text/plain": [
       "                 date        B01          B02          B03          B04  \\\n",
       "date                                                                      \n",
       "2018-01-04 2018-01-04  890.00266  1348.335106  2029.957447  2958.531915   \n",
       "\n",
       "                    B05       B06          B07          B08          B8A  \\\n",
       "date                                                                       \n",
       "2018-01-04  3358.143617  3634.125  3907.300532  4308.058511  4259.787234   \n",
       "\n",
       "                    B11          B12      NDVI       STI     NDTI        DFI  \\\n",
       "date                                                                           \n",
       "2018-01-04  5270.683511  4181.170213  0.185717  1.260576  0.11527  14.195813   \n",
       "\n",
       "                NDRI  \n",
       "date                  \n",
       "2018-01-04 -0.171245  "
      ]
     },
     "execution_count": 9,
     "metadata": {},
     "output_type": "execute_result"
    }
   ],
   "source": [
    "# Estimated biomass with spectral indices\n",
    "si_BZ26.index = si_BZ26.date\n",
    "si_BZ26.head(1)"
   ]
  },
  {
   "cell_type": "code",
   "execution_count": 10,
   "metadata": {
    "tags": []
   },
   "outputs": [
    {
     "name": "stderr",
     "output_type": "stream",
     "text": [
      "C:\\Users\\GARBA\\anaconda3\\envs\\geo_env\\lib\\site-packages\\sklearn\\base.py:443: UserWarning: X has feature names, but LinearRegression was fitted without feature names\n",
      "  warnings.warn(\n"
     ]
    }
   ],
   "source": [
    "# inputs\n",
    "x_all = si_BZ26[[\"STI\"]]\n",
    "y_all = model_1.predict(x_all)\n",
    "#y_all"
   ]
  },
  {
   "cell_type": "code",
   "execution_count": 11,
   "metadata": {
    "tags": []
   },
   "outputs": [
    {
     "data": {
      "image/png": "[encoded data removed]",
      "text/plain": [
       "<Figure size 750x250 with 1 Axes>"
      ]
     },
     "metadata": {},
     "output_type": "display_data"
    }
   ],
   "source": [
    "fig, ax = plt.subplots(1, 1, figsize = (7.5,2.5), constrained_layout = True)\n",
    "ax.scatter(obs_mass.index, obs_mass.values, label = \"Observed Biomass\", color = \"darkblue\", s = 6)\n",
    "ax.plot(si_BZ26.date, y_all, lw = .9, label = \"Estimated biomass\", color = \"r\", alpha = .5)\n",
    "#ax.set_xticks(sti_data.index)\n",
    "#ax.set_yticks(np.arange(0, 1500, 200))\n",
    "ax.set_ylabel(\"kgMS/ha\", fontsize = 7)\n",
    "#ax.set_xlabel(\"Index\",  fontsize = 7)\n",
    "ax.tick_params(axis='both', which='major', labelsize=8)\n",
    "ax.legend(fontsize = 7, loc = (0.81, 0.81))\n",
    "ax.set_title(\"Fallow site BZ26 - Model 1: STI\", fontsize = 8, fontweight = \"bold\", x = 0.15, y = .87)\n",
    "ax.grid(\"both\", alpha = 0.2)\n",
    "plt.savefig(\"./output/BZ26/model_1_jachere.png\", dpi = 600)"
   ]
  },
  {
   "cell_type": "code",
   "execution_count": 12,
   "metadata": {
    "tags": []
   },
   "outputs": [],
   "source": [
    "# Save the regression model\n",
    "#joblib.dump(model_1, \"./model 1/model_BZ26.pkl\") "
   ]
  },
  {
   "cell_type": "markdown",
   "metadata": {},
   "source": [
    "#### 2. Model 2:  X = NDTI"
   ]
  },
  {
   "cell_type": "code",
   "execution_count": 13,
   "metadata": {},
   "outputs": [
    {
     "data": {
      "text/html": [
       "<div>\n",
       "<style scoped>\n",
       "    .dataframe tbody tr th:only-of-type {\n",
       "        vertical-align: middle;\n",
       "    }\n",
       "\n",
       "    .dataframe tbody tr th {\n",
       "        vertical-align: top;\n",
       "    }\n",
       "\n",
       "    .dataframe thead th {\n",
       "        text-align: right;\n",
       "    }\n",
       "</style>\n",
       "<table border=\"1\" class=\"dataframe\">\n",
       "  <thead>\n",
       "    <tr style=\"text-align: right;\">\n",
       "      <th></th>\n",
       "      <th>NDTI</th>\n",
       "      <th>Biomasse (kg/ha)</th>\n",
       "    </tr>\n",
       "  </thead>\n",
       "  <tbody>\n",
       "    <tr>\n",
       "      <th>0</th>\n",
       "      <td>0.091115</td>\n",
       "      <td>496.15</td>\n",
       "    </tr>\n",
       "    <tr>\n",
       "      <th>1</th>\n",
       "      <td>0.145027</td>\n",
       "      <td>871.90</td>\n",
       "    </tr>\n",
       "  </tbody>\n",
       "</table>\n",
       "</div>"
      ],
      "text/plain": [
       "       NDTI  Biomasse (kg/ha)\n",
       "0  0.091115            496.15\n",
       "1  0.145027            871.90"
      ]
     },
     "execution_count": 13,
     "metadata": {},
     "output_type": "execute_result"
    }
   ],
   "source": [
    "# Define input output data\n",
    "ndti_data = data_BZ26.iloc[:, [14, 19]]\n",
    "ndti_data.head(2)"
   ]
  },
  {
   "cell_type": "code",
   "execution_count": 14,
   "metadata": {},
   "outputs": [
    {
     "data": {
      "text/html": [
       "<div>\n",
       "<style scoped>\n",
       "    .dataframe tbody tr th:only-of-type {\n",
       "        vertical-align: middle;\n",
       "    }\n",
       "\n",
       "    .dataframe tbody tr th {\n",
       "        vertical-align: top;\n",
       "    }\n",
       "\n",
       "    .dataframe thead th {\n",
       "        text-align: right;\n",
       "    }\n",
       "</style>\n",
       "<table border=\"1\" class=\"dataframe\">\n",
       "  <thead>\n",
       "    <tr style=\"text-align: right;\">\n",
       "      <th></th>\n",
       "      <th>coef</th>\n",
       "      <th>cste</th>\n",
       "      <th>R2</th>\n",
       "      <th>RMSE</th>\n",
       "      <th>mae</th>\n",
       "      <th>MAPE</th>\n",
       "    </tr>\n",
       "  </thead>\n",
       "  <tbody>\n",
       "    <tr>\n",
       "      <th>6</th>\n",
       "      <td>[7917.8719547940655]</td>\n",
       "      <td>-406.809379</td>\n",
       "      <td>0.427489</td>\n",
       "      <td>168.878855</td>\n",
       "      <td>157.791054</td>\n",
       "      <td>0.41587</td>\n",
       "    </tr>\n",
       "  </tbody>\n",
       "</table>\n",
       "</div>"
      ],
      "text/plain": [
       "                   coef        cste        R2        RMSE         mae     MAPE\n",
       "6  [7917.8719547940655] -406.809379  0.427489  168.878855  157.791054  0.41587"
      ]
     },
     "execution_count": 14,
     "metadata": {},
     "output_type": "execute_result"
    }
   ],
   "source": [
    "# Define predictor and response variables\n",
    "coef_list = []\n",
    "cste_list = []\n",
    "R2_list = []\n",
    "mae_list = []\n",
    "RMSE_list = []\n",
    "MAPE_list = []\n",
    "\n",
    "for i in range(0, len(ndti_data)):\n",
    "    X = ndti_data[[\"NDTI\"]]\n",
    "    var_out = X.index.isin([i])\n",
    "    X = X.loc[~var_out]         # Leave one out\n",
    "    \n",
    "    y = ndti_data[\"Biomasse (kg/ha)\"][X.index] # same indices as X\n",
    "    \n",
    "    model_1 = LinearRegression().fit(X, y)\n",
    "    \n",
    "    coef = model_1.coef_\n",
    "    coef_list.append(coef)\n",
    "    \n",
    "    cste =  model_1.intercept_\n",
    "    cste_list.append(cste)\n",
    "    \n",
    "    X = ndti_data[[\"NDTI\"]]\n",
    "    y = ndti_data[\"Biomasse (kg/ha)\"]\n",
    "    \n",
    "    R2 = r2_score(y.values,  (model_1.predict(X)))\n",
    "    R2_list.append(R2)\n",
    "    RMSE = mean_squared_error(y.values, (model_1.predict(X)), squared=False)\n",
    "    RMSE_list.append(RMSE)\n",
    "    mae = mean_absolute_error(y.values,  (model_1.predict(X)))\n",
    "    mae_list.append(mae)\n",
    "    mape = np.mean(np.abs((y.values - (model_1.predict(X))))/y.values)\n",
    "    MAPE_list.append(mape)\n",
    "    \n",
    "result_dic = {\"coef\" : coef_list, \"cste\": cste_list, \"R2\" : R2_list,\"RMSE\": RMSE_list, \"mae\": mae_list, \"MAPE\": MAPE_list}    \n",
    "reg_results = pd.DataFrame(result_dic)\n",
    "reg_results.loc[reg_results.RMSE == reg_results.RMSE.min()]  "
   ]
  },
  {
   "cell_type": "code",
   "execution_count": 15,
   "metadata": {},
   "outputs": [],
   "source": [
    "# Predict the out var using the best model\n",
    "model_1 = LinearRegression()\n",
    "model_1.coef_ = reg_results.coef.values[6]\n",
    "model_1.intercept_ = reg_results.cste.values[6]"
   ]
  },
  {
   "cell_type": "markdown",
   "metadata": {
    "tags": []
   },
   "source": [
    "### Plot the results"
   ]
  },
  {
   "cell_type": "code",
   "execution_count": 16,
   "metadata": {
    "tags": []
   },
   "outputs": [
    {
     "name": "stderr",
     "output_type": "stream",
     "text": [
      "C:\\Users\\GARBA\\anaconda3\\envs\\geo_env\\lib\\site-packages\\sklearn\\base.py:443: UserWarning: X has feature names, but LinearRegression was fitted without feature names\n",
      "  warnings.warn(\n"
     ]
    }
   ],
   "source": [
    "# inputs\n",
    "x_all = si_BZ26[[\"NDTI\"]]\n",
    "y_all = model_1.predict(x_all)\n",
    "#y_all"
   ]
  },
  {
   "cell_type": "code",
   "execution_count": 17,
   "metadata": {
    "tags": []
   },
   "outputs": [
    {
     "data": {
      "image/png": "[encoded data removed]",
      "text/plain": [
       "<Figure size 750x250 with 1 Axes>"
      ]
     },
     "metadata": {},
     "output_type": "display_data"
    }
   ],
   "source": [
    "fig, ax = plt.subplots(1, 1, figsize = (7.5,2.5), constrained_layout = True)\n",
    "ax.scatter(obs_mass.index, obs_mass.values, label = \"Observed Biomass\", color = \"darkblue\", s = 6)\n",
    "ax.plot(si_BZ26.date, y_all, lw = .9, label = \"Estimated biomass\", color = \"r\", alpha = .5)\n",
    "#ax.set_xticks(sti_data.index)\n",
    "#ax.set_yticks(np.arange(0, 1500, 200))\n",
    "ax.set_ylabel(\"kgMS/ha\", fontsize = 7)\n",
    "#ax.set_xlabel(\"Index\",  fontsize = 7)\n",
    "ax.tick_params(axis='both', which='major', labelsize=8)\n",
    "ax.legend(fontsize = 7, loc = (0.01, 0.01))\n",
    "ax.set_title(\"Fallow site BZ26 - Model 2: NDTI\", fontsize = 8, fontweight = \"bold\", x = 0.2, y = .9)\n",
    "ax.grid(\"both\", alpha = 0.2)\n",
    "plt.savefig(\"./output/BZ26/model_2_jachere.png\", dpi = 600)"
   ]
  },
  {
   "cell_type": "code",
   "execution_count": 18,
   "metadata": {},
   "outputs": [],
   "source": [
    "# Save the regression model\n",
    "#joblib.dump(model_1, \"./model 2/model_BZ26.pkl\") "
   ]
  },
  {
   "cell_type": "markdown",
   "metadata": {},
   "source": [
    "#### 3. Model 3:  X = DFI"
   ]
  },
  {
   "cell_type": "code",
   "execution_count": 19,
   "metadata": {},
   "outputs": [
    {
     "data": {
      "text/html": [
       "<div>\n",
       "<style scoped>\n",
       "    .dataframe tbody tr th:only-of-type {\n",
       "        vertical-align: middle;\n",
       "    }\n",
       "\n",
       "    .dataframe tbody tr th {\n",
       "        vertical-align: top;\n",
       "    }\n",
       "\n",
       "    .dataframe thead th {\n",
       "        text-align: right;\n",
       "    }\n",
       "</style>\n",
       "<table border=\"1\" class=\"dataframe\">\n",
       "  <thead>\n",
       "    <tr style=\"text-align: right;\">\n",
       "      <th></th>\n",
       "      <th>DFI</th>\n",
       "      <th>Biomasse (kg/ha)</th>\n",
       "    </tr>\n",
       "  </thead>\n",
       "  <tbody>\n",
       "    <tr>\n",
       "      <th>0</th>\n",
       "      <td>11.258753</td>\n",
       "      <td>496.15</td>\n",
       "    </tr>\n",
       "  </tbody>\n",
       "</table>\n",
       "</div>"
      ],
      "text/plain": [
       "         DFI  Biomasse (kg/ha)\n",
       "0  11.258753            496.15"
      ]
     },
     "execution_count": 19,
     "metadata": {},
     "output_type": "execute_result"
    }
   ],
   "source": [
    "# Define input output data\n",
    "dfi_data = data_BZ26.iloc[:, [15, 19]]\n",
    "dfi_data.head(1)"
   ]
  },
  {
   "cell_type": "code",
   "execution_count": 20,
   "metadata": {},
   "outputs": [
    {
     "data": {
      "text/html": [
       "<div>\n",
       "<style scoped>\n",
       "    .dataframe tbody tr th:only-of-type {\n",
       "        vertical-align: middle;\n",
       "    }\n",
       "\n",
       "    .dataframe tbody tr th {\n",
       "        vertical-align: top;\n",
       "    }\n",
       "\n",
       "    .dataframe thead th {\n",
       "        text-align: right;\n",
       "    }\n",
       "</style>\n",
       "<table border=\"1\" class=\"dataframe\">\n",
       "  <thead>\n",
       "    <tr style=\"text-align: right;\">\n",
       "      <th></th>\n",
       "      <th>coef</th>\n",
       "      <th>cste</th>\n",
       "      <th>R2</th>\n",
       "      <th>RMSE</th>\n",
       "      <th>mae</th>\n",
       "      <th>MAPE</th>\n",
       "    </tr>\n",
       "  </thead>\n",
       "  <tbody>\n",
       "    <tr>\n",
       "      <th>0</th>\n",
       "      <td>[-29.97664562761116]</td>\n",
       "      <td>919.650969</td>\n",
       "      <td>-0.007178</td>\n",
       "      <td>223.994003</td>\n",
       "      <td>199.553903</td>\n",
       "      <td>0.526475</td>\n",
       "    </tr>\n",
       "  </tbody>\n",
       "</table>\n",
       "</div>"
      ],
      "text/plain": [
       "                   coef        cste        R2        RMSE         mae  \\\n",
       "0  [-29.97664562761116]  919.650969 -0.007178  223.994003  199.553903   \n",
       "\n",
       "       MAPE  \n",
       "0  0.526475  "
      ]
     },
     "execution_count": 20,
     "metadata": {},
     "output_type": "execute_result"
    }
   ],
   "source": [
    "# Define predictor and response variables\n",
    "coef_list = []\n",
    "cste_list = []\n",
    "R2_list = []\n",
    "mae_list = []\n",
    "RMSE_list = []\n",
    "MAPE_list = []\n",
    "\n",
    "for i in range(0, len(dfi_data)):\n",
    "    X = dfi_data[[\"DFI\"]]\n",
    "    var_out = X.index.isin([i])\n",
    "    X = X.loc[~var_out]         # Leave one out\n",
    "    \n",
    "    y = dfi_data[\"Biomasse (kg/ha)\"][X.index] # same indices as X\n",
    "    \n",
    "    model_1 = LinearRegression().fit(X, y)\n",
    "    \n",
    "    coef = model_1.coef_\n",
    "    coef_list.append(coef)\n",
    "    \n",
    "    cste =  model_1.intercept_\n",
    "    cste_list.append(cste)\n",
    "    \n",
    "    X = dfi_data[[\"DFI\"]]\n",
    "    y = dfi_data[\"Biomasse (kg/ha)\"]\n",
    "    \n",
    "    R2 = r2_score(y.values,  (model_1.predict(X)))\n",
    "    R2_list.append(R2)\n",
    "    RMSE = mean_squared_error(y.values, (model_1.predict(X)), squared=False)\n",
    "    RMSE_list.append(RMSE)\n",
    "    mae = mean_absolute_error(y.values,  (model_1.predict(X)))\n",
    "    mae_list.append(mae)\n",
    "    mape = np.mean(np.abs((y.values - (model_1.predict(X))))/y.values)\n",
    "    MAPE_list.append(mape)\n",
    "    \n",
    "result_dic = {\"coef\" : coef_list, \"cste\": cste_list, \"R2\" : R2_list,\"RMSE\": RMSE_list, \"mae\": mae_list, \"MAPE\": MAPE_list}    \n",
    "reg_results = pd.DataFrame(result_dic)\n",
    "reg_results.loc[reg_results.RMSE == reg_results.RMSE.min()]"
   ]
  },
  {
   "cell_type": "code",
   "execution_count": 21,
   "metadata": {},
   "outputs": [],
   "source": [
    "# Predict the out var using the best model\n",
    "model_1 = LinearRegression()\n",
    "model_1.coef_ = reg_results.coef.values[0]\n",
    "model_1.intercept_ = reg_results.cste.values[0]"
   ]
  },
  {
   "cell_type": "markdown",
   "metadata": {
    "tags": []
   },
   "source": [
    "### Plot the results"
   ]
  },
  {
   "cell_type": "code",
   "execution_count": 22,
   "metadata": {
    "tags": []
   },
   "outputs": [
    {
     "name": "stderr",
     "output_type": "stream",
     "text": [
      "C:\\Users\\GARBA\\anaconda3\\envs\\geo_env\\lib\\site-packages\\sklearn\\base.py:443: UserWarning: X has feature names, but LinearRegression was fitted without feature names\n",
      "  warnings.warn(\n"
     ]
    }
   ],
   "source": [
    "# inputs\n",
    "x_all = si_BZ26[[\"DFI\"]]\n",
    "y_all = model_1.predict(x_all)\n",
    "#y_all"
   ]
  },
  {
   "cell_type": "code",
   "execution_count": 23,
   "metadata": {
    "tags": []
   },
   "outputs": [
    {
     "data": {
      "image/png": "[encoded data removed]",
      "text/plain": [
       "<Figure size 750x250 with 1 Axes>"
      ]
     },
     "metadata": {},
     "output_type": "display_data"
    }
   ],
   "source": [
    "fig, ax = plt.subplots(1, 1, figsize = (7.5,2.5), constrained_layout = True)\n",
    "ax.scatter(obs_mass.index, obs_mass.values, label = \"Observed Biomass\", color = \"darkblue\", s = 6)\n",
    "ax.plot(si_BZ26.date, y_all, lw = .9, label = \"Estimated biomass\", color = \"r\", alpha = .5)\n",
    "#ax.set_xticks(sti_data.index)\n",
    "#ax.set_yticks(np.arange(0, 1500, 200))\n",
    "ax.set_ylabel(\"kgMS/ha\", fontsize = 7)\n",
    "#ax.set_xlabel(\"Index\",  fontsize = 7)\n",
    "ax.tick_params(axis='both', which='major', labelsize=8)\n",
    "ax.legend(fontsize = 7, loc = (0.01, 0.01))\n",
    "ax.set_title(\"Fallow site BZ26 - Model 3: DFI\", fontsize = 8, fontweight = \"bold\", x = 0.18, y = .9)\n",
    "ax.grid(\"both\", alpha = 0.2)\n",
    "plt.savefig(\"./output/BZ26/model_3_jachere.png\", dpi = 600)"
   ]
  },
  {
   "cell_type": "code",
   "execution_count": 24,
   "metadata": {},
   "outputs": [],
   "source": [
    "# Save the regression model\n",
    "#joblib.dump(model_1, \"./model 3/model_BZ26.pkl\") "
   ]
  },
  {
   "cell_type": "markdown",
   "metadata": {},
   "source": [
    "#### 4. Model 4:  X = NDRI"
   ]
  },
  {
   "cell_type": "code",
   "execution_count": 25,
   "metadata": {},
   "outputs": [
    {
     "data": {
      "text/html": [
       "<div>\n",
       "<style scoped>\n",
       "    .dataframe tbody tr th:only-of-type {\n",
       "        vertical-align: middle;\n",
       "    }\n",
       "\n",
       "    .dataframe tbody tr th {\n",
       "        vertical-align: top;\n",
       "    }\n",
       "\n",
       "    .dataframe thead th {\n",
       "        text-align: right;\n",
       "    }\n",
       "</style>\n",
       "<table border=\"1\" class=\"dataframe\">\n",
       "  <thead>\n",
       "    <tr style=\"text-align: right;\">\n",
       "      <th></th>\n",
       "      <th>NDRI</th>\n",
       "      <th>Biomasse (kg/ha)</th>\n",
       "    </tr>\n",
       "  </thead>\n",
       "  <tbody>\n",
       "    <tr>\n",
       "      <th>0</th>\n",
       "      <td>-0.247199</td>\n",
       "      <td>496.15</td>\n",
       "    </tr>\n",
       "  </tbody>\n",
       "</table>\n",
       "</div>"
      ],
      "text/plain": [
       "       NDRI  Biomasse (kg/ha)\n",
       "0 -0.247199            496.15"
      ]
     },
     "execution_count": 25,
     "metadata": {},
     "output_type": "execute_result"
    }
   ],
   "source": [
    "# Define input output data\n",
    "ndri_data = data_BZ26.iloc[:, [16, 19]]\n",
    "ndri_data.head(1)"
   ]
  },
  {
   "cell_type": "code",
   "execution_count": 26,
   "metadata": {},
   "outputs": [
    {
     "data": {
      "text/html": [
       "<div>\n",
       "<style scoped>\n",
       "    .dataframe tbody tr th:only-of-type {\n",
       "        vertical-align: middle;\n",
       "    }\n",
       "\n",
       "    .dataframe tbody tr th {\n",
       "        vertical-align: top;\n",
       "    }\n",
       "\n",
       "    .dataframe thead th {\n",
       "        text-align: right;\n",
       "    }\n",
       "</style>\n",
       "<table border=\"1\" class=\"dataframe\">\n",
       "  <thead>\n",
       "    <tr style=\"text-align: right;\">\n",
       "      <th></th>\n",
       "      <th>coef</th>\n",
       "      <th>cste</th>\n",
       "      <th>R2</th>\n",
       "      <th>RMSE</th>\n",
       "      <th>mae</th>\n",
       "      <th>MAPE</th>\n",
       "    </tr>\n",
       "  </thead>\n",
       "  <tbody>\n",
       "    <tr>\n",
       "      <th>2</th>\n",
       "      <td>[-4689.58084480417]</td>\n",
       "      <td>-525.778006</td>\n",
       "      <td>0.483909</td>\n",
       "      <td>160.341608</td>\n",
       "      <td>127.605508</td>\n",
       "      <td>0.326955</td>\n",
       "    </tr>\n",
       "  </tbody>\n",
       "</table>\n",
       "</div>"
      ],
      "text/plain": [
       "                  coef        cste        R2        RMSE         mae      MAPE\n",
       "2  [-4689.58084480417] -525.778006  0.483909  160.341608  127.605508  0.326955"
      ]
     },
     "execution_count": 26,
     "metadata": {},
     "output_type": "execute_result"
    }
   ],
   "source": [
    "# Define predictor and response variables\n",
    "coef_list = []\n",
    "cste_list = []\n",
    "R2_list = []\n",
    "mae_list = []\n",
    "RMSE_list = []\n",
    "MAPE_list = []\n",
    "\n",
    "for i in range(0, len(ndri_data)):\n",
    "    X = ndri_data[[\"NDRI\"]]\n",
    "    var_out = X.index.isin([i])\n",
    "    X = X.loc[~var_out]         # Leave one out\n",
    "    \n",
    "    y = ndri_data[\"Biomasse (kg/ha)\"][X.index] # same indices as X\n",
    "    \n",
    "    model_1 = LinearRegression().fit(X, y)\n",
    "    \n",
    "    coef = model_1.coef_\n",
    "    coef_list.append(coef)\n",
    "    \n",
    "    cste =  model_1.intercept_\n",
    "    cste_list.append(cste)\n",
    "    \n",
    "    X = ndri_data[[\"NDRI\"]]\n",
    "    y = ndri_data[\"Biomasse (kg/ha)\"]\n",
    "    \n",
    "    R2 = r2_score(y.values,  (model_1.predict(X)))\n",
    "    R2_list.append(R2)\n",
    "    RMSE = mean_squared_error(y.values, (model_1.predict(X)), squared=False)\n",
    "    RMSE_list.append(RMSE)\n",
    "    mae = mean_absolute_error(y.values,  (model_1.predict(X)))\n",
    "    mae_list.append(mae)\n",
    "    mape = np.mean(np.abs((y.values - (model_1.predict(X))))/y.values)\n",
    "    MAPE_list.append(mape)\n",
    "    \n",
    "result_dic = {\"coef\" : coef_list, \"cste\": cste_list, \"R2\" : R2_list,\"RMSE\": RMSE_list, \"mae\": mae_list, \"MAPE\": MAPE_list}    \n",
    "reg_results = pd.DataFrame(result_dic)\n",
    "reg_results.loc[reg_results.RMSE == reg_results.RMSE.min()]"
   ]
  },
  {
   "cell_type": "code",
   "execution_count": 27,
   "metadata": {},
   "outputs": [],
   "source": [
    "# Predict the out var using the best model\n",
    "model_1 = LinearRegression()\n",
    "model_1.coef_ = reg_results.coef.values[2]\n",
    "model_1.intercept_ = reg_results.cste.values[2]"
   ]
  },
  {
   "cell_type": "markdown",
   "metadata": {
    "tags": []
   },
   "source": [
    "### Plot the results"
   ]
  },
  {
   "cell_type": "code",
   "execution_count": 28,
   "metadata": {
    "tags": []
   },
   "outputs": [
    {
     "name": "stderr",
     "output_type": "stream",
     "text": [
      "C:\\Users\\GARBA\\anaconda3\\envs\\geo_env\\lib\\site-packages\\sklearn\\base.py:443: UserWarning: X has feature names, but LinearRegression was fitted without feature names\n",
      "  warnings.warn(\n"
     ]
    }
   ],
   "source": [
    "# inputs\n",
    "x_all = si_BZ26[[\"NDRI\"]]\n",
    "y_all = model_1.predict(x_all)\n",
    "#y_all"
   ]
  },
  {
   "cell_type": "code",
   "execution_count": 29,
   "metadata": {
    "tags": []
   },
   "outputs": [
    {
     "data": {
      "image/png": "[encoded data removed]",
      "text/plain": [
       "<Figure size 750x250 with 1 Axes>"
      ]
     },
     "metadata": {},
     "output_type": "display_data"
    }
   ],
   "source": [
    "fig, ax = plt.subplots(1, 1, figsize = (7.5,2.5), constrained_layout = True)\n",
    "ax.scatter(obs_mass.index, obs_mass.values, label = \"Observed Biomass\", color = \"darkblue\", s = 6)\n",
    "ax.plot(si_BZ26.date, y_all, lw = .9, label = \"Estimated biomass\", color = \"r\", alpha = .5)\n",
    "#ax.set_xticks(sti_data.index)\n",
    "#ax.set_yticks(np.arange(0, 1500, 200))\n",
    "ax.set_ylabel(\"kgMS/ha\", fontsize = 7)\n",
    "#ax.set_xlabel(\"Index\",  fontsize = 7)\n",
    "ax.tick_params(axis='both', which='major', labelsize=8)\n",
    "ax.legend(fontsize = 7, loc = (0.01, 0.01))\n",
    "ax.set_title(\"Fallow site BZ26 - Model 4: NDRI\", fontsize = 8, fontweight = \"bold\", x = 0.2, y = .91)\n",
    "ax.grid(\"both\", alpha = 0.2)\n",
    "plt.savefig(\"./output/BZ26/model_4_jachere.png\", dpi = 600)"
   ]
  },
  {
   "cell_type": "code",
   "execution_count": 30,
   "metadata": {},
   "outputs": [],
   "source": [
    "# Save the regression model\n",
    "#joblib.dump(model_1, \"./model 4/model_BZ26.pkl\") "
   ]
  },
  {
   "cell_type": "markdown",
   "metadata": {},
   "source": [
    "#### 5. Model 5:  X = [STI, NDTI]"
   ]
  },
  {
   "cell_type": "code",
   "execution_count": 31,
   "metadata": {
    "tags": []
   },
   "outputs": [
    {
     "data": {
      "text/html": [
       "<div>\n",
       "<style scoped>\n",
       "    .dataframe tbody tr th:only-of-type {\n",
       "        vertical-align: middle;\n",
       "    }\n",
       "\n",
       "    .dataframe tbody tr th {\n",
       "        vertical-align: top;\n",
       "    }\n",
       "\n",
       "    .dataframe thead th {\n",
       "        text-align: right;\n",
       "    }\n",
       "</style>\n",
       "<table border=\"1\" class=\"dataframe\">\n",
       "  <thead>\n",
       "    <tr style=\"text-align: right;\">\n",
       "      <th></th>\n",
       "      <th>STI</th>\n",
       "      <th>NDTI</th>\n",
       "      <th>Biomasse (kg/ha)</th>\n",
       "    </tr>\n",
       "  </thead>\n",
       "  <tbody>\n",
       "    <tr>\n",
       "      <th>0</th>\n",
       "      <td>1.200499</td>\n",
       "      <td>0.091115</td>\n",
       "      <td>496.15</td>\n",
       "    </tr>\n",
       "  </tbody>\n",
       "</table>\n",
       "</div>"
      ],
      "text/plain": [
       "        STI      NDTI  Biomasse (kg/ha)\n",
       "0  1.200499  0.091115            496.15"
      ]
     },
     "execution_count": 31,
     "metadata": {},
     "output_type": "execute_result"
    }
   ],
   "source": [
    "# Define input output data\n",
    "sti_ndti_data = data_BZ26.iloc[:, [13,14,19]]\n",
    "sti_ndti_data.head(1)"
   ]
  },
  {
   "cell_type": "code",
   "execution_count": 32,
   "metadata": {},
   "outputs": [
    {
     "data": {
      "text/html": [
       "<div>\n",
       "<style scoped>\n",
       "    .dataframe tbody tr th:only-of-type {\n",
       "        vertical-align: middle;\n",
       "    }\n",
       "\n",
       "    .dataframe tbody tr th {\n",
       "        vertical-align: top;\n",
       "    }\n",
       "\n",
       "    .dataframe thead th {\n",
       "        text-align: right;\n",
       "    }\n",
       "</style>\n",
       "<table border=\"1\" class=\"dataframe\">\n",
       "  <thead>\n",
       "    <tr style=\"text-align: right;\">\n",
       "      <th></th>\n",
       "      <th>coef</th>\n",
       "      <th>cste</th>\n",
       "      <th>R2</th>\n",
       "      <th>RMSE</th>\n",
       "      <th>mae</th>\n",
       "      <th>MAPE</th>\n",
       "    </tr>\n",
       "  </thead>\n",
       "  <tbody>\n",
       "    <tr>\n",
       "      <th>3</th>\n",
       "      <td>[91168.43873655617, -226709.6271228126]</td>\n",
       "      <td>-88349.968681</td>\n",
       "      <td>0.558852</td>\n",
       "      <td>148.243405</td>\n",
       "      <td>126.78781</td>\n",
       "      <td>0.374054</td>\n",
       "    </tr>\n",
       "  </tbody>\n",
       "</table>\n",
       "</div>"
      ],
      "text/plain": [
       "                                      coef          cste        R2  \\\n",
       "3  [91168.43873655617, -226709.6271228126] -88349.968681  0.558852   \n",
       "\n",
       "         RMSE        mae      MAPE  \n",
       "3  148.243405  126.78781  0.374054  "
      ]
     },
     "execution_count": 32,
     "metadata": {},
     "output_type": "execute_result"
    }
   ],
   "source": [
    "# Define predictor and response variables\n",
    "coef_list = []\n",
    "cste_list = []\n",
    "R2_list = []\n",
    "mae_list = []\n",
    "RMSE_list = []\n",
    "MAPE_list = []\n",
    "\n",
    "for i in range(0, len(sti_ndti_data)):\n",
    "    X = sti_ndti_data[[\"STI\", \"NDTI\"]]\n",
    "    var_out = X.index.isin([i])\n",
    "    X = X.loc[~var_out]         # Leave one out\n",
    "    \n",
    "    y = sti_ndti_data[\"Biomasse (kg/ha)\"][X.index] # same indices as X\n",
    "    \n",
    "    model_1 = LinearRegression().fit(X, y)\n",
    "    \n",
    "    coef = model_1.coef_\n",
    "    coef_list.append(coef)\n",
    "    \n",
    "    cste =  model_1.intercept_\n",
    "    cste_list.append(cste)\n",
    "    \n",
    "    X = sti_ndti_data[[\"STI\", \"NDTI\"]]\n",
    "    y = sti_ndti_data[\"Biomasse (kg/ha)\"]\n",
    "        \n",
    "    R2 = r2_score(y.values,  (model_1.predict(X)))\n",
    "    R2_list.append(R2)\n",
    "    RMSE = mean_squared_error(y.values, (model_1.predict(X)), squared=False)\n",
    "    RMSE_list.append(RMSE)\n",
    "    mae = mean_absolute_error(y.values,  (model_1.predict(X)))\n",
    "    mae_list.append(mae)\n",
    "    mape = np.mean(np.abs((y.values - (model_1.predict(X))))/y.values)\n",
    "    MAPE_list.append(mape)\n",
    "    \n",
    "result_dic = {\"coef\" : coef_list, \"cste\": cste_list, \"R2\" : R2_list,\"RMSE\": RMSE_list, \"mae\": mae_list, \"MAPE\": MAPE_list}    \n",
    "reg_results = pd.DataFrame(result_dic)\n",
    "reg_results.loc[reg_results.RMSE == reg_results.RMSE.min()]  "
   ]
  },
  {
   "cell_type": "code",
   "execution_count": 33,
   "metadata": {},
   "outputs": [],
   "source": [
    "# Predict the out var using the best model\n",
    "model_1 = LinearRegression()\n",
    "model_1.coef_ = reg_results.coef.values[3]\n",
    "model_1.intercept_ = reg_results.cste.values[3]"
   ]
  },
  {
   "cell_type": "markdown",
   "metadata": {
    "tags": []
   },
   "source": [
    "### Plot the results"
   ]
  },
  {
   "cell_type": "code",
   "execution_count": 34,
   "metadata": {
    "tags": []
   },
   "outputs": [
    {
     "name": "stderr",
     "output_type": "stream",
     "text": [
      "C:\\Users\\GARBA\\anaconda3\\envs\\geo_env\\lib\\site-packages\\sklearn\\base.py:443: UserWarning: X has feature names, but LinearRegression was fitted without feature names\n",
      "  warnings.warn(\n"
     ]
    }
   ],
   "source": [
    "# inputs\n",
    "x_all = si_BZ26[[\"STI\", \"NDTI\"]]\n",
    "y_all = model_1.predict(x_all)\n",
    "#y_all"
   ]
  },
  {
   "cell_type": "code",
   "execution_count": 35,
   "metadata": {
    "tags": []
   },
   "outputs": [
    {
     "data": {
      "image/png": "[encoded data removed]",
      "text/plain": [
       "<Figure size 750x250 with 1 Axes>"
      ]
     },
     "metadata": {},
     "output_type": "display_data"
    }
   ],
   "source": [
    "fig, ax = plt.subplots(1, 1, figsize = (7.5,2.5), constrained_layout = True)\n",
    "ax.scatter(obs_mass.index, obs_mass.values, label = \"Observed Biomass\", color = \"darkblue\", s = 6)\n",
    "ax.plot(si_BZ26.date, y_all, lw = .9, label = \"Estimated biomass\", color = \"r\", alpha = .5)\n",
    "#ax.set_xticks(sti_data.index)\n",
    "#ax.set_yticks(np.arange(0, 1500, 200))\n",
    "ax.set_ylabel(\"kgMS/ha\", fontsize = 7)\n",
    "#ax.set_xlabel(\"Index\",  fontsize = 7)\n",
    "ax.tick_params(axis='both', which='major', labelsize=8)\n",
    "ax.legend(fontsize = 7, loc = (0.8, 0.08))\n",
    "ax.set_title(\"Fallow site BZ26 - Model 5: STI and NDTI\", fontsize = 8, fontweight = \"bold\", x = 0.2, y = .9)\n",
    "ax.grid(\"both\", alpha = 0.2)\n",
    "plt.savefig(\"./output/BZ26/model_5_jachere.png\", dpi = 600)"
   ]
  },
  {
   "cell_type": "code",
   "execution_count": 36,
   "metadata": {},
   "outputs": [],
   "source": [
    "# Save the regression model\n",
    "#joblib.dump(model_1, \"./model 5/model_BZ26.pkl\") "
   ]
  },
  {
   "cell_type": "markdown",
   "metadata": {},
   "source": [
    "#### 6. Model 6:  X = [STI, DFI]"
   ]
  },
  {
   "cell_type": "code",
   "execution_count": 37,
   "metadata": {},
   "outputs": [
    {
     "data": {
      "text/html": [
       "<div>\n",
       "<style scoped>\n",
       "    .dataframe tbody tr th:only-of-type {\n",
       "        vertical-align: middle;\n",
       "    }\n",
       "\n",
       "    .dataframe tbody tr th {\n",
       "        vertical-align: top;\n",
       "    }\n",
       "\n",
       "    .dataframe thead th {\n",
       "        text-align: right;\n",
       "    }\n",
       "</style>\n",
       "<table border=\"1\" class=\"dataframe\">\n",
       "  <thead>\n",
       "    <tr style=\"text-align: right;\">\n",
       "      <th></th>\n",
       "      <th>STI</th>\n",
       "      <th>DFI</th>\n",
       "      <th>Biomasse (kg/ha)</th>\n",
       "    </tr>\n",
       "  </thead>\n",
       "  <tbody>\n",
       "    <tr>\n",
       "      <th>0</th>\n",
       "      <td>1.200499</td>\n",
       "      <td>11.258753</td>\n",
       "      <td>496.15</td>\n",
       "    </tr>\n",
       "  </tbody>\n",
       "</table>\n",
       "</div>"
      ],
      "text/plain": [
       "        STI        DFI  Biomasse (kg/ha)\n",
       "0  1.200499  11.258753            496.15"
      ]
     },
     "execution_count": 37,
     "metadata": {},
     "output_type": "execute_result"
    }
   ],
   "source": [
    "# Define input output data\n",
    "sti_dfi_data = data_BZ26.iloc[:, [13,15,19]]\n",
    "sti_dfi_data.head(1)"
   ]
  },
  {
   "cell_type": "code",
   "execution_count": 38,
   "metadata": {},
   "outputs": [
    {
     "data": {
      "text/html": [
       "<div>\n",
       "<style scoped>\n",
       "    .dataframe tbody tr th:only-of-type {\n",
       "        vertical-align: middle;\n",
       "    }\n",
       "\n",
       "    .dataframe tbody tr th {\n",
       "        vertical-align: top;\n",
       "    }\n",
       "\n",
       "    .dataframe thead th {\n",
       "        text-align: right;\n",
       "    }\n",
       "</style>\n",
       "<table border=\"1\" class=\"dataframe\">\n",
       "  <thead>\n",
       "    <tr style=\"text-align: right;\">\n",
       "      <th></th>\n",
       "      <th>coef</th>\n",
       "      <th>cste</th>\n",
       "      <th>R2</th>\n",
       "      <th>RMSE</th>\n",
       "      <th>mae</th>\n",
       "      <th>MAPE</th>\n",
       "    </tr>\n",
       "  </thead>\n",
       "  <tbody>\n",
       "    <tr>\n",
       "      <th>3</th>\n",
       "      <td>[6218.828826188269, -151.258478606489]</td>\n",
       "      <td>-5219.53885</td>\n",
       "      <td>0.927577</td>\n",
       "      <td>60.064975</td>\n",
       "      <td>53.846153</td>\n",
       "      <td>0.115461</td>\n",
       "    </tr>\n",
       "  </tbody>\n",
       "</table>\n",
       "</div>"
      ],
      "text/plain": [
       "                                     coef        cste        R2       RMSE  \\\n",
       "3  [6218.828826188269, -151.258478606489] -5219.53885  0.927577  60.064975   \n",
       "\n",
       "         mae      MAPE  \n",
       "3  53.846153  0.115461  "
      ]
     },
     "execution_count": 38,
     "metadata": {},
     "output_type": "execute_result"
    }
   ],
   "source": [
    "# Define predictor and response variables\n",
    "coef_list = []\n",
    "cste_list = []\n",
    "R2_list = []\n",
    "mae_list = []\n",
    "RMSE_list = []\n",
    "MAPE_list = []\n",
    "for i in range(0, len(sti_dfi_data)):\n",
    "    X = sti_dfi_data[[\"STI\", \"DFI\"]]\n",
    "    var_out = X.index.isin([i])\n",
    "    X = X.loc[~var_out]         # Leave one out\n",
    "    \n",
    "    y = sti_dfi_data[\"Biomasse (kg/ha)\"][X.index] # same indices as X\n",
    "    \n",
    "    model_1 = LinearRegression().fit(X, y)\n",
    "    \n",
    "    coef = model_1.coef_\n",
    "    coef_list.append(coef)\n",
    "    \n",
    "    cste =  model_1.intercept_\n",
    "    cste_list.append(cste)\n",
    "    \n",
    "    X = sti_dfi_data[[\"STI\", \"DFI\"]]\n",
    "    y = sti_dfi_data[\"Biomasse (kg/ha)\"]\n",
    "    \n",
    "    R2 = r2_score(y.values,  (model_1.predict(X)))\n",
    "    R2_list.append(R2)\n",
    "    RMSE = mean_squared_error(y.values, (model_1.predict(X)), squared=False)\n",
    "    RMSE_list.append(RMSE)\n",
    "    mae = mean_absolute_error(y.values,  (model_1.predict(X)))\n",
    "    mae_list.append(mae)\n",
    "    mape = np.mean(np.abs((y.values - (model_1.predict(X))))/y.values)\n",
    "    MAPE_list.append(mape)\n",
    "    \n",
    "result_dic = {\"coef\" : coef_list, \"cste\": cste_list, \"R2\" : R2_list,\"RMSE\": RMSE_list, \"mae\": mae_list, \"MAPE\": MAPE_list}    \n",
    "reg_results = pd.DataFrame(result_dic)\n",
    "reg_results.loc[reg_results.RMSE == reg_results.RMSE.min()]     "
   ]
  },
  {
   "cell_type": "code",
   "execution_count": 39,
   "metadata": {},
   "outputs": [],
   "source": [
    "model_1 = LinearRegression()\n",
    "model_1.coef_ = reg_results.coef.values[0]\n",
    "model_1.intercept_ = reg_results.cste.values[0]"
   ]
  },
  {
   "cell_type": "markdown",
   "metadata": {
    "tags": []
   },
   "source": [
    "### Plot the results"
   ]
  },
  {
   "cell_type": "code",
   "execution_count": 40,
   "metadata": {
    "tags": []
   },
   "outputs": [
    {
     "name": "stderr",
     "output_type": "stream",
     "text": [
      "C:\\Users\\GARBA\\anaconda3\\envs\\geo_env\\lib\\site-packages\\sklearn\\base.py:443: UserWarning: X has feature names, but LinearRegression was fitted without feature names\n",
      "  warnings.warn(\n"
     ]
    }
   ],
   "source": [
    "# inputs\n",
    "x_all = si_BZ26[[\"STI\", \"DFI\"]]\n",
    "y_all = model_1.predict(x_all)\n",
    "#y_all"
   ]
  },
  {
   "cell_type": "code",
   "execution_count": 41,
   "metadata": {
    "tags": []
   },
   "outputs": [
    {
     "data": {
      "image/png": "[encoded data removed]",
      "text/plain": [
       "<Figure size 750x250 with 1 Axes>"
      ]
     },
     "metadata": {},
     "output_type": "display_data"
    }
   ],
   "source": [
    "fig, ax = plt.subplots(1, 1, figsize = (7.5,2.5), constrained_layout = True)\n",
    "ax.scatter(obs_mass.index, obs_mass.values, label = \"Observed Biomass\", color = \"darkblue\", s = 6)\n",
    "ax.plot(si_BZ26.date, y_all, lw = .9, label = \"Estimated biomass\", color = \"r\", alpha = .5)\n",
    "#ax.set_xticks(sti_data.index)\n",
    "#ax.set_yticks(np.arange(0, 1500, 200))\n",
    "ax.set_ylabel(\"kgMS/ha\", fontsize = 7)\n",
    "#ax.set_xlabel(\"Index\",  fontsize = 7)\n",
    "ax.tick_params(axis='both', which='major', labelsize=8)\n",
    "ax.legend(fontsize = 7, loc = (0.81, 0.81))\n",
    "ax.set_title(\"Fallow site BZ26 - Model 6: STI and DFI\", fontsize = 8, fontweight = \"bold\", x = 0.2, y = .88)\n",
    "ax.grid(\"both\", alpha = 0.2)\n",
    "plt.savefig(\"./output/BZ26/model_6_jachere.png\", dpi = 600)"
   ]
  },
  {
   "cell_type": "code",
   "execution_count": 42,
   "metadata": {},
   "outputs": [],
   "source": [
    "# Save the regression model\n",
    "#joblib.dump(model_1, \"./model 6/model_BZ26.pkl\") "
   ]
  },
  {
   "cell_type": "markdown",
   "metadata": {},
   "source": [
    "#### 7. Model 7:  X = [STI, NDRI]"
   ]
  },
  {
   "cell_type": "code",
   "execution_count": 43,
   "metadata": {},
   "outputs": [
    {
     "data": {
      "text/html": [
       "<div>\n",
       "<style scoped>\n",
       "    .dataframe tbody tr th:only-of-type {\n",
       "        vertical-align: middle;\n",
       "    }\n",
       "\n",
       "    .dataframe tbody tr th {\n",
       "        vertical-align: top;\n",
       "    }\n",
       "\n",
       "    .dataframe thead th {\n",
       "        text-align: right;\n",
       "    }\n",
       "</style>\n",
       "<table border=\"1\" class=\"dataframe\">\n",
       "  <thead>\n",
       "    <tr style=\"text-align: right;\">\n",
       "      <th></th>\n",
       "      <th>STI</th>\n",
       "      <th>NDRI</th>\n",
       "      <th>Biomasse (kg/ha)</th>\n",
       "    </tr>\n",
       "  </thead>\n",
       "  <tbody>\n",
       "    <tr>\n",
       "      <th>0</th>\n",
       "      <td>1.200499</td>\n",
       "      <td>-0.247199</td>\n",
       "      <td>496.15</td>\n",
       "    </tr>\n",
       "  </tbody>\n",
       "</table>\n",
       "</div>"
      ],
      "text/plain": [
       "        STI      NDRI  Biomasse (kg/ha)\n",
       "0  1.200499 -0.247199            496.15"
      ]
     },
     "execution_count": 43,
     "metadata": {},
     "output_type": "execute_result"
    }
   ],
   "source": [
    "# Define input output data\n",
    "sti_ndri_data = data_BZ26.iloc[:, [13,16,19]]\n",
    "sti_ndri_data.head(1)"
   ]
  },
  {
   "cell_type": "code",
   "execution_count": 44,
   "metadata": {},
   "outputs": [
    {
     "data": {
      "text/html": [
       "<div>\n",
       "<style scoped>\n",
       "    .dataframe tbody tr th:only-of-type {\n",
       "        vertical-align: middle;\n",
       "    }\n",
       "\n",
       "    .dataframe tbody tr th {\n",
       "        vertical-align: top;\n",
       "    }\n",
       "\n",
       "    .dataframe thead th {\n",
       "        text-align: right;\n",
       "    }\n",
       "</style>\n",
       "<table border=\"1\" class=\"dataframe\">\n",
       "  <thead>\n",
       "    <tr style=\"text-align: right;\">\n",
       "      <th></th>\n",
       "      <th>coef</th>\n",
       "      <th>cste</th>\n",
       "      <th>R2</th>\n",
       "      <th>RMSE</th>\n",
       "      <th>mae</th>\n",
       "      <th>MAPE</th>\n",
       "    </tr>\n",
       "  </thead>\n",
       "  <tbody>\n",
       "    <tr>\n",
       "      <th>0</th>\n",
       "      <td>[2808.4297833712585, -3479.3515029399036]</td>\n",
       "      <td>-3799.827251</td>\n",
       "      <td>0.722487</td>\n",
       "      <td>117.577594</td>\n",
       "      <td>102.595941</td>\n",
       "      <td>0.260806</td>\n",
       "    </tr>\n",
       "  </tbody>\n",
       "</table>\n",
       "</div>"
      ],
      "text/plain": [
       "                                        coef         cste        R2  \\\n",
       "0  [2808.4297833712585, -3479.3515029399036] -3799.827251  0.722487   \n",
       "\n",
       "         RMSE         mae      MAPE  \n",
       "0  117.577594  102.595941  0.260806  "
      ]
     },
     "execution_count": 44,
     "metadata": {},
     "output_type": "execute_result"
    }
   ],
   "source": [
    "# Define predictor and response variables\n",
    "coef_list = []\n",
    "cste_list = []\n",
    "R2_list = []\n",
    "mae_list = []\n",
    "RMSE_list = []\n",
    "MAPE_list = []\n",
    "\n",
    "for i in range(0, len(sti_ndri_data)):\n",
    "    X = sti_ndri_data[[\"STI\", \"NDRI\"]]\n",
    "    var_out = X.index.isin([i])\n",
    "    X = X.loc[~var_out]         # Leave one out\n",
    "    \n",
    "    y = sti_ndri_data[\"Biomasse (kg/ha)\"][X.index] # same indices as X\n",
    "    \n",
    "    model_1 = LinearRegression().fit(X, y)\n",
    "    \n",
    "    coef = model_1.coef_\n",
    "    coef_list.append(coef)\n",
    "    \n",
    "    cste =  model_1.intercept_\n",
    "    cste_list.append(cste)\n",
    "    X = sti_ndri_data[[\"STI\", \"NDRI\"]]\n",
    "    y = sti_ndri_data[\"Biomasse (kg/ha)\"]\n",
    "    R2 = r2_score(y.values,  (model_1.predict(X)))\n",
    "    R2_list.append(R2)\n",
    "    RMSE = mean_squared_error(y.values, (model_1.predict(X)), squared=False)\n",
    "    RMSE_list.append(RMSE)\n",
    "    mae = mean_absolute_error(y.values,  (model_1.predict(X)))\n",
    "    mae_list.append(mae)\n",
    "    mape = np.mean(np.abs((y.values - (model_1.predict(X))))/y.values)\n",
    "    MAPE_list.append(mape)\n",
    "    \n",
    "result_dic = {\"coef\" : coef_list, \"cste\": cste_list, \"R2\" : R2_list,\"RMSE\": RMSE_list, \"mae\": mae_list, \"MAPE\": MAPE_list}    \n",
    "reg_results = pd.DataFrame(result_dic)\n",
    "reg_results.loc[reg_results.RMSE == reg_results.RMSE.min()]   "
   ]
  },
  {
   "cell_type": "code",
   "execution_count": 45,
   "metadata": {},
   "outputs": [],
   "source": [
    "model_1 = LinearRegression()\n",
    "model_1.coef_ = reg_results.coef.values[2]\n",
    "model_1.intercept_ = reg_results.cste.values[2]"
   ]
  },
  {
   "cell_type": "markdown",
   "metadata": {
    "tags": []
   },
   "source": [
    "### Plot the results"
   ]
  },
  {
   "cell_type": "code",
   "execution_count": 46,
   "metadata": {
    "tags": []
   },
   "outputs": [
    {
     "name": "stderr",
     "output_type": "stream",
     "text": [
      "C:\\Users\\GARBA\\anaconda3\\envs\\geo_env\\lib\\site-packages\\sklearn\\base.py:443: UserWarning: X has feature names, but LinearRegression was fitted without feature names\n",
      "  warnings.warn(\n"
     ]
    }
   ],
   "source": [
    "# inputs\n",
    "x_all = si_BZ26[[\"STI\", \"NDRI\"]]\n",
    "y_all = model_1.predict(x_all)\n",
    "#y_all"
   ]
  },
  {
   "cell_type": "code",
   "execution_count": 47,
   "metadata": {
    "tags": []
   },
   "outputs": [
    {
     "data": {
      "image/png": "[encoded data removed]",
      "text/plain": [
       "<Figure size 750x250 with 1 Axes>"
      ]
     },
     "metadata": {},
     "output_type": "display_data"
    }
   ],
   "source": [
    "fig, ax = plt.subplots(1, 1, figsize = (7.5,2.5), constrained_layout = True)\n",
    "ax.scatter(obs_mass.index, obs_mass.values, label = \"Observed Biomass\", color = \"darkblue\", s = 6)\n",
    "ax.plot(si_BZ26.date, y_all, lw = .9, label = \"Estimated biomass\", color = \"r\", alpha = .5)\n",
    "#ax.set_xticks(sti_data.index)\n",
    "#ax.set_yticks(np.arange(0, 1500, 200))\n",
    "ax.set_ylabel(\"kgMS/ha\", fontsize = 7)\n",
    "#ax.set_xlabel(\"Index\",  fontsize = 7)\n",
    "ax.tick_params(axis='both', which='major', labelsize=8)\n",
    "ax.legend(fontsize = 7, loc = (0.8, 0.8))\n",
    "ax.set_title(\"Fallow site BZ26 - Model 7: STI and NDRI\", fontsize = 8, fontweight = \"bold\", x = 0.22, y = .9)\n",
    "ax.grid(\"both\", alpha = 0.2)\n",
    "plt.savefig(\"./output/BZ26/model_7_jachere.png\", dpi = 600)"
   ]
  },
  {
   "cell_type": "code",
   "execution_count": 48,
   "metadata": {},
   "outputs": [],
   "source": [
    "# Save the regression model\n",
    "#joblib.dump(model_1, \"./model 7/model_BZ26.pkl\") "
   ]
  },
  {
   "cell_type": "markdown",
   "metadata": {},
   "source": [
    "#### 8. Model 8:  X = [NDTI, DFI]"
   ]
  },
  {
   "cell_type": "code",
   "execution_count": 13,
   "metadata": {},
   "outputs": [
    {
     "data": {
      "text/html": [
       "<div>\n",
       "<style scoped>\n",
       "    .dataframe tbody tr th:only-of-type {\n",
       "        vertical-align: middle;\n",
       "    }\n",
       "\n",
       "    .dataframe tbody tr th {\n",
       "        vertical-align: top;\n",
       "    }\n",
       "\n",
       "    .dataframe thead th {\n",
       "        text-align: right;\n",
       "    }\n",
       "</style>\n",
       "<table border=\"1\" class=\"dataframe\">\n",
       "  <thead>\n",
       "    <tr style=\"text-align: right;\">\n",
       "      <th></th>\n",
       "      <th>NDTI</th>\n",
       "      <th>DFI</th>\n",
       "      <th>Biomasse (kg/ha)</th>\n",
       "    </tr>\n",
       "  </thead>\n",
       "  <tbody>\n",
       "    <tr>\n",
       "      <th>0</th>\n",
       "      <td>0.091115</td>\n",
       "      <td>11.258753</td>\n",
       "      <td>496.15</td>\n",
       "    </tr>\n",
       "  </tbody>\n",
       "</table>\n",
       "</div>"
      ],
      "text/plain": [
       "       NDTI        DFI  Biomasse (kg/ha)\n",
       "0  0.091115  11.258753            496.15"
      ]
     },
     "execution_count": 13,
     "metadata": {},
     "output_type": "execute_result"
    }
   ],
   "source": [
    "# Define input output data\n",
    "ndti_dfi_data = data_BZ26.iloc[:, [14,15,19]]\n",
    "ndti_dfi_data.head(1)"
   ]
  },
  {
   "cell_type": "code",
   "execution_count": 23,
   "metadata": {},
   "outputs": [
    {
     "data": {
      "text/html": [
       "<div>\n",
       "<style scoped>\n",
       "    .dataframe tbody tr th:only-of-type {\n",
       "        vertical-align: middle;\n",
       "    }\n",
       "\n",
       "    .dataframe tbody tr th {\n",
       "        vertical-align: top;\n",
       "    }\n",
       "\n",
       "    .dataframe thead th {\n",
       "        text-align: right;\n",
       "    }\n",
       "</style>\n",
       "<table border=\"1\" class=\"dataframe\">\n",
       "  <thead>\n",
       "    <tr style=\"text-align: right;\">\n",
       "      <th></th>\n",
       "      <th>coef</th>\n",
       "      <th>cste</th>\n",
       "      <th>R2</th>\n",
       "      <th>RMSE</th>\n",
       "      <th>mae</th>\n",
       "      <th>MAPE</th>\n",
       "      <th>RMSPE</th>\n",
       "    </tr>\n",
       "  </thead>\n",
       "  <tbody>\n",
       "    <tr>\n",
       "      <th>3</th>\n",
       "      <td>[16260.35198736529, -155.7126006946154]</td>\n",
       "      <td>813.506624</td>\n",
       "      <td>0.934503</td>\n",
       "      <td>57.120591</td>\n",
       "      <td>51.019199</td>\n",
       "      <td>0.107745</td>\n",
       "      <td>11.586761</td>\n",
       "    </tr>\n",
       "  </tbody>\n",
       "</table>\n",
       "</div>"
      ],
      "text/plain": [
       "                                      coef        cste        R2       RMSE  \\\n",
       "3  [16260.35198736529, -155.7126006946154]  813.506624  0.934503  57.120591   \n",
       "\n",
       "         mae      MAPE      RMSPE  \n",
       "3  51.019199  0.107745  11.586761  "
      ]
     },
     "execution_count": 23,
     "metadata": {},
     "output_type": "execute_result"
    }
   ],
   "source": [
    "# Define predictor and response variables\n",
    "coef_list = []\n",
    "cste_list = []\n",
    "R2_list = []\n",
    "mae_list = []\n",
    "RMSE_list = []\n",
    "MAPE_list = []\n",
    "RMSPE_list = []\n",
    "\n",
    "for i in range(0, len(ndti_dfi_data)):\n",
    "    X = ndti_dfi_data[[\"NDTI\", \"DFI\"]]\n",
    "    var_out = X.index.isin([i])\n",
    "    X = X.loc[~var_out]         # Leave one out\n",
    "    \n",
    "    y = ndti_dfi_data[\"Biomasse (kg/ha)\"][X.index] # same indices as X\n",
    "    \n",
    "    model_1 = LinearRegression().fit(X, y)\n",
    "    \n",
    "    coef = model_1.coef_\n",
    "    coef_list.append(coef)\n",
    "    \n",
    "    cste =  model_1.intercept_\n",
    "    cste_list.append(cste)\n",
    "    \n",
    "    X = ndti_dfi_data[[\"NDTI\", \"DFI\"]]\n",
    "    y = ndti_dfi_data[\"Biomasse (kg/ha)\"]\n",
    "    \n",
    "    R2 = r2_score(y.values,  (model_1.predict(X)))\n",
    "    R2_list.append(R2)\n",
    "    RMSE = mean_squared_error(y.values, model_1.predict(X), squared=False)\n",
    "    RMSE_list.append(RMSE)\n",
    "    mae = mean_absolute_error(y.values,  model_1.predict(X))\n",
    "    mae_list.append(mae)\n",
    "    mape = np.mean(np.abs((y.values - model_1.predict(X)))/y.values)\n",
    "    MAPE_list.append(mape)\n",
    "    rmspe = rmspe = (np.sqrt(np.mean(np.square((y.values - model_1.predict(X)) / y.values)))) * 100\n",
    "    RMSPE_list.append(rmspe)\n",
    "    \n",
    "result_dic = {\"coef\" : coef_list, \"cste\": cste_list, \"R2\" : R2_list,\"RMSE\": RMSE_list, \"mae\": mae_list, \"MAPE\": MAPE_list, \"RMSPE\": RMSPE_list}    \n",
    "reg_results = pd.DataFrame(result_dic)\n",
    "reg_results.loc[reg_results.RMSE == reg_results.RMSE.min()]    "
   ]
  },
  {
   "cell_type": "code",
   "execution_count": 15,
   "metadata": {},
   "outputs": [],
   "source": [
    "model_1 = LinearRegression()\n",
    "model_1.coef_ = reg_results.coef.values[3]\n",
    "model_1.intercept_ = reg_results.cste.values[3]"
   ]
  },
  {
   "cell_type": "markdown",
   "metadata": {
    "tags": []
   },
   "source": [
    "### Plot the results"
   ]
  },
  {
   "cell_type": "code",
   "execution_count": 11,
   "metadata": {
    "tags": []
   },
   "outputs": [
    {
     "name": "stderr",
     "output_type": "stream",
     "text": [
      "C:\\Users\\GARBA\\anaconda3\\envs\\geo_env\\lib\\site-packages\\sklearn\\base.py:443: UserWarning: X has feature names, but LinearRegression was fitted without feature names\n",
      "  warnings.warn(\n"
     ]
    }
   ],
   "source": [
    "# inputs\n",
    "x_all = si_BZ26[[\"NDTI\", \"DFI\"]]\n",
    "y_all = model_1.predict(x_all)\n",
    "#y_all"
   ]
  },
  {
   "cell_type": "code",
   "execution_count": 12,
   "metadata": {
    "tags": []
   },
   "outputs": [
    {
     "data": {
      "image/png": "[encoded data removed]",
      "text/plain": [
       "<Figure size 560x200 with 1 Axes>"
      ]
     },
     "metadata": {},
     "output_type": "display_data"
    }
   ],
   "source": [
    "fig, ax = plt.subplots(1, 1, figsize = (5.6,2.), constrained_layout = True)\n",
    "ax.scatter(obs_mass.index, obs_mass.values, label = \"Observed Biomass\", color = \"darkblue\", s = 6)\n",
    "ax.plot(si_BZ26.date, y_all, lw = .9, label = \"Estimated biomass\", color = \"r\", alpha = .5)\n",
    "#ax.set_xticks(sti_data.index)\n",
    "#ax.set_yticks(np.arange(0, 1500, 200))\n",
    "ax.set_ylabel(\"kgMS/ha\", fontsize = 7)\n",
    "#ax.set_xlabel(\"Index\",  fontsize = 7)\n",
    "ax.tick_params(axis='both', which='major', labelsize=8)\n",
    "#ax.legend(fontsize = 7, loc = (0.7, 0.78))\n",
    "ax.set_title(\"Fallow site BZ26 - Combination of\\n NDTI and DFI\", fontsize = 8, fontweight = \"bold\", x = 0.23, y = .8)\n",
    "ax.grid(\"both\", alpha = 0.2)\n",
    "plt.savefig(\"./output/BZ26/model_8_jachere.png\", dpi = 600)"
   ]
  },
  {
   "cell_type": "code",
   "execution_count": 54,
   "metadata": {},
   "outputs": [],
   "source": [
    "# Save the regression model\n",
    "#joblib.dump(model_1, \"./model 8/model_BZ26.pkl\") "
   ]
  },
  {
   "cell_type": "markdown",
   "metadata": {},
   "source": [
    "#### 9. Model 9:  X = [NDTI, NDRI]"
   ]
  },
  {
   "cell_type": "code",
   "execution_count": 55,
   "metadata": {},
   "outputs": [
    {
     "data": {
      "text/html": [
       "<div>\n",
       "<style scoped>\n",
       "    .dataframe tbody tr th:only-of-type {\n",
       "        vertical-align: middle;\n",
       "    }\n",
       "\n",
       "    .dataframe tbody tr th {\n",
       "        vertical-align: top;\n",
       "    }\n",
       "\n",
       "    .dataframe thead th {\n",
       "        text-align: right;\n",
       "    }\n",
       "</style>\n",
       "<table border=\"1\" class=\"dataframe\">\n",
       "  <thead>\n",
       "    <tr style=\"text-align: right;\">\n",
       "      <th></th>\n",
       "      <th>NDTI</th>\n",
       "      <th>NDRI</th>\n",
       "      <th>Biomasse (kg/ha)</th>\n",
       "    </tr>\n",
       "  </thead>\n",
       "  <tbody>\n",
       "    <tr>\n",
       "      <th>0</th>\n",
       "      <td>0.091115</td>\n",
       "      <td>-0.247199</td>\n",
       "      <td>496.15</td>\n",
       "    </tr>\n",
       "  </tbody>\n",
       "</table>\n",
       "</div>"
      ],
      "text/plain": [
       "       NDTI      NDRI  Biomasse (kg/ha)\n",
       "0  0.091115 -0.247199            496.15"
      ]
     },
     "execution_count": 55,
     "metadata": {},
     "output_type": "execute_result"
    }
   ],
   "source": [
    "# Define input output data\n",
    "ndti_ndri_data = data_BZ26.iloc[:, [14,16,19]]\n",
    "ndti_ndri_data.head(1)"
   ]
  },
  {
   "cell_type": "code",
   "execution_count": 56,
   "metadata": {},
   "outputs": [
    {
     "data": {
      "text/html": [
       "<div>\n",
       "<style scoped>\n",
       "    .dataframe tbody tr th:only-of-type {\n",
       "        vertical-align: middle;\n",
       "    }\n",
       "\n",
       "    .dataframe tbody tr th {\n",
       "        vertical-align: top;\n",
       "    }\n",
       "\n",
       "    .dataframe thead th {\n",
       "        text-align: right;\n",
       "    }\n",
       "</style>\n",
       "<table border=\"1\" class=\"dataframe\">\n",
       "  <thead>\n",
       "    <tr style=\"text-align: right;\">\n",
       "      <th></th>\n",
       "      <th>coef</th>\n",
       "      <th>cste</th>\n",
       "      <th>R2</th>\n",
       "      <th>RMSE</th>\n",
       "      <th>mae</th>\n",
       "      <th>MAPE</th>\n",
       "    </tr>\n",
       "  </thead>\n",
       "  <tbody>\n",
       "    <tr>\n",
       "      <th>0</th>\n",
       "      <td>[7221.39361653386, -3503.7738187219934]</td>\n",
       "      <td>-1094.944196</td>\n",
       "      <td>0.720292</td>\n",
       "      <td>118.041755</td>\n",
       "      <td>103.747994</td>\n",
       "      <td>0.262473</td>\n",
       "    </tr>\n",
       "  </tbody>\n",
       "</table>\n",
       "</div>"
      ],
      "text/plain": [
       "                                      coef         cste        R2        RMSE  \\\n",
       "0  [7221.39361653386, -3503.7738187219934] -1094.944196  0.720292  118.041755   \n",
       "\n",
       "          mae      MAPE  \n",
       "0  103.747994  0.262473  "
      ]
     },
     "execution_count": 56,
     "metadata": {},
     "output_type": "execute_result"
    }
   ],
   "source": [
    "# Define predictor and response variables\n",
    "coef_list = []\n",
    "cste_list = []\n",
    "R2_list = []\n",
    "mae_list = []\n",
    "RMSE_list = []\n",
    "MAPE_list = []\n",
    "\n",
    "for i in range(0, len(ndti_ndri_data)):\n",
    "    X = ndti_ndri_data[[\"NDTI\", \"NDRI\"]]\n",
    "    var_out = X.index.isin([i])\n",
    "    X = X.loc[~var_out]         # Leave one out\n",
    "    \n",
    "    y = ndti_ndri_data[\"Biomasse (kg/ha)\"][X.index] # same indices as X\n",
    "    \n",
    "    model_1 = LinearRegression().fit(X, y)\n",
    "    \n",
    "    coef = model_1.coef_\n",
    "    coef_list.append(coef)\n",
    "    \n",
    "    cste =  model_1.intercept_\n",
    "    cste_list.append(cste)\n",
    "    \n",
    "    X = ndti_ndri_data[[\"NDTI\", \"NDRI\"]]\n",
    "    y = ndti_ndri_data[\"Biomasse (kg/ha)\"]\n",
    "    \n",
    "    R2 = r2_score(y.values,  (model_1.predict(X)))\n",
    "    R2_list.append(R2)\n",
    "    RMSE = mean_squared_error(y.values, (model_1.predict(X)), squared=False)\n",
    "    RMSE_list.append(RMSE)\n",
    "    mae = mean_absolute_error(y.values,  (model_1.predict(X)))\n",
    "    mae_list.append(mae)\n",
    "    mape = np.mean(np.abs((y.values - (model_1.predict(X))))/y.values)\n",
    "    MAPE_list.append(mape)\n",
    "    \n",
    "result_dic = {\"coef\" : coef_list, \"cste\": cste_list, \"R2\" : R2_list,\"RMSE\": RMSE_list, \"mae\": mae_list, \"MAPE\": MAPE_list}    \n",
    "reg_results = pd.DataFrame(result_dic)\n",
    "reg_results.loc[reg_results.RMSE == reg_results.RMSE.min()]      "
   ]
  },
  {
   "cell_type": "code",
   "execution_count": 57,
   "metadata": {},
   "outputs": [],
   "source": [
    "model_1 = LinearRegression()\n",
    "model_1.coef_ = reg_results.coef.values[0]\n",
    "model_1.intercept_ = reg_results.cste.values[0]"
   ]
  },
  {
   "cell_type": "markdown",
   "metadata": {
    "tags": []
   },
   "source": [
    "### Plot the results"
   ]
  },
  {
   "cell_type": "code",
   "execution_count": 58,
   "metadata": {
    "tags": []
   },
   "outputs": [
    {
     "name": "stderr",
     "output_type": "stream",
     "text": [
      "C:\\Users\\GARBA\\anaconda3\\envs\\geo_env\\lib\\site-packages\\sklearn\\base.py:443: UserWarning: X has feature names, but LinearRegression was fitted without feature names\n",
      "  warnings.warn(\n"
     ]
    }
   ],
   "source": [
    "# inputs\n",
    "x_all = si_BZ26[[\"NDTI\", \"NDRI\"]]\n",
    "y_all = model_1.predict(x_all)\n",
    "#y_all"
   ]
  },
  {
   "cell_type": "code",
   "execution_count": 59,
   "metadata": {
    "tags": []
   },
   "outputs": [
    {
     "data": {
      "image/png": "[encoded data removed]",
      "text/plain": [
       "<Figure size 750x250 with 1 Axes>"
      ]
     },
     "metadata": {},
     "output_type": "display_data"
    }
   ],
   "source": [
    "fig, ax = plt.subplots(1, 1, figsize = (7.5,2.5), constrained_layout = True)\n",
    "ax.scatter(obs_mass.index, obs_mass.values, label = \"Observed Biomass\", color = \"darkblue\", s = 6)\n",
    "ax.plot(si_BZ26.date, y_all, lw = .9, label = \"Estimated biomass\", color = \"r\", alpha = .5)\n",
    "#ax.set_xticks(sti_data.index)\n",
    "#ax.set_yticks(np.arange(0, 1500, 200))\n",
    "ax.set_ylabel(\"kgMS/ha\", fontsize = 7)\n",
    "#ax.set_xlabel(\"Index\",  fontsize = 7)\n",
    "ax.tick_params(axis='both', which='major', labelsize=8)\n",
    "ax.legend(fontsize = 7, loc = (0.8, 0.8))\n",
    "ax.set_title(\"Fallow site BZ26 - Model 9: NDTI and NDRI\", fontsize = 8, fontweight = \"bold\", x = 0.22, y = .9)\n",
    "ax.grid(\"both\", alpha = 0.2)\n",
    "plt.savefig(\"./output/BZ26/model_9_jachere.png\", dpi = 600)"
   ]
  },
  {
   "cell_type": "code",
   "execution_count": 60,
   "metadata": {},
   "outputs": [],
   "source": [
    "# Save the regression model\n",
    "#joblib.dump(model_1, \"./model 9/model_BZ26.pkl\") "
   ]
  },
  {
   "cell_type": "markdown",
   "metadata": {},
   "source": [
    "#### 10. Model 10:  X = [DFI, NDRI]"
   ]
  },
  {
   "cell_type": "code",
   "execution_count": 61,
   "metadata": {},
   "outputs": [
    {
     "data": {
      "text/html": [
       "<div>\n",
       "<style scoped>\n",
       "    .dataframe tbody tr th:only-of-type {\n",
       "        vertical-align: middle;\n",
       "    }\n",
       "\n",
       "    .dataframe tbody tr th {\n",
       "        vertical-align: top;\n",
       "    }\n",
       "\n",
       "    .dataframe thead th {\n",
       "        text-align: right;\n",
       "    }\n",
       "</style>\n",
       "<table border=\"1\" class=\"dataframe\">\n",
       "  <thead>\n",
       "    <tr style=\"text-align: right;\">\n",
       "      <th></th>\n",
       "      <th>DFI</th>\n",
       "      <th>NDRI</th>\n",
       "      <th>Biomasse (kg/ha)</th>\n",
       "    </tr>\n",
       "  </thead>\n",
       "  <tbody>\n",
       "    <tr>\n",
       "      <th>0</th>\n",
       "      <td>11.258753</td>\n",
       "      <td>-0.247199</td>\n",
       "      <td>496.15</td>\n",
       "    </tr>\n",
       "  </tbody>\n",
       "</table>\n",
       "</div>"
      ],
      "text/plain": [
       "         DFI      NDRI  Biomasse (kg/ha)\n",
       "0  11.258753 -0.247199            496.15"
      ]
     },
     "execution_count": 61,
     "metadata": {},
     "output_type": "execute_result"
    }
   ],
   "source": [
    "# Define input output data\n",
    "dfi_ndri_data = data_BZ26.iloc[:, [15,16,19]]\n",
    "dfi_ndri_data.head(1)"
   ]
  },
  {
   "cell_type": "code",
   "execution_count": 62,
   "metadata": {},
   "outputs": [
    {
     "data": {
      "text/html": [
       "<div>\n",
       "<style scoped>\n",
       "    .dataframe tbody tr th:only-of-type {\n",
       "        vertical-align: middle;\n",
       "    }\n",
       "\n",
       "    .dataframe tbody tr th {\n",
       "        vertical-align: top;\n",
       "    }\n",
       "\n",
       "    .dataframe thead th {\n",
       "        text-align: right;\n",
       "    }\n",
       "</style>\n",
       "<table border=\"1\" class=\"dataframe\">\n",
       "  <thead>\n",
       "    <tr style=\"text-align: right;\">\n",
       "      <th></th>\n",
       "      <th>coef</th>\n",
       "      <th>cste</th>\n",
       "      <th>R2</th>\n",
       "      <th>RMSE</th>\n",
       "      <th>mae</th>\n",
       "      <th>MAPE</th>\n",
       "    </tr>\n",
       "  </thead>\n",
       "  <tbody>\n",
       "    <tr>\n",
       "      <th>2</th>\n",
       "      <td>[37.124831503307796, -4893.211247822837]</td>\n",
       "      <td>-1073.985554</td>\n",
       "      <td>0.499466</td>\n",
       "      <td>157.906498</td>\n",
       "      <td>132.4224</td>\n",
       "      <td>0.343395</td>\n",
       "    </tr>\n",
       "  </tbody>\n",
       "</table>\n",
       "</div>"
      ],
      "text/plain": [
       "                                       coef         cste        R2  \\\n",
       "2  [37.124831503307796, -4893.211247822837] -1073.985554  0.499466   \n",
       "\n",
       "         RMSE       mae      MAPE  \n",
       "2  157.906498  132.4224  0.343395  "
      ]
     },
     "execution_count": 62,
     "metadata": {},
     "output_type": "execute_result"
    }
   ],
   "source": [
    "# Define predictor and response variables\n",
    "coef_list = []\n",
    "cste_list = []\n",
    "R2_list = []\n",
    "mae_list = []\n",
    "RMSE_list = []\n",
    "MAPE_list = []\n",
    "\n",
    "for i in range(0, len(dfi_ndri_data)):\n",
    "    X = dfi_ndri_data[[\"DFI\", \"NDRI\"]]\n",
    "    var_out = X.index.isin([i])\n",
    "    X = X.loc[~var_out]         # Leave one out\n",
    "    \n",
    "    y = dfi_ndri_data[\"Biomasse (kg/ha)\"][X.index] # same indices as X\n",
    "    \n",
    "    model_1 = LinearRegression().fit(X, y)\n",
    "    \n",
    "    coef = model_1.coef_\n",
    "    coef_list.append(coef)\n",
    "    \n",
    "    cste =  model_1.intercept_\n",
    "    cste_list.append(cste)\n",
    "    \n",
    "    X = dfi_ndri_data[[\"DFI\", \"NDRI\"]]\n",
    "    y = dfi_ndri_data[\"Biomasse (kg/ha)\"]\n",
    "    \n",
    "    R2 = r2_score(y.values,  (model_1.predict(X)))\n",
    "    R2_list.append(R2)\n",
    "    RMSE = mean_squared_error(y.values, (model_1.predict(X)), squared=False)\n",
    "    RMSE_list.append(RMSE)\n",
    "    mae = mean_absolute_error(y.values,  (model_1.predict(X)))\n",
    "    mae_list.append(mae)\n",
    "    mape = np.mean(np.abs((y.values - (model_1.predict(X))))/y.values)\n",
    "    MAPE_list.append(mape)\n",
    "    \n",
    "result_dic = {\"coef\" : coef_list, \"cste\": cste_list, \"R2\" : R2_list,\"RMSE\": RMSE_list, \"mae\": mae_list, \"MAPE\": MAPE_list}    \n",
    "reg_results = pd.DataFrame(result_dic)\n",
    "reg_results.loc[reg_results.RMSE == reg_results.RMSE.min()]  "
   ]
  },
  {
   "cell_type": "code",
   "execution_count": 63,
   "metadata": {},
   "outputs": [],
   "source": [
    "model_1 = LinearRegression()\n",
    "model_1.coef_ = reg_results.coef.values[2]\n",
    "model_1.intercept_ = reg_results.cste.values[2]"
   ]
  },
  {
   "cell_type": "markdown",
   "metadata": {
    "tags": []
   },
   "source": [
    "### Plot the results"
   ]
  },
  {
   "cell_type": "code",
   "execution_count": 64,
   "metadata": {
    "tags": []
   },
   "outputs": [
    {
     "name": "stderr",
     "output_type": "stream",
     "text": [
      "C:\\Users\\GARBA\\anaconda3\\envs\\geo_env\\lib\\site-packages\\sklearn\\base.py:443: UserWarning: X has feature names, but LinearRegression was fitted without feature names\n",
      "  warnings.warn(\n"
     ]
    }
   ],
   "source": [
    "# inputs\n",
    "x_all = si_BZ26[[\"DFI\", \"NDRI\"]]\n",
    "y_all = model_1.predict(x_all)\n",
    "#y_all"
   ]
  },
  {
   "cell_type": "code",
   "execution_count": 65,
   "metadata": {
    "tags": []
   },
   "outputs": [
    {
     "data": {
      "image/png": "[encoded data removed]",
      "text/plain": [
       "<Figure size 750x250 with 1 Axes>"
      ]
     },
     "metadata": {},
     "output_type": "display_data"
    }
   ],
   "source": [
    "fig, ax = plt.subplots(1, 1, figsize = (7.5,2.5), constrained_layout = True)\n",
    "ax.scatter(obs_mass.index, obs_mass.values, label = \"Observed Biomass\", color = \"darkblue\", s = 6)\n",
    "ax.plot(si_BZ26.date, y_all, lw = .9, label = \"Estimated biomass\", color = \"r\", alpha = .5)\n",
    "#ax.set_xticks(sti_data.index)\n",
    "#ax.set_yticks(np.arange(0, 1500, 200))\n",
    "ax.set_ylabel(\"kgMS/ha\", fontsize = 7)\n",
    "#ax.set_xlabel(\"Index\",  fontsize = 7)\n",
    "ax.tick_params(axis='both', which='major', labelsize=8)\n",
    "ax.legend(fontsize = 7, loc = (0.12, 0.01))\n",
    "ax.set_title(\"Fallow site BZ26 - Model 10: DFI and NDRI\", fontsize = 8, fontweight = \"bold\", x = 0.22, y = .9)\n",
    "ax.grid(\"both\", alpha = 0.2)\n",
    "plt.savefig(\"./output/BZ26/model_10_jachere.png\", dpi = 600)"
   ]
  },
  {
   "cell_type": "code",
   "execution_count": 66,
   "metadata": {},
   "outputs": [],
   "source": [
    "# Save the regression model\n",
    "#joblib.dump(model_1, \"./model 10/model_BZ26.pkl\") "
   ]
  },
  {
   "cell_type": "markdown",
   "metadata": {},
   "source": [
    "#### 11. Model 11:  X = [STI, NDTI, DFI]"
   ]
  },
  {
   "cell_type": "code",
   "execution_count": 67,
   "metadata": {},
   "outputs": [
    {
     "data": {
      "text/html": [
       "<div>\n",
       "<style scoped>\n",
       "    .dataframe tbody tr th:only-of-type {\n",
       "        vertical-align: middle;\n",
       "    }\n",
       "\n",
       "    .dataframe tbody tr th {\n",
       "        vertical-align: top;\n",
       "    }\n",
       "\n",
       "    .dataframe thead th {\n",
       "        text-align: right;\n",
       "    }\n",
       "</style>\n",
       "<table border=\"1\" class=\"dataframe\">\n",
       "  <thead>\n",
       "    <tr style=\"text-align: right;\">\n",
       "      <th></th>\n",
       "      <th>STI</th>\n",
       "      <th>NDTI</th>\n",
       "      <th>DFI</th>\n",
       "      <th>Biomasse (kg/ha)</th>\n",
       "    </tr>\n",
       "  </thead>\n",
       "  <tbody>\n",
       "    <tr>\n",
       "      <th>0</th>\n",
       "      <td>1.200499</td>\n",
       "      <td>0.091115</td>\n",
       "      <td>11.258753</td>\n",
       "      <td>496.15</td>\n",
       "    </tr>\n",
       "  </tbody>\n",
       "</table>\n",
       "</div>"
      ],
      "text/plain": [
       "        STI      NDTI        DFI  Biomasse (kg/ha)\n",
       "0  1.200499  0.091115  11.258753            496.15"
      ]
     },
     "execution_count": 67,
     "metadata": {},
     "output_type": "execute_result"
    }
   ],
   "source": [
    "# Define input output data\n",
    "sti_ndti_dfi_data = data_BZ26.iloc[:, [13, 14, 15,19]]\n",
    "sti_ndti_dfi_data.head(1)"
   ]
  },
  {
   "cell_type": "code",
   "execution_count": 68,
   "metadata": {},
   "outputs": [
    {
     "data": {
      "text/html": [
       "<div>\n",
       "<style scoped>\n",
       "    .dataframe tbody tr th:only-of-type {\n",
       "        vertical-align: middle;\n",
       "    }\n",
       "\n",
       "    .dataframe tbody tr th {\n",
       "        vertical-align: top;\n",
       "    }\n",
       "\n",
       "    .dataframe thead th {\n",
       "        text-align: right;\n",
       "    }\n",
       "</style>\n",
       "<table border=\"1\" class=\"dataframe\">\n",
       "  <thead>\n",
       "    <tr style=\"text-align: right;\">\n",
       "      <th></th>\n",
       "      <th>coef</th>\n",
       "      <th>cste</th>\n",
       "      <th>R2</th>\n",
       "      <th>RMSE</th>\n",
       "      <th>mae</th>\n",
       "      <th>MAPE</th>\n",
       "    </tr>\n",
       "  </thead>\n",
       "  <tbody>\n",
       "    <tr>\n",
       "      <th>3</th>\n",
       "      <td>[-90705.77606898207, 252334.90568128496, -210....</td>\n",
       "      <td>88793.483835</td>\n",
       "      <td>0.982585</td>\n",
       "      <td>29.454069</td>\n",
       "      <td>23.507885</td>\n",
       "      <td>0.066008</td>\n",
       "    </tr>\n",
       "  </tbody>\n",
       "</table>\n",
       "</div>"
      ],
      "text/plain": [
       "                                                coef          cste        R2  \\\n",
       "3  [-90705.77606898207, 252334.90568128496, -210....  88793.483835  0.982585   \n",
       "\n",
       "        RMSE        mae      MAPE  \n",
       "3  29.454069  23.507885  0.066008  "
      ]
     },
     "execution_count": 68,
     "metadata": {},
     "output_type": "execute_result"
    }
   ],
   "source": [
    "# Define predictor and response variables\n",
    "coef_list = []\n",
    "cste_list = []\n",
    "R2_list = []\n",
    "mae_list = []\n",
    "RMSE_list = []\n",
    "MAPE_list = []\n",
    "\n",
    "for i in range(0, len(sti_ndti_dfi_data)):\n",
    "    X = sti_ndti_dfi_data[[\"STI\", \"NDTI\", \"DFI\"]]\n",
    "    var_out = X.index.isin([i])\n",
    "    X = X.loc[~var_out]         # Leave one out\n",
    "    \n",
    "    y = sti_ndti_dfi_data[\"Biomasse (kg/ha)\"][X.index] # same indices as X\n",
    "    \n",
    "    model_1 = LinearRegression().fit(X, y)\n",
    "    \n",
    "    coef = model_1.coef_\n",
    "    coef_list.append(coef)\n",
    "    \n",
    "    cste =  model_1.intercept_\n",
    "    cste_list.append(cste)\n",
    "    \n",
    "    X = sti_ndti_dfi_data[[\"STI\", \"NDTI\", \"DFI\"]]   \n",
    "    y = sti_ndti_dfi_data[\"Biomasse (kg/ha)\"]\n",
    "        \n",
    "    R2 = r2_score(y.values,  (model_1.predict(X)))\n",
    "    R2_list.append(R2)\n",
    "    RMSE = mean_squared_error(y.values, (model_1.predict(X)), squared=False)\n",
    "    RMSE_list.append(RMSE)\n",
    "    mae = mean_absolute_error(y.values,  (model_1.predict(X)))\n",
    "    mae_list.append(mae)\n",
    "    mape = np.mean(np.abs((y.values - (model_1.predict(X))))/y.values)\n",
    "    MAPE_list.append(mape)\n",
    "    \n",
    "result_dic = {\"coef\" : coef_list, \"cste\": cste_list, \"R2\" : R2_list,\"RMSE\": RMSE_list, \"mae\": mae_list, \"MAPE\": MAPE_list}    \n",
    "reg_results = pd.DataFrame(result_dic)\n",
    "reg_results.loc[reg_results.RMSE == reg_results.RMSE.min()]  "
   ]
  },
  {
   "cell_type": "code",
   "execution_count": 69,
   "metadata": {},
   "outputs": [],
   "source": [
    "model_1 = LinearRegression()\n",
    "model_1.coef_ = reg_results.coef.values[3]\n",
    "model_1.intercept_ = reg_results.cste.values[3]"
   ]
  },
  {
   "cell_type": "markdown",
   "metadata": {
    "tags": []
   },
   "source": [
    "### Plot the results"
   ]
  },
  {
   "cell_type": "code",
   "execution_count": 70,
   "metadata": {
    "tags": []
   },
   "outputs": [
    {
     "name": "stderr",
     "output_type": "stream",
     "text": [
      "C:\\Users\\GARBA\\anaconda3\\envs\\geo_env\\lib\\site-packages\\sklearn\\base.py:443: UserWarning: X has feature names, but LinearRegression was fitted without feature names\n",
      "  warnings.warn(\n"
     ]
    }
   ],
   "source": [
    "# inputs\n",
    "x_all = si_BZ26[[\"STI\", \"NDTI\", \"DFI\"]]\n",
    "y_all = model_1.predict(x_all)\n",
    "#y_all"
   ]
  },
  {
   "cell_type": "code",
   "execution_count": 71,
   "metadata": {
    "tags": []
   },
   "outputs": [
    {
     "data": {
      "image/png": "[encoded data removed]",
      "text/plain": [
       "<Figure size 750x250 with 1 Axes>"
      ]
     },
     "metadata": {},
     "output_type": "display_data"
    }
   ],
   "source": [
    "fig, ax = plt.subplots(1, 1, figsize = (7.5,2.5), constrained_layout = True)\n",
    "ax.scatter(obs_mass.index, obs_mass.values, label = \"Observed Biomass\", color = \"darkblue\", s = 6)\n",
    "ax.plot(si_BZ26.date, y_all, lw = .9, label = \"Estimated biomass\", color = \"r\", alpha = .5)\n",
    "#ax.set_xticks(sti_data.index)\n",
    "#ax.set_yticks(np.arange(0, 1500, 200))\n",
    "ax.set_ylabel(\"kgMS/ha\", fontsize = 7)\n",
    "#ax.set_xlabel(\"Index\",  fontsize = 7)\n",
    "ax.tick_params(axis='both', which='major', labelsize=8)\n",
    "ax.legend(fontsize = 7, loc = (0.81, 0.81))\n",
    "ax.set_title(\"Fallow site BZ26- Model 11:\\n STI, NDTI and DFI\", fontsize = 7, fontweight = \"bold\", x = 0.14, y = .82)\n",
    "ax.grid(\"both\", alpha = 0.2)\n",
    "plt.savefig(\"./output/BZ26/model_11_jachere.png\", dpi = 600)"
   ]
  },
  {
   "cell_type": "code",
   "execution_count": 72,
   "metadata": {},
   "outputs": [],
   "source": [
    "# Save the regression model\n",
    "#joblib.dump(model_1, \"./model 11/model_BZ26.pkl\") "
   ]
  },
  {
   "cell_type": "markdown",
   "metadata": {},
   "source": [
    "#### 12. Model 12:  X = [STI, NDTI, NDRI]"
   ]
  },
  {
   "cell_type": "code",
   "execution_count": 73,
   "metadata": {},
   "outputs": [
    {
     "data": {
      "text/html": [
       "<div>\n",
       "<style scoped>\n",
       "    .dataframe tbody tr th:only-of-type {\n",
       "        vertical-align: middle;\n",
       "    }\n",
       "\n",
       "    .dataframe tbody tr th {\n",
       "        vertical-align: top;\n",
       "    }\n",
       "\n",
       "    .dataframe thead th {\n",
       "        text-align: right;\n",
       "    }\n",
       "</style>\n",
       "<table border=\"1\" class=\"dataframe\">\n",
       "  <thead>\n",
       "    <tr style=\"text-align: right;\">\n",
       "      <th></th>\n",
       "      <th>STI</th>\n",
       "      <th>NDTI</th>\n",
       "      <th>NDRI</th>\n",
       "      <th>Biomasse (kg/ha)</th>\n",
       "    </tr>\n",
       "  </thead>\n",
       "  <tbody>\n",
       "    <tr>\n",
       "      <th>0</th>\n",
       "      <td>1.200499</td>\n",
       "      <td>0.091115</td>\n",
       "      <td>-0.247199</td>\n",
       "      <td>496.15</td>\n",
       "    </tr>\n",
       "  </tbody>\n",
       "</table>\n",
       "</div>"
      ],
      "text/plain": [
       "        STI      NDTI      NDRI  Biomasse (kg/ha)\n",
       "0  1.200499  0.091115 -0.247199            496.15"
      ]
     },
     "execution_count": 73,
     "metadata": {},
     "output_type": "execute_result"
    }
   ],
   "source": [
    "# Define input output data\n",
    "sti_ndti_ndri_data = data_BZ26.iloc[:, [13, 14, 16,19]]\n",
    "sti_ndti_ndri_data.head(1)"
   ]
  },
  {
   "cell_type": "code",
   "execution_count": 74,
   "metadata": {},
   "outputs": [
    {
     "data": {
      "text/html": [
       "<div>\n",
       "<style scoped>\n",
       "    .dataframe tbody tr th:only-of-type {\n",
       "        vertical-align: middle;\n",
       "    }\n",
       "\n",
       "    .dataframe tbody tr th {\n",
       "        vertical-align: top;\n",
       "    }\n",
       "\n",
       "    .dataframe thead th {\n",
       "        text-align: right;\n",
       "    }\n",
       "</style>\n",
       "<table border=\"1\" class=\"dataframe\">\n",
       "  <thead>\n",
       "    <tr style=\"text-align: right;\">\n",
       "      <th></th>\n",
       "      <th>coef</th>\n",
       "      <th>cste</th>\n",
       "      <th>R2</th>\n",
       "      <th>RMSE</th>\n",
       "      <th>mae</th>\n",
       "      <th>MAPE</th>\n",
       "    </tr>\n",
       "  </thead>\n",
       "  <tbody>\n",
       "    <tr>\n",
       "      <th>0</th>\n",
       "      <td>[30107.30950282402, -70446.97109657976, -3312....</td>\n",
       "      <td>-30077.801196</td>\n",
       "      <td>0.737372</td>\n",
       "      <td>114.380924</td>\n",
       "      <td>90.759349</td>\n",
       "      <td>0.244458</td>\n",
       "    </tr>\n",
       "  </tbody>\n",
       "</table>\n",
       "</div>"
      ],
      "text/plain": [
       "                                                coef          cste        R2  \\\n",
       "0  [30107.30950282402, -70446.97109657976, -3312.... -30077.801196  0.737372   \n",
       "\n",
       "         RMSE        mae      MAPE  \n",
       "0  114.380924  90.759349  0.244458  "
      ]
     },
     "execution_count": 74,
     "metadata": {},
     "output_type": "execute_result"
    }
   ],
   "source": [
    "# Define predictor and response variables\n",
    "coef_list = []\n",
    "cste_list = []\n",
    "R2_list = []\n",
    "mae_list = []\n",
    "RMSE_list = []\n",
    "MAPE_list = []\n",
    "\n",
    "for i in range(0, len(sti_ndti_ndri_data)):\n",
    "    X = sti_ndti_ndri_data[[\"STI\",\"NDTI\", \"NDRI\"]]\n",
    "    var_out = X.index.isin([i])\n",
    "    X = X.loc[~var_out]         # Leave one out\n",
    "    \n",
    "    y = sti_ndti_ndri_data[\"Biomasse (kg/ha)\"][X.index] # same indices as X\n",
    "    \n",
    "    model_1 = LinearRegression().fit(X, y)\n",
    "    \n",
    "    coef = model_1.coef_\n",
    "    coef_list.append(coef)\n",
    "    \n",
    "    cste =  model_1.intercept_\n",
    "    cste_list.append(cste)\n",
    "    \n",
    "    X = sti_ndti_ndri_data[[\"STI\",\"NDTI\", \"NDRI\"]]\n",
    "    y = sti_ndti_ndri_data[\"Biomasse (kg/ha)\"]\n",
    "    \n",
    "    R2 = r2_score(y.values,  (model_1.predict(X)))\n",
    "    R2_list.append(R2)\n",
    "    RMSE = mean_squared_error(y.values, (model_1.predict(X)), squared=False)\n",
    "    RMSE_list.append(RMSE)\n",
    "    mae = mean_absolute_error(y.values,  (model_1.predict(X)))\n",
    "    mae_list.append(mae)\n",
    "    mape = np.mean(np.abs((y.values - (model_1.predict(X))))/y.values)\n",
    "    MAPE_list.append(mape)\n",
    "    \n",
    "result_dic = {\"coef\" : coef_list, \"cste\": cste_list, \"R2\" : R2_list,\"RMSE\": RMSE_list, \"mae\": mae_list, \"MAPE\": MAPE_list}    \n",
    "reg_results = pd.DataFrame(result_dic)\n",
    "reg_results.loc[reg_results.RMSE == reg_results.RMSE.min()]   "
   ]
  },
  {
   "cell_type": "code",
   "execution_count": 75,
   "metadata": {},
   "outputs": [],
   "source": [
    "model_1 = LinearRegression()\n",
    "model_1.coef_ = reg_results.coef.values[0]\n",
    "model_1.intercept_ = reg_results.cste.values[0]"
   ]
  },
  {
   "cell_type": "code",
   "execution_count": 76,
   "metadata": {},
   "outputs": [],
   "source": [
    "# Save the regression model\n",
    "#joblib.dump(model_1, \"./model 12/model_BZ26.pkl\")"
   ]
  },
  {
   "cell_type": "markdown",
   "metadata": {
    "tags": []
   },
   "source": [
    "### Plot the results"
   ]
  },
  {
   "cell_type": "code",
   "execution_count": 77,
   "metadata": {
    "tags": []
   },
   "outputs": [
    {
     "name": "stderr",
     "output_type": "stream",
     "text": [
      "C:\\Users\\GARBA\\anaconda3\\envs\\geo_env\\lib\\site-packages\\sklearn\\base.py:443: UserWarning: X has feature names, but LinearRegression was fitted without feature names\n",
      "  warnings.warn(\n"
     ]
    }
   ],
   "source": [
    "# inputs\n",
    "x_all = si_BZ26[[\"STI\",\"NDTI\", \"NDRI\"]]\n",
    "y_all = model_1.predict(x_all)\n",
    "#y_all"
   ]
  },
  {
   "cell_type": "code",
   "execution_count": 78,
   "metadata": {
    "tags": []
   },
   "outputs": [
    {
     "data": {
      "image/png": "[encoded data removed]",
      "text/plain": [
       "<Figure size 750x250 with 1 Axes>"
      ]
     },
     "metadata": {},
     "output_type": "display_data"
    }
   ],
   "source": [
    "fig, ax = plt.subplots(1, 1, figsize = (7.5,2.5), constrained_layout = True)\n",
    "ax.scatter(obs_mass.index, obs_mass.values, label = \"Observed Biomass\", color = \"darkblue\", s = 6)\n",
    "ax.plot(si_BZ26.date, y_all, lw = .9, label = \"Estimated biomass\", color = \"r\", alpha = .5)\n",
    "#ax.set_xticks(sti_data.index)\n",
    "#ax.set_yticks(np.arange(0, 1500, 200))\n",
    "ax.set_ylabel(\"kgMS/ha\", fontsize = 7)\n",
    "#ax.set_xlabel(\"Index\",  fontsize = 7)\n",
    "ax.tick_params(axis='both', which='major', labelsize=8)\n",
    "ax.legend(fontsize = 7, loc = (0.8, 0.8))\n",
    "ax.set_title(\"Fallow site BZ26 - Model 12: STI, NDTI and NDRI\", fontsize = 8, fontweight = \"bold\", x = 0.23, y = .9)\n",
    "ax.grid(\"both\", alpha = 0.2)\n",
    "plt.savefig(\"./output/BZ26/model_12_jachere.png\", dpi = 600)"
   ]
  },
  {
   "cell_type": "markdown",
   "metadata": {},
   "source": [
    "#### 13. Model 13:  X = [STI, DFI, NDRI]"
   ]
  },
  {
   "cell_type": "code",
   "execution_count": 79,
   "metadata": {},
   "outputs": [
    {
     "data": {
      "text/html": [
       "<div>\n",
       "<style scoped>\n",
       "    .dataframe tbody tr th:only-of-type {\n",
       "        vertical-align: middle;\n",
       "    }\n",
       "\n",
       "    .dataframe tbody tr th {\n",
       "        vertical-align: top;\n",
       "    }\n",
       "\n",
       "    .dataframe thead th {\n",
       "        text-align: right;\n",
       "    }\n",
       "</style>\n",
       "<table border=\"1\" class=\"dataframe\">\n",
       "  <thead>\n",
       "    <tr style=\"text-align: right;\">\n",
       "      <th></th>\n",
       "      <th>STI</th>\n",
       "      <th>DFI</th>\n",
       "      <th>NDRI</th>\n",
       "      <th>Biomasse (kg/ha)</th>\n",
       "    </tr>\n",
       "  </thead>\n",
       "  <tbody>\n",
       "    <tr>\n",
       "      <th>0</th>\n",
       "      <td>1.200499</td>\n",
       "      <td>11.258753</td>\n",
       "      <td>-0.247199</td>\n",
       "      <td>496.15</td>\n",
       "    </tr>\n",
       "  </tbody>\n",
       "</table>\n",
       "</div>"
      ],
      "text/plain": [
       "        STI        DFI      NDRI  Biomasse (kg/ha)\n",
       "0  1.200499  11.258753 -0.247199            496.15"
      ]
     },
     "execution_count": 79,
     "metadata": {},
     "output_type": "execute_result"
    }
   ],
   "source": [
    "# Define input output data\n",
    "sti_dfi_ndri_data = data_BZ26.iloc[:, [13, 15, 16,19]]\n",
    "sti_dfi_ndri_data.head(1)"
   ]
  },
  {
   "cell_type": "code",
   "execution_count": 80,
   "metadata": {},
   "outputs": [
    {
     "data": {
      "text/html": [
       "<div>\n",
       "<style scoped>\n",
       "    .dataframe tbody tr th:only-of-type {\n",
       "        vertical-align: middle;\n",
       "    }\n",
       "\n",
       "    .dataframe tbody tr th {\n",
       "        vertical-align: top;\n",
       "    }\n",
       "\n",
       "    .dataframe thead th {\n",
       "        text-align: right;\n",
       "    }\n",
       "</style>\n",
       "<table border=\"1\" class=\"dataframe\">\n",
       "  <thead>\n",
       "    <tr style=\"text-align: right;\">\n",
       "      <th></th>\n",
       "      <th>coef</th>\n",
       "      <th>cste</th>\n",
       "      <th>R2</th>\n",
       "      <th>RMSE</th>\n",
       "      <th>mae</th>\n",
       "      <th>MAPE</th>\n",
       "    </tr>\n",
       "  </thead>\n",
       "  <tbody>\n",
       "    <tr>\n",
       "      <th>3</th>\n",
       "      <td>[5823.610172569677, -136.84345512854688, -912....</td>\n",
       "      <td>-5127.341146</td>\n",
       "      <td>0.930578</td>\n",
       "      <td>58.807527</td>\n",
       "      <td>51.779539</td>\n",
       "      <td>0.116131</td>\n",
       "    </tr>\n",
       "  </tbody>\n",
       "</table>\n",
       "</div>"
      ],
      "text/plain": [
       "                                                coef         cste        R2  \\\n",
       "3  [5823.610172569677, -136.84345512854688, -912.... -5127.341146  0.930578   \n",
       "\n",
       "        RMSE        mae      MAPE  \n",
       "3  58.807527  51.779539  0.116131  "
      ]
     },
     "execution_count": 80,
     "metadata": {},
     "output_type": "execute_result"
    }
   ],
   "source": [
    "# Define predictor and response variables\n",
    "coef_list = []\n",
    "cste_list = []\n",
    "R2_list = []\n",
    "mae_list = []\n",
    "RMSE_list = []\n",
    "MAPE_list = []\n",
    "\n",
    "for i in range(0, len(sti_dfi_ndri_data)):\n",
    "    X = sti_dfi_ndri_data[[\"STI\",\"DFI\", \"NDRI\"]]\n",
    "    var_out = X.index.isin([i])\n",
    "    X = X.loc[~var_out]         # Leave one out\n",
    "    \n",
    "    y = sti_dfi_ndri_data[\"Biomasse (kg/ha)\"][X.index] # same indices as X\n",
    "    \n",
    "    model_1 = LinearRegression().fit(X, y)\n",
    "    \n",
    "    coef = model_1.coef_\n",
    "    coef_list.append(coef)\n",
    "    \n",
    "    cste =  model_1.intercept_\n",
    "    cste_list.append(cste)\n",
    "    \n",
    "    X = sti_dfi_ndri_data[[\"STI\",\"DFI\", \"NDRI\"]]\n",
    "    y = sti_dfi_ndri_data[\"Biomasse (kg/ha)\"]\n",
    "    \n",
    "    R2 = r2_score(y.values,  (model_1.predict(X)))\n",
    "    R2_list.append(R2)\n",
    "    RMSE = mean_squared_error(y.values, (model_1.predict(X)), squared=False)\n",
    "    RMSE_list.append(RMSE)\n",
    "    mae = mean_absolute_error(y.values,  (model_1.predict(X)))\n",
    "    mae_list.append(mae)\n",
    "    mape = np.mean(np.abs((y.values - (model_1.predict(X))))/y.values)\n",
    "    MAPE_list.append(mape)\n",
    "    \n",
    "result_dic = {\"coef\" : coef_list, \"cste\": cste_list, \"R2\" : R2_list,\"RMSE\": RMSE_list, \"mae\": mae_list, \"MAPE\": MAPE_list}    \n",
    "reg_results = pd.DataFrame(result_dic)\n",
    "reg_results.loc[reg_results.RMSE == reg_results.RMSE.min()]   "
   ]
  },
  {
   "cell_type": "code",
   "execution_count": 81,
   "metadata": {},
   "outputs": [],
   "source": [
    "model_1 = LinearRegression()\n",
    "model_1.coef_ = reg_results.coef.values[3]\n",
    "model_1.intercept_ = reg_results.cste.values[3]"
   ]
  },
  {
   "cell_type": "markdown",
   "metadata": {
    "tags": []
   },
   "source": [
    "### Plot the results"
   ]
  },
  {
   "cell_type": "code",
   "execution_count": 82,
   "metadata": {
    "tags": []
   },
   "outputs": [
    {
     "name": "stderr",
     "output_type": "stream",
     "text": [
      "C:\\Users\\GARBA\\anaconda3\\envs\\geo_env\\lib\\site-packages\\sklearn\\base.py:443: UserWarning: X has feature names, but LinearRegression was fitted without feature names\n",
      "  warnings.warn(\n"
     ]
    }
   ],
   "source": [
    "# inputs\n",
    "x_all = si_BZ26[[\"STI\",\"DFI\", \"NDRI\"]]\n",
    "y_all = model_1.predict(x_all)\n",
    "#y_all"
   ]
  },
  {
   "cell_type": "code",
   "execution_count": 83,
   "metadata": {
    "tags": []
   },
   "outputs": [
    {
     "data": {
      "image/png": "[encoded data removed]",
      "text/plain": [
       "<Figure size 750x250 with 1 Axes>"
      ]
     },
     "metadata": {},
     "output_type": "display_data"
    }
   ],
   "source": [
    "fig, ax = plt.subplots(1, 1, figsize = (7.5,2.5), constrained_layout = True)\n",
    "ax.scatter(obs_mass.index, obs_mass.values, label = \"Observed Biomass\", color = \"darkblue\", s = 6)\n",
    "ax.plot(si_BZ26.date, y_all, lw = .9, label = \"Estimated biomass\", color = \"r\", alpha = .5)\n",
    "#ax.set_xticks(sti_data.index)\n",
    "#ax.set_yticks(np.arange(0, 1500, 200))\n",
    "ax.set_ylabel(\"kgMS/ha\", fontsize = 7)\n",
    "#ax.set_xlabel(\"Index\",  fontsize = 7)\n",
    "ax.tick_params(axis='both', which='major', labelsize=8)\n",
    "ax.legend(fontsize = 7, loc = (0.78, 0.82))\n",
    "ax.set_title(\"Fallow site BZ26 - Model 13: STI, DFI and NDRI\", fontsize = 8, fontweight = \"bold\", x = 0.23, y = .9)\n",
    "ax.grid(\"both\", alpha = 0.2)\n",
    "plt.savefig(\"./output/BZ26/model_13_jachere.png\", dpi = 600)"
   ]
  },
  {
   "cell_type": "code",
   "execution_count": 84,
   "metadata": {},
   "outputs": [],
   "source": [
    "# Save the regression model\n",
    "#joblib.dump(model_1, \"./model 13/model_BZ26.pkl\") "
   ]
  },
  {
   "cell_type": "markdown",
   "metadata": {},
   "source": [
    "#### 14. Model 14:  X = [NDTI, DFI, NDRI]"
   ]
  },
  {
   "cell_type": "code",
   "execution_count": 85,
   "metadata": {},
   "outputs": [
    {
     "data": {
      "text/html": [
       "<div>\n",
       "<style scoped>\n",
       "    .dataframe tbody tr th:only-of-type {\n",
       "        vertical-align: middle;\n",
       "    }\n",
       "\n",
       "    .dataframe tbody tr th {\n",
       "        vertical-align: top;\n",
       "    }\n",
       "\n",
       "    .dataframe thead th {\n",
       "        text-align: right;\n",
       "    }\n",
       "</style>\n",
       "<table border=\"1\" class=\"dataframe\">\n",
       "  <thead>\n",
       "    <tr style=\"text-align: right;\">\n",
       "      <th></th>\n",
       "      <th>NDTI</th>\n",
       "      <th>DFI</th>\n",
       "      <th>NDRI</th>\n",
       "      <th>Biomasse (kg/ha)</th>\n",
       "    </tr>\n",
       "  </thead>\n",
       "  <tbody>\n",
       "    <tr>\n",
       "      <th>0</th>\n",
       "      <td>0.091115</td>\n",
       "      <td>11.258753</td>\n",
       "      <td>-0.247199</td>\n",
       "      <td>496.15</td>\n",
       "    </tr>\n",
       "  </tbody>\n",
       "</table>\n",
       "</div>"
      ],
      "text/plain": [
       "       NDTI        DFI      NDRI  Biomasse (kg/ha)\n",
       "0  0.091115  11.258753 -0.247199            496.15"
      ]
     },
     "execution_count": 85,
     "metadata": {},
     "output_type": "execute_result"
    }
   ],
   "source": [
    "# Define input output data\n",
    "ndti_dfi_ndri_data = data_BZ26.iloc[:, [14, 15, 16,19]]\n",
    "ndti_dfi_ndri_data.head(1)"
   ]
  },
  {
   "cell_type": "code",
   "execution_count": 86,
   "metadata": {},
   "outputs": [
    {
     "data": {
      "text/html": [
       "<div>\n",
       "<style scoped>\n",
       "    .dataframe tbody tr th:only-of-type {\n",
       "        vertical-align: middle;\n",
       "    }\n",
       "\n",
       "    .dataframe tbody tr th {\n",
       "        vertical-align: top;\n",
       "    }\n",
       "\n",
       "    .dataframe thead th {\n",
       "        text-align: right;\n",
       "    }\n",
       "</style>\n",
       "<table border=\"1\" class=\"dataframe\">\n",
       "  <thead>\n",
       "    <tr style=\"text-align: right;\">\n",
       "      <th></th>\n",
       "      <th>coef</th>\n",
       "      <th>cste</th>\n",
       "      <th>R2</th>\n",
       "      <th>RMSE</th>\n",
       "      <th>mae</th>\n",
       "      <th>MAPE</th>\n",
       "    </tr>\n",
       "  </thead>\n",
       "  <tbody>\n",
       "    <tr>\n",
       "      <th>3</th>\n",
       "      <td>[15265.743640869669, -141.53728475006102, -883...</td>\n",
       "      <td>531.639281</td>\n",
       "      <td>0.93696</td>\n",
       "      <td>56.039101</td>\n",
       "      <td>49.628423</td>\n",
       "      <td>0.110453</td>\n",
       "    </tr>\n",
       "  </tbody>\n",
       "</table>\n",
       "</div>"
      ],
      "text/plain": [
       "                                                coef        cste       R2  \\\n",
       "3  [15265.743640869669, -141.53728475006102, -883...  531.639281  0.93696   \n",
       "\n",
       "        RMSE        mae      MAPE  \n",
       "3  56.039101  49.628423  0.110453  "
      ]
     },
     "execution_count": 86,
     "metadata": {},
     "output_type": "execute_result"
    }
   ],
   "source": [
    "# Define predictor and response variables\n",
    "coef_list = []\n",
    "cste_list = []\n",
    "R2_list = []\n",
    "mae_list = []\n",
    "RMSE_list = []\n",
    "MAPE_list = []\n",
    "\n",
    "for i in range(0, len(ndti_dfi_ndri_data)):\n",
    "    X = ndti_dfi_ndri_data[[\"NDTI\",\"DFI\", \"NDRI\"]]\n",
    "    var_out = X.index.isin([i])\n",
    "    X = X.loc[~var_out]         # Leave one out\n",
    "    \n",
    "    y = ndti_dfi_ndri_data[\"Biomasse (kg/ha)\"][X.index] # same indices as X\n",
    "    \n",
    "    model_1 = LinearRegression().fit(X, y)\n",
    "    \n",
    "    coef = model_1.coef_\n",
    "    coef_list.append(coef)\n",
    "    \n",
    "    cste =  model_1.intercept_\n",
    "    cste_list.append(cste)\n",
    "    X = ndti_dfi_ndri_data[[\"NDTI\",\"DFI\", \"NDRI\"]]\n",
    "    y = ndti_dfi_ndri_data[\"Biomasse (kg/ha)\"]\n",
    "    R2 = r2_score(y.values,  (model_1.predict(X)))\n",
    "    R2_list.append(R2)\n",
    "    RMSE = mean_squared_error(y.values, (model_1.predict(X)), squared=False)\n",
    "    RMSE_list.append(RMSE)\n",
    "    mae = mean_absolute_error(y.values,  (model_1.predict(X)))\n",
    "    mae_list.append(mae)\n",
    "    mape = np.mean(np.abs((y.values - (model_1.predict(X))))/y.values)\n",
    "    MAPE_list.append(mape)\n",
    "    \n",
    "result_dic = {\"coef\" : coef_list, \"cste\": cste_list, \"R2\" : R2_list,\"RMSE\": RMSE_list, \"mae\": mae_list, \"MAPE\": MAPE_list}    \n",
    "reg_results = pd.DataFrame(result_dic)\n",
    "reg_results.loc[reg_results.RMSE == reg_results.RMSE.min()]  "
   ]
  },
  {
   "cell_type": "code",
   "execution_count": 87,
   "metadata": {},
   "outputs": [],
   "source": [
    "model_1 = LinearRegression()\n",
    "model_1.coef_ = reg_results.coef.values[3]\n",
    "model_1.intercept_ = reg_results.cste.values[3]"
   ]
  },
  {
   "cell_type": "markdown",
   "metadata": {
    "tags": []
   },
   "source": [
    "### Plot the results"
   ]
  },
  {
   "cell_type": "code",
   "execution_count": 88,
   "metadata": {
    "tags": []
   },
   "outputs": [
    {
     "name": "stderr",
     "output_type": "stream",
     "text": [
      "C:\\Users\\GARBA\\anaconda3\\envs\\geo_env\\lib\\site-packages\\sklearn\\base.py:443: UserWarning: X has feature names, but LinearRegression was fitted without feature names\n",
      "  warnings.warn(\n"
     ]
    }
   ],
   "source": [
    "# inputs\n",
    "x_all = si_BZ26[[\"NDTI\",\"DFI\", \"NDRI\"]]\n",
    "y_all = model_1.predict(x_all)\n",
    "#y_all"
   ]
  },
  {
   "cell_type": "code",
   "execution_count": 89,
   "metadata": {
    "tags": []
   },
   "outputs": [
    {
     "data": {
      "image/png": "[encoded data removed]",
      "text/plain": [
       "<Figure size 750x250 with 1 Axes>"
      ]
     },
     "metadata": {},
     "output_type": "display_data"
    }
   ],
   "source": [
    "fig, ax = plt.subplots(1, 1, figsize = (7.5,2.5), constrained_layout = True)\n",
    "ax.scatter(obs_mass.index, obs_mass.values, label = \"Observed Biomass\", color = \"darkblue\", s = 6)\n",
    "ax.plot(si_BZ26.date, y_all, lw = .9, label = \"Estimated biomass\", color = \"r\", alpha = .5)\n",
    "#ax.set_xticks(sti_data.index)\n",
    "#ax.set_yticks(np.arange(0, 1500, 200))\n",
    "ax.set_ylabel(\"kgMS/ha\", fontsize = 7)\n",
    "#ax.set_xlabel(\"Index\",  fontsize = 7)\n",
    "ax.tick_params(axis='both', which='major', labelsize=8)\n",
    "ax.legend(fontsize = 7, loc = (0.8, 0.8))\n",
    "ax.set_title(\"Fallow site BZ26 - Model 14: NDTI, DFI and NDRI\", fontsize = 8, fontweight = \"bold\", x = 0.23, y = .88)\n",
    "ax.grid(\"both\", alpha = 0.2)\n",
    "plt.savefig(\"./output/BZ26/model_14_jachere.png\", dpi = 600)"
   ]
  },
  {
   "cell_type": "code",
   "execution_count": 90,
   "metadata": {},
   "outputs": [],
   "source": [
    "# Save the regression model\n",
    "#joblib.dump(model_1, \"./model 14/model_BZ26.pkl\") "
   ]
  },
  {
   "cell_type": "markdown",
   "metadata": {},
   "source": [
    "#### 15. Model 15:  X = [STI, NDTI, DFI, NDRI]"
   ]
  },
  {
   "cell_type": "code",
   "execution_count": 91,
   "metadata": {},
   "outputs": [
    {
     "data": {
      "text/html": [
       "<div>\n",
       "<style scoped>\n",
       "    .dataframe tbody tr th:only-of-type {\n",
       "        vertical-align: middle;\n",
       "    }\n",
       "\n",
       "    .dataframe tbody tr th {\n",
       "        vertical-align: top;\n",
       "    }\n",
       "\n",
       "    .dataframe thead th {\n",
       "        text-align: right;\n",
       "    }\n",
       "</style>\n",
       "<table border=\"1\" class=\"dataframe\">\n",
       "  <thead>\n",
       "    <tr style=\"text-align: right;\">\n",
       "      <th></th>\n",
       "      <th>STI</th>\n",
       "      <th>NDTI</th>\n",
       "      <th>DFI</th>\n",
       "      <th>NDRI</th>\n",
       "      <th>Biomasse (kg/ha)</th>\n",
       "    </tr>\n",
       "  </thead>\n",
       "  <tbody>\n",
       "    <tr>\n",
       "      <th>0</th>\n",
       "      <td>1.200499</td>\n",
       "      <td>0.091115</td>\n",
       "      <td>11.258753</td>\n",
       "      <td>-0.247199</td>\n",
       "      <td>496.15</td>\n",
       "    </tr>\n",
       "  </tbody>\n",
       "</table>\n",
       "</div>"
      ],
      "text/plain": [
       "        STI      NDTI        DFI      NDRI  Biomasse (kg/ha)\n",
       "0  1.200499  0.091115  11.258753 -0.247199            496.15"
      ]
     },
     "execution_count": 91,
     "metadata": {},
     "output_type": "execute_result"
    }
   ],
   "source": [
    "# Define input output data\n",
    "sti_ndti_dfi_ndri_data = data_BZ26.iloc[:, [13, 14, 15, 16,19]]\n",
    "sti_ndti_dfi_ndri_data.head(1)"
   ]
  },
  {
   "cell_type": "code",
   "execution_count": 92,
   "metadata": {},
   "outputs": [
    {
     "data": {
      "text/html": [
       "<div>\n",
       "<style scoped>\n",
       "    .dataframe tbody tr th:only-of-type {\n",
       "        vertical-align: middle;\n",
       "    }\n",
       "\n",
       "    .dataframe tbody tr th {\n",
       "        vertical-align: top;\n",
       "    }\n",
       "\n",
       "    .dataframe thead th {\n",
       "        text-align: right;\n",
       "    }\n",
       "</style>\n",
       "<table border=\"1\" class=\"dataframe\">\n",
       "  <thead>\n",
       "    <tr style=\"text-align: right;\">\n",
       "      <th></th>\n",
       "      <th>coef</th>\n",
       "      <th>cste</th>\n",
       "      <th>R2</th>\n",
       "      <th>RMSE</th>\n",
       "      <th>mae</th>\n",
       "      <th>MAPE</th>\n",
       "    </tr>\n",
       "  </thead>\n",
       "  <tbody>\n",
       "    <tr>\n",
       "      <th>3</th>\n",
       "      <td>[-93267.72815069307, 257764.38172234074, -194....</td>\n",
       "      <td>90927.499877</td>\n",
       "      <td>0.981931</td>\n",
       "      <td>30.00195</td>\n",
       "      <td>25.736741</td>\n",
       "      <td>0.077525</td>\n",
       "    </tr>\n",
       "  </tbody>\n",
       "</table>\n",
       "</div>"
      ],
      "text/plain": [
       "                                                coef          cste        R2  \\\n",
       "3  [-93267.72815069307, 257764.38172234074, -194....  90927.499877  0.981931   \n",
       "\n",
       "       RMSE        mae      MAPE  \n",
       "3  30.00195  25.736741  0.077525  "
      ]
     },
     "execution_count": 92,
     "metadata": {},
     "output_type": "execute_result"
    }
   ],
   "source": [
    "# Define predictor and response variables\n",
    "coef_list = []\n",
    "cste_list = []\n",
    "R2_list = []\n",
    "mae_list = []\n",
    "RMSE_list = []\n",
    "MAPE_list = []\n",
    "\n",
    "for i in range(0, len(sti_ndti_dfi_ndri_data)):\n",
    "    X = sti_ndti_dfi_ndri_data[[\"STI\",\"NDTI\",\"DFI\", \"NDRI\"]]\n",
    "    var_out = X.index.isin([i])\n",
    "    X = X.loc[~var_out]         # Leave one out\n",
    "    \n",
    "    y = sti_ndti_dfi_ndri_data[\"Biomasse (kg/ha)\"][X.index] # same indices as X\n",
    "    \n",
    "    model_1 = LinearRegression().fit(X, y)\n",
    "    \n",
    "    coef = model_1.coef_\n",
    "    coef_list.append(coef)\n",
    "    \n",
    "    cste =  model_1.intercept_\n",
    "    cste_list.append(cste)\n",
    "    X = sti_ndti_dfi_ndri_data[[\"STI\",\"NDTI\",\"DFI\", \"NDRI\"]]\n",
    "    y = sti_ndti_dfi_ndri_data[\"Biomasse (kg/ha)\"]   \n",
    "    R2 = r2_score(y.values,  (model_1.predict(X)))\n",
    "    R2_list.append(R2)\n",
    "    RMSE = mean_squared_error(y.values, (model_1.predict(X)), squared=False)\n",
    "    RMSE_list.append(RMSE)\n",
    "    mae = mean_absolute_error(y.values,  (model_1.predict(X)))\n",
    "    mae_list.append(mae)\n",
    "    mape = np.mean(np.abs((y.values - (model_1.predict(X))))/y.values)\n",
    "    MAPE_list.append(mape)\n",
    "    \n",
    "result_dic = {\"coef\" : coef_list, \"cste\": cste_list, \"R2\" : R2_list,\"RMSE\": RMSE_list, \"mae\": mae_list, \"MAPE\": MAPE_list}    \n",
    "reg_results = pd.DataFrame(result_dic)\n",
    "reg_results.loc[reg_results.RMSE == reg_results.RMSE.min()]    "
   ]
  },
  {
   "cell_type": "code",
   "execution_count": 93,
   "metadata": {
    "tags": []
   },
   "outputs": [],
   "source": [
    "# Predict the out var using the best model\n",
    "model_1 = LinearRegression()\n",
    "model_1.coef_ = reg_results.coef.values[3]\n",
    "model_1.intercept_ = reg_results.cste.values[3]"
   ]
  },
  {
   "cell_type": "markdown",
   "metadata": {
    "tags": []
   },
   "source": [
    "### Plot the results"
   ]
  },
  {
   "cell_type": "code",
   "execution_count": 94,
   "metadata": {
    "tags": []
   },
   "outputs": [
    {
     "name": "stderr",
     "output_type": "stream",
     "text": [
      "C:\\Users\\GARBA\\anaconda3\\envs\\geo_env\\lib\\site-packages\\sklearn\\base.py:443: UserWarning: X has feature names, but LinearRegression was fitted without feature names\n",
      "  warnings.warn(\n"
     ]
    }
   ],
   "source": [
    "# inputs\n",
    "x_all = si_BZ26[[\"STI\",\"NDTI\",\"DFI\", \"NDRI\"]]\n",
    "y_all = model_1.predict(x_all)\n",
    "#y_all"
   ]
  },
  {
   "cell_type": "code",
   "execution_count": 95,
   "metadata": {
    "tags": []
   },
   "outputs": [
    {
     "data": {
      "image/png": "[encoded data removed]",
      "text/plain": [
       "<Figure size 750x250 with 1 Axes>"
      ]
     },
     "metadata": {},
     "output_type": "display_data"
    }
   ],
   "source": [
    "fig, ax = plt.subplots(1, 1, figsize = (7.5,2.5), constrained_layout = True)\n",
    "ax.scatter(obs_mass.index, obs_mass.values, label = \"Observed Biomass\", color = \"darkblue\", s = 6)\n",
    "ax.plot(si_BZ26.date, y_all, lw = .9, label = \"Estimated biomass\", color = \"r\", alpha = .5)\n",
    "#ax.set_xticks(sti_data.index)\n",
    "#ax.set_yticks(np.arange(0, 1500, 200))\n",
    "ax.set_ylabel(\"kgMS/ha\", fontsize = 7)\n",
    "#ax.set_xlabel(\"Index\",  fontsize = 7)\n",
    "ax.tick_params(axis='both', which='major', labelsize=8)\n",
    "ax.legend(fontsize = 7, loc = (0.01, 0.81))\n",
    "ax.set_title(\"Fallow site BZ26 - Model 15:\\n STI, NDTI, DFI and NDRI\", fontsize = 8, fontweight = \"bold\", x = 0.85, y = .83)\n",
    "ax.grid(\"both\", alpha = 0.2)\n",
    "plt.savefig(\"./output/BZ26/model_15_jachere.png\", dpi = 600)"
   ]
  },
  {
   "cell_type": "code",
   "execution_count": 96,
   "metadata": {},
   "outputs": [],
   "source": [
    "# Save the regression model\n",
    "#import joblib\n",
    "## save\n",
    "#joblib.dump(model_1, \"./model 15/model_BZ26.pkl\") "
   ]
  },
  {
   "cell_type": "code",
   "execution_count": null,
   "metadata": {},
   "outputs": [],
   "source": []
  }
 ],
 "metadata": {
  "kernelspec": {
   "display_name": "Python 3",
   "language": "python",
   "name": "python3"
  },
  "language_info": {
   "codemirror_mode": {
    "name": "ipython",
    "version": 3
   },
   "file_extension": ".py",
   "mimetype": "text/x-python",
   "name": "python",
   "nbconvert_exporter": "python",
   "pygments_lexer": "ipython3",
   "version": "3.8.2"
  }
 },
 "nbformat": 4,
 "nbformat_minor": 4
}
