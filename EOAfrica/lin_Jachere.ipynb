{
 "cells": [
  {
   "cell_type": "markdown",
   "metadata": {},
   "source": [
    "# Regression model for dry biomasse assessment"
   ]
  },
  {
   "cell_type": "code",
   "execution_count": 1,
   "metadata": {},
   "outputs": [],
   "source": [
    "# Import required packages\n",
    "import numpy as np\n",
    "np.float = float\n",
    "\n",
    "import pandas as pd\n",
    "from sklearn.model_selection import train_test_split\n",
    "from sklearn.model_selection import KFold\n",
    "from sklearn.model_selection import cross_val_score\n",
    "from sklearn.model_selection import LeaveOneOut\n",
    "\n",
    "from sklearn.metrics import mean_absolute_error\n",
    "from sklearn.metrics import mean_squared_error\n",
    "from sklearn.metrics import mean_absolute_error\n",
    "from sklearn.metrics import r2_score\n",
    "from math import sqrt\n",
    "from sklearn.linear_model import LinearRegression\n",
    "from numpy import mean\n",
    "from numpy import absolute\n",
    "from numpy import sqrt\n",
    "from sklearn.metrics import mean_squared_error\n",
    "\n",
    "\n",
    "from sklearn import preprocessing\n",
    "import joblib\n",
    "import matplotlib.pyplot as plt"
   ]
  },
  {
   "cell_type": "markdown",
   "metadata": {},
   "source": [
    "### Fallow sites"
   ]
  },
  {
   "cell_type": "code",
   "execution_count": 52,
   "metadata": {},
   "outputs": [
    {
     "data": {
      "text/plain": [
       "(47, 20)"
      ]
     },
     "execution_count": 52,
     "metadata": {},
     "output_type": "execute_result"
    }
   ],
   "source": [
    "# Import input data \n",
    "data_B24 = pd.read_excel(\"./Model_data_completed.xlsx\", sheet_name = \"B24 Monthly\") # Jachèere\n",
    "data_BZ26 = pd.read_excel(\"./Model_data_completed.xlsx\", sheet_name = \"BZ26 Monthly\") # Jachèere\n",
    "data_K6A = pd.read_excel(\"./Model_data_completed.xlsx\", sheet_name = \"K6A Monthly\") # Jachèere\n",
    "data_KA10 = pd.read_excel(\"./Model_data_completed.xlsx\", sheet_name = \"KA10 Monthly\") # Jachèere\n",
    "data_KA18C = pd.read_excel(\"./Model_data_completed.xlsx\", sheet_name = \"KA18C Monthly\") # Jachèere\n",
    "data_KZ7 = pd.read_excel(\"./Model_data_completed.xlsx\", sheet_name = \"KZ7 Monthly\") # Jachèere\n",
    "data_TZ22B = pd.read_excel(\"./Model_data_completed.xlsx\", sheet_name = \"TZ22B Monthly\") # Jachèere\n",
    "\n",
    "data = pd.concat([data_B24, data_BZ26, data_K6A, data_KA10, data_KA18C, data_KZ7, data_TZ22B])\n",
    "data = data.reset_index()\n",
    "data = data.iloc[:, 1:22]\n",
    "data.shape"
   ]
  },
  {
   "cell_type": "code",
   "execution_count": 40,
   "metadata": {},
   "outputs": [],
   "source": [
    "#data = pd.read_excel(\"./jachere.xlsx\", parse_dates=True)\n",
    "#data.head(2)"
   ]
  },
  {
   "cell_type": "code",
   "execution_count": 41,
   "metadata": {},
   "outputs": [
    {
     "data": {
      "text/plain": [
       "date\n",
       "2019-10-16    776.5\n",
       "Name: Biomasse (kg/ha), dtype: float64"
      ]
     },
     "execution_count": 41,
     "metadata": {},
     "output_type": "execute_result"
    }
   ],
   "source": [
    "# Observed biomass\n",
    "obs_mass = data[\"Biomasse (kg/ha)\"]\n",
    "obs_mass.index = data.date\n",
    "obs_mass.head(1)"
   ]
  },
  {
   "cell_type": "markdown",
   "metadata": {},
   "source": [
    "## Simple LRMs"
   ]
  },
  {
   "cell_type": "markdown",
   "metadata": {},
   "source": [
    "#### 1. Sites Jachere"
   ]
  },
  {
   "cell_type": "markdown",
   "metadata": {},
   "source": [
    "#### Model 1:  X = STI"
   ]
  },
  {
   "cell_type": "code",
   "execution_count": 42,
   "metadata": {
    "tags": []
   },
   "outputs": [
    {
     "data": {
      "text/html": [
       "<div>\n",
       "<style scoped>\n",
       "    .dataframe tbody tr th:only-of-type {\n",
       "        vertical-align: middle;\n",
       "    }\n",
       "\n",
       "    .dataframe tbody tr th {\n",
       "        vertical-align: top;\n",
       "    }\n",
       "\n",
       "    .dataframe thead th {\n",
       "        text-align: right;\n",
       "    }\n",
       "</style>\n",
       "<table border=\"1\" class=\"dataframe\">\n",
       "  <thead>\n",
       "    <tr style=\"text-align: right;\">\n",
       "      <th></th>\n",
       "      <th>STI</th>\n",
       "      <th>Biomasse (kg/ha)</th>\n",
       "    </tr>\n",
       "  </thead>\n",
       "  <tbody>\n",
       "    <tr>\n",
       "      <th>0</th>\n",
       "      <td>1.156114</td>\n",
       "      <td>776.500</td>\n",
       "    </tr>\n",
       "    <tr>\n",
       "      <th>1</th>\n",
       "      <td>1.242927</td>\n",
       "      <td>857.175</td>\n",
       "    </tr>\n",
       "  </tbody>\n",
       "</table>\n",
       "</div>"
      ],
      "text/plain": [
       "        STI  Biomasse (kg/ha)\n",
       "0  1.156114           776.500\n",
       "1  1.242927           857.175"
      ]
     },
     "execution_count": 42,
     "metadata": {},
     "output_type": "execute_result"
    }
   ],
   "source": [
    "# Define input output data\n",
    "sti_data = data.iloc[:, [13, 19]]\n",
    "sti_data.head(2)"
   ]
  },
  {
   "cell_type": "code",
   "execution_count": 43,
   "metadata": {
    "tags": []
   },
   "outputs": [
    {
     "data": {
      "text/html": [
       "<div>\n",
       "<style scoped>\n",
       "    .dataframe tbody tr th:only-of-type {\n",
       "        vertical-align: middle;\n",
       "    }\n",
       "\n",
       "    .dataframe tbody tr th {\n",
       "        vertical-align: top;\n",
       "    }\n",
       "\n",
       "    .dataframe thead th {\n",
       "        text-align: right;\n",
       "    }\n",
       "</style>\n",
       "<table border=\"1\" class=\"dataframe\">\n",
       "  <thead>\n",
       "    <tr style=\"text-align: right;\">\n",
       "      <th></th>\n",
       "      <th>coef</th>\n",
       "      <th>cste</th>\n",
       "      <th>R2</th>\n",
       "      <th>RMSE</th>\n",
       "      <th>mae</th>\n",
       "    </tr>\n",
       "  </thead>\n",
       "  <tbody>\n",
       "    <tr>\n",
       "      <th>15</th>\n",
       "      <td>[3304.5476833244306]</td>\n",
       "      <td>-3407.551104</td>\n",
       "      <td>0.171901</td>\n",
       "      <td>321.555332</td>\n",
       "      <td>257.925436</td>\n",
       "    </tr>\n",
       "  </tbody>\n",
       "</table>\n",
       "</div>"
      ],
      "text/plain": [
       "                    coef         cste        R2        RMSE         mae\n",
       "15  [3304.5476833244306] -3407.551104  0.171901  321.555332  257.925436"
      ]
     },
     "execution_count": 43,
     "metadata": {},
     "output_type": "execute_result"
    }
   ],
   "source": [
    "# Define predictor and response variables\n",
    "coef_list = []\n",
    "cste_list = []\n",
    "R2_list = []\n",
    "RMSE_list = []\n",
    "mae_list = []\n",
    "for i in range(0, len(sti_data)):\n",
    "    X = sti_data[[\"STI\"]]\n",
    "    var_out = X.index.isin([i])\n",
    "    X = X.loc[~var_out]         # Leave one out\n",
    "    \n",
    "    y = sti_data[\"Biomasse (kg/ha)\"][X.index] # same indices as X\n",
    "    \n",
    "    model_1 = LinearRegression().fit(X, y)\n",
    "    \n",
    "    coef = model_1.coef_\n",
    "    coef_list.append(coef)\n",
    "    \n",
    "    cste =  model_1.intercept_\n",
    "    cste_list.append(cste)\n",
    "    X = sti_data[[\"STI\"]]\n",
    "    y = sti_data[\"Biomasse (kg/ha)\"]    \n",
    "    R2 = r2_score(y.values, model_1.predict(X))\n",
    "    R2_list.append(R2)\n",
    "    RMSE = mean_squared_error(y.values, model_1.predict(X), squared=False)\n",
    "    RMSE_list.append(RMSE)\n",
    "    mae = mean_absolute_error(y.values, model_1.predict(X))\n",
    "    mae_list.append(mae)\n",
    "result_dic = {\"coef\" : coef_list, \"cste\": cste_list, \"R2\" : R2_list,\"RMSE\": RMSE_list, \"mae\": mae_list}    \n",
    "reg_results = pd.DataFrame(result_dic)\n",
    "reg_results.loc[reg_results.RMSE == reg_results.RMSE.min()]"
   ]
  },
  {
   "cell_type": "code",
   "execution_count": 47,
   "metadata": {
    "tags": []
   },
   "outputs": [],
   "source": [
    "# Save the regression model\n",
    "#joblib.dump(model_1, \"./model 1/model_B24.pkl\") "
   ]
  },
  {
   "cell_type": "markdown",
   "metadata": {},
   "source": [
    "#### 2. Model 2:  X = NDTI"
   ]
  },
  {
   "cell_type": "code",
   "execution_count": 102,
   "metadata": {},
   "outputs": [
    {
     "data": {
      "text/html": [
       "<div>\n",
       "<style scoped>\n",
       "    .dataframe tbody tr th:only-of-type {\n",
       "        vertical-align: middle;\n",
       "    }\n",
       "\n",
       "    .dataframe tbody tr th {\n",
       "        vertical-align: top;\n",
       "    }\n",
       "\n",
       "    .dataframe thead th {\n",
       "        text-align: right;\n",
       "    }\n",
       "</style>\n",
       "<table border=\"1\" class=\"dataframe\">\n",
       "  <thead>\n",
       "    <tr style=\"text-align: right;\">\n",
       "      <th></th>\n",
       "      <th>NDTI</th>\n",
       "      <th>Biomasse (kg/ha)</th>\n",
       "    </tr>\n",
       "  </thead>\n",
       "  <tbody>\n",
       "    <tr>\n",
       "      <th>0</th>\n",
       "      <td>0.072405</td>\n",
       "      <td>776.500</td>\n",
       "    </tr>\n",
       "    <tr>\n",
       "      <th>1</th>\n",
       "      <td>0.108308</td>\n",
       "      <td>857.175</td>\n",
       "    </tr>\n",
       "  </tbody>\n",
       "</table>\n",
       "</div>"
      ],
      "text/plain": [
       "       NDTI  Biomasse (kg/ha)\n",
       "0  0.072405           776.500\n",
       "1  0.108308           857.175"
      ]
     },
     "execution_count": 102,
     "metadata": {},
     "output_type": "execute_result"
    }
   ],
   "source": [
    "# Define input output data\n",
    "ndti_data = data.iloc[:, [14, 19]]\n",
    "ndti_data.head(2)"
   ]
  },
  {
   "cell_type": "code",
   "execution_count": 103,
   "metadata": {
    "tags": []
   },
   "outputs": [
    {
     "data": {
      "text/html": [
       "<div>\n",
       "<style scoped>\n",
       "    .dataframe tbody tr th:only-of-type {\n",
       "        vertical-align: middle;\n",
       "    }\n",
       "\n",
       "    .dataframe tbody tr th {\n",
       "        vertical-align: top;\n",
       "    }\n",
       "\n",
       "    .dataframe thead th {\n",
       "        text-align: right;\n",
       "    }\n",
       "</style>\n",
       "<table border=\"1\" class=\"dataframe\">\n",
       "  <thead>\n",
       "    <tr style=\"text-align: right;\">\n",
       "      <th></th>\n",
       "      <th>coef</th>\n",
       "      <th>cste</th>\n",
       "      <th>R2</th>\n",
       "      <th>RMSE</th>\n",
       "      <th>mae</th>\n",
       "    </tr>\n",
       "  </thead>\n",
       "  <tbody>\n",
       "    <tr>\n",
       "      <th>15</th>\n",
       "      <td>[8282.069901477855]</td>\n",
       "      <td>-193.499179</td>\n",
       "      <td>0.173506</td>\n",
       "      <td>321.243485</td>\n",
       "      <td>257.361324</td>\n",
       "    </tr>\n",
       "  </tbody>\n",
       "</table>\n",
       "</div>"
      ],
      "text/plain": [
       "                   coef        cste        R2        RMSE         mae\n",
       "15  [8282.069901477855] -193.499179  0.173506  321.243485  257.361324"
      ]
     },
     "execution_count": 103,
     "metadata": {},
     "output_type": "execute_result"
    }
   ],
   "source": [
    "# Define predictor and response variables\n",
    "coef_list = []\n",
    "cste_list = []\n",
    "R2_list = []\n",
    "RMSE_list = []\n",
    "mae_list = []\n",
    "for i in range(0, len(sti_data)):\n",
    "    X = ndti_data[[\"NDTI\"]]\n",
    "    var_out = X.index.isin([i])\n",
    "    X = X.loc[~var_out]         # Leave one out\n",
    "    y = ndti_data[\"Biomasse (kg/ha)\"][X.index] # same indices as X\n",
    "    \n",
    "    model_1 = LinearRegression().fit(X, y)\n",
    "    \n",
    "    coef = model_1.coef_\n",
    "    coef_list.append(coef)\n",
    "    \n",
    "    cste =  model_1.intercept_\n",
    "    cste_list.append(cste)\n",
    "    X = ndti_data[[\"NDTI\"]]\n",
    "    y = ndti_data[\"Biomasse (kg/ha)\"]    \n",
    "    R2 = r2_score(y.values, model_1.predict(X))\n",
    "    R2_list.append(R2)\n",
    "    RMSE = mean_squared_error(y.values, model_1.predict(X), squared=False)\n",
    "    RMSE_list.append(RMSE)\n",
    "    mae = mean_absolute_error(y.values, model_1.predict(X))\n",
    "    mae_list.append(mae)\n",
    "result_dic = {\"coef\" : coef_list, \"cste\": cste_list, \"R2\" : R2_list,\"RMSE\": RMSE_list, \"mae\": mae_list}    \n",
    "reg_results = pd.DataFrame(result_dic)\n",
    "reg_results.loc[reg_results.RMSE == reg_results.RMSE.min()]"
   ]
  },
  {
   "cell_type": "code",
   "execution_count": 21,
   "metadata": {},
   "outputs": [],
   "source": [
    "# Predict the out var using the best model\n",
    "model_1 = LinearRegression()\n",
    "model_1.coef_ = reg_results.coef.values[5]\n",
    "model_1.intercept_ = reg_results.cste.values[5]"
   ]
  },
  {
   "cell_type": "code",
   "execution_count": 22,
   "metadata": {},
   "outputs": [],
   "source": [
    "# Save the regression model\n",
    "#joblib.dump(model_1, \"./model 2/model_B24.pkl\") "
   ]
  },
  {
   "cell_type": "markdown",
   "metadata": {},
   "source": [
    "#### 3. Model 3:  X = DFI"
   ]
  },
  {
   "cell_type": "code",
   "execution_count": 104,
   "metadata": {},
   "outputs": [
    {
     "data": {
      "text/html": [
       "<div>\n",
       "<style scoped>\n",
       "    .dataframe tbody tr th:only-of-type {\n",
       "        vertical-align: middle;\n",
       "    }\n",
       "\n",
       "    .dataframe tbody tr th {\n",
       "        vertical-align: top;\n",
       "    }\n",
       "\n",
       "    .dataframe thead th {\n",
       "        text-align: right;\n",
       "    }\n",
       "</style>\n",
       "<table border=\"1\" class=\"dataframe\">\n",
       "  <thead>\n",
       "    <tr style=\"text-align: right;\">\n",
       "      <th></th>\n",
       "      <th>DFI</th>\n",
       "      <th>Biomasse (kg/ha)</th>\n",
       "    </tr>\n",
       "  </thead>\n",
       "  <tbody>\n",
       "    <tr>\n",
       "      <th>0</th>\n",
       "      <td>9.959820</td>\n",
       "      <td>776.500</td>\n",
       "    </tr>\n",
       "    <tr>\n",
       "      <th>1</th>\n",
       "      <td>13.581307</td>\n",
       "      <td>857.175</td>\n",
       "    </tr>\n",
       "  </tbody>\n",
       "</table>\n",
       "</div>"
      ],
      "text/plain": [
       "         DFI  Biomasse (kg/ha)\n",
       "0   9.959820           776.500\n",
       "1  13.581307           857.175"
      ]
     },
     "execution_count": 104,
     "metadata": {},
     "output_type": "execute_result"
    }
   ],
   "source": [
    "# Define input output data\n",
    "dfi_data = data.iloc[:, [15, 19]]\n",
    "dfi_data.head(2)"
   ]
  },
  {
   "cell_type": "code",
   "execution_count": 106,
   "metadata": {
    "tags": []
   },
   "outputs": [
    {
     "data": {
      "text/html": [
       "<div>\n",
       "<style scoped>\n",
       "    .dataframe tbody tr th:only-of-type {\n",
       "        vertical-align: middle;\n",
       "    }\n",
       "\n",
       "    .dataframe tbody tr th {\n",
       "        vertical-align: top;\n",
       "    }\n",
       "\n",
       "    .dataframe thead th {\n",
       "        text-align: right;\n",
       "    }\n",
       "</style>\n",
       "<table border=\"1\" class=\"dataframe\">\n",
       "  <thead>\n",
       "    <tr style=\"text-align: right;\">\n",
       "      <th></th>\n",
       "      <th>coef</th>\n",
       "      <th>cste</th>\n",
       "      <th>R2</th>\n",
       "      <th>RMSE</th>\n",
       "      <th>mae</th>\n",
       "    </tr>\n",
       "  </thead>\n",
       "  <tbody>\n",
       "    <tr>\n",
       "      <th>39</th>\n",
       "      <td>[-8.820033551695644]</td>\n",
       "      <td>719.489313</td>\n",
       "      <td>0.001577</td>\n",
       "      <td>353.078999</td>\n",
       "      <td>299.452682</td>\n",
       "    </tr>\n",
       "  </tbody>\n",
       "</table>\n",
       "</div>"
      ],
      "text/plain": [
       "                    coef        cste        R2        RMSE         mae\n",
       "39  [-8.820033551695644]  719.489313  0.001577  353.078999  299.452682"
      ]
     },
     "execution_count": 106,
     "metadata": {},
     "output_type": "execute_result"
    }
   ],
   "source": [
    "# Define predictor and response variables\n",
    "coef_list = []\n",
    "cste_list = []\n",
    "R2_list = []\n",
    "mae_list = []\n",
    "RMSE_list = []\n",
    "\n",
    "for i in range(0, len(dfi_data)):\n",
    "    X = dfi_data[[\"DFI\"]]\n",
    "    var_out = X.index.isin([i])\n",
    "    X = X.loc[~var_out]         # Leave one out\n",
    "    \n",
    "    y = dfi_data[\"Biomasse (kg/ha)\"][X.index] # same indices as X\n",
    "    \n",
    "    model_1 = LinearRegression().fit(X, y)\n",
    "    \n",
    "    coef = model_1.coef_\n",
    "    coef_list.append(coef)\n",
    "    \n",
    "    cste =  model_1.intercept_\n",
    "    cste_list.append(cste)\n",
    "    X = dfi_data[[\"DFI\"]]\n",
    "    y = dfi_data[\"Biomasse (kg/ha)\"]    \n",
    "    R2 = r2_score(y.values, model_1.predict(X))\n",
    "    R2_list.append(R2)\n",
    "    RMSE = mean_squared_error(y.values, model_1.predict(X), squared=False)\n",
    "    RMSE_list.append(RMSE)\n",
    "\n",
    "    mae = mean_absolute_error(y.values, model_1.predict(X))\n",
    "    mae_list.append(mae)\n",
    "result_dic = {\"coef\" : coef_list, \"cste\": cste_list, \"R2\" : R2_list,\"RMSE\": RMSE_list, \"mae\": mae_list}    \n",
    "reg_results = pd.DataFrame(result_dic)\n",
    "reg_results.loc[reg_results.RMSE == reg_results.RMSE.min()]"
   ]
  },
  {
   "cell_type": "code",
   "execution_count": null,
   "metadata": {},
   "outputs": [],
   "source": [
    "# Save the regression model\n",
    "#joblib.dump(model_1, \"./model 3/model_B24.pkl\") "
   ]
  },
  {
   "cell_type": "markdown",
   "metadata": {},
   "source": [
    "#### 4. Model 4:  X = NDRI"
   ]
  },
  {
   "cell_type": "code",
   "execution_count": 107,
   "metadata": {},
   "outputs": [
    {
     "data": {
      "text/html": [
       "<div>\n",
       "<style scoped>\n",
       "    .dataframe tbody tr th:only-of-type {\n",
       "        vertical-align: middle;\n",
       "    }\n",
       "\n",
       "    .dataframe tbody tr th {\n",
       "        vertical-align: top;\n",
       "    }\n",
       "\n",
       "    .dataframe thead th {\n",
       "        text-align: right;\n",
       "    }\n",
       "</style>\n",
       "<table border=\"1\" class=\"dataframe\">\n",
       "  <thead>\n",
       "    <tr style=\"text-align: right;\">\n",
       "      <th></th>\n",
       "      <th>NDRI</th>\n",
       "      <th>Biomasse (kg/ha)</th>\n",
       "    </tr>\n",
       "  </thead>\n",
       "  <tbody>\n",
       "    <tr>\n",
       "      <th>0</th>\n",
       "      <td>-0.272779</td>\n",
       "      <td>776.500</td>\n",
       "    </tr>\n",
       "    <tr>\n",
       "      <th>1</th>\n",
       "      <td>-0.197771</td>\n",
       "      <td>857.175</td>\n",
       "    </tr>\n",
       "  </tbody>\n",
       "</table>\n",
       "</div>"
      ],
      "text/plain": [
       "       NDRI  Biomasse (kg/ha)\n",
       "0 -0.272779           776.500\n",
       "1 -0.197771           857.175"
      ]
     },
     "execution_count": 107,
     "metadata": {},
     "output_type": "execute_result"
    }
   ],
   "source": [
    "# Define input output data\n",
    "ndri_data = data.iloc[:, [16, 19]]\n",
    "ndri_data.head(2)"
   ]
  },
  {
   "cell_type": "code",
   "execution_count": 108,
   "metadata": {},
   "outputs": [
    {
     "data": {
      "text/html": [
       "<div>\n",
       "<style scoped>\n",
       "    .dataframe tbody tr th:only-of-type {\n",
       "        vertical-align: middle;\n",
       "    }\n",
       "\n",
       "    .dataframe tbody tr th {\n",
       "        vertical-align: top;\n",
       "    }\n",
       "\n",
       "    .dataframe thead th {\n",
       "        text-align: right;\n",
       "    }\n",
       "</style>\n",
       "<table border=\"1\" class=\"dataframe\">\n",
       "  <thead>\n",
       "    <tr style=\"text-align: right;\">\n",
       "      <th></th>\n",
       "      <th>coef</th>\n",
       "      <th>cste</th>\n",
       "      <th>R2</th>\n",
       "      <th>RMSE</th>\n",
       "      <th>mae</th>\n",
       "    </tr>\n",
       "  </thead>\n",
       "  <tbody>\n",
       "    <tr>\n",
       "      <th>12</th>\n",
       "      <td>[-5739.103128353925]</td>\n",
       "      <td>-618.713242</td>\n",
       "      <td>0.274384</td>\n",
       "      <td>301.001139</td>\n",
       "      <td>241.885053</td>\n",
       "    </tr>\n",
       "  </tbody>\n",
       "</table>\n",
       "</div>"
      ],
      "text/plain": [
       "                    coef        cste        R2        RMSE         mae\n",
       "12  [-5739.103128353925] -618.713242  0.274384  301.001139  241.885053"
      ]
     },
     "execution_count": 108,
     "metadata": {},
     "output_type": "execute_result"
    }
   ],
   "source": [
    "# Define predictor and response variables\n",
    "coef_list = []\n",
    "cste_list = []\n",
    "R2_list = []\n",
    "mae_list = []\n",
    "RMSE_list = []\n",
    "\n",
    "for i in range(0, len(ndri_data)):\n",
    "    X = ndri_data[[\"NDRI\"]]\n",
    "    var_out = X.index.isin([i])\n",
    "    X = X.loc[~var_out]         # Leave one out\n",
    "    \n",
    "    y = ndri_data[\"Biomasse (kg/ha)\"][X.index] # same indices as X\n",
    "    \n",
    "    model_1 = LinearRegression().fit(X, y)\n",
    "    \n",
    "    coef = model_1.coef_\n",
    "    coef_list.append(coef)\n",
    "    \n",
    "    cste =  model_1.intercept_\n",
    "    cste_list.append(cste)\n",
    "    X = ndri_data[[\"NDRI\"]]\n",
    "    y = ndri_data[\"Biomasse (kg/ha)\"]   \n",
    "    R2 = r2_score(y.values, model_1.predict(X))\n",
    "    R2_list.append(R2)\n",
    "    RMSE = mean_squared_error(y.values, model_1.predict(X), squared=False)\n",
    "    RMSE_list.append(RMSE)\n",
    "    mae = mean_absolute_error(y.values, model_1.predict(X))\n",
    "    mae_list.append(mae)\n",
    "result_dic = {\"coef\" : coef_list, \"cste\": cste_list, \"R2\" : R2_list,\"RMSE\": RMSE_list, \"mae\": mae_list}    \n",
    "reg_results = pd.DataFrame(result_dic)\n",
    "reg_results.loc[reg_results.RMSE == reg_results.RMSE.min()]"
   ]
  },
  {
   "cell_type": "code",
   "execution_count": 63,
   "metadata": {},
   "outputs": [],
   "source": [
    "# Save the regression model\n",
    "#joblib.dump(model_1, \"./model 4/model_B24.pkl\") "
   ]
  },
  {
   "cell_type": "markdown",
   "metadata": {},
   "source": [
    "#### 5. Model 5:  X = [STI, NDTI]"
   ]
  },
  {
   "cell_type": "code",
   "execution_count": 109,
   "metadata": {},
   "outputs": [
    {
     "data": {
      "text/html": [
       "<div>\n",
       "<style scoped>\n",
       "    .dataframe tbody tr th:only-of-type {\n",
       "        vertical-align: middle;\n",
       "    }\n",
       "\n",
       "    .dataframe tbody tr th {\n",
       "        vertical-align: top;\n",
       "    }\n",
       "\n",
       "    .dataframe thead th {\n",
       "        text-align: right;\n",
       "    }\n",
       "</style>\n",
       "<table border=\"1\" class=\"dataframe\">\n",
       "  <thead>\n",
       "    <tr style=\"text-align: right;\">\n",
       "      <th></th>\n",
       "      <th>STI</th>\n",
       "      <th>NDTI</th>\n",
       "      <th>Biomasse (kg/ha)</th>\n",
       "    </tr>\n",
       "  </thead>\n",
       "  <tbody>\n",
       "    <tr>\n",
       "      <th>0</th>\n",
       "      <td>1.156114</td>\n",
       "      <td>0.072405</td>\n",
       "      <td>776.500</td>\n",
       "    </tr>\n",
       "    <tr>\n",
       "      <th>1</th>\n",
       "      <td>1.242927</td>\n",
       "      <td>0.108308</td>\n",
       "      <td>857.175</td>\n",
       "    </tr>\n",
       "  </tbody>\n",
       "</table>\n",
       "</div>"
      ],
      "text/plain": [
       "        STI      NDTI  Biomasse (kg/ha)\n",
       "0  1.156114  0.072405           776.500\n",
       "1  1.242927  0.108308           857.175"
      ]
     },
     "execution_count": 109,
     "metadata": {},
     "output_type": "execute_result"
    }
   ],
   "source": [
    "# Define input output data\n",
    "sti_ndti_data = data.iloc[:, [13,14,19]]\n",
    "sti_ndti_data.head(2)"
   ]
  },
  {
   "cell_type": "code",
   "execution_count": 110,
   "metadata": {},
   "outputs": [
    {
     "data": {
      "text/html": [
       "<div>\n",
       "<style scoped>\n",
       "    .dataframe tbody tr th:only-of-type {\n",
       "        vertical-align: middle;\n",
       "    }\n",
       "\n",
       "    .dataframe tbody tr th {\n",
       "        vertical-align: top;\n",
       "    }\n",
       "\n",
       "    .dataframe thead th {\n",
       "        text-align: right;\n",
       "    }\n",
       "</style>\n",
       "<table border=\"1\" class=\"dataframe\">\n",
       "  <thead>\n",
       "    <tr style=\"text-align: right;\">\n",
       "      <th></th>\n",
       "      <th>coef</th>\n",
       "      <th>cste</th>\n",
       "      <th>R2</th>\n",
       "      <th>RMSE</th>\n",
       "      <th>mae</th>\n",
       "    </tr>\n",
       "  </thead>\n",
       "  <tbody>\n",
       "    <tr>\n",
       "      <th>43</th>\n",
       "      <td>[-27840.20049085047, 78647.09613830117]</td>\n",
       "      <td>26807.421133</td>\n",
       "      <td>0.239391</td>\n",
       "      <td>298.103235</td>\n",
       "      <td>233.623815</td>\n",
       "    </tr>\n",
       "  </tbody>\n",
       "</table>\n",
       "</div>"
      ],
      "text/plain": [
       "                                       coef          cste        R2  \\\n",
       "43  [-27840.20049085047, 78647.09613830117]  26807.421133  0.239391   \n",
       "\n",
       "          RMSE         mae  \n",
       "43  298.103235  233.623815  "
      ]
     },
     "execution_count": 110,
     "metadata": {},
     "output_type": "execute_result"
    }
   ],
   "source": [
    "# Define predictor and response variables\n",
    "coef_list = []\n",
    "cste_list = []\n",
    "R2_list = []\n",
    "mae_list = []\n",
    "RMSE_list = []\n",
    "\n",
    "for i in range(0, len(sti_ndti_data)):\n",
    "    X = sti_ndti_data[[\"STI\", \"NDTI\"]]\n",
    "    var_out = X.index.isin([i])\n",
    "    X = X.loc[~var_out]         # Leave one out\n",
    "    \n",
    "    y = sti_ndti_data[\"Biomasse (kg/ha)\"][X.index] # same indices as X\n",
    "    \n",
    "    model_1 = LinearRegression().fit(X, y)\n",
    "    \n",
    "    coef = model_1.coef_\n",
    "    coef_list.append(coef)\n",
    "    \n",
    "    cste =  model_1.intercept_\n",
    "    cste_list.append(cste)\n",
    "        \n",
    "    R2 = r2_score(y.values, model_1.predict(X))\n",
    "    R2_list.append(R2)\n",
    "    RMSE = mean_squared_error(y.values, model_1.predict(X), squared=False)\n",
    "    RMSE_list.append(RMSE)\n",
    "\n",
    "    mae = mean_absolute_error(y.values, model_1.predict(X))\n",
    "    mae_list.append(mae)\n",
    "result_dic = {\"coef\" : coef_list, \"cste\": cste_list, \"R2\" : R2_list,\"RMSE\": RMSE_list, \"mae\": mae_list}    \n",
    "reg_results = pd.DataFrame(result_dic)\n",
    "reg_results.loc[reg_results.RMSE == reg_results.RMSE.min()]"
   ]
  },
  {
   "cell_type": "code",
   "execution_count": 66,
   "metadata": {},
   "outputs": [],
   "source": [
    "# Save the regression model\n",
    "#joblib.dump(model_1, \"./model 5/model_B24.pkl\") "
   ]
  },
  {
   "cell_type": "markdown",
   "metadata": {},
   "source": [
    "#### 6. Model 6:  X = [STI, DFI]"
   ]
  },
  {
   "cell_type": "code",
   "execution_count": 111,
   "metadata": {},
   "outputs": [
    {
     "data": {
      "text/html": [
       "<div>\n",
       "<style scoped>\n",
       "    .dataframe tbody tr th:only-of-type {\n",
       "        vertical-align: middle;\n",
       "    }\n",
       "\n",
       "    .dataframe tbody tr th {\n",
       "        vertical-align: top;\n",
       "    }\n",
       "\n",
       "    .dataframe thead th {\n",
       "        text-align: right;\n",
       "    }\n",
       "</style>\n",
       "<table border=\"1\" class=\"dataframe\">\n",
       "  <thead>\n",
       "    <tr style=\"text-align: right;\">\n",
       "      <th></th>\n",
       "      <th>STI</th>\n",
       "      <th>DFI</th>\n",
       "      <th>Biomasse (kg/ha)</th>\n",
       "    </tr>\n",
       "  </thead>\n",
       "  <tbody>\n",
       "    <tr>\n",
       "      <th>0</th>\n",
       "      <td>1.156114</td>\n",
       "      <td>9.959820</td>\n",
       "      <td>776.500</td>\n",
       "    </tr>\n",
       "    <tr>\n",
       "      <th>1</th>\n",
       "      <td>1.242927</td>\n",
       "      <td>13.581307</td>\n",
       "      <td>857.175</td>\n",
       "    </tr>\n",
       "  </tbody>\n",
       "</table>\n",
       "</div>"
      ],
      "text/plain": [
       "        STI        DFI  Biomasse (kg/ha)\n",
       "0  1.156114   9.959820           776.500\n",
       "1  1.242927  13.581307           857.175"
      ]
     },
     "execution_count": 111,
     "metadata": {},
     "output_type": "execute_result"
    }
   ],
   "source": [
    "# Define input output data\n",
    "sti_dfi_data = data.iloc[:, [13,15,19]]\n",
    "sti_dfi_data.head(2)"
   ]
  },
  {
   "cell_type": "code",
   "execution_count": 112,
   "metadata": {},
   "outputs": [
    {
     "data": {
      "text/html": [
       "<div>\n",
       "<style scoped>\n",
       "    .dataframe tbody tr th:only-of-type {\n",
       "        vertical-align: middle;\n",
       "    }\n",
       "\n",
       "    .dataframe tbody tr th {\n",
       "        vertical-align: top;\n",
       "    }\n",
       "\n",
       "    .dataframe thead th {\n",
       "        text-align: right;\n",
       "    }\n",
       "</style>\n",
       "<table border=\"1\" class=\"dataframe\">\n",
       "  <thead>\n",
       "    <tr style=\"text-align: right;\">\n",
       "      <th></th>\n",
       "      <th>coef</th>\n",
       "      <th>cste</th>\n",
       "      <th>R2</th>\n",
       "      <th>RMSE</th>\n",
       "      <th>mae</th>\n",
       "    </tr>\n",
       "  </thead>\n",
       "  <tbody>\n",
       "    <tr>\n",
       "      <th>46</th>\n",
       "      <td>[8562.581623672859, -191.11124597544452]</td>\n",
       "      <td>-7444.38599</td>\n",
       "      <td>0.454325</td>\n",
       "      <td>263.368001</td>\n",
       "      <td>204.526443</td>\n",
       "    </tr>\n",
       "  </tbody>\n",
       "</table>\n",
       "</div>"
      ],
      "text/plain": [
       "                                        coef        cste        R2  \\\n",
       "46  [8562.581623672859, -191.11124597544452] -7444.38599  0.454325   \n",
       "\n",
       "          RMSE         mae  \n",
       "46  263.368001  204.526443  "
      ]
     },
     "execution_count": 112,
     "metadata": {},
     "output_type": "execute_result"
    }
   ],
   "source": [
    "# Define predictor and response variables\n",
    "coef_list = []\n",
    "cste_list = []\n",
    "R2_list = []\n",
    "mae_list = []\n",
    "RMSE_list = []\n",
    "for i in range(0, len(sti_dfi_data)):\n",
    "    X = sti_dfi_data[[\"STI\", \"DFI\"]]\n",
    "    var_out = X.index.isin([i])\n",
    "    X = X.loc[~var_out]         # Leave one out\n",
    "    \n",
    "    y = sti_dfi_data[\"Biomasse (kg/ha)\"][X.index] # same indices as X\n",
    "    \n",
    "    model_1 = LinearRegression().fit(X, y)\n",
    "    \n",
    "    coef = model_1.coef_\n",
    "    coef_list.append(coef)\n",
    "    \n",
    "    cste =  model_1.intercept_\n",
    "    cste_list.append(cste)\n",
    "        \n",
    "    R2 = r2_score(y.values, model_1.predict(X))\n",
    "    R2_list.append(R2)\n",
    "    RMSE = mean_squared_error(y.values, model_1.predict(X), squared=False)\n",
    "    RMSE_list.append(RMSE)\n",
    "    mae = mean_absolute_error(y.values, model_1.predict(X))\n",
    "    mae_list.append(mae)\n",
    "result_dic = {\"coef\" : coef_list, \"cste\": cste_list, \"R2\" : R2_list,\"RMSE\": RMSE_list, \"mae\": mae_list}    \n",
    "reg_results = pd.DataFrame(result_dic)\n",
    "reg_results.loc[reg_results.RMSE == reg_results.RMSE.min()]"
   ]
  },
  {
   "cell_type": "code",
   "execution_count": 113,
   "metadata": {},
   "outputs": [],
   "source": [
    "model_1 = LinearRegression()\n",
    "model_1.coef_ = reg_results.coef.values[5]\n",
    "model_1.intercept_ = reg_results.cste.values[5]"
   ]
  },
  {
   "cell_type": "code",
   "execution_count": 114,
   "metadata": {},
   "outputs": [],
   "source": [
    "# Save the regression model\n",
    "#joblib.dump(model_1, \"./model 6/model_B24.pkl\") "
   ]
  },
  {
   "cell_type": "markdown",
   "metadata": {},
   "source": [
    "#### 7. Model 7:  X = [STI, NDRI]"
   ]
  },
  {
   "cell_type": "code",
   "execution_count": 115,
   "metadata": {},
   "outputs": [
    {
     "data": {
      "text/html": [
       "<div>\n",
       "<style scoped>\n",
       "    .dataframe tbody tr th:only-of-type {\n",
       "        vertical-align: middle;\n",
       "    }\n",
       "\n",
       "    .dataframe tbody tr th {\n",
       "        vertical-align: top;\n",
       "    }\n",
       "\n",
       "    .dataframe thead th {\n",
       "        text-align: right;\n",
       "    }\n",
       "</style>\n",
       "<table border=\"1\" class=\"dataframe\">\n",
       "  <thead>\n",
       "    <tr style=\"text-align: right;\">\n",
       "      <th></th>\n",
       "      <th>STI</th>\n",
       "      <th>NDRI</th>\n",
       "      <th>Biomasse (kg/ha)</th>\n",
       "    </tr>\n",
       "  </thead>\n",
       "  <tbody>\n",
       "    <tr>\n",
       "      <th>0</th>\n",
       "      <td>1.156114</td>\n",
       "      <td>-0.272779</td>\n",
       "      <td>776.500</td>\n",
       "    </tr>\n",
       "    <tr>\n",
       "      <th>1</th>\n",
       "      <td>1.242927</td>\n",
       "      <td>-0.197771</td>\n",
       "      <td>857.175</td>\n",
       "    </tr>\n",
       "  </tbody>\n",
       "</table>\n",
       "</div>"
      ],
      "text/plain": [
       "        STI      NDRI  Biomasse (kg/ha)\n",
       "0  1.156114 -0.272779           776.500\n",
       "1  1.242927 -0.197771           857.175"
      ]
     },
     "execution_count": 115,
     "metadata": {},
     "output_type": "execute_result"
    }
   ],
   "source": [
    "# Define input output data\n",
    "sti_ndri_data = data.iloc[:, [13,16,19]]\n",
    "sti_ndri_data.head(2)"
   ]
  },
  {
   "cell_type": "code",
   "execution_count": 116,
   "metadata": {},
   "outputs": [
    {
     "data": {
      "text/html": [
       "<div>\n",
       "<style scoped>\n",
       "    .dataframe tbody tr th:only-of-type {\n",
       "        vertical-align: middle;\n",
       "    }\n",
       "\n",
       "    .dataframe tbody tr th {\n",
       "        vertical-align: top;\n",
       "    }\n",
       "\n",
       "    .dataframe thead th {\n",
       "        text-align: right;\n",
       "    }\n",
       "</style>\n",
       "<table border=\"1\" class=\"dataframe\">\n",
       "  <thead>\n",
       "    <tr style=\"text-align: right;\">\n",
       "      <th></th>\n",
       "      <th>coef</th>\n",
       "      <th>cste</th>\n",
       "      <th>R2</th>\n",
       "      <th>RMSE</th>\n",
       "      <th>mae</th>\n",
       "    </tr>\n",
       "  </thead>\n",
       "  <tbody>\n",
       "    <tr>\n",
       "      <th>20</th>\n",
       "      <td>[2407.8544936919557, -5259.746025709622]</td>\n",
       "      <td>-3459.246861</td>\n",
       "      <td>0.411205</td>\n",
       "      <td>265.451849</td>\n",
       "      <td>212.691261</td>\n",
       "    </tr>\n",
       "  </tbody>\n",
       "</table>\n",
       "</div>"
      ],
      "text/plain": [
       "                                        coef         cste        R2  \\\n",
       "20  [2407.8544936919557, -5259.746025709622] -3459.246861  0.411205   \n",
       "\n",
       "          RMSE         mae  \n",
       "20  265.451849  212.691261  "
      ]
     },
     "execution_count": 116,
     "metadata": {},
     "output_type": "execute_result"
    }
   ],
   "source": [
    "# Define predictor and response variables\n",
    "coef_list = []\n",
    "cste_list = []\n",
    "R2_list = []\n",
    "mae_list = []\n",
    "RMSE_list = []\n",
    "\n",
    "for i in range(0, len(sti_ndri_data)):\n",
    "    X = sti_ndri_data[[\"STI\", \"NDRI\"]]\n",
    "    var_out = X.index.isin([i])\n",
    "    X = X.loc[~var_out]         # Leave one out\n",
    "    \n",
    "    y = sti_ndri_data[\"Biomasse (kg/ha)\"][X.index] # same indices as X\n",
    "    \n",
    "    model_1 = LinearRegression().fit(X, y)\n",
    "    \n",
    "    coef = model_1.coef_\n",
    "    coef_list.append(coef)\n",
    "    \n",
    "    cste =  model_1.intercept_\n",
    "    cste_list.append(cste)\n",
    "        \n",
    "    R2 = r2_score(y.values, model_1.predict(X))\n",
    "    R2_list.append(R2)\n",
    "    RMSE = mean_squared_error(y.values, model_1.predict(X), squared=False)\n",
    "    RMSE_list.append(RMSE)\n",
    "    mae = mean_absolute_error(y.values, model_1.predict(X))\n",
    "    mae_list.append(mae)\n",
    "result_dic = {\"coef\" : coef_list, \"cste\": cste_list, \"R2\" : R2_list,\"RMSE\": RMSE_list, \"mae\": mae_list}    \n",
    "reg_results = pd.DataFrame(result_dic)\n",
    "reg_results.loc[reg_results.RMSE == reg_results.RMSE.min()]"
   ]
  },
  {
   "cell_type": "code",
   "execution_count": 117,
   "metadata": {},
   "outputs": [],
   "source": [
    "model_1 = LinearRegression()\n",
    "model_1.coef_ = reg_results.coef.values[5]\n",
    "model_1.intercept_ = reg_results.cste.values[5]"
   ]
  },
  {
   "cell_type": "code",
   "execution_count": 120,
   "metadata": {},
   "outputs": [],
   "source": [
    "# Save the regression model\n",
    "#joblib.dump(model_1, \"./model 7/model_B24.pkl\")"
   ]
  },
  {
   "cell_type": "markdown",
   "metadata": {},
   "source": [
    "#### 8. Model 8:  X = [NDTI, DFI]"
   ]
  },
  {
   "cell_type": "code",
   "execution_count": 121,
   "metadata": {},
   "outputs": [
    {
     "data": {
      "text/html": [
       "<div>\n",
       "<style scoped>\n",
       "    .dataframe tbody tr th:only-of-type {\n",
       "        vertical-align: middle;\n",
       "    }\n",
       "\n",
       "    .dataframe tbody tr th {\n",
       "        vertical-align: top;\n",
       "    }\n",
       "\n",
       "    .dataframe thead th {\n",
       "        text-align: right;\n",
       "    }\n",
       "</style>\n",
       "<table border=\"1\" class=\"dataframe\">\n",
       "  <thead>\n",
       "    <tr style=\"text-align: right;\">\n",
       "      <th></th>\n",
       "      <th>NDTI</th>\n",
       "      <th>DFI</th>\n",
       "      <th>Biomasse (kg/ha)</th>\n",
       "    </tr>\n",
       "  </thead>\n",
       "  <tbody>\n",
       "    <tr>\n",
       "      <th>0</th>\n",
       "      <td>0.072405</td>\n",
       "      <td>9.959820</td>\n",
       "      <td>776.500</td>\n",
       "    </tr>\n",
       "    <tr>\n",
       "      <th>1</th>\n",
       "      <td>0.108308</td>\n",
       "      <td>13.581307</td>\n",
       "      <td>857.175</td>\n",
       "    </tr>\n",
       "  </tbody>\n",
       "</table>\n",
       "</div>"
      ],
      "text/plain": [
       "       NDTI        DFI  Biomasse (kg/ha)\n",
       "0  0.072405   9.959820           776.500\n",
       "1  0.108308  13.581307           857.175"
      ]
     },
     "execution_count": 121,
     "metadata": {},
     "output_type": "execute_result"
    }
   ],
   "source": [
    "# Define input output data\n",
    "ndti_dfi_data = data.iloc[:, [14,15,19]]\n",
    "ndti_dfi_data.head(2)"
   ]
  },
  {
   "cell_type": "code",
   "execution_count": 122,
   "metadata": {},
   "outputs": [
    {
     "data": {
      "text/html": [
       "<div>\n",
       "<style scoped>\n",
       "    .dataframe tbody tr th:only-of-type {\n",
       "        vertical-align: middle;\n",
       "    }\n",
       "\n",
       "    .dataframe tbody tr th {\n",
       "        vertical-align: top;\n",
       "    }\n",
       "\n",
       "    .dataframe thead th {\n",
       "        text-align: right;\n",
       "    }\n",
       "</style>\n",
       "<table border=\"1\" class=\"dataframe\">\n",
       "  <thead>\n",
       "    <tr style=\"text-align: right;\">\n",
       "      <th></th>\n",
       "      <th>coef</th>\n",
       "      <th>cste</th>\n",
       "      <th>R2</th>\n",
       "      <th>RMSE</th>\n",
       "      <th>mae</th>\n",
       "    </tr>\n",
       "  </thead>\n",
       "  <tbody>\n",
       "    <tr>\n",
       "      <th>46</th>\n",
       "      <td>[21584.83680923437, -193.45640752969436]</td>\n",
       "      <td>900.356115</td>\n",
       "      <td>0.46129</td>\n",
       "      <td>261.681946</td>\n",
       "      <td>202.707061</td>\n",
       "    </tr>\n",
       "  </tbody>\n",
       "</table>\n",
       "</div>"
      ],
      "text/plain": [
       "                                        coef        cste       R2        RMSE  \\\n",
       "46  [21584.83680923437, -193.45640752969436]  900.356115  0.46129  261.681946   \n",
       "\n",
       "           mae  \n",
       "46  202.707061  "
      ]
     },
     "execution_count": 122,
     "metadata": {},
     "output_type": "execute_result"
    }
   ],
   "source": [
    "# Define predictor and response variables\n",
    "coef_list = []\n",
    "cste_list = []\n",
    "R2_list = []\n",
    "mae_list = []\n",
    "RMSE_list = []\n",
    "\n",
    "for i in range(0, len(ndti_dfi_data)):\n",
    "    X = ndti_dfi_data[[\"NDTI\", \"DFI\"]]\n",
    "    var_out = X.index.isin([i])\n",
    "    X = X.loc[~var_out]         # Leave one out\n",
    "    \n",
    "    y = ndti_dfi_data[\"Biomasse (kg/ha)\"][X.index] # same indices as X\n",
    "    \n",
    "    model_1 = LinearRegression().fit(X, y)\n",
    "    \n",
    "    coef = model_1.coef_\n",
    "    coef_list.append(coef)\n",
    "    \n",
    "    cste =  model_1.intercept_\n",
    "    cste_list.append(cste)\n",
    "        \n",
    "    R2 = r2_score(y.values, model_1.predict(X))\n",
    "    R2_list.append(R2)\n",
    "    RMSE = mean_squared_error(y.values, model_1.predict(X), squared=False)\n",
    "    RMSE_list.append(RMSE)\n",
    "    mae = mean_absolute_error(y.values, model_1.predict(X))\n",
    "    mae_list.append(mae)\n",
    "result_dic = {\"coef\" : coef_list, \"cste\": cste_list, \"R2\" : R2_list,\"RMSE\": RMSE_list, \"mae\": mae_list}    \n",
    "reg_results = pd.DataFrame(result_dic)\n",
    "reg_results.loc[reg_results.RMSE == reg_results.RMSE.min()]    "
   ]
  },
  {
   "cell_type": "markdown",
   "metadata": {
    "tags": []
   },
   "source": [
    "### Plot the results"
   ]
  },
  {
   "cell_type": "code",
   "execution_count": null,
   "metadata": {},
   "outputs": [],
   "source": [
    "X = sti_ndti_dfi_ndri_data[[\"NDTI\", \"DFI\"]]\n",
    "y = sti_ndti_dfi_ndri_data[\"Biomasse (kg/ha)\"]\n",
    "y_predicted = (model_1.predict(X))"
   ]
  },
  {
   "cell_type": "code",
   "execution_count": null,
   "metadata": {},
   "outputs": [],
   "source": [
    "fig, ax = plt.subplots(1, 1, figsize = (4,2.2))\n",
    "ax.plot(np.arange(1, 28, 1), y, lw = .9, label = \"Observed dry biomass\")\n",
    "ax.plot(np.arange(1, 28, 1), y_predicted, lw = .9, label = \"Estimated dry biomass\")\n",
    "\n",
    "ax.set_xticks(np.arange(1, 28, 2))\n",
    "ax.set_yticks(np.arange(0, 15000, 2000))\n",
    "ax.set_ylabel(\"Biomasse (kg/ha)\", fontsize = 7)\n",
    "ax.set_xlabel(\"Index\",  fontsize = 7)\n",
    "ax.tick_params(axis='both', which='major', labelsize=8)\n",
    "ax.legend(fontsize = 7)\n",
    "ax.set_title(\"Fallow \\n Model 8\", fontsize = 8, fontweight = \"bold\", x = 0.55, y = .45)\n",
    "ax.grid(\"both\", alpha = 0.2)\n",
    "plt.tight_layout()\n",
    "plt.savefig(\"./model_8_jachere.png\", dpi = 600)\n"
   ]
  },
  {
   "cell_type": "code",
   "execution_count": null,
   "metadata": {},
   "outputs": [],
   "source": [
    "# Save the regression model\n",
    "#joblib.dump(model_1, \"./model 8/model_B24.pkl\") "
   ]
  },
  {
   "cell_type": "markdown",
   "metadata": {},
   "source": [
    "#### 9. Model 9:  X = [NDTI, NDRI]"
   ]
  },
  {
   "cell_type": "code",
   "execution_count": 82,
   "metadata": {},
   "outputs": [
    {
     "data": {
      "text/html": [
       "<div>\n",
       "<style scoped>\n",
       "    .dataframe tbody tr th:only-of-type {\n",
       "        vertical-align: middle;\n",
       "    }\n",
       "\n",
       "    .dataframe tbody tr th {\n",
       "        vertical-align: top;\n",
       "    }\n",
       "\n",
       "    .dataframe thead th {\n",
       "        text-align: right;\n",
       "    }\n",
       "</style>\n",
       "<table border=\"1\" class=\"dataframe\">\n",
       "  <thead>\n",
       "    <tr style=\"text-align: right;\">\n",
       "      <th></th>\n",
       "      <th>NDTI</th>\n",
       "      <th>NDRI</th>\n",
       "      <th>Biomasse (kg/ha)</th>\n",
       "    </tr>\n",
       "  </thead>\n",
       "  <tbody>\n",
       "    <tr>\n",
       "      <th>0</th>\n",
       "      <td>0.072405</td>\n",
       "      <td>-0.272779</td>\n",
       "      <td>776.500</td>\n",
       "    </tr>\n",
       "    <tr>\n",
       "      <th>1</th>\n",
       "      <td>0.108308</td>\n",
       "      <td>-0.197771</td>\n",
       "      <td>857.175</td>\n",
       "    </tr>\n",
       "  </tbody>\n",
       "</table>\n",
       "</div>"
      ],
      "text/plain": [
       "       NDTI      NDRI  Biomasse (kg/ha)\n",
       "0  0.072405 -0.272779           776.500\n",
       "1  0.108308 -0.197771           857.175"
      ]
     },
     "execution_count": 82,
     "metadata": {},
     "output_type": "execute_result"
    }
   ],
   "source": [
    "# Define input output data\n",
    "ndti_ndri_data = data.iloc[:, [14,16,19]]\n",
    "ndti_ndri_data.head(2)"
   ]
  },
  {
   "cell_type": "code",
   "execution_count": 83,
   "metadata": {},
   "outputs": [
    {
     "data": {
      "text/html": [
       "<div>\n",
       "<style scoped>\n",
       "    .dataframe tbody tr th:only-of-type {\n",
       "        vertical-align: middle;\n",
       "    }\n",
       "\n",
       "    .dataframe tbody tr th {\n",
       "        vertical-align: top;\n",
       "    }\n",
       "\n",
       "    .dataframe thead th {\n",
       "        text-align: right;\n",
       "    }\n",
       "</style>\n",
       "<table border=\"1\" class=\"dataframe\">\n",
       "  <thead>\n",
       "    <tr style=\"text-align: right;\">\n",
       "      <th></th>\n",
       "      <th>coef</th>\n",
       "      <th>cste</th>\n",
       "      <th>R2</th>\n",
       "      <th>RMSE</th>\n",
       "      <th>mae</th>\n",
       "    </tr>\n",
       "  </thead>\n",
       "  <tbody>\n",
       "    <tr>\n",
       "      <th>20</th>\n",
       "      <td>[6043.593997443177, -5260.075968452425]</td>\n",
       "      <td>-1118.269202</td>\n",
       "      <td>0.412426</td>\n",
       "      <td>265.176485</td>\n",
       "      <td>212.551114</td>\n",
       "    </tr>\n",
       "  </tbody>\n",
       "</table>\n",
       "</div>"
      ],
      "text/plain": [
       "                                       coef         cste        R2  \\\n",
       "20  [6043.593997443177, -5260.075968452425] -1118.269202  0.412426   \n",
       "\n",
       "          RMSE         mae  \n",
       "20  265.176485  212.551114  "
      ]
     },
     "execution_count": 83,
     "metadata": {},
     "output_type": "execute_result"
    }
   ],
   "source": [
    "# Define predictor and response variables\n",
    "coef_list = []\n",
    "cste_list = []\n",
    "R2_list = []\n",
    "mae_list = []\n",
    "RMSE_list = []\n",
    "\n",
    "for i in range(0, len(ndti_ndri_data)):\n",
    "    X = ndti_ndri_data[[\"NDTI\", \"NDRI\"]]\n",
    "    var_out = X.index.isin([i])\n",
    "    X = X.loc[~var_out]         # Leave one out\n",
    "    \n",
    "    y = ndti_ndri_data[\"Biomasse (kg/ha)\"][X.index] # same indices as X\n",
    "    \n",
    "    model_1 = LinearRegression().fit(X, y)\n",
    "    \n",
    "    coef = model_1.coef_\n",
    "    coef_list.append(coef)\n",
    "    \n",
    "    cste =  model_1.intercept_\n",
    "    cste_list.append(cste)\n",
    "        \n",
    "    R2 = r2_score(y.values, model_1.predict(X))\n",
    "    R2_list.append(R2)\n",
    "    RMSE = mean_squared_error(y.values, model_1.predict(X), squared=False)\n",
    "    RMSE_list.append(RMSE)\n",
    "    mae = mean_absolute_error(y.values, model_1.predict(X))\n",
    "    mae_list.append(mae)\n",
    "result_dic = {\"coef\" : coef_list, \"cste\": cste_list, \"R2\" : R2_list,\"RMSE\": RMSE_list, \"mae\": mae_list}    \n",
    "reg_results = pd.DataFrame(result_dic)\n",
    "reg_results.loc[reg_results.RMSE == reg_results.RMSE.min()]    "
   ]
  },
  {
   "cell_type": "code",
   "execution_count": null,
   "metadata": {},
   "outputs": [],
   "source": [
    "model_1 = LinearRegression()\n",
    "model_1.coef_ = reg_results.coef.values[4]\n",
    "model_1.intercept_ = reg_results.cste.values[4]"
   ]
  },
  {
   "cell_type": "code",
   "execution_count": null,
   "metadata": {},
   "outputs": [],
   "source": [
    "# Save the regression model\n",
    "#joblib.dump(model_1, \"./model 9/model_B24.pkl\") "
   ]
  },
  {
   "cell_type": "markdown",
   "metadata": {},
   "source": [
    "#### 10. Model 10:  X = [DFI, NDRI]"
   ]
  },
  {
   "cell_type": "code",
   "execution_count": 84,
   "metadata": {},
   "outputs": [
    {
     "data": {
      "text/html": [
       "<div>\n",
       "<style scoped>\n",
       "    .dataframe tbody tr th:only-of-type {\n",
       "        vertical-align: middle;\n",
       "    }\n",
       "\n",
       "    .dataframe tbody tr th {\n",
       "        vertical-align: top;\n",
       "    }\n",
       "\n",
       "    .dataframe thead th {\n",
       "        text-align: right;\n",
       "    }\n",
       "</style>\n",
       "<table border=\"1\" class=\"dataframe\">\n",
       "  <thead>\n",
       "    <tr style=\"text-align: right;\">\n",
       "      <th></th>\n",
       "      <th>DFI</th>\n",
       "      <th>NDRI</th>\n",
       "      <th>Biomasse (kg/ha)</th>\n",
       "    </tr>\n",
       "  </thead>\n",
       "  <tbody>\n",
       "    <tr>\n",
       "      <th>0</th>\n",
       "      <td>9.959820</td>\n",
       "      <td>-0.272779</td>\n",
       "      <td>776.500</td>\n",
       "    </tr>\n",
       "    <tr>\n",
       "      <th>1</th>\n",
       "      <td>13.581307</td>\n",
       "      <td>-0.197771</td>\n",
       "      <td>857.175</td>\n",
       "    </tr>\n",
       "  </tbody>\n",
       "</table>\n",
       "</div>"
      ],
      "text/plain": [
       "         DFI      NDRI  Biomasse (kg/ha)\n",
       "0   9.959820 -0.272779           776.500\n",
       "1  13.581307 -0.197771           857.175"
      ]
     },
     "execution_count": 84,
     "metadata": {},
     "output_type": "execute_result"
    }
   ],
   "source": [
    "# Define input output data\n",
    "dfi_ndri_data = data.iloc[:, [15,16,19]]\n",
    "dfi_ndri_data.head(2)"
   ]
  },
  {
   "cell_type": "code",
   "execution_count": 85,
   "metadata": {},
   "outputs": [
    {
     "data": {
      "text/html": [
       "<div>\n",
       "<style scoped>\n",
       "    .dataframe tbody tr th:only-of-type {\n",
       "        vertical-align: middle;\n",
       "    }\n",
       "\n",
       "    .dataframe tbody tr th {\n",
       "        vertical-align: top;\n",
       "    }\n",
       "\n",
       "    .dataframe thead th {\n",
       "        text-align: right;\n",
       "    }\n",
       "</style>\n",
       "<table border=\"1\" class=\"dataframe\">\n",
       "  <thead>\n",
       "    <tr style=\"text-align: right;\">\n",
       "      <th></th>\n",
       "      <th>coef</th>\n",
       "      <th>cste</th>\n",
       "      <th>R2</th>\n",
       "      <th>RMSE</th>\n",
       "      <th>mae</th>\n",
       "    </tr>\n",
       "  </thead>\n",
       "  <tbody>\n",
       "    <tr>\n",
       "      <th>6</th>\n",
       "      <td>[35.964623941416605, -6910.628735309307]</td>\n",
       "      <td>-1325.830535</td>\n",
       "      <td>0.36148</td>\n",
       "      <td>278.458967</td>\n",
       "      <td>225.697106</td>\n",
       "    </tr>\n",
       "  </tbody>\n",
       "</table>\n",
       "</div>"
      ],
      "text/plain": [
       "                                       coef         cste       R2        RMSE  \\\n",
       "6  [35.964623941416605, -6910.628735309307] -1325.830535  0.36148  278.458967   \n",
       "\n",
       "          mae  \n",
       "6  225.697106  "
      ]
     },
     "execution_count": 85,
     "metadata": {},
     "output_type": "execute_result"
    }
   ],
   "source": [
    "# Define predictor and response variables\n",
    "coef_list = []\n",
    "cste_list = []\n",
    "R2_list = []\n",
    "mae_list = []\n",
    "RMSE_list = []\n",
    "\n",
    "for i in range(0, len(dfi_ndri_data)):\n",
    "    X = dfi_ndri_data[[\"DFI\", \"NDRI\"]]\n",
    "    var_out = X.index.isin([i])\n",
    "    X = X.loc[~var_out]         # Leave one out\n",
    "    \n",
    "    y = dfi_ndri_data[\"Biomasse (kg/ha)\"][X.index] # same indices as X\n",
    "    \n",
    "    model_1 = LinearRegression().fit(X, y)\n",
    "    \n",
    "    coef = model_1.coef_\n",
    "    coef_list.append(coef)\n",
    "    \n",
    "    cste =  model_1.intercept_\n",
    "    cste_list.append(cste)\n",
    "        \n",
    "    R2 = r2_score(y.values, model_1.predict(X))\n",
    "    R2_list.append(R2)\n",
    "    RMSE = mean_squared_error(y.values, model_1.predict(X), squared=False)\n",
    "    RMSE_list.append(RMSE)\n",
    "    mae = mean_absolute_error(y.values, model_1.predict(X))\n",
    "    mae_list.append(mae)\n",
    "result_dic = {\"coef\" : coef_list, \"cste\": cste_list, \"R2\" : R2_list,\"RMSE\": RMSE_list, \"mae\": mae_list}    \n",
    "reg_results = pd.DataFrame(result_dic)\n",
    "reg_results.loc[reg_results.RMSE == reg_results.RMSE.min()]       "
   ]
  },
  {
   "cell_type": "code",
   "execution_count": null,
   "metadata": {},
   "outputs": [],
   "source": [
    "model_1 = LinearRegression()\n",
    "model_1.coef_ = reg_results.coef.values[4]\n",
    "model_1.intercept_ = reg_results.cste.values[4]"
   ]
  },
  {
   "cell_type": "code",
   "execution_count": null,
   "metadata": {},
   "outputs": [],
   "source": [
    "# Save the regression model\n",
    "#joblib.dump(model_1, \"./model 10/model_B24.pkl\") "
   ]
  },
  {
   "cell_type": "markdown",
   "metadata": {},
   "source": [
    "#### 11. Model 11:  X = [STI, NDTI, DFI]"
   ]
  },
  {
   "cell_type": "code",
   "execution_count": 86,
   "metadata": {},
   "outputs": [
    {
     "data": {
      "text/html": [
       "<div>\n",
       "<style scoped>\n",
       "    .dataframe tbody tr th:only-of-type {\n",
       "        vertical-align: middle;\n",
       "    }\n",
       "\n",
       "    .dataframe tbody tr th {\n",
       "        vertical-align: top;\n",
       "    }\n",
       "\n",
       "    .dataframe thead th {\n",
       "        text-align: right;\n",
       "    }\n",
       "</style>\n",
       "<table border=\"1\" class=\"dataframe\">\n",
       "  <thead>\n",
       "    <tr style=\"text-align: right;\">\n",
       "      <th></th>\n",
       "      <th>STI</th>\n",
       "      <th>NDTI</th>\n",
       "      <th>DFI</th>\n",
       "      <th>Biomasse (kg/ha)</th>\n",
       "    </tr>\n",
       "  </thead>\n",
       "  <tbody>\n",
       "    <tr>\n",
       "      <th>0</th>\n",
       "      <td>1.156114</td>\n",
       "      <td>0.072405</td>\n",
       "      <td>9.959820</td>\n",
       "      <td>776.500</td>\n",
       "    </tr>\n",
       "    <tr>\n",
       "      <th>1</th>\n",
       "      <td>1.242927</td>\n",
       "      <td>0.108308</td>\n",
       "      <td>13.581307</td>\n",
       "      <td>857.175</td>\n",
       "    </tr>\n",
       "  </tbody>\n",
       "</table>\n",
       "</div>"
      ],
      "text/plain": [
       "        STI      NDTI        DFI  Biomasse (kg/ha)\n",
       "0  1.156114  0.072405   9.959820           776.500\n",
       "1  1.242927  0.108308  13.581307           857.175"
      ]
     },
     "execution_count": 86,
     "metadata": {},
     "output_type": "execute_result"
    }
   ],
   "source": [
    "# Define input output data\n",
    "sti_ndti_dfi_data = data.iloc[:, [13, 14, 15,19]]\n",
    "sti_ndti_dfi_data.head(2)"
   ]
  },
  {
   "cell_type": "code",
   "execution_count": 87,
   "metadata": {},
   "outputs": [
    {
     "data": {
      "text/html": [
       "<div>\n",
       "<style scoped>\n",
       "    .dataframe tbody tr th:only-of-type {\n",
       "        vertical-align: middle;\n",
       "    }\n",
       "\n",
       "    .dataframe tbody tr th {\n",
       "        vertical-align: top;\n",
       "    }\n",
       "\n",
       "    .dataframe thead th {\n",
       "        text-align: right;\n",
       "    }\n",
       "</style>\n",
       "<table border=\"1\" class=\"dataframe\">\n",
       "  <thead>\n",
       "    <tr style=\"text-align: right;\">\n",
       "      <th></th>\n",
       "      <th>coef</th>\n",
       "      <th>cste</th>\n",
       "      <th>R2</th>\n",
       "      <th>RMSE</th>\n",
       "      <th>mae</th>\n",
       "    </tr>\n",
       "  </thead>\n",
       "  <tbody>\n",
       "    <tr>\n",
       "      <th>46</th>\n",
       "      <td>[-34266.41820026823, 107236.53725259977, -196....</td>\n",
       "      <td>34287.560039</td>\n",
       "      <td>0.473619</td>\n",
       "      <td>258.670101</td>\n",
       "      <td>197.535691</td>\n",
       "    </tr>\n",
       "  </tbody>\n",
       "</table>\n",
       "</div>"
      ],
      "text/plain": [
       "                                                 coef          cste        R2  \\\n",
       "46  [-34266.41820026823, 107236.53725259977, -196....  34287.560039  0.473619   \n",
       "\n",
       "          RMSE         mae  \n",
       "46  258.670101  197.535691  "
      ]
     },
     "execution_count": 87,
     "metadata": {},
     "output_type": "execute_result"
    }
   ],
   "source": [
    "# Define predictor and response variables\n",
    "coef_list = []\n",
    "cste_list = []\n",
    "R2_list = []\n",
    "mae_list = []\n",
    "RMSE_list = []\n",
    "\n",
    "for i in range(0, len(sti_ndti_dfi_data)):\n",
    "    X = sti_ndti_dfi_data[[\"STI\", \"NDTI\", \"DFI\"]]\n",
    "    var_out = X.index.isin([i])\n",
    "    X = X.loc[~var_out]         # Leave one out\n",
    "    \n",
    "    y = sti_ndti_dfi_data[\"Biomasse (kg/ha)\"][X.index] # same indices as X\n",
    "    \n",
    "    model_1 = LinearRegression().fit(X, y)\n",
    "    \n",
    "    coef = model_1.coef_\n",
    "    coef_list.append(coef)\n",
    "    \n",
    "    cste =  model_1.intercept_\n",
    "    cste_list.append(cste)\n",
    "        \n",
    "    R2 = r2_score(y.values, model_1.predict(X))\n",
    "    R2_list.append(R2)\n",
    "    RMSE = mean_squared_error(y.values, model_1.predict(X), squared=False)\n",
    "    RMSE_list.append(RMSE)\n",
    "    mae = mean_absolute_error(y.values, model_1.predict(X))\n",
    "    mae_list.append(mae)\n",
    "result_dic = {\"coef\" : coef_list, \"cste\": cste_list, \"R2\" : R2_list,\"RMSE\": RMSE_list, \"mae\": mae_list}    \n",
    "reg_results = pd.DataFrame(result_dic)\n",
    "reg_results.loc[reg_results.RMSE == reg_results.RMSE.min()]       "
   ]
  },
  {
   "cell_type": "code",
   "execution_count": null,
   "metadata": {},
   "outputs": [],
   "source": [
    "reg_results.coef.values[5]"
   ]
  },
  {
   "cell_type": "code",
   "execution_count": null,
   "metadata": {},
   "outputs": [],
   "source": [
    "# Save the regression model\n",
    "#joblib.dump(model_1, \"./model 11/model_B24.pkl\") "
   ]
  },
  {
   "cell_type": "markdown",
   "metadata": {},
   "source": [
    "#### 12. Model 12:  X = [STI, NDTI, NDRI]"
   ]
  },
  {
   "cell_type": "code",
   "execution_count": 90,
   "metadata": {},
   "outputs": [
    {
     "data": {
      "text/html": [
       "<div>\n",
       "<style scoped>\n",
       "    .dataframe tbody tr th:only-of-type {\n",
       "        vertical-align: middle;\n",
       "    }\n",
       "\n",
       "    .dataframe tbody tr th {\n",
       "        vertical-align: top;\n",
       "    }\n",
       "\n",
       "    .dataframe thead th {\n",
       "        text-align: right;\n",
       "    }\n",
       "</style>\n",
       "<table border=\"1\" class=\"dataframe\">\n",
       "  <thead>\n",
       "    <tr style=\"text-align: right;\">\n",
       "      <th></th>\n",
       "      <th>STI</th>\n",
       "      <th>NDTI</th>\n",
       "      <th>NDRI</th>\n",
       "      <th>Biomasse (kg/ha)</th>\n",
       "    </tr>\n",
       "  </thead>\n",
       "  <tbody>\n",
       "    <tr>\n",
       "      <th>0</th>\n",
       "      <td>1.156114</td>\n",
       "      <td>0.072405</td>\n",
       "      <td>-0.272779</td>\n",
       "      <td>776.500</td>\n",
       "    </tr>\n",
       "    <tr>\n",
       "      <th>1</th>\n",
       "      <td>1.242927</td>\n",
       "      <td>0.108308</td>\n",
       "      <td>-0.197771</td>\n",
       "      <td>857.175</td>\n",
       "    </tr>\n",
       "  </tbody>\n",
       "</table>\n",
       "</div>"
      ],
      "text/plain": [
       "        STI      NDTI      NDRI  Biomasse (kg/ha)\n",
       "0  1.156114  0.072405 -0.272779           776.500\n",
       "1  1.242927  0.108308 -0.197771           857.175"
      ]
     },
     "execution_count": 90,
     "metadata": {},
     "output_type": "execute_result"
    }
   ],
   "source": [
    "# Define input output data\n",
    "sti_ndti_ndri_data = data.iloc[:, [13, 14, 16,19]]\n",
    "sti_ndti_ndri_data.head(2)"
   ]
  },
  {
   "cell_type": "code",
   "execution_count": 91,
   "metadata": {},
   "outputs": [
    {
     "data": {
      "text/html": [
       "<div>\n",
       "<style scoped>\n",
       "    .dataframe tbody tr th:only-of-type {\n",
       "        vertical-align: middle;\n",
       "    }\n",
       "\n",
       "    .dataframe tbody tr th {\n",
       "        vertical-align: top;\n",
       "    }\n",
       "\n",
       "    .dataframe thead th {\n",
       "        text-align: right;\n",
       "    }\n",
       "</style>\n",
       "<table border=\"1\" class=\"dataframe\">\n",
       "  <thead>\n",
       "    <tr style=\"text-align: right;\">\n",
       "      <th></th>\n",
       "      <th>coef</th>\n",
       "      <th>cste</th>\n",
       "      <th>R2</th>\n",
       "      <th>RMSE</th>\n",
       "      <th>mae</th>\n",
       "    </tr>\n",
       "  </thead>\n",
       "  <tbody>\n",
       "    <tr>\n",
       "      <th>20</th>\n",
       "      <td>[-21744.082979406143, 60243.91253243561, -5310...</td>\n",
       "      <td>20048.357655</td>\n",
       "      <td>0.41763</td>\n",
       "      <td>263.999447</td>\n",
       "      <td>211.567457</td>\n",
       "    </tr>\n",
       "  </tbody>\n",
       "</table>\n",
       "</div>"
      ],
      "text/plain": [
       "                                                 coef          cste       R2  \\\n",
       "20  [-21744.082979406143, 60243.91253243561, -5310...  20048.357655  0.41763   \n",
       "\n",
       "          RMSE         mae  \n",
       "20  263.999447  211.567457  "
      ]
     },
     "execution_count": 91,
     "metadata": {},
     "output_type": "execute_result"
    }
   ],
   "source": [
    "# Define predictor and response variables\n",
    "coef_list = []\n",
    "cste_list = []\n",
    "R2_list = []\n",
    "mae_list = []\n",
    "RMSE_list = []\n",
    "\n",
    "for i in range(0, len(sti_ndti_ndri_data)):\n",
    "    X = sti_ndti_ndri_data[[\"STI\",\"NDTI\", \"NDRI\"]]\n",
    "    var_out = X.index.isin([i])\n",
    "    X = X.loc[~var_out]         # Leave one out\n",
    "    \n",
    "    y = sti_ndti_ndri_data[\"Biomasse (kg/ha)\"][X.index] # same indices as X\n",
    "    \n",
    "    model_1 = LinearRegression().fit(X, y)\n",
    "    \n",
    "    coef = model_1.coef_\n",
    "    coef_list.append(coef)\n",
    "    \n",
    "    cste =  model_1.intercept_\n",
    "    cste_list.append(cste)\n",
    "        \n",
    "    R2 = r2_score(y.values, model_1.predict(X))\n",
    "    R2_list.append(R2)\n",
    "    RMSE = mean_squared_error(y.values, model_1.predict(X), squared=False)\n",
    "    RMSE_list.append(RMSE)\n",
    "    mae = mean_absolute_error(y.values, model_1.predict(X))\n",
    "    mae_list.append(mae)\n",
    "result_dic = {\"coef\" : coef_list, \"cste\": cste_list, \"R2\" : R2_list,\"RMSE\": RMSE_list, \"mae\": mae_list}    \n",
    "reg_results = pd.DataFrame(result_dic)\n",
    "reg_results.loc[reg_results.RMSE == reg_results.RMSE.min()]          "
   ]
  },
  {
   "cell_type": "code",
   "execution_count": null,
   "metadata": {},
   "outputs": [],
   "source": [
    "# Save the regression model\n",
    "#joblib.dump(model_1, \"./model 12/model_B24.pkl\") "
   ]
  },
  {
   "cell_type": "markdown",
   "metadata": {},
   "source": [
    "#### 13. Model 13:  X = [STI, DFI, NDRI]"
   ]
  },
  {
   "cell_type": "code",
   "execution_count": 92,
   "metadata": {},
   "outputs": [
    {
     "data": {
      "text/html": [
       "<div>\n",
       "<style scoped>\n",
       "    .dataframe tbody tr th:only-of-type {\n",
       "        vertical-align: middle;\n",
       "    }\n",
       "\n",
       "    .dataframe tbody tr th {\n",
       "        vertical-align: top;\n",
       "    }\n",
       "\n",
       "    .dataframe thead th {\n",
       "        text-align: right;\n",
       "    }\n",
       "</style>\n",
       "<table border=\"1\" class=\"dataframe\">\n",
       "  <thead>\n",
       "    <tr style=\"text-align: right;\">\n",
       "      <th></th>\n",
       "      <th>STI</th>\n",
       "      <th>DFI</th>\n",
       "      <th>NDRI</th>\n",
       "      <th>Biomasse (kg/ha)</th>\n",
       "    </tr>\n",
       "  </thead>\n",
       "  <tbody>\n",
       "    <tr>\n",
       "      <th>0</th>\n",
       "      <td>1.156114</td>\n",
       "      <td>9.959820</td>\n",
       "      <td>-0.272779</td>\n",
       "      <td>776.500</td>\n",
       "    </tr>\n",
       "    <tr>\n",
       "      <th>1</th>\n",
       "      <td>1.242927</td>\n",
       "      <td>13.581307</td>\n",
       "      <td>-0.197771</td>\n",
       "      <td>857.175</td>\n",
       "    </tr>\n",
       "  </tbody>\n",
       "</table>\n",
       "</div>"
      ],
      "text/plain": [
       "        STI        DFI      NDRI  Biomasse (kg/ha)\n",
       "0  1.156114   9.959820 -0.272779           776.500\n",
       "1  1.242927  13.581307 -0.197771           857.175"
      ]
     },
     "execution_count": 92,
     "metadata": {},
     "output_type": "execute_result"
    }
   ],
   "source": [
    "# Define input output data\n",
    "sti_dfi_ndri_data = data.iloc[:, [13, 15, 16,19]]\n",
    "sti_dfi_ndri_data.head(2)"
   ]
  },
  {
   "cell_type": "code",
   "execution_count": 93,
   "metadata": {},
   "outputs": [
    {
     "data": {
      "text/html": [
       "<div>\n",
       "<style scoped>\n",
       "    .dataframe tbody tr th:only-of-type {\n",
       "        vertical-align: middle;\n",
       "    }\n",
       "\n",
       "    .dataframe tbody tr th {\n",
       "        vertical-align: top;\n",
       "    }\n",
       "\n",
       "    .dataframe thead th {\n",
       "        text-align: right;\n",
       "    }\n",
       "</style>\n",
       "<table border=\"1\" class=\"dataframe\">\n",
       "  <thead>\n",
       "    <tr style=\"text-align: right;\">\n",
       "      <th></th>\n",
       "      <th>coef</th>\n",
       "      <th>cste</th>\n",
       "      <th>R2</th>\n",
       "      <th>RMSE</th>\n",
       "      <th>mae</th>\n",
       "    </tr>\n",
       "  </thead>\n",
       "  <tbody>\n",
       "    <tr>\n",
       "      <th>46</th>\n",
       "      <td>[6932.192265571606, -141.8426811053334, -2405....</td>\n",
       "      <td>-6581.242688</td>\n",
       "      <td>0.477543</td>\n",
       "      <td>257.704228</td>\n",
       "      <td>200.147785</td>\n",
       "    </tr>\n",
       "  </tbody>\n",
       "</table>\n",
       "</div>"
      ],
      "text/plain": [
       "                                                 coef         cste        R2  \\\n",
       "46  [6932.192265571606, -141.8426811053334, -2405.... -6581.242688  0.477543   \n",
       "\n",
       "          RMSE         mae  \n",
       "46  257.704228  200.147785  "
      ]
     },
     "execution_count": 93,
     "metadata": {},
     "output_type": "execute_result"
    }
   ],
   "source": [
    "# Define predictor and response variables\n",
    "coef_list = []\n",
    "cste_list = []\n",
    "R2_list = []\n",
    "mae_list = []\n",
    "RMSE_list = []\n",
    "\n",
    "for i in range(0, len(sti_dfi_ndri_data)):\n",
    "    X = sti_dfi_ndri_data[[\"STI\",\"DFI\", \"NDRI\"]]\n",
    "    var_out = X.index.isin([i])\n",
    "    X = X.loc[~var_out]         # Leave one out\n",
    "    \n",
    "    y = sti_dfi_ndri_data[\"Biomasse (kg/ha)\"][X.index] # same indices as X\n",
    "    \n",
    "    model_1 = LinearRegression().fit(X, y)\n",
    "    \n",
    "    coef = model_1.coef_\n",
    "    coef_list.append(coef)\n",
    "    \n",
    "    cste =  model_1.intercept_\n",
    "    cste_list.append(cste)\n",
    "        \n",
    "    R2 = r2_score(y.values, model_1.predict(X))\n",
    "    R2_list.append(R2)\n",
    "    RMSE = mean_squared_error(y.values, model_1.predict(X), squared=False)\n",
    "    RMSE_list.append(RMSE)\n",
    "    mae = mean_absolute_error(y.values, model_1.predict(X))\n",
    "    mae_list.append(mae)\n",
    "result_dic = {\"coef\" : coef_list, \"cste\": cste_list, \"R2\" : R2_list,\"RMSE\": RMSE_list, \"mae\": mae_list}    \n",
    "reg_results = pd.DataFrame(result_dic)\n",
    "reg_results.loc[reg_results.RMSE == reg_results.RMSE.min()]         "
   ]
  },
  {
   "cell_type": "code",
   "execution_count": null,
   "metadata": {},
   "outputs": [],
   "source": [
    "# Save the regression model\n",
    "#joblib.dump(model_1, \"./model 13/model_B24.pkl\") "
   ]
  },
  {
   "cell_type": "markdown",
   "metadata": {},
   "source": [
    "#### 14. Model 14:  X = [NDTI, DFI, NDRI]"
   ]
  },
  {
   "cell_type": "code",
   "execution_count": 94,
   "metadata": {},
   "outputs": [
    {
     "data": {
      "text/html": [
       "<div>\n",
       "<style scoped>\n",
       "    .dataframe tbody tr th:only-of-type {\n",
       "        vertical-align: middle;\n",
       "    }\n",
       "\n",
       "    .dataframe tbody tr th {\n",
       "        vertical-align: top;\n",
       "    }\n",
       "\n",
       "    .dataframe thead th {\n",
       "        text-align: right;\n",
       "    }\n",
       "</style>\n",
       "<table border=\"1\" class=\"dataframe\">\n",
       "  <thead>\n",
       "    <tr style=\"text-align: right;\">\n",
       "      <th></th>\n",
       "      <th>NDTI</th>\n",
       "      <th>DFI</th>\n",
       "      <th>NDRI</th>\n",
       "      <th>Biomasse (kg/ha)</th>\n",
       "    </tr>\n",
       "  </thead>\n",
       "  <tbody>\n",
       "    <tr>\n",
       "      <th>0</th>\n",
       "      <td>0.072405</td>\n",
       "      <td>9.959820</td>\n",
       "      <td>-0.272779</td>\n",
       "      <td>776.500</td>\n",
       "    </tr>\n",
       "    <tr>\n",
       "      <th>1</th>\n",
       "      <td>0.108308</td>\n",
       "      <td>13.581307</td>\n",
       "      <td>-0.197771</td>\n",
       "      <td>857.175</td>\n",
       "    </tr>\n",
       "  </tbody>\n",
       "</table>\n",
       "</div>"
      ],
      "text/plain": [
       "       NDTI        DFI      NDRI  Biomasse (kg/ha)\n",
       "0  0.072405   9.959820 -0.272779           776.500\n",
       "1  0.108308  13.581307 -0.197771           857.175"
      ]
     },
     "execution_count": 94,
     "metadata": {},
     "output_type": "execute_result"
    }
   ],
   "source": [
    "# Define input output data\n",
    "ndti_dfi_ndri_data = data.iloc[:, [14, 15, 16,19]]\n",
    "ndti_dfi_ndri_data.head(2)"
   ]
  },
  {
   "cell_type": "code",
   "execution_count": 95,
   "metadata": {},
   "outputs": [
    {
     "data": {
      "text/html": [
       "<div>\n",
       "<style scoped>\n",
       "    .dataframe tbody tr th:only-of-type {\n",
       "        vertical-align: middle;\n",
       "    }\n",
       "\n",
       "    .dataframe tbody tr th {\n",
       "        vertical-align: top;\n",
       "    }\n",
       "\n",
       "    .dataframe thead th {\n",
       "        text-align: right;\n",
       "    }\n",
       "</style>\n",
       "<table border=\"1\" class=\"dataframe\">\n",
       "  <thead>\n",
       "    <tr style=\"text-align: right;\">\n",
       "      <th></th>\n",
       "      <th>coef</th>\n",
       "      <th>cste</th>\n",
       "      <th>R2</th>\n",
       "      <th>RMSE</th>\n",
       "      <th>mae</th>\n",
       "    </tr>\n",
       "  </thead>\n",
       "  <tbody>\n",
       "    <tr>\n",
       "      <th>46</th>\n",
       "      <td>[17616.68487141074, -145.3402017090495, -2342....</td>\n",
       "      <td>193.9435</td>\n",
       "      <td>0.483337</td>\n",
       "      <td>256.271275</td>\n",
       "      <td>198.520444</td>\n",
       "    </tr>\n",
       "  </tbody>\n",
       "</table>\n",
       "</div>"
      ],
      "text/plain": [
       "                                                 coef      cste        R2  \\\n",
       "46  [17616.68487141074, -145.3402017090495, -2342....  193.9435  0.483337   \n",
       "\n",
       "          RMSE         mae  \n",
       "46  256.271275  198.520444  "
      ]
     },
     "execution_count": 95,
     "metadata": {},
     "output_type": "execute_result"
    }
   ],
   "source": [
    "# Define predictor and response variables\n",
    "coef_list = []\n",
    "cste_list = []\n",
    "R2_list = []\n",
    "mae_list = []\n",
    "RMSE_list = []\n",
    "\n",
    "for i in range(0, len(ndti_dfi_ndri_data)):\n",
    "    X = ndti_dfi_ndri_data[[\"NDTI\",\"DFI\", \"NDRI\"]]\n",
    "    var_out = X.index.isin([i])\n",
    "    X = X.loc[~var_out]         # Leave one out\n",
    "    \n",
    "    y = ndti_dfi_ndri_data[\"Biomasse (kg/ha)\"][X.index] # same indices as X\n",
    "    \n",
    "    model_1 = LinearRegression().fit(X, y)\n",
    "    \n",
    "    coef = model_1.coef_\n",
    "    coef_list.append(coef)\n",
    "    \n",
    "    cste =  model_1.intercept_\n",
    "    cste_list.append(cste)\n",
    "        \n",
    "    R2 = r2_score(y.values, model_1.predict(X))\n",
    "    R2_list.append(R2)\n",
    "    RMSE = mean_squared_error(y.values, model_1.predict(X), squared=False)\n",
    "    RMSE_list.append(RMSE)\n",
    "    mae = mean_absolute_error(y.values, model_1.predict(X))\n",
    "    mae_list.append(mae)\n",
    "result_dic = {\"coef\" : coef_list, \"cste\": cste_list, \"R2\" : R2_list,\"RMSE\": RMSE_list, \"mae\": mae_list}    \n",
    "reg_results = pd.DataFrame(result_dic)\n",
    "reg_results.loc[reg_results.RMSE == reg_results.RMSE.min()]          "
   ]
  },
  {
   "cell_type": "code",
   "execution_count": null,
   "metadata": {},
   "outputs": [],
   "source": [
    "reg_results.coef.values[5]"
   ]
  },
  {
   "cell_type": "code",
   "execution_count": 96,
   "metadata": {},
   "outputs": [],
   "source": [
    "model_1 = LinearRegression()\n",
    "model_1.coef_ = reg_results.coef.values[5]\n",
    "model_1.intercept_ = reg_results.cste.values[5]"
   ]
  },
  {
   "cell_type": "markdown",
   "metadata": {},
   "source": [
    "#### 15. Model 15:  X = [STI, NDTI, DFI, NDRI]"
   ]
  },
  {
   "cell_type": "code",
   "execution_count": 123,
   "metadata": {},
   "outputs": [
    {
     "data": {
      "text/html": [
       "<div>\n",
       "<style scoped>\n",
       "    .dataframe tbody tr th:only-of-type {\n",
       "        vertical-align: middle;\n",
       "    }\n",
       "\n",
       "    .dataframe tbody tr th {\n",
       "        vertical-align: top;\n",
       "    }\n",
       "\n",
       "    .dataframe thead th {\n",
       "        text-align: right;\n",
       "    }\n",
       "</style>\n",
       "<table border=\"1\" class=\"dataframe\">\n",
       "  <thead>\n",
       "    <tr style=\"text-align: right;\">\n",
       "      <th></th>\n",
       "      <th>STI</th>\n",
       "      <th>NDTI</th>\n",
       "      <th>DFI</th>\n",
       "      <th>NDRI</th>\n",
       "      <th>Biomasse (kg/ha)</th>\n",
       "    </tr>\n",
       "  </thead>\n",
       "  <tbody>\n",
       "    <tr>\n",
       "      <th>0</th>\n",
       "      <td>1.156114</td>\n",
       "      <td>0.072405</td>\n",
       "      <td>9.959820</td>\n",
       "      <td>-0.272779</td>\n",
       "      <td>776.500</td>\n",
       "    </tr>\n",
       "    <tr>\n",
       "      <th>1</th>\n",
       "      <td>1.242927</td>\n",
       "      <td>0.108308</td>\n",
       "      <td>13.581307</td>\n",
       "      <td>-0.197771</td>\n",
       "      <td>857.175</td>\n",
       "    </tr>\n",
       "  </tbody>\n",
       "</table>\n",
       "</div>"
      ],
      "text/plain": [
       "        STI      NDTI        DFI      NDRI  Biomasse (kg/ha)\n",
       "0  1.156114  0.072405   9.959820 -0.272779           776.500\n",
       "1  1.242927  0.108308  13.581307 -0.197771           857.175"
      ]
     },
     "execution_count": 123,
     "metadata": {},
     "output_type": "execute_result"
    }
   ],
   "source": [
    "# Define input output data\n",
    "sti_ndti_dfi_ndri_data = data.iloc[:, [13, 14, 15, 16,19]]\n",
    "sti_ndti_dfi_ndri_data.head(2)"
   ]
  },
  {
   "cell_type": "code",
   "execution_count": 124,
   "metadata": {},
   "outputs": [
    {
     "data": {
      "text/html": [
       "<div>\n",
       "<style scoped>\n",
       "    .dataframe tbody tr th:only-of-type {\n",
       "        vertical-align: middle;\n",
       "    }\n",
       "\n",
       "    .dataframe tbody tr th {\n",
       "        vertical-align: top;\n",
       "    }\n",
       "\n",
       "    .dataframe thead th {\n",
       "        text-align: right;\n",
       "    }\n",
       "</style>\n",
       "<table border=\"1\" class=\"dataframe\">\n",
       "  <thead>\n",
       "    <tr style=\"text-align: right;\">\n",
       "      <th></th>\n",
       "      <th>coef</th>\n",
       "      <th>cste</th>\n",
       "      <th>R2</th>\n",
       "      <th>RMSE</th>\n",
       "      <th>mae</th>\n",
       "    </tr>\n",
       "  </thead>\n",
       "  <tbody>\n",
       "    <tr>\n",
       "      <th>46</th>\n",
       "      <td>[-36001.68278867276, 107491.07181576523, -147....</td>\n",
       "      <td>35251.460666</td>\n",
       "      <td>0.496928</td>\n",
       "      <td>252.878117</td>\n",
       "      <td>195.129884</td>\n",
       "    </tr>\n",
       "  </tbody>\n",
       "</table>\n",
       "</div>"
      ],
      "text/plain": [
       "                                                 coef          cste        R2  \\\n",
       "46  [-36001.68278867276, 107491.07181576523, -147....  35251.460666  0.496928   \n",
       "\n",
       "          RMSE         mae  \n",
       "46  252.878117  195.129884  "
      ]
     },
     "execution_count": 124,
     "metadata": {},
     "output_type": "execute_result"
    }
   ],
   "source": [
    "# Define predictor and response variables\n",
    "coef_list = []\n",
    "cste_list = []\n",
    "R2_list = []\n",
    "mae_list = []\n",
    "RMSE_list = []\n",
    "\n",
    "for i in range(0, len(sti_ndti_dfi_ndri_data)):\n",
    "    X = sti_ndti_dfi_ndri_data[[\"STI\",\"NDTI\",\"DFI\", \"NDRI\"]]\n",
    "    var_out = X.index.isin([i])\n",
    "    X = X.loc[~var_out]         # Leave one out\n",
    "    \n",
    "    y = sti_ndti_dfi_ndri_data[\"Biomasse (kg/ha)\"][X.index] # same indices as X\n",
    "    \n",
    "    model_1 = LinearRegression().fit(X, y)\n",
    "    \n",
    "    coef = model_1.coef_\n",
    "    coef_list.append(coef)\n",
    "    \n",
    "    cste =  model_1.intercept_\n",
    "    cste_list.append(cste)\n",
    "        \n",
    "    R2 = r2_score(y.values, model_1.predict(X))\n",
    "    R2_list.append(R2)\n",
    "    RMSE = mean_squared_error(y.values, model_1.predict(X), squared=False)\n",
    "    RMSE_list.append(RMSE)\n",
    "    mae = mean_absolute_error(y.values, model_1.predict(X))\n",
    "    mae_list.append(mae)\n",
    "result_dic = {\"coef\" : coef_list, \"cste\": cste_list, \"R2\" : R2_list,\"RMSE\": RMSE_list, \"mae\": mae_list}    \n",
    "reg_results = pd.DataFrame(result_dic)\n",
    "reg_results.loc[reg_results.RMSE == reg_results.RMSE.min()]          "
   ]
  },
  {
   "cell_type": "code",
   "execution_count": 125,
   "metadata": {},
   "outputs": [
    {
     "data": {
      "text/plain": [
       "array([-36001.68278867, 107491.07181577,   -147.15694503,  -2409.85345595])"
      ]
     },
     "execution_count": 125,
     "metadata": {},
     "output_type": "execute_result"
    }
   ],
   "source": [
    "model_1.coef_"
   ]
  },
  {
   "cell_type": "code",
   "execution_count": null,
   "metadata": {},
   "outputs": [],
   "source": [
    "# Save the regression model\n",
    "import joblib\n",
    "# save\n",
    "#joblib.dump(model_1, \"./model 15/model_B24.pkl\") "
   ]
  },
  {
   "cell_type": "markdown",
   "metadata": {},
   "source": [
    "### Plot the results"
   ]
  },
  {
   "cell_type": "code",
   "execution_count": 126,
   "metadata": {},
   "outputs": [],
   "source": [
    "X = sti_ndti_dfi_ndri_data[[\"STI\",\"NDTI\",\"DFI\", \"NDRI\"]]\n",
    "y = sti_ndti_dfi_ndri_data[\"Biomasse (kg/ha)\"][X.index]\n",
    "y_predicted = model_1.predict(X)"
   ]
  },
  {
   "cell_type": "code",
   "execution_count": 132,
   "metadata": {},
   "outputs": [
    {
     "data": {
      "image/png": "[encoded data removed]",
      "text/plain": [
       "<Figure size 560x200 with 1 Axes>"
      ]
     },
     "metadata": {},
     "output_type": "display_data"
    }
   ],
   "source": [
    "fig, ax = plt.subplots(1, 1, figsize = (5.6,2.), constrained_layout = True)\n",
    "ax.plot(range(1, 48, 1),y_predicted, lw = .9, label = \"Estimated biomass\", color = \"r\", alpha = .5)\n",
    "\n",
    "ax.scatter(range(1, 48, 1), obs_mass.values, label = \"Observed Biomass\", color = \"darkblue\", s = 6)\n",
    "#ax.set_xticks(sti_data.index)\n",
    "#ax.set_yticks(np.arange(0, 1500, 200))\n",
    "ax.set_ylabel(\"kgMS/ha\", fontsize = 7)\n",
    "ax.set_xlabel(\"Index\",  fontsize = 7)\n",
    "ax.tick_params(axis='both', which='major', labelsize=8)\n",
    "ax.legend(fontsize = 7, loc = (0.45, 0.78))\n",
    "ax.set_title(\"Fallow sites - Combination of\\n STI, NDTI,DFI and NDRI\", fontsize = 7, fontweight = \"bold\", x = 0.2, y = .78)\n",
    "ax.grid(\"both\", alpha = 0.2)\n",
    "plt.savefig(\"./output/jachere_model_15.png\", dpi = 600)"
   ]
  },
  {
   "cell_type": "code",
   "execution_count": null,
   "metadata": {
    "tags": []
   },
   "outputs": [],
   "source": [
    "fig, ax = plt.subplots(1, 1, figsize = (4,2.7))\n",
    "ax.plot(np.arange(1, 28, 1), y, lw = .9, label = \"Observed dry biomass\")\n",
    "ax.plot(np.arange(1, 28, 1), y_predicted, lw = .9, label = \"Estimated dry biomass\")\n",
    "\n",
    "#ax.set_xticks(np.arange(1, 26, 2))\n",
    "ax.set_ylabel(\"Biomasse (kg/ha)\", fontsize = 8)\n",
    "ax.set_xlabel(\"Index\",  fontsize = 8)\n",
    "ax.tick_params(axis='both', which='major', labelsize=8)\n",
    "ax.legend(fontsize = 8)\n",
    "ax.grid(\"both\", alpha = 0.2)"
   ]
  },
  {
   "cell_type": "code",
   "execution_count": null,
   "metadata": {},
   "outputs": [],
   "source": []
  },
  {
   "cell_type": "code",
   "execution_count": null,
   "metadata": {},
   "outputs": [],
   "source": []
  }
 ],
 "metadata": {
  "kernelspec": {
   "display_name": "Python 3",
   "language": "python",
   "name": "python3"
  },
  "language_info": {
   "codemirror_mode": {
    "name": "ipython",
    "version": 3
   },
   "file_extension": ".py",
   "mimetype": "text/x-python",
   "name": "python",
   "nbconvert_exporter": "python",
   "pygments_lexer": "ipython3",
   "version": "3.8.2"
  }
 },
 "nbformat": 4,
 "nbformat_minor": 4
}
