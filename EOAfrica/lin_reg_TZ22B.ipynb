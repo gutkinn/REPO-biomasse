{
 "cells": [
  {
   "cell_type": "markdown",
   "metadata": {},
   "source": [
    "# Regression model for dry biomasse assessment"
   ]
  },
  {
   "cell_type": "code",
   "execution_count": 1,
   "metadata": {},
   "outputs": [],
   "source": [
    "# Import required packages\n",
    "import numpy as np\n",
    "np.float = float\n",
    "\n",
    "import pandas as pd\n",
    "from sklearn.model_selection import train_test_split\n",
    "from sklearn.model_selection import KFold\n",
    "from sklearn.model_selection import cross_val_score\n",
    "from sklearn.model_selection import LeaveOneOut\n",
    "\n",
    "from sklearn.metrics import mean_absolute_error\n",
    "from sklearn.metrics import mean_squared_error\n",
    "from sklearn.metrics import mean_absolute_error\n",
    "from sklearn.metrics import r2_score\n",
    "from math import sqrt\n",
    "from sklearn.linear_model import LinearRegression\n",
    "from numpy import mean\n",
    "from numpy import absolute\n",
    "from numpy import sqrt\n",
    "from sklearn.metrics import mean_squared_error\n",
    "\n",
    "\n",
    "from sklearn import preprocessing\n",
    "import joblib\n",
    "import matplotlib.pyplot as plt"
   ]
  },
  {
   "cell_type": "markdown",
   "metadata": {},
   "source": [
    "## Simple LRMs"
   ]
  },
  {
   "cell_type": "markdown",
   "metadata": {},
   "source": [
    "#### 1. Sites TZ22B"
   ]
  },
  {
   "cell_type": "code",
   "execution_count": 2,
   "metadata": {
    "tags": []
   },
   "outputs": [
    {
     "data": {
      "text/html": [
       "<div>\n",
       "<style scoped>\n",
       "    .dataframe tbody tr th:only-of-type {\n",
       "        vertical-align: middle;\n",
       "    }\n",
       "\n",
       "    .dataframe tbody tr th {\n",
       "        vertical-align: top;\n",
       "    }\n",
       "\n",
       "    .dataframe thead th {\n",
       "        text-align: right;\n",
       "    }\n",
       "</style>\n",
       "<table border=\"1\" class=\"dataframe\">\n",
       "  <thead>\n",
       "    <tr style=\"text-align: right;\">\n",
       "      <th></th>\n",
       "      <th>date</th>\n",
       "      <th>B01</th>\n",
       "      <th>B02</th>\n",
       "      <th>B03</th>\n",
       "      <th>B04</th>\n",
       "      <th>B05</th>\n",
       "      <th>B06</th>\n",
       "      <th>B07</th>\n",
       "      <th>B08</th>\n",
       "      <th>B8A</th>\n",
       "      <th>B11</th>\n",
       "      <th>B12</th>\n",
       "      <th>NDVI</th>\n",
       "      <th>STI</th>\n",
       "      <th>NDTI</th>\n",
       "      <th>DFI</th>\n",
       "      <th>NDRI</th>\n",
       "      <th>Date de mesure</th>\n",
       "      <th>Biomasse (gMS/m2)</th>\n",
       "      <th>Biomasse (kg/ha)</th>\n",
       "    </tr>\n",
       "  </thead>\n",
       "  <tbody>\n",
       "    <tr>\n",
       "      <th>0</th>\n",
       "      <td>2018-11-05</td>\n",
       "      <td>701.120226</td>\n",
       "      <td>844.813296</td>\n",
       "      <td>1330.786421</td>\n",
       "      <td>1996.565771</td>\n",
       "      <td>2436.998586</td>\n",
       "      <td>2778.057992</td>\n",
       "      <td>3009.024045</td>\n",
       "      <td>3168.02546</td>\n",
       "      <td>3314.968883</td>\n",
       "      <td>4377.108911</td>\n",
       "      <td>3405.077793</td>\n",
       "      <td>0.226825</td>\n",
       "      <td>1.285465</td>\n",
       "      <td>0.124905</td>\n",
       "      <td>13.995479</td>\n",
       "      <td>-0.260756</td>\n",
       "      <td>2018-11-07</td>\n",
       "      <td>899.7875</td>\n",
       "      <td>899.7875</td>\n",
       "    </tr>\n",
       "  </tbody>\n",
       "</table>\n",
       "</div>"
      ],
      "text/plain": [
       "        date         B01         B02          B03          B04          B05  \\\n",
       "0 2018-11-05  701.120226  844.813296  1330.786421  1996.565771  2436.998586   \n",
       "\n",
       "           B06          B07         B08          B8A          B11  \\\n",
       "0  2778.057992  3009.024045  3168.02546  3314.968883  4377.108911   \n",
       "\n",
       "           B12      NDVI       STI      NDTI        DFI      NDRI  \\\n",
       "0  3405.077793  0.226825  1.285465  0.124905  13.995479 -0.260756   \n",
       "\n",
       "  Date de mesure  Biomasse (gMS/m2)  Biomasse (kg/ha)  \n",
       "0     2018-11-07           899.7875          899.7875  "
      ]
     },
     "execution_count": 2,
     "metadata": {},
     "output_type": "execute_result"
    }
   ],
   "source": [
    "# Import input data \n",
    "data_TZ22B = pd.read_excel(\"./Model_data_completed.xlsx\", sheet_name = \"TZ22B Monthly\", parse_dates=True)\n",
    "data_TZ22B.head(1)"
   ]
  },
  {
   "cell_type": "code",
   "execution_count": 3,
   "metadata": {},
   "outputs": [
    {
     "data": {
      "text/plain": [
       "date\n",
       "2018-11-05    899.7875\n",
       "Name: Biomasse (kg/ha), dtype: float64"
      ]
     },
     "execution_count": 3,
     "metadata": {},
     "output_type": "execute_result"
    }
   ],
   "source": [
    "# Observed biomass\n",
    "obs_mass = data_TZ22B[\"Biomasse (kg/ha)\"]\n",
    "obs_mass.index = data_TZ22B.date\n",
    "obs_mass.head(1)"
   ]
  },
  {
   "cell_type": "code",
   "execution_count": 4,
   "metadata": {},
   "outputs": [
    {
     "data": {
      "text/html": [
       "<div>\n",
       "<style scoped>\n",
       "    .dataframe tbody tr th:only-of-type {\n",
       "        vertical-align: middle;\n",
       "    }\n",
       "\n",
       "    .dataframe tbody tr th {\n",
       "        vertical-align: top;\n",
       "    }\n",
       "\n",
       "    .dataframe thead th {\n",
       "        text-align: right;\n",
       "    }\n",
       "</style>\n",
       "<table border=\"1\" class=\"dataframe\">\n",
       "  <thead>\n",
       "    <tr style=\"text-align: right;\">\n",
       "      <th></th>\n",
       "      <th>date</th>\n",
       "      <th>B01</th>\n",
       "      <th>B02</th>\n",
       "      <th>B03</th>\n",
       "      <th>B04</th>\n",
       "      <th>B05</th>\n",
       "      <th>B06</th>\n",
       "      <th>B07</th>\n",
       "      <th>B08</th>\n",
       "      <th>B8A</th>\n",
       "      <th>B11</th>\n",
       "      <th>B12</th>\n",
       "      <th>NDVI</th>\n",
       "      <th>STI</th>\n",
       "      <th>NDTI</th>\n",
       "      <th>DFI</th>\n",
       "      <th>NDRI</th>\n",
       "    </tr>\n",
       "    <tr>\n",
       "      <th>date</th>\n",
       "      <th></th>\n",
       "      <th></th>\n",
       "      <th></th>\n",
       "      <th></th>\n",
       "      <th></th>\n",
       "      <th></th>\n",
       "      <th></th>\n",
       "      <th></th>\n",
       "      <th></th>\n",
       "      <th></th>\n",
       "      <th></th>\n",
       "      <th></th>\n",
       "      <th></th>\n",
       "      <th></th>\n",
       "      <th></th>\n",
       "      <th></th>\n",
       "      <th></th>\n",
       "    </tr>\n",
       "  </thead>\n",
       "  <tbody>\n",
       "    <tr>\n",
       "      <th>2018-01-04</th>\n",
       "      <td>2018-01-04</td>\n",
       "      <td>750.424328</td>\n",
       "      <td>1103.032532</td>\n",
       "      <td>1721.15983</td>\n",
       "      <td>2734.797737</td>\n",
       "      <td>3085.065064</td>\n",
       "      <td>3339.041018</td>\n",
       "      <td>3566.520509</td>\n",
       "      <td>3943.35785</td>\n",
       "      <td>3887.942008</td>\n",
       "      <td>4920.379066</td>\n",
       "      <td>3829.360679</td>\n",
       "      <td>0.180972</td>\n",
       "      <td>1.284909</td>\n",
       "      <td>0.124692</td>\n",
       "      <td>15.377741</td>\n",
       "      <td>-0.166748</td>\n",
       "    </tr>\n",
       "  </tbody>\n",
       "</table>\n",
       "</div>"
      ],
      "text/plain": [
       "                 date         B01          B02         B03          B04  \\\n",
       "date                                                                      \n",
       "2018-01-04 2018-01-04  750.424328  1103.032532  1721.15983  2734.797737   \n",
       "\n",
       "                    B05          B06          B07         B08          B8A  \\\n",
       "date                                                                         \n",
       "2018-01-04  3085.065064  3339.041018  3566.520509  3943.35785  3887.942008   \n",
       "\n",
       "                    B11          B12      NDVI       STI      NDTI        DFI  \\\n",
       "date                                                                            \n",
       "2018-01-04  4920.379066  3829.360679  0.180972  1.284909  0.124692  15.377741   \n",
       "\n",
       "                NDRI  \n",
       "date                  \n",
       "2018-01-04 -0.166748  "
      ]
     },
     "execution_count": 4,
     "metadata": {},
     "output_type": "execute_result"
    }
   ],
   "source": [
    "# Spectral indices\n",
    "si_TZ22B = pd.read_excel(\"D:/01. Dr Abdourahamane/05. EO-AFRICA-RDF-Project/Article/Last Research Paper/TZ22B_SI.xlsx\", parse_dates=True)\n",
    "si_TZ22B.index = si_TZ22B.date\n",
    "si_TZ22B.head(1)"
   ]
  },
  {
   "cell_type": "code",
   "execution_count": 5,
   "metadata": {
    "tags": []
   },
   "outputs": [],
   "source": [
    "# Dry season\n",
    "d_month =(si_TZ22B.index.month == 10) |(si_TZ22B.index.month == 11) | (si_TZ22B.index.month == 12) | (si_TZ22B.index.month == 1) | (si_TZ22B.index.month == 2) | (si_TZ22B.index.month == 3) | (si_TZ22B.index.month == 4) | (si_TZ22B.index.month == 5)\n",
    "si_TZ22B = si_TZ22B[d_month]\n",
    "#si_TZ22B.head(2)"
   ]
  },
  {
   "cell_type": "markdown",
   "metadata": {
    "tags": []
   },
   "source": [
    "#### Model 1:  X = STI"
   ]
  },
  {
   "cell_type": "code",
   "execution_count": 6,
   "metadata": {
    "tags": []
   },
   "outputs": [
    {
     "data": {
      "text/html": [
       "<div>\n",
       "<style scoped>\n",
       "    .dataframe tbody tr th:only-of-type {\n",
       "        vertical-align: middle;\n",
       "    }\n",
       "\n",
       "    .dataframe tbody tr th {\n",
       "        vertical-align: top;\n",
       "    }\n",
       "\n",
       "    .dataframe thead th {\n",
       "        text-align: right;\n",
       "    }\n",
       "</style>\n",
       "<table border=\"1\" class=\"dataframe\">\n",
       "  <thead>\n",
       "    <tr style=\"text-align: right;\">\n",
       "      <th></th>\n",
       "      <th>STI</th>\n",
       "      <th>Biomasse (kg/ha)</th>\n",
       "    </tr>\n",
       "  </thead>\n",
       "  <tbody>\n",
       "    <tr>\n",
       "      <th>0</th>\n",
       "      <td>1.285465</td>\n",
       "      <td>899.7875</td>\n",
       "    </tr>\n",
       "  </tbody>\n",
       "</table>\n",
       "</div>"
      ],
      "text/plain": [
       "        STI  Biomasse (kg/ha)\n",
       "0  1.285465          899.7875"
      ]
     },
     "execution_count": 6,
     "metadata": {},
     "output_type": "execute_result"
    }
   ],
   "source": [
    "# Define input output data\n",
    "sti_data = data_TZ22B.iloc[:, [13, 19]]\n",
    "sti_data.head(1)"
   ]
  },
  {
   "cell_type": "code",
   "execution_count": 7,
   "metadata": {},
   "outputs": [
    {
     "data": {
      "text/html": [
       "<div>\n",
       "<style scoped>\n",
       "    .dataframe tbody tr th:only-of-type {\n",
       "        vertical-align: middle;\n",
       "    }\n",
       "\n",
       "    .dataframe tbody tr th {\n",
       "        vertical-align: top;\n",
       "    }\n",
       "\n",
       "    .dataframe thead th {\n",
       "        text-align: right;\n",
       "    }\n",
       "</style>\n",
       "<table border=\"1\" class=\"dataframe\">\n",
       "  <thead>\n",
       "    <tr style=\"text-align: right;\">\n",
       "      <th></th>\n",
       "      <th>coef</th>\n",
       "      <th>cste</th>\n",
       "      <th>R2</th>\n",
       "      <th>RMSE</th>\n",
       "      <th>mae</th>\n",
       "      <th>MAPE</th>\n",
       "    </tr>\n",
       "  </thead>\n",
       "  <tbody>\n",
       "    <tr>\n",
       "      <th>2</th>\n",
       "      <td>[2633.495752064029]</td>\n",
       "      <td>-2386.474569</td>\n",
       "      <td>0.134228</td>\n",
       "      <td>416.400424</td>\n",
       "      <td>351.325646</td>\n",
       "      <td>0.764583</td>\n",
       "    </tr>\n",
       "  </tbody>\n",
       "</table>\n",
       "</div>"
      ],
      "text/plain": [
       "                  coef         cste        R2        RMSE         mae  \\\n",
       "2  [2633.495752064029] -2386.474569  0.134228  416.400424  351.325646   \n",
       "\n",
       "       MAPE  \n",
       "2  0.764583  "
      ]
     },
     "execution_count": 7,
     "metadata": {},
     "output_type": "execute_result"
    }
   ],
   "source": [
    "# Define predictor and response variables\n",
    "coef_list = []\n",
    "cste_list = []\n",
    "R2_list = []\n",
    "mae_list = []\n",
    "RMSE_list = []\n",
    "MAPE_list = []\n",
    "for i in range(0, len(sti_data)):\n",
    "    X = sti_data[[\"STI\"]]\n",
    "    var_out = X.index.isin([i])\n",
    "    X = X.loc[~var_out]         # Leave one out\n",
    "    \n",
    "    y = sti_data[\"Biomasse (kg/ha)\"][X.index] # same indices as X\n",
    "    \n",
    "    model_1 = LinearRegression().fit(X, y)\n",
    "    \n",
    "    coef = model_1.coef_\n",
    "    coef_list.append(coef)\n",
    "    \n",
    "    cste =  model_1.intercept_\n",
    "    cste_list.append(cste)\n",
    "    \n",
    "    X = sti_data[[\"STI\"]]\n",
    "    y = sti_data[\"Biomasse (kg/ha)\"]\n",
    "    \n",
    "    R2 = r2_score(y.values,  (model_1.predict(X)))\n",
    "    R2_list.append(R2)\n",
    "    RMSE = mean_squared_error(y.values, (model_1.predict(X)), squared=False)\n",
    "    RMSE_list.append(RMSE)\n",
    "    mae = mean_absolute_error(y.values,  (model_1.predict(X)))\n",
    "    mae_list.append(mae)\n",
    "    mape = np.mean(np.abs((y.values - (model_1.predict(X))))/y.values)\n",
    "    MAPE_list.append(mape)\n",
    "    \n",
    "result_dic = {\"coef\" : coef_list, \"cste\": cste_list, \"R2\" : R2_list,\"RMSE\": RMSE_list, \"mae\": mae_list, \"MAPE\": MAPE_list}    \n",
    "reg_results = pd.DataFrame(result_dic)\n",
    "reg_results.loc[reg_results.RMSE == reg_results.RMSE.min()]  "
   ]
  },
  {
   "cell_type": "code",
   "execution_count": 8,
   "metadata": {
    "tags": []
   },
   "outputs": [],
   "source": [
    "# Predict the out var using the best model\n",
    "model_1 = LinearRegression()\n",
    "model_1.coef_ = reg_results.coef.values[2]\n",
    "model_1.intercept_ = reg_results.cste.values[2]"
   ]
  },
  {
   "cell_type": "markdown",
   "metadata": {
    "tags": []
   },
   "source": [
    "### Plot the results"
   ]
  },
  {
   "cell_type": "code",
   "execution_count": 9,
   "metadata": {
    "tags": []
   },
   "outputs": [
    {
     "data": {
      "text/html": [
       "<div>\n",
       "<style scoped>\n",
       "    .dataframe tbody tr th:only-of-type {\n",
       "        vertical-align: middle;\n",
       "    }\n",
       "\n",
       "    .dataframe tbody tr th {\n",
       "        vertical-align: top;\n",
       "    }\n",
       "\n",
       "    .dataframe thead th {\n",
       "        text-align: right;\n",
       "    }\n",
       "</style>\n",
       "<table border=\"1\" class=\"dataframe\">\n",
       "  <thead>\n",
       "    <tr style=\"text-align: right;\">\n",
       "      <th></th>\n",
       "      <th>date</th>\n",
       "      <th>B01</th>\n",
       "      <th>B02</th>\n",
       "      <th>B03</th>\n",
       "      <th>B04</th>\n",
       "      <th>B05</th>\n",
       "      <th>B06</th>\n",
       "      <th>B07</th>\n",
       "      <th>B08</th>\n",
       "      <th>B8A</th>\n",
       "      <th>B11</th>\n",
       "      <th>B12</th>\n",
       "      <th>NDVI</th>\n",
       "      <th>STI</th>\n",
       "      <th>NDTI</th>\n",
       "      <th>DFI</th>\n",
       "      <th>NDRI</th>\n",
       "    </tr>\n",
       "    <tr>\n",
       "      <th>date</th>\n",
       "      <th></th>\n",
       "      <th></th>\n",
       "      <th></th>\n",
       "      <th></th>\n",
       "      <th></th>\n",
       "      <th></th>\n",
       "      <th></th>\n",
       "      <th></th>\n",
       "      <th></th>\n",
       "      <th></th>\n",
       "      <th></th>\n",
       "      <th></th>\n",
       "      <th></th>\n",
       "      <th></th>\n",
       "      <th></th>\n",
       "      <th></th>\n",
       "      <th></th>\n",
       "    </tr>\n",
       "  </thead>\n",
       "  <tbody>\n",
       "    <tr>\n",
       "      <th>2018-01-04</th>\n",
       "      <td>2018-01-04</td>\n",
       "      <td>750.424328</td>\n",
       "      <td>1103.032532</td>\n",
       "      <td>1721.15983</td>\n",
       "      <td>2734.797737</td>\n",
       "      <td>3085.065064</td>\n",
       "      <td>3339.041018</td>\n",
       "      <td>3566.520509</td>\n",
       "      <td>3943.35785</td>\n",
       "      <td>3887.942008</td>\n",
       "      <td>4920.379066</td>\n",
       "      <td>3829.360679</td>\n",
       "      <td>0.180972</td>\n",
       "      <td>1.284909</td>\n",
       "      <td>0.124692</td>\n",
       "      <td>15.377741</td>\n",
       "      <td>-0.166748</td>\n",
       "    </tr>\n",
       "  </tbody>\n",
       "</table>\n",
       "</div>"
      ],
      "text/plain": [
       "                 date         B01          B02         B03          B04  \\\n",
       "date                                                                      \n",
       "2018-01-04 2018-01-04  750.424328  1103.032532  1721.15983  2734.797737   \n",
       "\n",
       "                    B05          B06          B07         B08          B8A  \\\n",
       "date                                                                         \n",
       "2018-01-04  3085.065064  3339.041018  3566.520509  3943.35785  3887.942008   \n",
       "\n",
       "                    B11          B12      NDVI       STI      NDTI        DFI  \\\n",
       "date                                                                            \n",
       "2018-01-04  4920.379066  3829.360679  0.180972  1.284909  0.124692  15.377741   \n",
       "\n",
       "                NDRI  \n",
       "date                  \n",
       "2018-01-04 -0.166748  "
      ]
     },
     "execution_count": 9,
     "metadata": {},
     "output_type": "execute_result"
    }
   ],
   "source": [
    "# Estimated biomass with spectral indices\n",
    "si_TZ22B.index = si_TZ22B.date\n",
    "si_TZ22B.head(1)"
   ]
  },
  {
   "cell_type": "code",
   "execution_count": 10,
   "metadata": {
    "tags": []
   },
   "outputs": [
    {
     "name": "stderr",
     "output_type": "stream",
     "text": [
      "C:\\Users\\GARBA\\anaconda3\\envs\\geo_env\\lib\\site-packages\\sklearn\\base.py:443: UserWarning: X has feature names, but LinearRegression was fitted without feature names\n",
      "  warnings.warn(\n"
     ]
    }
   ],
   "source": [
    "# inputs\n",
    "x_all = si_TZ22B[[\"STI\"]]\n",
    "y_all = model_1.predict(x_all)\n",
    "#y_all"
   ]
  },
  {
   "cell_type": "code",
   "execution_count": 11,
   "metadata": {
    "tags": []
   },
   "outputs": [
    {
     "data": {
      "image/png": "[encoded data removed]",
      "text/plain": [
       "<Figure size 750x250 with 1 Axes>"
      ]
     },
     "metadata": {},
     "output_type": "display_data"
    }
   ],
   "source": [
    "fig, ax = plt.subplots(1, 1, figsize = (7.5,2.5), constrained_layout = True)\n",
    "ax.scatter(obs_mass.index, obs_mass.values, label = \"Observed Biomass\", color = \"darkblue\", s = 6)\n",
    "ax.plot(si_TZ22B.date, y_all, lw = .9, label = \"Estimated biomass\", color = \"r\", alpha = .5)\n",
    "#ax.set_xticks(sti_data.index)\n",
    "#ax.set_yticks(np.arange(0, 1500, 200))\n",
    "ax.set_ylabel(\"kgMS/ha\", fontsize = 7)\n",
    "#ax.set_xlabel(\"Index\",  fontsize = 7)\n",
    "ax.tick_params(axis='both', which='major', labelsize=8)\n",
    "ax.legend(fontsize = 7, loc = (0.81, 0.81))\n",
    "ax.set_title(\"Fallow site TZ22B - Model 1: STI\", fontsize = 8, fontweight = \"bold\", x = 0.15, y = .87)\n",
    "ax.grid(\"both\", alpha = 0.2)\n",
    "plt.savefig(\"./output/TZ22B/model_1_jachere.png\", dpi = 600)"
   ]
  },
  {
   "cell_type": "code",
   "execution_count": 12,
   "metadata": {
    "tags": []
   },
   "outputs": [],
   "source": [
    "# Save the regression model\n",
    "#joblib.dump(model_1, \"./model 1/model_TZ22B.pkl\") "
   ]
  },
  {
   "cell_type": "markdown",
   "metadata": {},
   "source": [
    "#### 2. Model 2:  X = NDTI"
   ]
  },
  {
   "cell_type": "code",
   "execution_count": 13,
   "metadata": {},
   "outputs": [
    {
     "data": {
      "text/html": [
       "<div>\n",
       "<style scoped>\n",
       "    .dataframe tbody tr th:only-of-type {\n",
       "        vertical-align: middle;\n",
       "    }\n",
       "\n",
       "    .dataframe tbody tr th {\n",
       "        vertical-align: top;\n",
       "    }\n",
       "\n",
       "    .dataframe thead th {\n",
       "        text-align: right;\n",
       "    }\n",
       "</style>\n",
       "<table border=\"1\" class=\"dataframe\">\n",
       "  <thead>\n",
       "    <tr style=\"text-align: right;\">\n",
       "      <th></th>\n",
       "      <th>NDTI</th>\n",
       "      <th>Biomasse (kg/ha)</th>\n",
       "    </tr>\n",
       "  </thead>\n",
       "  <tbody>\n",
       "    <tr>\n",
       "      <th>0</th>\n",
       "      <td>0.124905</td>\n",
       "      <td>899.7875</td>\n",
       "    </tr>\n",
       "    <tr>\n",
       "      <th>1</th>\n",
       "      <td>0.095489</td>\n",
       "      <td>1430.0125</td>\n",
       "    </tr>\n",
       "  </tbody>\n",
       "</table>\n",
       "</div>"
      ],
      "text/plain": [
       "       NDTI  Biomasse (kg/ha)\n",
       "0  0.124905          899.7875\n",
       "1  0.095489         1430.0125"
      ]
     },
     "execution_count": 13,
     "metadata": {},
     "output_type": "execute_result"
    }
   ],
   "source": [
    "# Define input output data\n",
    "ndti_data = data_TZ22B.iloc[:, [14, 19]]\n",
    "ndti_data.head(2)"
   ]
  },
  {
   "cell_type": "code",
   "execution_count": 14,
   "metadata": {},
   "outputs": [
    {
     "data": {
      "text/html": [
       "<div>\n",
       "<style scoped>\n",
       "    .dataframe tbody tr th:only-of-type {\n",
       "        vertical-align: middle;\n",
       "    }\n",
       "\n",
       "    .dataframe tbody tr th {\n",
       "        vertical-align: top;\n",
       "    }\n",
       "\n",
       "    .dataframe thead th {\n",
       "        text-align: right;\n",
       "    }\n",
       "</style>\n",
       "<table border=\"1\" class=\"dataframe\">\n",
       "  <thead>\n",
       "    <tr style=\"text-align: right;\">\n",
       "      <th></th>\n",
       "      <th>coef</th>\n",
       "      <th>cste</th>\n",
       "      <th>R2</th>\n",
       "      <th>RMSE</th>\n",
       "      <th>mae</th>\n",
       "      <th>MAPE</th>\n",
       "    </tr>\n",
       "  </thead>\n",
       "  <tbody>\n",
       "    <tr>\n",
       "      <th>2</th>\n",
       "      <td>[6706.482435814952]</td>\n",
       "      <td>166.024829</td>\n",
       "      <td>0.139921</td>\n",
       "      <td>415.029129</td>\n",
       "      <td>350.967011</td>\n",
       "      <td>0.759032</td>\n",
       "    </tr>\n",
       "  </tbody>\n",
       "</table>\n",
       "</div>"
      ],
      "text/plain": [
       "                  coef        cste        R2        RMSE         mae      MAPE\n",
       "2  [6706.482435814952]  166.024829  0.139921  415.029129  350.967011  0.759032"
      ]
     },
     "execution_count": 14,
     "metadata": {},
     "output_type": "execute_result"
    }
   ],
   "source": [
    "# Define predictor and response variables\n",
    "coef_list = []\n",
    "cste_list = []\n",
    "R2_list = []\n",
    "mae_list = []\n",
    "RMSE_list = []\n",
    "MAPE_list = []\n",
    "\n",
    "for i in range(0, len(ndti_data)):\n",
    "    X = ndti_data[[\"NDTI\"]]\n",
    "    var_out = X.index.isin([i])\n",
    "    X = X.loc[~var_out]         # Leave one out\n",
    "    \n",
    "    y = ndti_data[\"Biomasse (kg/ha)\"][X.index] # same indices as X\n",
    "    \n",
    "    model_1 = LinearRegression().fit(X, y)\n",
    "    \n",
    "    coef = model_1.coef_\n",
    "    coef_list.append(coef)\n",
    "    \n",
    "    cste =  model_1.intercept_\n",
    "    cste_list.append(cste)\n",
    "    \n",
    "    X = ndti_data[[\"NDTI\"]]\n",
    "    y = ndti_data[\"Biomasse (kg/ha)\"]\n",
    "    \n",
    "    R2 = r2_score(y.values,  (model_1.predict(X)))\n",
    "    R2_list.append(R2)\n",
    "    RMSE = mean_squared_error(y.values, (model_1.predict(X)), squared=False)\n",
    "    RMSE_list.append(RMSE)\n",
    "    mae = mean_absolute_error(y.values,  (model_1.predict(X)))\n",
    "    mae_list.append(mae)\n",
    "    mape = np.mean(np.abs((y.values - (model_1.predict(X))))/y.values)\n",
    "    MAPE_list.append(mape)\n",
    "    \n",
    "result_dic = {\"coef\" : coef_list, \"cste\": cste_list, \"R2\" : R2_list,\"RMSE\": RMSE_list, \"mae\": mae_list, \"MAPE\": MAPE_list}    \n",
    "reg_results = pd.DataFrame(result_dic)\n",
    "reg_results.loc[reg_results.RMSE == reg_results.RMSE.min()]  "
   ]
  },
  {
   "cell_type": "code",
   "execution_count": 15,
   "metadata": {},
   "outputs": [],
   "source": [
    "# Predict the out var using the best model\n",
    "model_1 = LinearRegression()\n",
    "model_1.coef_ = reg_results.coef.values[2]\n",
    "model_1.intercept_ = reg_results.cste.values[2]"
   ]
  },
  {
   "cell_type": "markdown",
   "metadata": {
    "tags": []
   },
   "source": [
    "### Plot the results"
   ]
  },
  {
   "cell_type": "code",
   "execution_count": 16,
   "metadata": {
    "tags": []
   },
   "outputs": [
    {
     "name": "stderr",
     "output_type": "stream",
     "text": [
      "C:\\Users\\GARBA\\anaconda3\\envs\\geo_env\\lib\\site-packages\\sklearn\\base.py:443: UserWarning: X has feature names, but LinearRegression was fitted without feature names\n",
      "  warnings.warn(\n"
     ]
    }
   ],
   "source": [
    "# inputs\n",
    "x_all = si_TZ22B[[\"NDTI\"]]\n",
    "y_all = model_1.predict(x_all)\n",
    "#y_all"
   ]
  },
  {
   "cell_type": "code",
   "execution_count": 17,
   "metadata": {
    "tags": []
   },
   "outputs": [
    {
     "data": {
      "image/png": "[encoded data removed]",
      "text/plain": [
       "<Figure size 750x250 with 1 Axes>"
      ]
     },
     "metadata": {},
     "output_type": "display_data"
    }
   ],
   "source": [
    "fig, ax = plt.subplots(1, 1, figsize = (7.5,2.5), constrained_layout = True)\n",
    "ax.scatter(obs_mass.index, obs_mass.values, label = \"Observed Biomass\", color = \"darkblue\", s = 6)\n",
    "ax.plot(si_TZ22B.date, y_all, lw = .9, label = \"Estimated biomass\", color = \"r\", alpha = .5)\n",
    "#ax.set_xticks(sti_data.index)\n",
    "#ax.set_yticks(np.arange(0, 1500, 200))\n",
    "ax.set_ylabel(\"kgMS/ha\", fontsize = 7)\n",
    "#ax.set_xlabel(\"Index\",  fontsize = 7)\n",
    "ax.tick_params(axis='both', which='major', labelsize=8)\n",
    "ax.legend(fontsize = 7, loc = (0.01, 0.01))\n",
    "ax.set_title(\"Fallow site TZ22B - Model 2: NDTI\", fontsize = 8, fontweight = \"bold\", x = 0.2, y = .9)\n",
    "ax.grid(\"both\", alpha = 0.2)\n",
    "plt.savefig(\"./output/TZ22B/model_2_jachere.png\", dpi = 600)"
   ]
  },
  {
   "cell_type": "code",
   "execution_count": 18,
   "metadata": {},
   "outputs": [],
   "source": [
    "# Save the regression model\n",
    "#joblib.dump(model_1, \"./model 2/model_TZ22B.pkl\") "
   ]
  },
  {
   "cell_type": "markdown",
   "metadata": {},
   "source": [
    "#### 3. Model 3:  X = DFI"
   ]
  },
  {
   "cell_type": "code",
   "execution_count": 19,
   "metadata": {},
   "outputs": [
    {
     "data": {
      "text/html": [
       "<div>\n",
       "<style scoped>\n",
       "    .dataframe tbody tr th:only-of-type {\n",
       "        vertical-align: middle;\n",
       "    }\n",
       "\n",
       "    .dataframe tbody tr th {\n",
       "        vertical-align: top;\n",
       "    }\n",
       "\n",
       "    .dataframe thead th {\n",
       "        text-align: right;\n",
       "    }\n",
       "</style>\n",
       "<table border=\"1\" class=\"dataframe\">\n",
       "  <thead>\n",
       "    <tr style=\"text-align: right;\">\n",
       "      <th></th>\n",
       "      <th>DFI</th>\n",
       "      <th>Biomasse (kg/ha)</th>\n",
       "    </tr>\n",
       "  </thead>\n",
       "  <tbody>\n",
       "    <tr>\n",
       "      <th>0</th>\n",
       "      <td>13.995479</td>\n",
       "      <td>899.7875</td>\n",
       "    </tr>\n",
       "  </tbody>\n",
       "</table>\n",
       "</div>"
      ],
      "text/plain": [
       "         DFI  Biomasse (kg/ha)\n",
       "0  13.995479          899.7875"
      ]
     },
     "execution_count": 19,
     "metadata": {},
     "output_type": "execute_result"
    }
   ],
   "source": [
    "# Define input output data\n",
    "dfi_data = data_TZ22B.iloc[:, [15, 19]]\n",
    "dfi_data.head(1)"
   ]
  },
  {
   "cell_type": "code",
   "execution_count": 20,
   "metadata": {},
   "outputs": [
    {
     "data": {
      "text/html": [
       "<div>\n",
       "<style scoped>\n",
       "    .dataframe tbody tr th:only-of-type {\n",
       "        vertical-align: middle;\n",
       "    }\n",
       "\n",
       "    .dataframe tbody tr th {\n",
       "        vertical-align: top;\n",
       "    }\n",
       "\n",
       "    .dataframe thead th {\n",
       "        text-align: right;\n",
       "    }\n",
       "</style>\n",
       "<table border=\"1\" class=\"dataframe\">\n",
       "  <thead>\n",
       "    <tr style=\"text-align: right;\">\n",
       "      <th></th>\n",
       "      <th>coef</th>\n",
       "      <th>cste</th>\n",
       "      <th>R2</th>\n",
       "      <th>RMSE</th>\n",
       "      <th>mae</th>\n",
       "      <th>MAPE</th>\n",
       "    </tr>\n",
       "  </thead>\n",
       "  <tbody>\n",
       "    <tr>\n",
       "      <th>0</th>\n",
       "      <td>[23.92757676115265]</td>\n",
       "      <td>570.072238</td>\n",
       "      <td>0.011921</td>\n",
       "      <td>444.841352</td>\n",
       "      <td>360.337593</td>\n",
       "      <td>0.926037</td>\n",
       "    </tr>\n",
       "  </tbody>\n",
       "</table>\n",
       "</div>"
      ],
      "text/plain": [
       "                  coef        cste        R2        RMSE         mae      MAPE\n",
       "0  [23.92757676115265]  570.072238  0.011921  444.841352  360.337593  0.926037"
      ]
     },
     "execution_count": 20,
     "metadata": {},
     "output_type": "execute_result"
    }
   ],
   "source": [
    "# Define predictor and response variables\n",
    "coef_list = []\n",
    "cste_list = []\n",
    "R2_list = []\n",
    "mae_list = []\n",
    "RMSE_list = []\n",
    "MAPE_list = []\n",
    "\n",
    "for i in range(0, len(dfi_data)):\n",
    "    X = dfi_data[[\"DFI\"]]\n",
    "    var_out = X.index.isin([i])\n",
    "    X = X.loc[~var_out]         # Leave one out\n",
    "    \n",
    "    y = dfi_data[\"Biomasse (kg/ha)\"][X.index] # same indices as X\n",
    "    \n",
    "    model_1 = LinearRegression().fit(X, y)\n",
    "    \n",
    "    coef = model_1.coef_\n",
    "    coef_list.append(coef)\n",
    "    \n",
    "    cste =  model_1.intercept_\n",
    "    cste_list.append(cste)\n",
    "    \n",
    "    X = dfi_data[[\"DFI\"]]\n",
    "    y = dfi_data[\"Biomasse (kg/ha)\"]\n",
    "    \n",
    "    R2 = r2_score(y.values,  (model_1.predict(X)))\n",
    "    R2_list.append(R2)\n",
    "    RMSE = mean_squared_error(y.values, (model_1.predict(X)), squared=False)\n",
    "    RMSE_list.append(RMSE)\n",
    "    mae = mean_absolute_error(y.values,  (model_1.predict(X)))\n",
    "    mae_list.append(mae)\n",
    "    mape = np.mean(np.abs((y.values - (model_1.predict(X))))/y.values)\n",
    "    MAPE_list.append(mape)\n",
    "    \n",
    "result_dic = {\"coef\" : coef_list, \"cste\": cste_list, \"R2\" : R2_list,\"RMSE\": RMSE_list, \"mae\": mae_list, \"MAPE\": MAPE_list}    \n",
    "reg_results = pd.DataFrame(result_dic)\n",
    "reg_results.loc[reg_results.RMSE == reg_results.RMSE.min()]"
   ]
  },
  {
   "cell_type": "code",
   "execution_count": 21,
   "metadata": {},
   "outputs": [],
   "source": [
    "# Predict the out var using the best model\n",
    "model_1 = LinearRegression()\n",
    "model_1.coef_ = reg_results.coef.values[0]\n",
    "model_1.intercept_ = reg_results.cste.values[0]"
   ]
  },
  {
   "cell_type": "markdown",
   "metadata": {
    "tags": []
   },
   "source": [
    "### Plot the results"
   ]
  },
  {
   "cell_type": "code",
   "execution_count": 22,
   "metadata": {
    "tags": []
   },
   "outputs": [
    {
     "name": "stderr",
     "output_type": "stream",
     "text": [
      "C:\\Users\\GARBA\\anaconda3\\envs\\geo_env\\lib\\site-packages\\sklearn\\base.py:443: UserWarning: X has feature names, but LinearRegression was fitted without feature names\n",
      "  warnings.warn(\n"
     ]
    }
   ],
   "source": [
    "# inputs\n",
    "x_all = si_TZ22B[[\"DFI\"]]\n",
    "y_all = model_1.predict(x_all)\n",
    "#y_all"
   ]
  },
  {
   "cell_type": "code",
   "execution_count": 23,
   "metadata": {
    "tags": []
   },
   "outputs": [
    {
     "data": {
      "image/png": "[encoded data removed]",
      "text/plain": [
       "<Figure size 750x250 with 1 Axes>"
      ]
     },
     "metadata": {},
     "output_type": "display_data"
    }
   ],
   "source": [
    "fig, ax = plt.subplots(1, 1, figsize = (7.5,2.5), constrained_layout = True)\n",
    "ax.scatter(obs_mass.index, obs_mass.values, label = \"Observed Biomass\", color = \"darkblue\", s = 6)\n",
    "ax.plot(si_TZ22B.date, y_all, lw = .9, label = \"Estimated biomass\", color = \"r\", alpha = .5)\n",
    "#ax.set_xticks(sti_data.index)\n",
    "#ax.set_yticks(np.arange(0, 1500, 200))\n",
    "ax.set_ylabel(\"kgMS/ha\", fontsize = 7)\n",
    "#ax.set_xlabel(\"Index\",  fontsize = 7)\n",
    "ax.tick_params(axis='both', which='major', labelsize=8)\n",
    "ax.legend(fontsize = 7, loc = (0.01, 0.01))\n",
    "ax.set_title(\"Fallow site TZ22B - Model 3: DFI\", fontsize = 8, fontweight = \"bold\", x = 0.18, y = .9)\n",
    "ax.grid(\"both\", alpha = 0.2)\n",
    "plt.savefig(\"./output/TZ22B/model_3_jachere.png\", dpi = 600)"
   ]
  },
  {
   "cell_type": "code",
   "execution_count": 24,
   "metadata": {},
   "outputs": [],
   "source": [
    "# Save the regression model\n",
    "#joblib.dump(model_1, \"./model 3/model_TZ22B.pkl\") "
   ]
  },
  {
   "cell_type": "markdown",
   "metadata": {},
   "source": [
    "#### 4. Model 4:  X = NDRI"
   ]
  },
  {
   "cell_type": "code",
   "execution_count": 25,
   "metadata": {},
   "outputs": [
    {
     "data": {
      "text/html": [
       "<div>\n",
       "<style scoped>\n",
       "    .dataframe tbody tr th:only-of-type {\n",
       "        vertical-align: middle;\n",
       "    }\n",
       "\n",
       "    .dataframe tbody tr th {\n",
       "        vertical-align: top;\n",
       "    }\n",
       "\n",
       "    .dataframe thead th {\n",
       "        text-align: right;\n",
       "    }\n",
       "</style>\n",
       "<table border=\"1\" class=\"dataframe\">\n",
       "  <thead>\n",
       "    <tr style=\"text-align: right;\">\n",
       "      <th></th>\n",
       "      <th>NDRI</th>\n",
       "      <th>Biomasse (kg/ha)</th>\n",
       "    </tr>\n",
       "  </thead>\n",
       "  <tbody>\n",
       "    <tr>\n",
       "      <th>0</th>\n",
       "      <td>-0.260756</td>\n",
       "      <td>899.7875</td>\n",
       "    </tr>\n",
       "  </tbody>\n",
       "</table>\n",
       "</div>"
      ],
      "text/plain": [
       "       NDRI  Biomasse (kg/ha)\n",
       "0 -0.260756          899.7875"
      ]
     },
     "execution_count": 25,
     "metadata": {},
     "output_type": "execute_result"
    }
   ],
   "source": [
    "# Define input output data\n",
    "ndri_data = data_TZ22B.iloc[:, [16, 19]]\n",
    "ndri_data.head(1)"
   ]
  },
  {
   "cell_type": "code",
   "execution_count": 26,
   "metadata": {},
   "outputs": [
    {
     "data": {
      "text/html": [
       "<div>\n",
       "<style scoped>\n",
       "    .dataframe tbody tr th:only-of-type {\n",
       "        vertical-align: middle;\n",
       "    }\n",
       "\n",
       "    .dataframe tbody tr th {\n",
       "        vertical-align: top;\n",
       "    }\n",
       "\n",
       "    .dataframe thead th {\n",
       "        text-align: right;\n",
       "    }\n",
       "</style>\n",
       "<table border=\"1\" class=\"dataframe\">\n",
       "  <thead>\n",
       "    <tr style=\"text-align: right;\">\n",
       "      <th></th>\n",
       "      <th>coef</th>\n",
       "      <th>cste</th>\n",
       "      <th>R2</th>\n",
       "      <th>RMSE</th>\n",
       "      <th>mae</th>\n",
       "      <th>MAPE</th>\n",
       "    </tr>\n",
       "  </thead>\n",
       "  <tbody>\n",
       "    <tr>\n",
       "      <th>0</th>\n",
       "      <td>[-8874.117535760191]</td>\n",
       "      <td>-1269.525561</td>\n",
       "      <td>0.365034</td>\n",
       "      <td>356.602579</td>\n",
       "      <td>335.364133</td>\n",
       "      <td>0.634407</td>\n",
       "    </tr>\n",
       "  </tbody>\n",
       "</table>\n",
       "</div>"
      ],
      "text/plain": [
       "                   coef         cste        R2        RMSE         mae  \\\n",
       "0  [-8874.117535760191] -1269.525561  0.365034  356.602579  335.364133   \n",
       "\n",
       "       MAPE  \n",
       "0  0.634407  "
      ]
     },
     "execution_count": 26,
     "metadata": {},
     "output_type": "execute_result"
    }
   ],
   "source": [
    "# Define predictor and response variables\n",
    "coef_list = []\n",
    "cste_list = []\n",
    "R2_list = []\n",
    "mae_list = []\n",
    "RMSE_list = []\n",
    "MAPE_list = []\n",
    "\n",
    "for i in range(0, len(ndri_data)):\n",
    "    X = ndri_data[[\"NDRI\"]]\n",
    "    var_out = X.index.isin([i])\n",
    "    X = X.loc[~var_out]         # Leave one out\n",
    "    \n",
    "    y = ndri_data[\"Biomasse (kg/ha)\"][X.index] # same indices as X\n",
    "    \n",
    "    model_1 = LinearRegression().fit(X, y)\n",
    "    \n",
    "    coef = model_1.coef_\n",
    "    coef_list.append(coef)\n",
    "    \n",
    "    cste =  model_1.intercept_\n",
    "    cste_list.append(cste)\n",
    "    \n",
    "    X = ndri_data[[\"NDRI\"]]\n",
    "    y = ndri_data[\"Biomasse (kg/ha)\"]\n",
    "    \n",
    "    R2 = r2_score(y.values,  (model_1.predict(X)))\n",
    "    R2_list.append(R2)\n",
    "    RMSE = mean_squared_error(y.values, (model_1.predict(X)), squared=False)\n",
    "    RMSE_list.append(RMSE)\n",
    "    mae = mean_absolute_error(y.values,  (model_1.predict(X)))\n",
    "    mae_list.append(mae)\n",
    "    mape = np.mean(np.abs((y.values - (model_1.predict(X))))/y.values)\n",
    "    MAPE_list.append(mape)\n",
    "    \n",
    "result_dic = {\"coef\" : coef_list, \"cste\": cste_list, \"R2\" : R2_list,\"RMSE\": RMSE_list, \"mae\": mae_list, \"MAPE\": MAPE_list}    \n",
    "reg_results = pd.DataFrame(result_dic)\n",
    "reg_results.loc[reg_results.RMSE == reg_results.RMSE.min()]"
   ]
  },
  {
   "cell_type": "code",
   "execution_count": 27,
   "metadata": {},
   "outputs": [],
   "source": [
    "# Predict the out var using the best model\n",
    "model_1 = LinearRegression()\n",
    "model_1.coef_ = reg_results.coef.values[0]\n",
    "model_1.intercept_ = reg_results.cste.values[0]"
   ]
  },
  {
   "cell_type": "markdown",
   "metadata": {
    "tags": []
   },
   "source": [
    "### Plot the results"
   ]
  },
  {
   "cell_type": "code",
   "execution_count": 28,
   "metadata": {
    "tags": []
   },
   "outputs": [
    {
     "name": "stderr",
     "output_type": "stream",
     "text": [
      "C:\\Users\\GARBA\\anaconda3\\envs\\geo_env\\lib\\site-packages\\sklearn\\base.py:443: UserWarning: X has feature names, but LinearRegression was fitted without feature names\n",
      "  warnings.warn(\n"
     ]
    }
   ],
   "source": [
    "# inputs\n",
    "x_all = si_TZ22B[[\"NDRI\"]]\n",
    "y_all = model_1.predict(x_all)\n",
    "#y_all"
   ]
  },
  {
   "cell_type": "code",
   "execution_count": 29,
   "metadata": {
    "tags": []
   },
   "outputs": [
    {
     "data": {
      "image/png": "[encoded data removed]",
      "text/plain": [
       "<Figure size 750x250 with 1 Axes>"
      ]
     },
     "metadata": {},
     "output_type": "display_data"
    }
   ],
   "source": [
    "fig, ax = plt.subplots(1, 1, figsize = (7.5,2.5), constrained_layout = True)\n",
    "ax.scatter(obs_mass.index, obs_mass.values, label = \"Observed Biomass\", color = \"darkblue\", s = 6)\n",
    "ax.plot(si_TZ22B.date, y_all, lw = .9, label = \"Estimated biomass\", color = \"r\", alpha = .5)\n",
    "#ax.set_xticks(sti_data.index)\n",
    "#ax.set_yticks(np.arange(0, 1500, 200))\n",
    "ax.set_ylabel(\"kgMS/ha\", fontsize = 7)\n",
    "#ax.set_xlabel(\"Index\",  fontsize = 7)\n",
    "ax.tick_params(axis='both', which='major', labelsize=8)\n",
    "ax.legend(fontsize = 7, loc = (0.01, 0.01))\n",
    "ax.set_title(\"Fallow site TZ22B - Model 4: NDRI\", fontsize = 8, fontweight = \"bold\", x = 0.2, y = .91)\n",
    "ax.grid(\"both\", alpha = 0.2)\n",
    "plt.savefig(\"./output/TZ22B/model_4_jachere.png\", dpi = 600)"
   ]
  },
  {
   "cell_type": "code",
   "execution_count": 30,
   "metadata": {},
   "outputs": [],
   "source": [
    "# Save the regression model\n",
    "#joblib.dump(model_1, \"./model 4/model_TZ22B.pkl\") "
   ]
  },
  {
   "cell_type": "markdown",
   "metadata": {},
   "source": [
    "#### 5. Model 5:  X = [STI, NDTI]"
   ]
  },
  {
   "cell_type": "code",
   "execution_count": 31,
   "metadata": {
    "tags": []
   },
   "outputs": [
    {
     "data": {
      "text/html": [
       "<div>\n",
       "<style scoped>\n",
       "    .dataframe tbody tr th:only-of-type {\n",
       "        vertical-align: middle;\n",
       "    }\n",
       "\n",
       "    .dataframe tbody tr th {\n",
       "        vertical-align: top;\n",
       "    }\n",
       "\n",
       "    .dataframe thead th {\n",
       "        text-align: right;\n",
       "    }\n",
       "</style>\n",
       "<table border=\"1\" class=\"dataframe\">\n",
       "  <thead>\n",
       "    <tr style=\"text-align: right;\">\n",
       "      <th></th>\n",
       "      <th>STI</th>\n",
       "      <th>NDTI</th>\n",
       "      <th>Biomasse (kg/ha)</th>\n",
       "    </tr>\n",
       "  </thead>\n",
       "  <tbody>\n",
       "    <tr>\n",
       "      <th>0</th>\n",
       "      <td>1.285465</td>\n",
       "      <td>0.124905</td>\n",
       "      <td>899.7875</td>\n",
       "    </tr>\n",
       "  </tbody>\n",
       "</table>\n",
       "</div>"
      ],
      "text/plain": [
       "        STI      NDTI  Biomasse (kg/ha)\n",
       "0  1.285465  0.124905          899.7875"
      ]
     },
     "execution_count": 31,
     "metadata": {},
     "output_type": "execute_result"
    }
   ],
   "source": [
    "# Define input output data\n",
    "sti_ndti_data = data_TZ22B.iloc[:, [13,14,19]]\n",
    "sti_ndti_data.head(1)"
   ]
  },
  {
   "cell_type": "code",
   "execution_count": 32,
   "metadata": {},
   "outputs": [
    {
     "data": {
      "text/html": [
       "<div>\n",
       "<style scoped>\n",
       "    .dataframe tbody tr th:only-of-type {\n",
       "        vertical-align: middle;\n",
       "    }\n",
       "\n",
       "    .dataframe tbody tr th {\n",
       "        vertical-align: top;\n",
       "    }\n",
       "\n",
       "    .dataframe thead th {\n",
       "        text-align: right;\n",
       "    }\n",
       "</style>\n",
       "<table border=\"1\" class=\"dataframe\">\n",
       "  <thead>\n",
       "    <tr style=\"text-align: right;\">\n",
       "      <th></th>\n",
       "      <th>coef</th>\n",
       "      <th>cste</th>\n",
       "      <th>R2</th>\n",
       "      <th>RMSE</th>\n",
       "      <th>mae</th>\n",
       "      <th>MAPE</th>\n",
       "    </tr>\n",
       "  </thead>\n",
       "  <tbody>\n",
       "    <tr>\n",
       "      <th>0</th>\n",
       "      <td>[-157109.37298163155, 399894.19791661]</td>\n",
       "      <td>153180.995565</td>\n",
       "      <td>0.276557</td>\n",
       "      <td>380.637442</td>\n",
       "      <td>346.602203</td>\n",
       "      <td>0.667384</td>\n",
       "    </tr>\n",
       "  </tbody>\n",
       "</table>\n",
       "</div>"
      ],
      "text/plain": [
       "                                     coef           cste        R2  \\\n",
       "0  [-157109.37298163155, 399894.19791661]  153180.995565  0.276557   \n",
       "\n",
       "         RMSE         mae      MAPE  \n",
       "0  380.637442  346.602203  0.667384  "
      ]
     },
     "execution_count": 32,
     "metadata": {},
     "output_type": "execute_result"
    }
   ],
   "source": [
    "# Define predictor and response variables\n",
    "coef_list = []\n",
    "cste_list = []\n",
    "R2_list = []\n",
    "mae_list = []\n",
    "RMSE_list = []\n",
    "MAPE_list = []\n",
    "\n",
    "for i in range(0, len(sti_ndti_data)):\n",
    "    X = sti_ndti_data[[\"STI\", \"NDTI\"]]\n",
    "    var_out = X.index.isin([i])\n",
    "    X = X.loc[~var_out]         # Leave one out\n",
    "    \n",
    "    y = sti_ndti_data[\"Biomasse (kg/ha)\"][X.index] # same indices as X\n",
    "    \n",
    "    model_1 = LinearRegression().fit(X, y)\n",
    "    \n",
    "    coef = model_1.coef_\n",
    "    coef_list.append(coef)\n",
    "    \n",
    "    cste =  model_1.intercept_\n",
    "    cste_list.append(cste)\n",
    "    \n",
    "    X = sti_ndti_data[[\"STI\", \"NDTI\"]]\n",
    "    y = sti_ndti_data[\"Biomasse (kg/ha)\"]\n",
    "        \n",
    "    R2 = r2_score(y.values,  (model_1.predict(X)))\n",
    "    R2_list.append(R2)\n",
    "    RMSE = mean_squared_error(y.values, (model_1.predict(X)), squared=False)\n",
    "    RMSE_list.append(RMSE)\n",
    "    mae = mean_absolute_error(y.values,  (model_1.predict(X)))\n",
    "    mae_list.append(mae)\n",
    "    mape = np.mean(np.abs((y.values - (model_1.predict(X))))/y.values)\n",
    "    MAPE_list.append(mape)\n",
    "    \n",
    "result_dic = {\"coef\" : coef_list, \"cste\": cste_list, \"R2\" : R2_list,\"RMSE\": RMSE_list, \"mae\": mae_list, \"MAPE\": MAPE_list}    \n",
    "reg_results = pd.DataFrame(result_dic)\n",
    "reg_results.loc[reg_results.RMSE == reg_results.RMSE.min()]  "
   ]
  },
  {
   "cell_type": "code",
   "execution_count": 33,
   "metadata": {},
   "outputs": [],
   "source": [
    "# Predict the out var using the best model\n",
    "model_1 = LinearRegression()\n",
    "model_1.coef_ = reg_results.coef.values[0]\n",
    "model_1.intercept_ = reg_results.cste.values[0]"
   ]
  },
  {
   "cell_type": "markdown",
   "metadata": {
    "tags": []
   },
   "source": [
    "### Plot the results"
   ]
  },
  {
   "cell_type": "code",
   "execution_count": 34,
   "metadata": {
    "tags": []
   },
   "outputs": [
    {
     "name": "stderr",
     "output_type": "stream",
     "text": [
      "C:\\Users\\GARBA\\anaconda3\\envs\\geo_env\\lib\\site-packages\\sklearn\\base.py:443: UserWarning: X has feature names, but LinearRegression was fitted without feature names\n",
      "  warnings.warn(\n"
     ]
    }
   ],
   "source": [
    "# inputs\n",
    "x_all = si_TZ22B[[\"STI\", \"NDTI\"]]\n",
    "y_all = model_1.predict(x_all)\n",
    "#y_all"
   ]
  },
  {
   "cell_type": "code",
   "execution_count": 35,
   "metadata": {
    "tags": []
   },
   "outputs": [
    {
     "data": {
      "image/png": "[encoded data removed]",
      "text/plain": [
       "<Figure size 750x250 with 1 Axes>"
      ]
     },
     "metadata": {},
     "output_type": "display_data"
    }
   ],
   "source": [
    "fig, ax = plt.subplots(1, 1, figsize = (7.5,2.5), constrained_layout = True)\n",
    "ax.scatter(obs_mass.index, obs_mass.values, label = \"Observed Biomass\", color = \"darkblue\", s = 6)\n",
    "ax.plot(si_TZ22B.date, y_all, lw = .9, label = \"Estimated biomass\", color = \"r\", alpha = .5)\n",
    "#ax.set_xticks(sti_data.index)\n",
    "#ax.set_yticks(np.arange(0, 1500, 200))\n",
    "ax.set_ylabel(\"kgMS/ha\", fontsize = 7)\n",
    "#ax.set_xlabel(\"Index\",  fontsize = 7)\n",
    "ax.tick_params(axis='both', which='major', labelsize=8)\n",
    "ax.legend(fontsize = 7, loc = (0.81, 0.84))\n",
    "ax.set_title(\"Fallow site TZ22B - Model 5: STI and NDTI\", fontsize = 8, fontweight = \"bold\", x = 0.2, y = .9)\n",
    "ax.grid(\"both\", alpha = 0.2)\n",
    "plt.savefig(\"./output/TZ22B/model_5_jachere.png\", dpi = 600)"
   ]
  },
  {
   "cell_type": "code",
   "execution_count": 36,
   "metadata": {},
   "outputs": [],
   "source": [
    "# Save the regression model\n",
    "#joblib.dump(model_1, \"./model 5/model_TZ22B.pkl\") "
   ]
  },
  {
   "cell_type": "markdown",
   "metadata": {},
   "source": [
    "#### 6. Model 6:  X = [STI, DFI]"
   ]
  },
  {
   "cell_type": "code",
   "execution_count": 37,
   "metadata": {},
   "outputs": [
    {
     "data": {
      "text/html": [
       "<div>\n",
       "<style scoped>\n",
       "    .dataframe tbody tr th:only-of-type {\n",
       "        vertical-align: middle;\n",
       "    }\n",
       "\n",
       "    .dataframe tbody tr th {\n",
       "        vertical-align: top;\n",
       "    }\n",
       "\n",
       "    .dataframe thead th {\n",
       "        text-align: right;\n",
       "    }\n",
       "</style>\n",
       "<table border=\"1\" class=\"dataframe\">\n",
       "  <thead>\n",
       "    <tr style=\"text-align: right;\">\n",
       "      <th></th>\n",
       "      <th>STI</th>\n",
       "      <th>DFI</th>\n",
       "      <th>Biomasse (kg/ha)</th>\n",
       "    </tr>\n",
       "  </thead>\n",
       "  <tbody>\n",
       "    <tr>\n",
       "      <th>0</th>\n",
       "      <td>1.285465</td>\n",
       "      <td>13.995479</td>\n",
       "      <td>899.7875</td>\n",
       "    </tr>\n",
       "  </tbody>\n",
       "</table>\n",
       "</div>"
      ],
      "text/plain": [
       "        STI        DFI  Biomasse (kg/ha)\n",
       "0  1.285465  13.995479          899.7875"
      ]
     },
     "execution_count": 37,
     "metadata": {},
     "output_type": "execute_result"
    }
   ],
   "source": [
    "# Define input output data\n",
    "sti_dfi_data = data_TZ22B.iloc[:, [13,15,19]]\n",
    "sti_dfi_data.head(1)"
   ]
  },
  {
   "cell_type": "code",
   "execution_count": 38,
   "metadata": {},
   "outputs": [
    {
     "data": {
      "text/html": [
       "<div>\n",
       "<style scoped>\n",
       "    .dataframe tbody tr th:only-of-type {\n",
       "        vertical-align: middle;\n",
       "    }\n",
       "\n",
       "    .dataframe tbody tr th {\n",
       "        vertical-align: top;\n",
       "    }\n",
       "\n",
       "    .dataframe thead th {\n",
       "        text-align: right;\n",
       "    }\n",
       "</style>\n",
       "<table border=\"1\" class=\"dataframe\">\n",
       "  <thead>\n",
       "    <tr style=\"text-align: right;\">\n",
       "      <th></th>\n",
       "      <th>coef</th>\n",
       "      <th>cste</th>\n",
       "      <th>R2</th>\n",
       "      <th>RMSE</th>\n",
       "      <th>mae</th>\n",
       "      <th>MAPE</th>\n",
       "    </tr>\n",
       "  </thead>\n",
       "  <tbody>\n",
       "    <tr>\n",
       "      <th>0</th>\n",
       "      <td>[3718.7216989848666, -47.70909310352001]</td>\n",
       "      <td>-3160.603373</td>\n",
       "      <td>0.165445</td>\n",
       "      <td>408.824368</td>\n",
       "      <td>354.146158</td>\n",
       "      <td>0.739938</td>\n",
       "    </tr>\n",
       "  </tbody>\n",
       "</table>\n",
       "</div>"
      ],
      "text/plain": [
       "                                       coef         cste        R2  \\\n",
       "0  [3718.7216989848666, -47.70909310352001] -3160.603373  0.165445   \n",
       "\n",
       "         RMSE         mae      MAPE  \n",
       "0  408.824368  354.146158  0.739938  "
      ]
     },
     "execution_count": 38,
     "metadata": {},
     "output_type": "execute_result"
    }
   ],
   "source": [
    "# Define predictor and response variables\n",
    "coef_list = []\n",
    "cste_list = []\n",
    "R2_list = []\n",
    "mae_list = []\n",
    "RMSE_list = []\n",
    "MAPE_list = []\n",
    "for i in range(0, len(sti_dfi_data)):\n",
    "    X = sti_dfi_data[[\"STI\", \"DFI\"]]\n",
    "    var_out = X.index.isin([i])\n",
    "    X = X.loc[~var_out]         # Leave one out\n",
    "    \n",
    "    y = sti_dfi_data[\"Biomasse (kg/ha)\"][X.index] # same indices as X\n",
    "    \n",
    "    model_1 = LinearRegression().fit(X, y)\n",
    "    \n",
    "    coef = model_1.coef_\n",
    "    coef_list.append(coef)\n",
    "    \n",
    "    cste =  model_1.intercept_\n",
    "    cste_list.append(cste)\n",
    "    \n",
    "    X = sti_dfi_data[[\"STI\", \"DFI\"]]\n",
    "    y = sti_dfi_data[\"Biomasse (kg/ha)\"]\n",
    "    \n",
    "    R2 = r2_score(y.values,  (model_1.predict(X)))\n",
    "    R2_list.append(R2)\n",
    "    RMSE = mean_squared_error(y.values, (model_1.predict(X)), squared=False)\n",
    "    RMSE_list.append(RMSE)\n",
    "    mae = mean_absolute_error(y.values,  (model_1.predict(X)))\n",
    "    mae_list.append(mae)\n",
    "    mape = np.mean(np.abs((y.values - (model_1.predict(X))))/y.values)\n",
    "    MAPE_list.append(mape)\n",
    "    \n",
    "result_dic = {\"coef\" : coef_list, \"cste\": cste_list, \"R2\" : R2_list,\"RMSE\": RMSE_list, \"mae\": mae_list, \"MAPE\": MAPE_list}    \n",
    "reg_results = pd.DataFrame(result_dic)\n",
    "reg_results.loc[reg_results.RMSE == reg_results.RMSE.min()]     "
   ]
  },
  {
   "cell_type": "code",
   "execution_count": 39,
   "metadata": {},
   "outputs": [],
   "source": [
    "model_1 = LinearRegression()\n",
    "model_1.coef_ = reg_results.coef.values[0]\n",
    "model_1.intercept_ = reg_results.cste.values[0]"
   ]
  },
  {
   "cell_type": "markdown",
   "metadata": {
    "tags": []
   },
   "source": [
    "### Plot the results"
   ]
  },
  {
   "cell_type": "code",
   "execution_count": 40,
   "metadata": {
    "tags": []
   },
   "outputs": [
    {
     "name": "stderr",
     "output_type": "stream",
     "text": [
      "C:\\Users\\GARBA\\anaconda3\\envs\\geo_env\\lib\\site-packages\\sklearn\\base.py:443: UserWarning: X has feature names, but LinearRegression was fitted without feature names\n",
      "  warnings.warn(\n"
     ]
    }
   ],
   "source": [
    "# inputs\n",
    "x_all = si_TZ22B[[\"STI\", \"DFI\"]]\n",
    "y_all = model_1.predict(x_all)\n",
    "#y_all"
   ]
  },
  {
   "cell_type": "code",
   "execution_count": 41,
   "metadata": {
    "tags": []
   },
   "outputs": [
    {
     "data": {
      "image/png": "[encoded data removed]",
      "text/plain": [
       "<Figure size 750x250 with 1 Axes>"
      ]
     },
     "metadata": {},
     "output_type": "display_data"
    }
   ],
   "source": [
    "fig, ax = plt.subplots(1, 1, figsize = (7.5,2.5), constrained_layout = True)\n",
    "ax.scatter(obs_mass.index, obs_mass.values, label = \"Observed Biomass\", color = \"darkblue\", s = 6)\n",
    "ax.plot(si_TZ22B.date, y_all, lw = .9, label = \"Estimated biomass\", color = \"r\", alpha = .5)\n",
    "#ax.set_xticks(sti_data.index)\n",
    "#ax.set_yticks(np.arange(0, 1500, 200))\n",
    "ax.set_ylabel(\"kgMS/ha\", fontsize = 7)\n",
    "#ax.set_xlabel(\"Index\",  fontsize = 7)\n",
    "ax.tick_params(axis='both', which='major', labelsize=8)\n",
    "ax.legend(fontsize = 7, loc = (0.01, 0.01))\n",
    "ax.set_title(\"Fallow site TZ22B - Model 6: STI and DFI\", fontsize = 8, fontweight = \"bold\", x = 0.45, y = .88)\n",
    "ax.grid(\"both\", alpha = 0.2)\n",
    "plt.savefig(\"./output/TZ22B/model_6_jachere.png\", dpi = 600)"
   ]
  },
  {
   "cell_type": "code",
   "execution_count": 42,
   "metadata": {},
   "outputs": [],
   "source": [
    "# Save the regression model\n",
    "#joblib.dump(model_1, \"./model 6/model_TZ22B.pkl\") "
   ]
  },
  {
   "cell_type": "markdown",
   "metadata": {},
   "source": [
    "#### 7. Model 7:  X = [STI, NDRI]"
   ]
  },
  {
   "cell_type": "code",
   "execution_count": 43,
   "metadata": {},
   "outputs": [
    {
     "data": {
      "text/html": [
       "<div>\n",
       "<style scoped>\n",
       "    .dataframe tbody tr th:only-of-type {\n",
       "        vertical-align: middle;\n",
       "    }\n",
       "\n",
       "    .dataframe tbody tr th {\n",
       "        vertical-align: top;\n",
       "    }\n",
       "\n",
       "    .dataframe thead th {\n",
       "        text-align: right;\n",
       "    }\n",
       "</style>\n",
       "<table border=\"1\" class=\"dataframe\">\n",
       "  <thead>\n",
       "    <tr style=\"text-align: right;\">\n",
       "      <th></th>\n",
       "      <th>STI</th>\n",
       "      <th>NDRI</th>\n",
       "      <th>Biomasse (kg/ha)</th>\n",
       "    </tr>\n",
       "  </thead>\n",
       "  <tbody>\n",
       "    <tr>\n",
       "      <th>0</th>\n",
       "      <td>1.285465</td>\n",
       "      <td>-0.260756</td>\n",
       "      <td>899.7875</td>\n",
       "    </tr>\n",
       "  </tbody>\n",
       "</table>\n",
       "</div>"
      ],
      "text/plain": [
       "        STI      NDRI  Biomasse (kg/ha)\n",
       "0  1.285465 -0.260756          899.7875"
      ]
     },
     "execution_count": 43,
     "metadata": {},
     "output_type": "execute_result"
    }
   ],
   "source": [
    "# Define input output data\n",
    "sti_ndri_data = data_TZ22B.iloc[:, [13,16,19]]\n",
    "sti_ndri_data.head(1)"
   ]
  },
  {
   "cell_type": "code",
   "execution_count": 44,
   "metadata": {},
   "outputs": [
    {
     "data": {
      "text/html": [
       "<div>\n",
       "<style scoped>\n",
       "    .dataframe tbody tr th:only-of-type {\n",
       "        vertical-align: middle;\n",
       "    }\n",
       "\n",
       "    .dataframe tbody tr th {\n",
       "        vertical-align: top;\n",
       "    }\n",
       "\n",
       "    .dataframe thead th {\n",
       "        text-align: right;\n",
       "    }\n",
       "</style>\n",
       "<table border=\"1\" class=\"dataframe\">\n",
       "  <thead>\n",
       "    <tr style=\"text-align: right;\">\n",
       "      <th></th>\n",
       "      <th>coef</th>\n",
       "      <th>cste</th>\n",
       "      <th>R2</th>\n",
       "      <th>RMSE</th>\n",
       "      <th>mae</th>\n",
       "      <th>MAPE</th>\n",
       "    </tr>\n",
       "  </thead>\n",
       "  <tbody>\n",
       "    <tr>\n",
       "      <th>0</th>\n",
       "      <td>[1785.341004888798, -8023.202234382996]</td>\n",
       "      <td>-3244.223595</td>\n",
       "      <td>0.390086</td>\n",
       "      <td>349.497212</td>\n",
       "      <td>326.410825</td>\n",
       "      <td>0.554306</td>\n",
       "    </tr>\n",
       "  </tbody>\n",
       "</table>\n",
       "</div>"
      ],
      "text/plain": [
       "                                      coef         cste        R2        RMSE  \\\n",
       "0  [1785.341004888798, -8023.202234382996] -3244.223595  0.390086  349.497212   \n",
       "\n",
       "          mae      MAPE  \n",
       "0  326.410825  0.554306  "
      ]
     },
     "execution_count": 44,
     "metadata": {},
     "output_type": "execute_result"
    }
   ],
   "source": [
    "# Define predictor and response variables\n",
    "coef_list = []\n",
    "cste_list = []\n",
    "R2_list = []\n",
    "mae_list = []\n",
    "RMSE_list = []\n",
    "MAPE_list = []\n",
    "\n",
    "for i in range(0, len(sti_ndri_data)):\n",
    "    X = sti_ndri_data[[\"STI\", \"NDRI\"]]\n",
    "    var_out = X.index.isin([i])\n",
    "    X = X.loc[~var_out]         # Leave one out\n",
    "    \n",
    "    y = sti_ndri_data[\"Biomasse (kg/ha)\"][X.index] # same indices as X\n",
    "    \n",
    "    model_1 = LinearRegression().fit(X, y)\n",
    "    \n",
    "    coef = model_1.coef_\n",
    "    coef_list.append(coef)\n",
    "    \n",
    "    cste =  model_1.intercept_\n",
    "    cste_list.append(cste)\n",
    "    X = sti_ndri_data[[\"STI\", \"NDRI\"]]\n",
    "    y = sti_ndri_data[\"Biomasse (kg/ha)\"]\n",
    "    R2 = r2_score(y.values,  (model_1.predict(X)))\n",
    "    R2_list.append(R2)\n",
    "    RMSE = mean_squared_error(y.values, (model_1.predict(X)), squared=False)\n",
    "    RMSE_list.append(RMSE)\n",
    "    mae = mean_absolute_error(y.values,  (model_1.predict(X)))\n",
    "    mae_list.append(mae)\n",
    "    mape = np.mean(np.abs((y.values - (model_1.predict(X))))/y.values)\n",
    "    MAPE_list.append(mape)\n",
    "    \n",
    "result_dic = {\"coef\" : coef_list, \"cste\": cste_list, \"R2\" : R2_list,\"RMSE\": RMSE_list, \"mae\": mae_list, \"MAPE\": MAPE_list}    \n",
    "reg_results = pd.DataFrame(result_dic)\n",
    "reg_results.loc[reg_results.RMSE == reg_results.RMSE.min()]   "
   ]
  },
  {
   "cell_type": "code",
   "execution_count": 45,
   "metadata": {},
   "outputs": [],
   "source": [
    "model_1 = LinearRegression()\n",
    "model_1.coef_ = reg_results.coef.values[0]\n",
    "model_1.intercept_ = reg_results.cste.values[0]"
   ]
  },
  {
   "cell_type": "markdown",
   "metadata": {
    "tags": []
   },
   "source": [
    "### Plot the results"
   ]
  },
  {
   "cell_type": "code",
   "execution_count": 46,
   "metadata": {
    "tags": []
   },
   "outputs": [
    {
     "name": "stderr",
     "output_type": "stream",
     "text": [
      "C:\\Users\\GARBA\\anaconda3\\envs\\geo_env\\lib\\site-packages\\sklearn\\base.py:443: UserWarning: X has feature names, but LinearRegression was fitted without feature names\n",
      "  warnings.warn(\n"
     ]
    }
   ],
   "source": [
    "# inputs\n",
    "x_all = si_TZ22B[[\"STI\", \"NDRI\"]]\n",
    "y_all = model_1.predict(x_all)\n",
    "#y_all"
   ]
  },
  {
   "cell_type": "code",
   "execution_count": 47,
   "metadata": {
    "tags": []
   },
   "outputs": [
    {
     "data": {
      "image/png": "[encoded data removed]",
      "text/plain": [
       "<Figure size 750x250 with 1 Axes>"
      ]
     },
     "metadata": {},
     "output_type": "display_data"
    }
   ],
   "source": [
    "fig, ax = plt.subplots(1, 1, figsize = (7.5,2.5), constrained_layout = True)\n",
    "ax.scatter(obs_mass.index, obs_mass.values, label = \"Observed Biomass\", color = \"darkblue\", s = 6)\n",
    "ax.plot(si_TZ22B.date, y_all, lw = .9, label = \"Estimated biomass\", color = \"r\", alpha = .5)\n",
    "#ax.set_xticks(sti_data.index)\n",
    "#ax.set_yticks(np.arange(0, 1500, 200))\n",
    "ax.set_ylabel(\"kgMS/ha\", fontsize = 7)\n",
    "#ax.set_xlabel(\"Index\",  fontsize = 7)\n",
    "ax.tick_params(axis='both', which='major', labelsize=8)\n",
    "ax.legend(fontsize = 7, loc = (0.8, 0.8))\n",
    "ax.set_title(\"Fallow site TZ22B - Model 7: STI and NDRI\", fontsize = 8, fontweight = \"bold\", x = 0.22, y = .9)\n",
    "ax.grid(\"both\", alpha = 0.2)\n",
    "plt.savefig(\"./output/TZ22B/model_7_jachere.png\", dpi = 600)"
   ]
  },
  {
   "cell_type": "code",
   "execution_count": 48,
   "metadata": {},
   "outputs": [],
   "source": [
    "# Save the regression model\n",
    "#joblib.dump(model_1, \"./model 7/model_TZ22B.pkl\") "
   ]
  },
  {
   "cell_type": "markdown",
   "metadata": {},
   "source": [
    "#### 8. Model 8:  X = [NDTI, DFI]"
   ]
  },
  {
   "cell_type": "code",
   "execution_count": 10,
   "metadata": {},
   "outputs": [
    {
     "data": {
      "text/html": [
       "<div>\n",
       "<style scoped>\n",
       "    .dataframe tbody tr th:only-of-type {\n",
       "        vertical-align: middle;\n",
       "    }\n",
       "\n",
       "    .dataframe tbody tr th {\n",
       "        vertical-align: top;\n",
       "    }\n",
       "\n",
       "    .dataframe thead th {\n",
       "        text-align: right;\n",
       "    }\n",
       "</style>\n",
       "<table border=\"1\" class=\"dataframe\">\n",
       "  <thead>\n",
       "    <tr style=\"text-align: right;\">\n",
       "      <th></th>\n",
       "      <th>NDTI</th>\n",
       "      <th>DFI</th>\n",
       "      <th>Biomasse (kg/ha)</th>\n",
       "    </tr>\n",
       "  </thead>\n",
       "  <tbody>\n",
       "    <tr>\n",
       "      <th>0</th>\n",
       "      <td>0.124905</td>\n",
       "      <td>13.995479</td>\n",
       "      <td>899.7875</td>\n",
       "    </tr>\n",
       "  </tbody>\n",
       "</table>\n",
       "</div>"
      ],
      "text/plain": [
       "       NDTI        DFI  Biomasse (kg/ha)\n",
       "0  0.124905  13.995479          899.7875"
      ]
     },
     "execution_count": 10,
     "metadata": {},
     "output_type": "execute_result"
    }
   ],
   "source": [
    "# Define input output data\n",
    "ndti_dfi_data = data_TZ22B.iloc[:, [14,15,19]]\n",
    "ndti_dfi_data.head(1)"
   ]
  },
  {
   "cell_type": "code",
   "execution_count": 11,
   "metadata": {},
   "outputs": [
    {
     "data": {
      "text/html": [
       "<div>\n",
       "<style scoped>\n",
       "    .dataframe tbody tr th:only-of-type {\n",
       "        vertical-align: middle;\n",
       "    }\n",
       "\n",
       "    .dataframe tbody tr th {\n",
       "        vertical-align: top;\n",
       "    }\n",
       "\n",
       "    .dataframe thead th {\n",
       "        text-align: right;\n",
       "    }\n",
       "</style>\n",
       "<table border=\"1\" class=\"dataframe\">\n",
       "  <thead>\n",
       "    <tr style=\"text-align: right;\">\n",
       "      <th></th>\n",
       "      <th>coef</th>\n",
       "      <th>cste</th>\n",
       "      <th>R2</th>\n",
       "      <th>RMSE</th>\n",
       "      <th>mae</th>\n",
       "      <th>MAPE</th>\n",
       "      <th>RMSPE</th>\n",
       "    </tr>\n",
       "  </thead>\n",
       "  <tbody>\n",
       "    <tr>\n",
       "      <th>0</th>\n",
       "      <td>[9383.218500527117, -46.96191539699495]</td>\n",
       "      <td>444.963645</td>\n",
       "      <td>0.171194</td>\n",
       "      <td>407.413844</td>\n",
       "      <td>353.698323</td>\n",
       "      <td>0.735083</td>\n",
       "      <td>103.566139</td>\n",
       "    </tr>\n",
       "  </tbody>\n",
       "</table>\n",
       "</div>"
      ],
      "text/plain": [
       "                                      coef        cste        R2        RMSE  \\\n",
       "0  [9383.218500527117, -46.96191539699495]  444.963645  0.171194  407.413844   \n",
       "\n",
       "          mae      MAPE       RMSPE  \n",
       "0  353.698323  0.735083  103.566139  "
      ]
     },
     "execution_count": 11,
     "metadata": {},
     "output_type": "execute_result"
    }
   ],
   "source": [
    "# Define predictor and response variables\n",
    "coef_list = []\n",
    "cste_list = []\n",
    "R2_list = []\n",
    "mae_list = []\n",
    "RMSE_list = []\n",
    "MAPE_list = []\n",
    "RMSPE_list = []\n",
    "\n",
    "for i in range(0, len(ndti_dfi_data)):\n",
    "    X = ndti_dfi_data[[\"NDTI\", \"DFI\"]]\n",
    "    var_out = X.index.isin([i])\n",
    "    X = X.loc[~var_out]         # Leave one out\n",
    "    \n",
    "    y = ndti_dfi_data[\"Biomasse (kg/ha)\"][X.index] # same indices as X\n",
    "    \n",
    "    model_1 = LinearRegression().fit(X, y)\n",
    "    \n",
    "    coef = model_1.coef_\n",
    "    coef_list.append(coef)\n",
    "    \n",
    "    cste =  model_1.intercept_\n",
    "    cste_list.append(cste)\n",
    "    \n",
    "    X = ndti_dfi_data[[\"NDTI\", \"DFI\"]]\n",
    "    y = ndti_dfi_data[\"Biomasse (kg/ha)\"]\n",
    "    \n",
    "    R2 = r2_score(y.values,  (model_1.predict(X)))\n",
    "    R2_list.append(R2)\n",
    "    RMSE = mean_squared_error(y.values, model_1.predict(X), squared=False)\n",
    "    RMSE_list.append(RMSE)\n",
    "    mae = mean_absolute_error(y.values,  model_1.predict(X))\n",
    "    mae_list.append(mae)\n",
    "    mape = np.mean(np.abs((y.values - model_1.predict(X)))/y.values)\n",
    "    MAPE_list.append(mape)\n",
    "    rmspe = rmspe = (np.sqrt(np.mean(np.square((y.values - model_1.predict(X)) / y.values)))) * 100\n",
    "    RMSPE_list.append(rmspe)\n",
    "    \n",
    "result_dic = {\"coef\" : coef_list, \"cste\": cste_list, \"R2\" : R2_list,\"RMSE\": RMSE_list, \"mae\": mae_list, \"MAPE\": MAPE_list, \"RMSPE\": RMSPE_list}    \n",
    "reg_results = pd.DataFrame(result_dic)\n",
    "reg_results.loc[reg_results.RMSE == reg_results.RMSE.min()]   "
   ]
  },
  {
   "cell_type": "code",
   "execution_count": 12,
   "metadata": {},
   "outputs": [],
   "source": [
    "model_1 = LinearRegression()\n",
    "model_1.coef_ = reg_results.coef.values[0]\n",
    "model_1.intercept_ = reg_results.cste.values[0]"
   ]
  },
  {
   "cell_type": "markdown",
   "metadata": {
    "tags": []
   },
   "source": [
    "### Plot the results"
   ]
  },
  {
   "cell_type": "code",
   "execution_count": 107,
   "metadata": {
    "tags": []
   },
   "outputs": [
    {
     "name": "stderr",
     "output_type": "stream",
     "text": [
      "C:\\Users\\GARBA\\anaconda3\\envs\\geo_env\\lib\\site-packages\\sklearn\\base.py:443: UserWarning: X has feature names, but LinearRegression was fitted without feature names\n",
      "  warnings.warn(\n"
     ]
    }
   ],
   "source": [
    "# inputs\n",
    "x_all = si_TZ22B[[\"NDTI\", \"DFI\"]]\n",
    "y_all = model_1.predict(x_all)\n",
    "#y_all"
   ]
  },
  {
   "cell_type": "code",
   "execution_count": 108,
   "metadata": {
    "tags": []
   },
   "outputs": [
    {
     "data": {
      "image/png": "[encoded data removed]",
      "text/plain": [
       "<Figure size 560x200 with 1 Axes>"
      ]
     },
     "metadata": {},
     "output_type": "display_data"
    }
   ],
   "source": [
    "fig, ax = plt.subplots(1, 1, figsize = (5.6,2.), constrained_layout = True)\n",
    "ax.scatter(obs_mass.index, obs_mass.values, label = \"Observed Biomass\", color = \"darkblue\", s = 6)\n",
    "ax.plot(si_TZ22B.date, y_all, lw = .9, label = \"Estimated biomass\", color = \"r\", alpha = .5)\n",
    "#ax.set_xticks(sti_data.index)\n",
    "#ax.set_yticks(np.arange(0, 1500, 200))\n",
    "ax.set_ylabel(\"kgMS/ha\", fontsize = 7)\n",
    "#ax.set_xlabel(\"Index\",  fontsize = 7)\n",
    "ax.tick_params(axis='both', which='major', labelsize=8)\n",
    "#ax.legend(fontsize = 7, loc = (0.8, 0.8))\n",
    "ax.set_title(\"Fallow site TZ22B - Combination of\\n NDTI and DFI\", fontsize = 8, fontweight = \"bold\", x = 0.25, y = .02)\n",
    "ax.grid(\"both\", alpha = 0.2)\n",
    "plt.savefig(\"./output/TZ22B/model_8_jachere.png\", dpi = 600)"
   ]
  },
  {
   "cell_type": "code",
   "execution_count": 102,
   "metadata": {},
   "outputs": [],
   "source": [
    "# Save the regression model\n",
    "#joblib.dump(model_1, \"./model 8/model_TZ22B.pkl\") "
   ]
  },
  {
   "cell_type": "markdown",
   "metadata": {},
   "source": [
    "#### 9. Model 9:  X = [NDTI, NDRI]"
   ]
  },
  {
   "cell_type": "code",
   "execution_count": 55,
   "metadata": {},
   "outputs": [
    {
     "data": {
      "text/html": [
       "<div>\n",
       "<style scoped>\n",
       "    .dataframe tbody tr th:only-of-type {\n",
       "        vertical-align: middle;\n",
       "    }\n",
       "\n",
       "    .dataframe tbody tr th {\n",
       "        vertical-align: top;\n",
       "    }\n",
       "\n",
       "    .dataframe thead th {\n",
       "        text-align: right;\n",
       "    }\n",
       "</style>\n",
       "<table border=\"1\" class=\"dataframe\">\n",
       "  <thead>\n",
       "    <tr style=\"text-align: right;\">\n",
       "      <th></th>\n",
       "      <th>NDTI</th>\n",
       "      <th>NDRI</th>\n",
       "      <th>Biomasse (kg/ha)</th>\n",
       "    </tr>\n",
       "  </thead>\n",
       "  <tbody>\n",
       "    <tr>\n",
       "      <th>0</th>\n",
       "      <td>0.124905</td>\n",
       "      <td>-0.260756</td>\n",
       "      <td>899.7875</td>\n",
       "    </tr>\n",
       "  </tbody>\n",
       "</table>\n",
       "</div>"
      ],
      "text/plain": [
       "       NDTI      NDRI  Biomasse (kg/ha)\n",
       "0  0.124905 -0.260756          899.7875"
      ]
     },
     "execution_count": 55,
     "metadata": {},
     "output_type": "execute_result"
    }
   ],
   "source": [
    "# Define input output data\n",
    "ndti_ndri_data = data_TZ22B.iloc[:, [14,16,19]]\n",
    "ndti_ndri_data.head(1)"
   ]
  },
  {
   "cell_type": "code",
   "execution_count": 56,
   "metadata": {},
   "outputs": [
    {
     "data": {
      "text/html": [
       "<div>\n",
       "<style scoped>\n",
       "    .dataframe tbody tr th:only-of-type {\n",
       "        vertical-align: middle;\n",
       "    }\n",
       "\n",
       "    .dataframe tbody tr th {\n",
       "        vertical-align: top;\n",
       "    }\n",
       "\n",
       "    .dataframe thead th {\n",
       "        text-align: right;\n",
       "    }\n",
       "</style>\n",
       "<table border=\"1\" class=\"dataframe\">\n",
       "  <thead>\n",
       "    <tr style=\"text-align: right;\">\n",
       "      <th></th>\n",
       "      <th>coef</th>\n",
       "      <th>cste</th>\n",
       "      <th>R2</th>\n",
       "      <th>RMSE</th>\n",
       "      <th>mae</th>\n",
       "      <th>MAPE</th>\n",
       "    </tr>\n",
       "  </thead>\n",
       "  <tbody>\n",
       "    <tr>\n",
       "      <th>0</th>\n",
       "      <td>[4473.021204153863, -7964.215605443948]</td>\n",
       "      <td>-1492.052095</td>\n",
       "      <td>0.38967</td>\n",
       "      <td>349.616344</td>\n",
       "      <td>326.582161</td>\n",
       "      <td>0.555004</td>\n",
       "    </tr>\n",
       "  </tbody>\n",
       "</table>\n",
       "</div>"
      ],
      "text/plain": [
       "                                      coef         cste       R2        RMSE  \\\n",
       "0  [4473.021204153863, -7964.215605443948] -1492.052095  0.38967  349.616344   \n",
       "\n",
       "          mae      MAPE  \n",
       "0  326.582161  0.555004  "
      ]
     },
     "execution_count": 56,
     "metadata": {},
     "output_type": "execute_result"
    }
   ],
   "source": [
    "# Define predictor and response variables\n",
    "coef_list = []\n",
    "cste_list = []\n",
    "R2_list = []\n",
    "mae_list = []\n",
    "RMSE_list = []\n",
    "MAPE_list = []\n",
    "\n",
    "for i in range(0, len(ndti_ndri_data)):\n",
    "    X = ndti_ndri_data[[\"NDTI\", \"NDRI\"]]\n",
    "    var_out = X.index.isin([i])\n",
    "    X = X.loc[~var_out]         # Leave one out\n",
    "    \n",
    "    y = ndti_ndri_data[\"Biomasse (kg/ha)\"][X.index] # same indices as X\n",
    "    \n",
    "    model_1 = LinearRegression().fit(X, y)\n",
    "    \n",
    "    coef = model_1.coef_\n",
    "    coef_list.append(coef)\n",
    "    \n",
    "    cste =  model_1.intercept_\n",
    "    cste_list.append(cste)\n",
    "    \n",
    "    X = ndti_ndri_data[[\"NDTI\", \"NDRI\"]]\n",
    "    y = ndti_ndri_data[\"Biomasse (kg/ha)\"]\n",
    "    \n",
    "    R2 = r2_score(y.values,  (model_1.predict(X)))\n",
    "    R2_list.append(R2)\n",
    "    RMSE = mean_squared_error(y.values, (model_1.predict(X)), squared=False)\n",
    "    RMSE_list.append(RMSE)\n",
    "    mae = mean_absolute_error(y.values,  (model_1.predict(X)))\n",
    "    mae_list.append(mae)\n",
    "    mape = np.mean(np.abs((y.values - (model_1.predict(X))))/y.values)\n",
    "    MAPE_list.append(mape)\n",
    "    \n",
    "result_dic = {\"coef\" : coef_list, \"cste\": cste_list, \"R2\" : R2_list,\"RMSE\": RMSE_list, \"mae\": mae_list, \"MAPE\": MAPE_list}    \n",
    "reg_results = pd.DataFrame(result_dic)\n",
    "reg_results.loc[reg_results.RMSE == reg_results.RMSE.min()]      "
   ]
  },
  {
   "cell_type": "code",
   "execution_count": 57,
   "metadata": {},
   "outputs": [],
   "source": [
    "model_1 = LinearRegression()\n",
    "model_1.coef_ = reg_results.coef.values[0]\n",
    "model_1.intercept_ = reg_results.cste.values[0]"
   ]
  },
  {
   "cell_type": "markdown",
   "metadata": {
    "tags": []
   },
   "source": [
    "### Plot the results"
   ]
  },
  {
   "cell_type": "code",
   "execution_count": 58,
   "metadata": {
    "tags": []
   },
   "outputs": [
    {
     "name": "stderr",
     "output_type": "stream",
     "text": [
      "C:\\Users\\GARBA\\anaconda3\\envs\\geo_env\\lib\\site-packages\\sklearn\\base.py:443: UserWarning: X has feature names, but LinearRegression was fitted without feature names\n",
      "  warnings.warn(\n"
     ]
    }
   ],
   "source": [
    "# inputs\n",
    "x_all = si_TZ22B[[\"NDTI\", \"NDRI\"]]\n",
    "y_all = model_1.predict(x_all)\n",
    "#y_all"
   ]
  },
  {
   "cell_type": "code",
   "execution_count": 59,
   "metadata": {
    "tags": []
   },
   "outputs": [
    {
     "data": {
      "image/png": "[encoded data removed]",
      "text/plain": [
       "<Figure size 750x250 with 1 Axes>"
      ]
     },
     "metadata": {},
     "output_type": "display_data"
    }
   ],
   "source": [
    "fig, ax = plt.subplots(1, 1, figsize = (7.5,2.5), constrained_layout = True)\n",
    "ax.scatter(obs_mass.index, obs_mass.values, label = \"Observed Biomass\", color = \"darkblue\", s = 6)\n",
    "ax.plot(si_TZ22B.date, y_all, lw = .9, label = \"Estimated biomass\", color = \"r\", alpha = .5)\n",
    "#ax.set_xticks(sti_data.index)\n",
    "#ax.set_yticks(np.arange(0, 1500, 200))\n",
    "ax.set_ylabel(\"kgMS/ha\", fontsize = 7)\n",
    "#ax.set_xlabel(\"Index\",  fontsize = 7)\n",
    "ax.tick_params(axis='both', which='major', labelsize=8)\n",
    "ax.legend(fontsize = 7, loc = (0.8, 0.8))\n",
    "ax.set_title(\"Fallow site TZ22B - Model 9: NDTI and NDRI\", fontsize = 8, fontweight = \"bold\", x = 0.22, y = .9)\n",
    "ax.grid(\"both\", alpha = 0.2)\n",
    "plt.savefig(\"./output/TZ22B/model_9_jachere.png\", dpi = 600)"
   ]
  },
  {
   "cell_type": "code",
   "execution_count": 60,
   "metadata": {},
   "outputs": [],
   "source": [
    "# Save the regression model\n",
    "#joblib.dump(model_1, \"./model 9/model_TZ22B.pkl\") "
   ]
  },
  {
   "cell_type": "markdown",
   "metadata": {},
   "source": [
    "#### 10. Model 10:  X = [DFI, NDRI]"
   ]
  },
  {
   "cell_type": "code",
   "execution_count": 61,
   "metadata": {},
   "outputs": [
    {
     "data": {
      "text/html": [
       "<div>\n",
       "<style scoped>\n",
       "    .dataframe tbody tr th:only-of-type {\n",
       "        vertical-align: middle;\n",
       "    }\n",
       "\n",
       "    .dataframe tbody tr th {\n",
       "        vertical-align: top;\n",
       "    }\n",
       "\n",
       "    .dataframe thead th {\n",
       "        text-align: right;\n",
       "    }\n",
       "</style>\n",
       "<table border=\"1\" class=\"dataframe\">\n",
       "  <thead>\n",
       "    <tr style=\"text-align: right;\">\n",
       "      <th></th>\n",
       "      <th>DFI</th>\n",
       "      <th>NDRI</th>\n",
       "      <th>Biomasse (kg/ha)</th>\n",
       "    </tr>\n",
       "  </thead>\n",
       "  <tbody>\n",
       "    <tr>\n",
       "      <th>0</th>\n",
       "      <td>13.995479</td>\n",
       "      <td>-0.260756</td>\n",
       "      <td>899.7875</td>\n",
       "    </tr>\n",
       "  </tbody>\n",
       "</table>\n",
       "</div>"
      ],
      "text/plain": [
       "         DFI      NDRI  Biomasse (kg/ha)\n",
       "0  13.995479 -0.260756          899.7875"
      ]
     },
     "execution_count": 61,
     "metadata": {},
     "output_type": "execute_result"
    }
   ],
   "source": [
    "# Define input output data\n",
    "dfi_ndri_data = data_TZ22B.iloc[:, [15,16,19]]\n",
    "dfi_ndri_data.head(1)"
   ]
  },
  {
   "cell_type": "code",
   "execution_count": 62,
   "metadata": {},
   "outputs": [
    {
     "data": {
      "text/html": [
       "<div>\n",
       "<style scoped>\n",
       "    .dataframe tbody tr th:only-of-type {\n",
       "        vertical-align: middle;\n",
       "    }\n",
       "\n",
       "    .dataframe tbody tr th {\n",
       "        vertical-align: top;\n",
       "    }\n",
       "\n",
       "    .dataframe thead th {\n",
       "        text-align: right;\n",
       "    }\n",
       "</style>\n",
       "<table border=\"1\" class=\"dataframe\">\n",
       "  <thead>\n",
       "    <tr style=\"text-align: right;\">\n",
       "      <th></th>\n",
       "      <th>coef</th>\n",
       "      <th>cste</th>\n",
       "      <th>R2</th>\n",
       "      <th>RMSE</th>\n",
       "      <th>mae</th>\n",
       "      <th>MAPE</th>\n",
       "    </tr>\n",
       "  </thead>\n",
       "  <tbody>\n",
       "    <tr>\n",
       "      <th>5</th>\n",
       "      <td>[63.65907317620726, -8772.3059424893]</td>\n",
       "      <td>-1979.57735</td>\n",
       "      <td>0.468826</td>\n",
       "      <td>326.157903</td>\n",
       "      <td>316.220629</td>\n",
       "      <td>0.574654</td>\n",
       "    </tr>\n",
       "  </tbody>\n",
       "</table>\n",
       "</div>"
      ],
      "text/plain": [
       "                                    coef        cste        R2        RMSE  \\\n",
       "5  [63.65907317620726, -8772.3059424893] -1979.57735  0.468826  326.157903   \n",
       "\n",
       "          mae      MAPE  \n",
       "5  316.220629  0.574654  "
      ]
     },
     "execution_count": 62,
     "metadata": {},
     "output_type": "execute_result"
    }
   ],
   "source": [
    "# Define predictor and response variables\n",
    "coef_list = []\n",
    "cste_list = []\n",
    "R2_list = []\n",
    "mae_list = []\n",
    "RMSE_list = []\n",
    "MAPE_list = []\n",
    "\n",
    "for i in range(0, len(dfi_ndri_data)):\n",
    "    X = dfi_ndri_data[[\"DFI\", \"NDRI\"]]\n",
    "    var_out = X.index.isin([i])\n",
    "    X = X.loc[~var_out]         # Leave one out\n",
    "    \n",
    "    y = dfi_ndri_data[\"Biomasse (kg/ha)\"][X.index] # same indices as X\n",
    "    \n",
    "    model_1 = LinearRegression().fit(X, y)\n",
    "    \n",
    "    coef = model_1.coef_\n",
    "    coef_list.append(coef)\n",
    "    \n",
    "    cste =  model_1.intercept_\n",
    "    cste_list.append(cste)\n",
    "    \n",
    "    X = dfi_ndri_data[[\"DFI\", \"NDRI\"]]\n",
    "    y = dfi_ndri_data[\"Biomasse (kg/ha)\"]\n",
    "    \n",
    "    R2 = r2_score(y.values,  (model_1.predict(X)))\n",
    "    R2_list.append(R2)\n",
    "    RMSE = mean_squared_error(y.values, (model_1.predict(X)), squared=False)\n",
    "    RMSE_list.append(RMSE)\n",
    "    mae = mean_absolute_error(y.values,  (model_1.predict(X)))\n",
    "    mae_list.append(mae)\n",
    "    mape = np.mean(np.abs((y.values - (model_1.predict(X))))/y.values)\n",
    "    MAPE_list.append(mape)\n",
    "    \n",
    "result_dic = {\"coef\" : coef_list, \"cste\": cste_list, \"R2\" : R2_list,\"RMSE\": RMSE_list, \"mae\": mae_list, \"MAPE\": MAPE_list}    \n",
    "reg_results = pd.DataFrame(result_dic)\n",
    "reg_results.loc[reg_results.RMSE == reg_results.RMSE.min()]  "
   ]
  },
  {
   "cell_type": "code",
   "execution_count": 63,
   "metadata": {},
   "outputs": [],
   "source": [
    "model_1 = LinearRegression()\n",
    "model_1.coef_ = reg_results.coef.values[5]\n",
    "model_1.intercept_ = reg_results.cste.values[5]"
   ]
  },
  {
   "cell_type": "markdown",
   "metadata": {
    "tags": []
   },
   "source": [
    "### Plot the results"
   ]
  },
  {
   "cell_type": "code",
   "execution_count": 64,
   "metadata": {
    "tags": []
   },
   "outputs": [
    {
     "name": "stderr",
     "output_type": "stream",
     "text": [
      "C:\\Users\\GARBA\\anaconda3\\envs\\geo_env\\lib\\site-packages\\sklearn\\base.py:443: UserWarning: X has feature names, but LinearRegression was fitted without feature names\n",
      "  warnings.warn(\n"
     ]
    }
   ],
   "source": [
    "# inputs\n",
    "x_all = si_TZ22B[[\"DFI\", \"NDRI\"]]\n",
    "y_all = model_1.predict(x_all)\n",
    "#y_all"
   ]
  },
  {
   "cell_type": "code",
   "execution_count": 65,
   "metadata": {
    "tags": []
   },
   "outputs": [
    {
     "data": {
      "image/png": "[encoded data removed]",
      "text/plain": [
       "<Figure size 750x250 with 1 Axes>"
      ]
     },
     "metadata": {},
     "output_type": "display_data"
    }
   ],
   "source": [
    "fig, ax = plt.subplots(1, 1, figsize = (7.5,2.5), constrained_layout = True)\n",
    "ax.scatter(obs_mass.index, obs_mass.values, label = \"Observed Biomass\", color = \"darkblue\", s = 6)\n",
    "ax.plot(si_TZ22B.date, y_all, lw = .9, label = \"Estimated biomass\", color = \"r\", alpha = .5)\n",
    "#ax.set_xticks(sti_data.index)\n",
    "#ax.set_yticks(np.arange(0, 1500, 200))\n",
    "ax.set_ylabel(\"kgMS/ha\", fontsize = 7)\n",
    "#ax.set_xlabel(\"Index\",  fontsize = 7)\n",
    "ax.tick_params(axis='both', which='major', labelsize=8)\n",
    "ax.legend(fontsize = 7, loc = (0.12, 0.01))\n",
    "ax.set_title(\"Fallow site TZ22B - Model 10: DFI and NDRI\", fontsize = 8, fontweight = \"bold\", x = 0.22, y = .9)\n",
    "ax.grid(\"both\", alpha = 0.2)\n",
    "plt.savefig(\"./output/TZ22B/model_10_jachere.png\", dpi = 600)"
   ]
  },
  {
   "cell_type": "code",
   "execution_count": 66,
   "metadata": {},
   "outputs": [],
   "source": [
    "# Save the regression model\n",
    "#joblib.dump(model_1, \"./model 10/model_TZ22B.pkl\") "
   ]
  },
  {
   "cell_type": "markdown",
   "metadata": {},
   "source": [
    "#### 11. Model 11:  X = [STI, NDTI, DFI]"
   ]
  },
  {
   "cell_type": "code",
   "execution_count": 67,
   "metadata": {},
   "outputs": [
    {
     "data": {
      "text/html": [
       "<div>\n",
       "<style scoped>\n",
       "    .dataframe tbody tr th:only-of-type {\n",
       "        vertical-align: middle;\n",
       "    }\n",
       "\n",
       "    .dataframe tbody tr th {\n",
       "        vertical-align: top;\n",
       "    }\n",
       "\n",
       "    .dataframe thead th {\n",
       "        text-align: right;\n",
       "    }\n",
       "</style>\n",
       "<table border=\"1\" class=\"dataframe\">\n",
       "  <thead>\n",
       "    <tr style=\"text-align: right;\">\n",
       "      <th></th>\n",
       "      <th>STI</th>\n",
       "      <th>NDTI</th>\n",
       "      <th>DFI</th>\n",
       "      <th>Biomasse (kg/ha)</th>\n",
       "    </tr>\n",
       "  </thead>\n",
       "  <tbody>\n",
       "    <tr>\n",
       "      <th>0</th>\n",
       "      <td>1.285465</td>\n",
       "      <td>0.124905</td>\n",
       "      <td>13.995479</td>\n",
       "      <td>899.7875</td>\n",
       "    </tr>\n",
       "  </tbody>\n",
       "</table>\n",
       "</div>"
      ],
      "text/plain": [
       "        STI      NDTI        DFI  Biomasse (kg/ha)\n",
       "0  1.285465  0.124905  13.995479          899.7875"
      ]
     },
     "execution_count": 67,
     "metadata": {},
     "output_type": "execute_result"
    }
   ],
   "source": [
    "# Define input output data\n",
    "sti_ndti_dfi_data = data_TZ22B.iloc[:, [13, 14, 15,19]]\n",
    "sti_ndti_dfi_data.head(1)"
   ]
  },
  {
   "cell_type": "code",
   "execution_count": 68,
   "metadata": {},
   "outputs": [
    {
     "data": {
      "text/html": [
       "<div>\n",
       "<style scoped>\n",
       "    .dataframe tbody tr th:only-of-type {\n",
       "        vertical-align: middle;\n",
       "    }\n",
       "\n",
       "    .dataframe tbody tr th {\n",
       "        vertical-align: top;\n",
       "    }\n",
       "\n",
       "    .dataframe thead th {\n",
       "        text-align: right;\n",
       "    }\n",
       "</style>\n",
       "<table border=\"1\" class=\"dataframe\">\n",
       "  <thead>\n",
       "    <tr style=\"text-align: right;\">\n",
       "      <th></th>\n",
       "      <th>coef</th>\n",
       "      <th>cste</th>\n",
       "      <th>R2</th>\n",
       "      <th>RMSE</th>\n",
       "      <th>mae</th>\n",
       "      <th>MAPE</th>\n",
       "    </tr>\n",
       "  </thead>\n",
       "  <tbody>\n",
       "    <tr>\n",
       "      <th>0</th>\n",
       "      <td>[-238619.75114096355, 599418.6077444885, 92.08...</td>\n",
       "      <td>231964.686674</td>\n",
       "      <td>0.205611</td>\n",
       "      <td>398.865105</td>\n",
       "      <td>333.494601</td>\n",
       "      <td>0.668961</td>\n",
       "    </tr>\n",
       "  </tbody>\n",
       "</table>\n",
       "</div>"
      ],
      "text/plain": [
       "                                                coef           cste        R2  \\\n",
       "0  [-238619.75114096355, 599418.6077444885, 92.08...  231964.686674  0.205611   \n",
       "\n",
       "         RMSE         mae      MAPE  \n",
       "0  398.865105  333.494601  0.668961  "
      ]
     },
     "execution_count": 68,
     "metadata": {},
     "output_type": "execute_result"
    }
   ],
   "source": [
    "# Define predictor and response variables\n",
    "coef_list = []\n",
    "cste_list = []\n",
    "R2_list = []\n",
    "mae_list = []\n",
    "RMSE_list = []\n",
    "MAPE_list = []\n",
    "\n",
    "for i in range(0, len(sti_ndti_dfi_data)):\n",
    "    X = sti_ndti_dfi_data[[\"STI\", \"NDTI\", \"DFI\"]]\n",
    "    var_out = X.index.isin([i])\n",
    "    X = X.loc[~var_out]         # Leave one out\n",
    "    \n",
    "    y = sti_ndti_dfi_data[\"Biomasse (kg/ha)\"][X.index] # same indices as X\n",
    "    \n",
    "    model_1 = LinearRegression().fit(X, y)\n",
    "    \n",
    "    coef = model_1.coef_\n",
    "    coef_list.append(coef)\n",
    "    \n",
    "    cste =  model_1.intercept_\n",
    "    cste_list.append(cste)\n",
    "    \n",
    "    X = sti_ndti_dfi_data[[\"STI\", \"NDTI\", \"DFI\"]]   \n",
    "    y = sti_ndti_dfi_data[\"Biomasse (kg/ha)\"]\n",
    "        \n",
    "    R2 = r2_score(y.values,  (model_1.predict(X)))\n",
    "    R2_list.append(R2)\n",
    "    RMSE = mean_squared_error(y.values, (model_1.predict(X)), squared=False)\n",
    "    RMSE_list.append(RMSE)\n",
    "    mae = mean_absolute_error(y.values,  (model_1.predict(X)))\n",
    "    mae_list.append(mae)\n",
    "    mape = np.mean(np.abs((y.values - (model_1.predict(X))))/y.values)\n",
    "    MAPE_list.append(mape)\n",
    "    \n",
    "result_dic = {\"coef\" : coef_list, \"cste\": cste_list, \"R2\" : R2_list,\"RMSE\": RMSE_list, \"mae\": mae_list, \"MAPE\": MAPE_list}    \n",
    "reg_results = pd.DataFrame(result_dic)\n",
    "reg_results.loc[reg_results.RMSE == reg_results.RMSE.min()]  "
   ]
  },
  {
   "cell_type": "code",
   "execution_count": 69,
   "metadata": {},
   "outputs": [],
   "source": [
    "model_1 = LinearRegression()\n",
    "model_1.coef_ = reg_results.coef.values[0]\n",
    "model_1.intercept_ = reg_results.cste.values[0]"
   ]
  },
  {
   "cell_type": "markdown",
   "metadata": {
    "tags": []
   },
   "source": [
    "### Plot the results"
   ]
  },
  {
   "cell_type": "code",
   "execution_count": 70,
   "metadata": {
    "tags": []
   },
   "outputs": [
    {
     "name": "stderr",
     "output_type": "stream",
     "text": [
      "C:\\Users\\GARBA\\anaconda3\\envs\\geo_env\\lib\\site-packages\\sklearn\\base.py:443: UserWarning: X has feature names, but LinearRegression was fitted without feature names\n",
      "  warnings.warn(\n"
     ]
    }
   ],
   "source": [
    "# inputs\n",
    "x_all = si_TZ22B[[\"STI\", \"NDTI\", \"DFI\"]]\n",
    "y_all = model_1.predict(x_all)\n",
    "#y_all"
   ]
  },
  {
   "cell_type": "code",
   "execution_count": 71,
   "metadata": {
    "tags": []
   },
   "outputs": [
    {
     "data": {
      "image/png": "[encoded data removed]",
      "text/plain": [
       "<Figure size 750x250 with 1 Axes>"
      ]
     },
     "metadata": {},
     "output_type": "display_data"
    }
   ],
   "source": [
    "fig, ax = plt.subplots(1, 1, figsize = (7.5,2.5), constrained_layout = True)\n",
    "ax.scatter(obs_mass.index, obs_mass.values, label = \"Observed Biomass\", color = \"darkblue\", s = 6)\n",
    "ax.plot(si_TZ22B.date, y_all, lw = .9, label = \"Estimated biomass\", color = \"r\", alpha = .5)\n",
    "#ax.set_xticks(sti_data.index)\n",
    "#ax.set_yticks(np.arange(0, 1500, 200))\n",
    "ax.set_ylabel(\"kgMS/ha\", fontsize = 7)\n",
    "#ax.set_xlabel(\"Index\",  fontsize = 7)\n",
    "ax.tick_params(axis='both', which='major', labelsize=8)\n",
    "ax.legend(fontsize = 7, loc = (0.81, 0.81))\n",
    "ax.set_title(\"Fallow site TZ22B- Model 11:\\n STI, NDTI and DFI\", fontsize = 7, fontweight = \"bold\", x = 0.14, y = .82)\n",
    "ax.grid(\"both\", alpha = 0.2)\n",
    "plt.savefig(\"./output/TZ22B/model_11_jachere.png\", dpi = 600)"
   ]
  },
  {
   "cell_type": "code",
   "execution_count": 72,
   "metadata": {},
   "outputs": [],
   "source": [
    "# Save the regression model\n",
    "#joblib.dump(model_1, \"./model 11/model_TZ22B.pkl\") "
   ]
  },
  {
   "cell_type": "markdown",
   "metadata": {},
   "source": [
    "#### 12. Model 12:  X = [STI, NDTI, NDRI]"
   ]
  },
  {
   "cell_type": "code",
   "execution_count": 73,
   "metadata": {},
   "outputs": [
    {
     "data": {
      "text/html": [
       "<div>\n",
       "<style scoped>\n",
       "    .dataframe tbody tr th:only-of-type {\n",
       "        vertical-align: middle;\n",
       "    }\n",
       "\n",
       "    .dataframe tbody tr th {\n",
       "        vertical-align: top;\n",
       "    }\n",
       "\n",
       "    .dataframe thead th {\n",
       "        text-align: right;\n",
       "    }\n",
       "</style>\n",
       "<table border=\"1\" class=\"dataframe\">\n",
       "  <thead>\n",
       "    <tr style=\"text-align: right;\">\n",
       "      <th></th>\n",
       "      <th>STI</th>\n",
       "      <th>NDTI</th>\n",
       "      <th>NDRI</th>\n",
       "      <th>Biomasse (kg/ha)</th>\n",
       "    </tr>\n",
       "  </thead>\n",
       "  <tbody>\n",
       "    <tr>\n",
       "      <th>0</th>\n",
       "      <td>1.285465</td>\n",
       "      <td>0.124905</td>\n",
       "      <td>-0.260756</td>\n",
       "      <td>899.7875</td>\n",
       "    </tr>\n",
       "  </tbody>\n",
       "</table>\n",
       "</div>"
      ],
      "text/plain": [
       "        STI      NDTI      NDRI  Biomasse (kg/ha)\n",
       "0  1.285465  0.124905 -0.260756          899.7875"
      ]
     },
     "execution_count": 73,
     "metadata": {},
     "output_type": "execute_result"
    }
   ],
   "source": [
    "# Define input output data\n",
    "sti_ndti_ndri_data = data_TZ22B.iloc[:, [13, 14, 16,19]]\n",
    "sti_ndti_ndri_data.head(1)"
   ]
  },
  {
   "cell_type": "code",
   "execution_count": 74,
   "metadata": {},
   "outputs": [
    {
     "data": {
      "text/html": [
       "<div>\n",
       "<style scoped>\n",
       "    .dataframe tbody tr th:only-of-type {\n",
       "        vertical-align: middle;\n",
       "    }\n",
       "\n",
       "    .dataframe tbody tr th {\n",
       "        vertical-align: top;\n",
       "    }\n",
       "\n",
       "    .dataframe thead th {\n",
       "        text-align: right;\n",
       "    }\n",
       "</style>\n",
       "<table border=\"1\" class=\"dataframe\">\n",
       "  <thead>\n",
       "    <tr style=\"text-align: right;\">\n",
       "      <th></th>\n",
       "      <th>coef</th>\n",
       "      <th>cste</th>\n",
       "      <th>R2</th>\n",
       "      <th>RMSE</th>\n",
       "      <th>mae</th>\n",
       "      <th>MAPE</th>\n",
       "    </tr>\n",
       "  </thead>\n",
       "  <tbody>\n",
       "    <tr>\n",
       "      <th>0</th>\n",
       "      <td>[33850.36808045332, -80528.7479492806, -9121.7...</td>\n",
       "      <td>-34703.942695</td>\n",
       "      <td>0.396664</td>\n",
       "      <td>347.607228</td>\n",
       "      <td>323.711582</td>\n",
       "      <td>0.545201</td>\n",
       "    </tr>\n",
       "  </tbody>\n",
       "</table>\n",
       "</div>"
      ],
      "text/plain": [
       "                                                coef          cste        R2  \\\n",
       "0  [33850.36808045332, -80528.7479492806, -9121.7... -34703.942695  0.396664   \n",
       "\n",
       "         RMSE         mae      MAPE  \n",
       "0  347.607228  323.711582  0.545201  "
      ]
     },
     "execution_count": 74,
     "metadata": {},
     "output_type": "execute_result"
    }
   ],
   "source": [
    "# Define predictor and response variables\n",
    "coef_list = []\n",
    "cste_list = []\n",
    "R2_list = []\n",
    "mae_list = []\n",
    "RMSE_list = []\n",
    "MAPE_list = []\n",
    "\n",
    "for i in range(0, len(sti_ndti_ndri_data)):\n",
    "    X = sti_ndti_ndri_data[[\"STI\",\"NDTI\", \"NDRI\"]]\n",
    "    var_out = X.index.isin([i])\n",
    "    X = X.loc[~var_out]         # Leave one out\n",
    "    \n",
    "    y = sti_ndti_ndri_data[\"Biomasse (kg/ha)\"][X.index] # same indices as X\n",
    "    \n",
    "    model_1 = LinearRegression().fit(X, y)\n",
    "    \n",
    "    coef = model_1.coef_\n",
    "    coef_list.append(coef)\n",
    "    \n",
    "    cste =  model_1.intercept_\n",
    "    cste_list.append(cste)\n",
    "    \n",
    "    X = sti_ndti_ndri_data[[\"STI\",\"NDTI\", \"NDRI\"]]\n",
    "    y = sti_ndti_ndri_data[\"Biomasse (kg/ha)\"]\n",
    "    \n",
    "    R2 = r2_score(y.values,  (model_1.predict(X)))\n",
    "    R2_list.append(R2)\n",
    "    RMSE = mean_squared_error(y.values, (model_1.predict(X)), squared=False)\n",
    "    RMSE_list.append(RMSE)\n",
    "    mae = mean_absolute_error(y.values,  (model_1.predict(X)))\n",
    "    mae_list.append(mae)\n",
    "    mape = np.mean(np.abs((y.values - (model_1.predict(X))))/y.values)\n",
    "    MAPE_list.append(mape)\n",
    "    \n",
    "result_dic = {\"coef\" : coef_list, \"cste\": cste_list, \"R2\" : R2_list,\"RMSE\": RMSE_list, \"mae\": mae_list, \"MAPE\": MAPE_list}    \n",
    "reg_results = pd.DataFrame(result_dic)\n",
    "reg_results.loc[reg_results.RMSE == reg_results.RMSE.min()]   "
   ]
  },
  {
   "cell_type": "code",
   "execution_count": 75,
   "metadata": {},
   "outputs": [],
   "source": [
    "model_1 = LinearRegression()\n",
    "model_1.coef_ = reg_results.coef.values[0]\n",
    "model_1.intercept_ = reg_results.cste.values[0]"
   ]
  },
  {
   "cell_type": "code",
   "execution_count": 76,
   "metadata": {},
   "outputs": [],
   "source": [
    "# Save the regression model\n",
    "#joblib.dump(model_1, \"./model 12/model_TZ22B.pkl\")"
   ]
  },
  {
   "cell_type": "markdown",
   "metadata": {
    "tags": []
   },
   "source": [
    "### Plot the results"
   ]
  },
  {
   "cell_type": "code",
   "execution_count": 77,
   "metadata": {
    "tags": []
   },
   "outputs": [
    {
     "name": "stderr",
     "output_type": "stream",
     "text": [
      "C:\\Users\\GARBA\\anaconda3\\envs\\geo_env\\lib\\site-packages\\sklearn\\base.py:443: UserWarning: X has feature names, but LinearRegression was fitted without feature names\n",
      "  warnings.warn(\n"
     ]
    }
   ],
   "source": [
    "# inputs\n",
    "x_all = si_TZ22B[[\"STI\",\"NDTI\", \"NDRI\"]]\n",
    "y_all = model_1.predict(x_all)\n",
    "#y_all"
   ]
  },
  {
   "cell_type": "code",
   "execution_count": 78,
   "metadata": {
    "tags": []
   },
   "outputs": [
    {
     "data": {
      "image/png": "[encoded data removed]",
      "text/plain": [
       "<Figure size 750x250 with 1 Axes>"
      ]
     },
     "metadata": {},
     "output_type": "display_data"
    }
   ],
   "source": [
    "fig, ax = plt.subplots(1, 1, figsize = (7.5,2.5), constrained_layout = True)\n",
    "ax.scatter(obs_mass.index, obs_mass.values, label = \"Observed Biomass\", color = \"darkblue\", s = 6)\n",
    "ax.plot(si_TZ22B.date, y_all, lw = .9, label = \"Estimated biomass\", color = \"r\", alpha = .5)\n",
    "#ax.set_xticks(sti_data.index)\n",
    "#ax.set_yticks(np.arange(0, 1500, 200))\n",
    "ax.set_ylabel(\"kgMS/ha\", fontsize = 7)\n",
    "#ax.set_xlabel(\"Index\",  fontsize = 7)\n",
    "ax.tick_params(axis='both', which='major', labelsize=8)\n",
    "ax.legend(fontsize = 7, loc = (0.8, 0.8))\n",
    "ax.set_title(\"Fallow site TZ22B - Model 12: STI, NDTI and NDRI\", fontsize = 8, fontweight = \"bold\", x = 0.23, y = .9)\n",
    "ax.grid(\"both\", alpha = 0.2)\n",
    "plt.savefig(\"./output/TZ22B/model_12_jachere.png\", dpi = 600)"
   ]
  },
  {
   "cell_type": "markdown",
   "metadata": {},
   "source": [
    "#### 13. Model 13:  X = [STI, DFI, NDRI]"
   ]
  },
  {
   "cell_type": "code",
   "execution_count": 79,
   "metadata": {},
   "outputs": [
    {
     "data": {
      "text/html": [
       "<div>\n",
       "<style scoped>\n",
       "    .dataframe tbody tr th:only-of-type {\n",
       "        vertical-align: middle;\n",
       "    }\n",
       "\n",
       "    .dataframe tbody tr th {\n",
       "        vertical-align: top;\n",
       "    }\n",
       "\n",
       "    .dataframe thead th {\n",
       "        text-align: right;\n",
       "    }\n",
       "</style>\n",
       "<table border=\"1\" class=\"dataframe\">\n",
       "  <thead>\n",
       "    <tr style=\"text-align: right;\">\n",
       "      <th></th>\n",
       "      <th>STI</th>\n",
       "      <th>DFI</th>\n",
       "      <th>NDRI</th>\n",
       "      <th>Biomasse (kg/ha)</th>\n",
       "    </tr>\n",
       "  </thead>\n",
       "  <tbody>\n",
       "    <tr>\n",
       "      <th>0</th>\n",
       "      <td>1.285465</td>\n",
       "      <td>13.995479</td>\n",
       "      <td>-0.260756</td>\n",
       "      <td>899.7875</td>\n",
       "    </tr>\n",
       "  </tbody>\n",
       "</table>\n",
       "</div>"
      ],
      "text/plain": [
       "        STI        DFI      NDRI  Biomasse (kg/ha)\n",
       "0  1.285465  13.995479 -0.260756          899.7875"
      ]
     },
     "execution_count": 79,
     "metadata": {},
     "output_type": "execute_result"
    }
   ],
   "source": [
    "# Define input output data\n",
    "sti_dfi_ndri_data = data_TZ22B.iloc[:, [13, 15, 16,19]]\n",
    "sti_dfi_ndri_data.head(1)"
   ]
  },
  {
   "cell_type": "code",
   "execution_count": 80,
   "metadata": {},
   "outputs": [
    {
     "data": {
      "text/html": [
       "<div>\n",
       "<style scoped>\n",
       "    .dataframe tbody tr th:only-of-type {\n",
       "        vertical-align: middle;\n",
       "    }\n",
       "\n",
       "    .dataframe tbody tr th {\n",
       "        vertical-align: top;\n",
       "    }\n",
       "\n",
       "    .dataframe thead th {\n",
       "        text-align: right;\n",
       "    }\n",
       "</style>\n",
       "<table border=\"1\" class=\"dataframe\">\n",
       "  <thead>\n",
       "    <tr style=\"text-align: right;\">\n",
       "      <th></th>\n",
       "      <th>coef</th>\n",
       "      <th>cste</th>\n",
       "      <th>R2</th>\n",
       "      <th>RMSE</th>\n",
       "      <th>mae</th>\n",
       "      <th>MAPE</th>\n",
       "    </tr>\n",
       "  </thead>\n",
       "  <tbody>\n",
       "    <tr>\n",
       "      <th>5</th>\n",
       "      <td>[-3218.2862108669315, 149.86277479213288, -127...</td>\n",
       "      <td>20.416568</td>\n",
       "      <td>0.516455</td>\n",
       "      <td>311.191567</td>\n",
       "      <td>298.880159</td>\n",
       "      <td>0.563071</td>\n",
       "    </tr>\n",
       "  </tbody>\n",
       "</table>\n",
       "</div>"
      ],
      "text/plain": [
       "                                                coef       cste        R2  \\\n",
       "5  [-3218.2862108669315, 149.86277479213288, -127...  20.416568  0.516455   \n",
       "\n",
       "         RMSE         mae      MAPE  \n",
       "5  311.191567  298.880159  0.563071  "
      ]
     },
     "execution_count": 80,
     "metadata": {},
     "output_type": "execute_result"
    }
   ],
   "source": [
    "# Define predictor and response variables\n",
    "coef_list = []\n",
    "cste_list = []\n",
    "R2_list = []\n",
    "mae_list = []\n",
    "RMSE_list = []\n",
    "MAPE_list = []\n",
    "\n",
    "for i in range(0, len(sti_dfi_ndri_data)):\n",
    "    X = sti_dfi_ndri_data[[\"STI\",\"DFI\", \"NDRI\"]]\n",
    "    var_out = X.index.isin([i])\n",
    "    X = X.loc[~var_out]         # Leave one out\n",
    "    \n",
    "    y = sti_dfi_ndri_data[\"Biomasse (kg/ha)\"][X.index] # same indices as X\n",
    "    \n",
    "    model_1 = LinearRegression().fit(X, y)\n",
    "    \n",
    "    coef = model_1.coef_\n",
    "    coef_list.append(coef)\n",
    "    \n",
    "    cste =  model_1.intercept_\n",
    "    cste_list.append(cste)\n",
    "    \n",
    "    X = sti_dfi_ndri_data[[\"STI\",\"DFI\", \"NDRI\"]]\n",
    "    y = sti_dfi_ndri_data[\"Biomasse (kg/ha)\"]\n",
    "    \n",
    "    R2 = r2_score(y.values,  (model_1.predict(X)))\n",
    "    R2_list.append(R2)\n",
    "    RMSE = mean_squared_error(y.values, (model_1.predict(X)), squared=False)\n",
    "    RMSE_list.append(RMSE)\n",
    "    mae = mean_absolute_error(y.values,  (model_1.predict(X)))\n",
    "    mae_list.append(mae)\n",
    "    mape = np.mean(np.abs((y.values - (model_1.predict(X))))/y.values)\n",
    "    MAPE_list.append(mape)\n",
    "    \n",
    "result_dic = {\"coef\" : coef_list, \"cste\": cste_list, \"R2\" : R2_list,\"RMSE\": RMSE_list, \"mae\": mae_list, \"MAPE\": MAPE_list}    \n",
    "reg_results = pd.DataFrame(result_dic)\n",
    "reg_results.loc[reg_results.RMSE == reg_results.RMSE.min()]   "
   ]
  },
  {
   "cell_type": "code",
   "execution_count": 81,
   "metadata": {},
   "outputs": [],
   "source": [
    "model_1 = LinearRegression()\n",
    "model_1.coef_ = reg_results.coef.values[0]\n",
    "model_1.intercept_ = reg_results.cste.values[0]"
   ]
  },
  {
   "cell_type": "markdown",
   "metadata": {
    "tags": []
   },
   "source": [
    "### Plot the results"
   ]
  },
  {
   "cell_type": "code",
   "execution_count": 82,
   "metadata": {
    "tags": []
   },
   "outputs": [
    {
     "name": "stderr",
     "output_type": "stream",
     "text": [
      "C:\\Users\\GARBA\\anaconda3\\envs\\geo_env\\lib\\site-packages\\sklearn\\base.py:443: UserWarning: X has feature names, but LinearRegression was fitted without feature names\n",
      "  warnings.warn(\n"
     ]
    }
   ],
   "source": [
    "# inputs\n",
    "x_all = si_TZ22B[[\"STI\",\"DFI\", \"NDRI\"]]\n",
    "y_all = model_1.predict(x_all)\n",
    "#y_all"
   ]
  },
  {
   "cell_type": "code",
   "execution_count": 83,
   "metadata": {
    "tags": []
   },
   "outputs": [
    {
     "data": {
      "image/png": "[encoded data removed]",
      "text/plain": [
       "<Figure size 750x250 with 1 Axes>"
      ]
     },
     "metadata": {},
     "output_type": "display_data"
    }
   ],
   "source": [
    "fig, ax = plt.subplots(1, 1, figsize = (7.5,2.5), constrained_layout = True)\n",
    "ax.scatter(obs_mass.index, obs_mass.values, label = \"Observed Biomass\", color = \"darkblue\", s = 6)\n",
    "ax.plot(si_TZ22B.date, y_all, lw = .9, label = \"Estimated biomass\", color = \"r\", alpha = .5)\n",
    "#ax.set_xticks(sti_data.index)\n",
    "#ax.set_yticks(np.arange(0, 1500, 200))\n",
    "ax.set_ylabel(\"kgMS/ha\", fontsize = 7)\n",
    "#ax.set_xlabel(\"Index\",  fontsize = 7)\n",
    "ax.tick_params(axis='both', which='major', labelsize=8)\n",
    "ax.legend(fontsize = 7, loc = (0.78, 0.82))\n",
    "ax.set_title(\"Fallow site TZ22B - Model 13: STI, DFI and NDRI\", fontsize = 8, fontweight = \"bold\", x = 0.23, y = .9)\n",
    "ax.grid(\"both\", alpha = 0.2)\n",
    "plt.savefig(\"./output/TZ22B/model_13_jachere.png\", dpi = 600)"
   ]
  },
  {
   "cell_type": "code",
   "execution_count": 84,
   "metadata": {},
   "outputs": [],
   "source": [
    "# Save the regression model\n",
    "#joblib.dump(model_1, \"./model 13/model_TZ22B.pkl\") "
   ]
  },
  {
   "cell_type": "markdown",
   "metadata": {},
   "source": [
    "#### 14. Model 14:  X = [NDTI, DFI, NDRI]"
   ]
  },
  {
   "cell_type": "code",
   "execution_count": 85,
   "metadata": {},
   "outputs": [
    {
     "data": {
      "text/html": [
       "<div>\n",
       "<style scoped>\n",
       "    .dataframe tbody tr th:only-of-type {\n",
       "        vertical-align: middle;\n",
       "    }\n",
       "\n",
       "    .dataframe tbody tr th {\n",
       "        vertical-align: top;\n",
       "    }\n",
       "\n",
       "    .dataframe thead th {\n",
       "        text-align: right;\n",
       "    }\n",
       "</style>\n",
       "<table border=\"1\" class=\"dataframe\">\n",
       "  <thead>\n",
       "    <tr style=\"text-align: right;\">\n",
       "      <th></th>\n",
       "      <th>NDTI</th>\n",
       "      <th>DFI</th>\n",
       "      <th>NDRI</th>\n",
       "      <th>Biomasse (kg/ha)</th>\n",
       "    </tr>\n",
       "  </thead>\n",
       "  <tbody>\n",
       "    <tr>\n",
       "      <th>0</th>\n",
       "      <td>0.124905</td>\n",
       "      <td>13.995479</td>\n",
       "      <td>-0.260756</td>\n",
       "      <td>899.7875</td>\n",
       "    </tr>\n",
       "  </tbody>\n",
       "</table>\n",
       "</div>"
      ],
      "text/plain": [
       "       NDTI        DFI      NDRI  Biomasse (kg/ha)\n",
       "0  0.124905  13.995479 -0.260756          899.7875"
      ]
     },
     "execution_count": 85,
     "metadata": {},
     "output_type": "execute_result"
    }
   ],
   "source": [
    "# Define input output data\n",
    "ndti_dfi_ndri_data = data_TZ22B.iloc[:, [14, 15, 16,19]]\n",
    "ndti_dfi_ndri_data.head(1)"
   ]
  },
  {
   "cell_type": "code",
   "execution_count": 86,
   "metadata": {},
   "outputs": [
    {
     "data": {
      "text/html": [
       "<div>\n",
       "<style scoped>\n",
       "    .dataframe tbody tr th:only-of-type {\n",
       "        vertical-align: middle;\n",
       "    }\n",
       "\n",
       "    .dataframe tbody tr th {\n",
       "        vertical-align: top;\n",
       "    }\n",
       "\n",
       "    .dataframe thead th {\n",
       "        text-align: right;\n",
       "    }\n",
       "</style>\n",
       "<table border=\"1\" class=\"dataframe\">\n",
       "  <thead>\n",
       "    <tr style=\"text-align: right;\">\n",
       "      <th></th>\n",
       "      <th>coef</th>\n",
       "      <th>cste</th>\n",
       "      <th>R2</th>\n",
       "      <th>RMSE</th>\n",
       "      <th>mae</th>\n",
       "      <th>MAPE</th>\n",
       "    </tr>\n",
       "  </thead>\n",
       "  <tbody>\n",
       "    <tr>\n",
       "      <th>5</th>\n",
       "      <td>[-8301.691294033222, 151.9997953157648, -12915...</td>\n",
       "      <td>-3157.052068</td>\n",
       "      <td>0.517321</td>\n",
       "      <td>310.912863</td>\n",
       "      <td>298.466551</td>\n",
       "      <td>0.564579</td>\n",
       "    </tr>\n",
       "  </tbody>\n",
       "</table>\n",
       "</div>"
      ],
      "text/plain": [
       "                                                coef         cste        R2  \\\n",
       "5  [-8301.691294033222, 151.9997953157648, -12915... -3157.052068  0.517321   \n",
       "\n",
       "         RMSE         mae      MAPE  \n",
       "5  310.912863  298.466551  0.564579  "
      ]
     },
     "execution_count": 86,
     "metadata": {},
     "output_type": "execute_result"
    }
   ],
   "source": [
    "# Define predictor and response variables\n",
    "coef_list = []\n",
    "cste_list = []\n",
    "R2_list = []\n",
    "mae_list = []\n",
    "RMSE_list = []\n",
    "MAPE_list = []\n",
    "\n",
    "for i in range(0, len(ndti_dfi_ndri_data)):\n",
    "    X = ndti_dfi_ndri_data[[\"NDTI\",\"DFI\", \"NDRI\"]]\n",
    "    var_out = X.index.isin([i])\n",
    "    X = X.loc[~var_out]         # Leave one out\n",
    "    \n",
    "    y = ndti_dfi_ndri_data[\"Biomasse (kg/ha)\"][X.index] # same indices as X\n",
    "    \n",
    "    model_1 = LinearRegression().fit(X, y)\n",
    "    \n",
    "    coef = model_1.coef_\n",
    "    coef_list.append(coef)\n",
    "    \n",
    "    cste =  model_1.intercept_\n",
    "    cste_list.append(cste)\n",
    "    X = ndti_dfi_ndri_data[[\"NDTI\",\"DFI\", \"NDRI\"]]\n",
    "    y = ndti_dfi_ndri_data[\"Biomasse (kg/ha)\"]\n",
    "    R2 = r2_score(y.values,  (model_1.predict(X)))\n",
    "    R2_list.append(R2)\n",
    "    RMSE = mean_squared_error(y.values, (model_1.predict(X)), squared=False)\n",
    "    RMSE_list.append(RMSE)\n",
    "    mae = mean_absolute_error(y.values,  (model_1.predict(X)))\n",
    "    mae_list.append(mae)\n",
    "    mape = np.mean(np.abs((y.values - (model_1.predict(X))))/y.values)\n",
    "    MAPE_list.append(mape)\n",
    "    \n",
    "result_dic = {\"coef\" : coef_list, \"cste\": cste_list, \"R2\" : R2_list,\"RMSE\": RMSE_list, \"mae\": mae_list, \"MAPE\": MAPE_list}    \n",
    "reg_results = pd.DataFrame(result_dic)\n",
    "reg_results.loc[reg_results.RMSE == reg_results.RMSE.min()]  "
   ]
  },
  {
   "cell_type": "code",
   "execution_count": 87,
   "metadata": {},
   "outputs": [],
   "source": [
    "model_1 = LinearRegression()\n",
    "model_1.coef_ = reg_results.coef.values[5]\n",
    "model_1.intercept_ = reg_results.cste.values[5]"
   ]
  },
  {
   "cell_type": "markdown",
   "metadata": {
    "tags": []
   },
   "source": [
    "### Plot the results"
   ]
  },
  {
   "cell_type": "code",
   "execution_count": 88,
   "metadata": {
    "tags": []
   },
   "outputs": [
    {
     "name": "stderr",
     "output_type": "stream",
     "text": [
      "C:\\Users\\GARBA\\anaconda3\\envs\\geo_env\\lib\\site-packages\\sklearn\\base.py:443: UserWarning: X has feature names, but LinearRegression was fitted without feature names\n",
      "  warnings.warn(\n"
     ]
    }
   ],
   "source": [
    "# inputs\n",
    "x_all = si_TZ22B[[\"NDTI\",\"DFI\", \"NDRI\"]]\n",
    "y_all = model_1.predict(x_all)\n",
    "#y_all"
   ]
  },
  {
   "cell_type": "code",
   "execution_count": 89,
   "metadata": {
    "tags": []
   },
   "outputs": [
    {
     "data": {
      "image/png": "[encoded data removed]",
      "text/plain": [
       "<Figure size 750x250 with 1 Axes>"
      ]
     },
     "metadata": {},
     "output_type": "display_data"
    }
   ],
   "source": [
    "fig, ax = plt.subplots(1, 1, figsize = (7.5,2.5), constrained_layout = True)\n",
    "ax.scatter(obs_mass.index, obs_mass.values, label = \"Observed Biomass\", color = \"darkblue\", s = 6)\n",
    "ax.plot(si_TZ22B.date, y_all, lw = .9, label = \"Estimated biomass\", color = \"r\", alpha = .5)\n",
    "#ax.set_xticks(sti_data.index)\n",
    "#ax.set_yticks(np.arange(0, 1500, 200))\n",
    "ax.set_ylabel(\"kgMS/ha\", fontsize = 7)\n",
    "#ax.set_xlabel(\"Index\",  fontsize = 7)\n",
    "ax.tick_params(axis='both', which='major', labelsize=8)\n",
    "ax.legend(fontsize = 7, loc = (0.8, 0.8))\n",
    "ax.set_title(\"Fallow site TZ22B - Model 14: NDTI, DFI and NDRI\", fontsize = 8, fontweight = \"bold\", x = 0.23, y = .88)\n",
    "ax.grid(\"both\", alpha = 0.2)\n",
    "plt.savefig(\"./output/TZ22B/model_14_jachere.png\", dpi = 600)"
   ]
  },
  {
   "cell_type": "code",
   "execution_count": 90,
   "metadata": {},
   "outputs": [],
   "source": [
    "# Save the regression model\n",
    "#joblib.dump(model_1, \"./model 14/model_TZ22B.pkl\") "
   ]
  },
  {
   "cell_type": "markdown",
   "metadata": {},
   "source": [
    "#### 15. Model 15:  X = [STI, NDTI, DFI, NDRI]"
   ]
  },
  {
   "cell_type": "code",
   "execution_count": 91,
   "metadata": {},
   "outputs": [
    {
     "data": {
      "text/html": [
       "<div>\n",
       "<style scoped>\n",
       "    .dataframe tbody tr th:only-of-type {\n",
       "        vertical-align: middle;\n",
       "    }\n",
       "\n",
       "    .dataframe tbody tr th {\n",
       "        vertical-align: top;\n",
       "    }\n",
       "\n",
       "    .dataframe thead th {\n",
       "        text-align: right;\n",
       "    }\n",
       "</style>\n",
       "<table border=\"1\" class=\"dataframe\">\n",
       "  <thead>\n",
       "    <tr style=\"text-align: right;\">\n",
       "      <th></th>\n",
       "      <th>STI</th>\n",
       "      <th>NDTI</th>\n",
       "      <th>DFI</th>\n",
       "      <th>NDRI</th>\n",
       "      <th>Biomasse (kg/ha)</th>\n",
       "    </tr>\n",
       "  </thead>\n",
       "  <tbody>\n",
       "    <tr>\n",
       "      <th>0</th>\n",
       "      <td>1.285465</td>\n",
       "      <td>0.124905</td>\n",
       "      <td>13.995479</td>\n",
       "      <td>-0.260756</td>\n",
       "      <td>899.7875</td>\n",
       "    </tr>\n",
       "  </tbody>\n",
       "</table>\n",
       "</div>"
      ],
      "text/plain": [
       "        STI      NDTI        DFI      NDRI  Biomasse (kg/ha)\n",
       "0  1.285465  0.124905  13.995479 -0.260756          899.7875"
      ]
     },
     "execution_count": 91,
     "metadata": {},
     "output_type": "execute_result"
    }
   ],
   "source": [
    "# Define input output data\n",
    "sti_ndti_dfi_ndri_data = data_TZ22B.iloc[:, [13, 14, 15, 16,19]]\n",
    "sti_ndti_dfi_ndri_data.head(1)"
   ]
  },
  {
   "cell_type": "code",
   "execution_count": 92,
   "metadata": {},
   "outputs": [
    {
     "data": {
      "text/html": [
       "<div>\n",
       "<style scoped>\n",
       "    .dataframe tbody tr th:only-of-type {\n",
       "        vertical-align: middle;\n",
       "    }\n",
       "\n",
       "    .dataframe tbody tr th {\n",
       "        vertical-align: top;\n",
       "    }\n",
       "\n",
       "    .dataframe thead th {\n",
       "        text-align: right;\n",
       "    }\n",
       "</style>\n",
       "<table border=\"1\" class=\"dataframe\">\n",
       "  <thead>\n",
       "    <tr style=\"text-align: right;\">\n",
       "      <th></th>\n",
       "      <th>coef</th>\n",
       "      <th>cste</th>\n",
       "      <th>R2</th>\n",
       "      <th>RMSE</th>\n",
       "      <th>mae</th>\n",
       "      <th>MAPE</th>\n",
       "    </tr>\n",
       "  </thead>\n",
       "  <tbody>\n",
       "    <tr>\n",
       "      <th>3</th>\n",
       "      <td>[-17745.223257612775, 43176.06132818677, 113.3...</td>\n",
       "      <td>14620.088937</td>\n",
       "      <td>0.444146</td>\n",
       "      <td>333.649048</td>\n",
       "      <td>287.86172</td>\n",
       "      <td>0.395843</td>\n",
       "    </tr>\n",
       "  </tbody>\n",
       "</table>\n",
       "</div>"
      ],
      "text/plain": [
       "                                                coef          cste        R2  \\\n",
       "3  [-17745.223257612775, 43176.06132818677, 113.3...  14620.088937  0.444146   \n",
       "\n",
       "         RMSE        mae      MAPE  \n",
       "3  333.649048  287.86172  0.395843  "
      ]
     },
     "execution_count": 92,
     "metadata": {},
     "output_type": "execute_result"
    }
   ],
   "source": [
    "# Define predictor and response variables\n",
    "coef_list = []\n",
    "cste_list = []\n",
    "R2_list = []\n",
    "mae_list = []\n",
    "RMSE_list = []\n",
    "MAPE_list = []\n",
    "\n",
    "for i in range(0, len(sti_ndti_dfi_ndri_data)):\n",
    "    X = sti_ndti_dfi_ndri_data[[\"STI\",\"NDTI\",\"DFI\", \"NDRI\"]]\n",
    "    var_out = X.index.isin([i])\n",
    "    X = X.loc[~var_out]         # Leave one out\n",
    "    \n",
    "    y = sti_ndti_dfi_ndri_data[\"Biomasse (kg/ha)\"][X.index] # same indices as X\n",
    "    \n",
    "    model_1 = LinearRegression().fit(X, y)\n",
    "    \n",
    "    coef = model_1.coef_\n",
    "    coef_list.append(coef)\n",
    "    \n",
    "    cste =  model_1.intercept_\n",
    "    cste_list.append(cste)\n",
    "    X = sti_ndti_dfi_ndri_data[[\"STI\",\"NDTI\",\"DFI\", \"NDRI\"]]\n",
    "    y = sti_ndti_dfi_ndri_data[\"Biomasse (kg/ha)\"]   \n",
    "    R2 = r2_score(y.values,  (model_1.predict(X)))\n",
    "    R2_list.append(R2)\n",
    "    RMSE = mean_squared_error(y.values, (model_1.predict(X)), squared=False)\n",
    "    RMSE_list.append(RMSE)\n",
    "    mae = mean_absolute_error(y.values,  (model_1.predict(X)))\n",
    "    mae_list.append(mae)\n",
    "    mape = np.mean(np.abs((y.values - (model_1.predict(X))))/y.values)\n",
    "    MAPE_list.append(mape)\n",
    "    \n",
    "result_dic = {\"coef\" : coef_list, \"cste\": cste_list, \"R2\" : R2_list,\"RMSE\": RMSE_list, \"mae\": mae_list, \"MAPE\": MAPE_list}    \n",
    "reg_results = pd.DataFrame(result_dic)\n",
    "reg_results.loc[reg_results.RMSE == reg_results.RMSE.min()]    "
   ]
  },
  {
   "cell_type": "code",
   "execution_count": 93,
   "metadata": {
    "tags": []
   },
   "outputs": [],
   "source": [
    "# Predict the out var using the best model\n",
    "model_1 = LinearRegression()\n",
    "model_1.coef_ = reg_results.coef.values[3]\n",
    "model_1.intercept_ = reg_results.cste.values[3]"
   ]
  },
  {
   "cell_type": "markdown",
   "metadata": {
    "tags": []
   },
   "source": [
    "### Plot the results"
   ]
  },
  {
   "cell_type": "code",
   "execution_count": 94,
   "metadata": {
    "tags": []
   },
   "outputs": [
    {
     "name": "stderr",
     "output_type": "stream",
     "text": [
      "C:\\Users\\GARBA\\anaconda3\\envs\\geo_env\\lib\\site-packages\\sklearn\\base.py:443: UserWarning: X has feature names, but LinearRegression was fitted without feature names\n",
      "  warnings.warn(\n"
     ]
    }
   ],
   "source": [
    "# inputs\n",
    "x_all = si_TZ22B[[\"STI\",\"NDTI\",\"DFI\", \"NDRI\"]]\n",
    "y_all = model_1.predict(x_all)\n",
    "#y_all"
   ]
  },
  {
   "cell_type": "code",
   "execution_count": 95,
   "metadata": {
    "tags": []
   },
   "outputs": [
    {
     "data": {
      "image/png": "[encoded data removed]",
      "text/plain": [
       "<Figure size 750x250 with 1 Axes>"
      ]
     },
     "metadata": {},
     "output_type": "display_data"
    }
   ],
   "source": [
    "fig, ax = plt.subplots(1, 1, figsize = (7.5,2.5), constrained_layout = True)\n",
    "ax.scatter(obs_mass.index, obs_mass.values, label = \"Observed Biomass\", color = \"darkblue\", s = 6)\n",
    "ax.plot(si_TZ22B.date, y_all, lw = .9, label = \"Estimated biomass\", color = \"r\", alpha = .5)\n",
    "#ax.set_xticks(sti_data.index)\n",
    "#ax.set_yticks(np.arange(0, 1500, 200))\n",
    "ax.set_ylabel(\"kgMS/ha\", fontsize = 7)\n",
    "#ax.set_xlabel(\"Index\",  fontsize = 7)\n",
    "ax.tick_params(axis='both', which='major', labelsize=8)\n",
    "ax.legend(fontsize = 7, loc = (0.01, 0.81))\n",
    "ax.set_title(\"Fallow site TZ22B - Model 15:\\n STI, NDTI, DFI and NDRI\", fontsize = 8, fontweight = \"bold\", x = 0.85, y = .84)\n",
    "ax.grid(\"both\", alpha = 0.2)\n",
    "plt.savefig(\"./output/TZ22B/model_15_jachere.png\", dpi = 600)"
   ]
  },
  {
   "cell_type": "code",
   "execution_count": 96,
   "metadata": {},
   "outputs": [],
   "source": [
    "# Save the regression model\n",
    "#import joblib\n",
    "## save\n",
    "#joblib.dump(model_1, \"./model 15/model_TZ22B.pkl\") "
   ]
  },
  {
   "cell_type": "code",
   "execution_count": null,
   "metadata": {},
   "outputs": [],
   "source": []
  }
 ],
 "metadata": {
  "kernelspec": {
   "display_name": "Python 3 (ipykernel)",
   "language": "python",
   "name": "python3"
  },
  "language_info": {
   "codemirror_mode": {
    "name": "ipython",
    "version": 3
   },
   "file_extension": ".py",
   "mimetype": "text/x-python",
   "name": "python",
   "nbconvert_exporter": "python",
   "pygments_lexer": "ipython3",
   "version": "3.9.13"
  }
 },
 "nbformat": 4,
 "nbformat_minor": 4
}
