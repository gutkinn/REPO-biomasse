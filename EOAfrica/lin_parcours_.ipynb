{
 "cells": [
  {
   "cell_type": "markdown",
   "metadata": {},
   "source": [
    "# Regression model for dry biomasse assessment"
   ]
  },
  {
   "cell_type": "code",
   "execution_count": 1,
   "metadata": {},
   "outputs": [],
   "source": [
    "# Import required packages\n",
    "import numpy as np\n",
    "np.float = float\n",
    "\n",
    "import pandas as pd\n",
    "from sklearn.model_selection import train_test_split\n",
    "from sklearn.model_selection import KFold\n",
    "from sklearn.model_selection import cross_val_score\n",
    "from sklearn.model_selection import LeaveOneOut\n",
    "\n",
    "from sklearn.metrics import mean_absolute_error\n",
    "from sklearn.metrics import mean_squared_error\n",
    "from sklearn.metrics import mean_absolute_error\n",
    "from sklearn.metrics import r2_score\n",
    "from math import sqrt\n",
    "from sklearn.linear_model import LinearRegression\n",
    "from numpy import mean\n",
    "from numpy import absolute\n",
    "from numpy import sqrt\n",
    "from sklearn.metrics import mean_squared_error\n",
    "\n",
    "\n",
    "from sklearn import preprocessing\n",
    "import joblib\n",
    "import matplotlib.pyplot as plt"
   ]
  },
  {
   "cell_type": "markdown",
   "metadata": {},
   "source": [
    "### Rangeland sites"
   ]
  },
  {
   "cell_type": "code",
   "execution_count": 30,
   "metadata": {
    "tags": []
   },
   "outputs": [
    {
     "data": {
      "text/html": [
       "<div>\n",
       "<style scoped>\n",
       "    .dataframe tbody tr th:only-of-type {\n",
       "        vertical-align: middle;\n",
       "    }\n",
       "\n",
       "    .dataframe tbody tr th {\n",
       "        vertical-align: top;\n",
       "    }\n",
       "\n",
       "    .dataframe thead th {\n",
       "        text-align: right;\n",
       "    }\n",
       "</style>\n",
       "<table border=\"1\" class=\"dataframe\">\n",
       "  <thead>\n",
       "    <tr style=\"text-align: right;\">\n",
       "      <th></th>\n",
       "      <th>date</th>\n",
       "      <th>B01</th>\n",
       "      <th>B02</th>\n",
       "      <th>B03</th>\n",
       "      <th>B04</th>\n",
       "      <th>B05</th>\n",
       "      <th>B06</th>\n",
       "      <th>B07</th>\n",
       "      <th>B08</th>\n",
       "      <th>B8A</th>\n",
       "      <th>B11</th>\n",
       "      <th>B12</th>\n",
       "      <th>NDVI</th>\n",
       "      <th>STI</th>\n",
       "      <th>NDTI</th>\n",
       "      <th>DFI</th>\n",
       "      <th>NDRI</th>\n",
       "      <th>Date de mesure</th>\n",
       "      <th>Biomasse (gMS/m2)</th>\n",
       "      <th>Biomasse (kg/ha)</th>\n",
       "    </tr>\n",
       "  </thead>\n",
       "  <tbody>\n",
       "    <tr>\n",
       "      <th>35</th>\n",
       "      <td>2022-01-28</td>\n",
       "      <td>1078.213483</td>\n",
       "      <td>1179.842697</td>\n",
       "      <td>1544.779026</td>\n",
       "      <td>2249.632959</td>\n",
       "      <td>2597.861423</td>\n",
       "      <td>2740.344569</td>\n",
       "      <td>2845.636704</td>\n",
       "      <td>2901.940075</td>\n",
       "      <td>2909.382022</td>\n",
       "      <td>4352.498127</td>\n",
       "      <td>2983.415730</td>\n",
       "      <td>0.126623</td>\n",
       "      <td>1.458898</td>\n",
       "      <td>0.186627</td>\n",
       "      <td>24.384520</td>\n",
       "      <td>-0.140221</td>\n",
       "      <td>01/22</td>\n",
       "      <td>28.70</td>\n",
       "      <td>287.0</td>\n",
       "    </tr>\n",
       "    <tr>\n",
       "      <th>36</th>\n",
       "      <td>2022-03-29</td>\n",
       "      <td>1457.146067</td>\n",
       "      <td>1598.344569</td>\n",
       "      <td>2038.764045</td>\n",
       "      <td>2823.176030</td>\n",
       "      <td>3157.146067</td>\n",
       "      <td>3293.217228</td>\n",
       "      <td>3409.951311</td>\n",
       "      <td>3537.812734</td>\n",
       "      <td>3490.022472</td>\n",
       "      <td>4921.674157</td>\n",
       "      <td>3592.419476</td>\n",
       "      <td>0.112347</td>\n",
       "      <td>1.370017</td>\n",
       "      <td>0.156124</td>\n",
       "      <td>21.552540</td>\n",
       "      <td>-0.119902</td>\n",
       "      <td>03/22</td>\n",
       "      <td>65.70</td>\n",
       "      <td>657.0</td>\n",
       "    </tr>\n",
       "    <tr>\n",
       "      <th>37</th>\n",
       "      <td>2022-05-28</td>\n",
       "      <td>419.220974</td>\n",
       "      <td>540.378277</td>\n",
       "      <td>1086.973783</td>\n",
       "      <td>1997.426966</td>\n",
       "      <td>2415.415730</td>\n",
       "      <td>2548.719101</td>\n",
       "      <td>2685.977528</td>\n",
       "      <td>2596.771536</td>\n",
       "      <td>2823.711610</td>\n",
       "      <td>4796.157303</td>\n",
       "      <td>3251.408240</td>\n",
       "      <td>0.130457</td>\n",
       "      <td>1.475102</td>\n",
       "      <td>0.191952</td>\n",
       "      <td>24.774317</td>\n",
       "      <td>-0.238907</td>\n",
       "      <td>05/22</td>\n",
       "      <td>8.40</td>\n",
       "      <td>84.0</td>\n",
       "    </tr>\n",
       "    <tr>\n",
       "      <th>38</th>\n",
       "      <td>2022-10-10</td>\n",
       "      <td>441.513109</td>\n",
       "      <td>673.790262</td>\n",
       "      <td>1162.906367</td>\n",
       "      <td>1800.168539</td>\n",
       "      <td>2297.599251</td>\n",
       "      <td>2827.404494</td>\n",
       "      <td>3089.513109</td>\n",
       "      <td>2939.925094</td>\n",
       "      <td>3128.951311</td>\n",
       "      <td>4211.543071</td>\n",
       "      <td>2901.805243</td>\n",
       "      <td>0.240450</td>\n",
       "      <td>1.451353</td>\n",
       "      <td>0.184124</td>\n",
       "      <td>19.042327</td>\n",
       "      <td>-0.234292</td>\n",
       "      <td>2022-10-05 00:00:00</td>\n",
       "      <td>100.44</td>\n",
       "      <td>1004.4</td>\n",
       "    </tr>\n",
       "    <tr>\n",
       "      <th>39</th>\n",
       "      <td>2023-10-20</td>\n",
       "      <td>572.385768</td>\n",
       "      <td>669.591760</td>\n",
       "      <td>1118.382022</td>\n",
       "      <td>1762.730337</td>\n",
       "      <td>2234.378277</td>\n",
       "      <td>2593.898876</td>\n",
       "      <td>2702.700375</td>\n",
       "      <td>2606.880150</td>\n",
       "      <td>2700.558052</td>\n",
       "      <td>4123.056180</td>\n",
       "      <td>2677.235955</td>\n",
       "      <td>0.193187</td>\n",
       "      <td>1.540042</td>\n",
       "      <td>0.212611</td>\n",
       "      <td>23.711545</td>\n",
       "      <td>-0.205971</td>\n",
       "      <td>17/10/23</td>\n",
       "      <td>23.15</td>\n",
       "      <td>231.5</td>\n",
       "    </tr>\n",
       "  </tbody>\n",
       "</table>\n",
       "</div>"
      ],
      "text/plain": [
       "         date          B01          B02          B03          B04  \\\n",
       "35 2022-01-28  1078.213483  1179.842697  1544.779026  2249.632959   \n",
       "36 2022-03-29  1457.146067  1598.344569  2038.764045  2823.176030   \n",
       "37 2022-05-28   419.220974   540.378277  1086.973783  1997.426966   \n",
       "38 2022-10-10   441.513109   673.790262  1162.906367  1800.168539   \n",
       "39 2023-10-20   572.385768   669.591760  1118.382022  1762.730337   \n",
       "\n",
       "            B05          B06          B07          B08          B8A  \\\n",
       "35  2597.861423  2740.344569  2845.636704  2901.940075  2909.382022   \n",
       "36  3157.146067  3293.217228  3409.951311  3537.812734  3490.022472   \n",
       "37  2415.415730  2548.719101  2685.977528  2596.771536  2823.711610   \n",
       "38  2297.599251  2827.404494  3089.513109  2939.925094  3128.951311   \n",
       "39  2234.378277  2593.898876  2702.700375  2606.880150  2700.558052   \n",
       "\n",
       "            B11          B12      NDVI       STI      NDTI        DFI  \\\n",
       "35  4352.498127  2983.415730  0.126623  1.458898  0.186627  24.384520   \n",
       "36  4921.674157  3592.419476  0.112347  1.370017  0.156124  21.552540   \n",
       "37  4796.157303  3251.408240  0.130457  1.475102  0.191952  24.774317   \n",
       "38  4211.543071  2901.805243  0.240450  1.451353  0.184124  19.042327   \n",
       "39  4123.056180  2677.235955  0.193187  1.540042  0.212611  23.711545   \n",
       "\n",
       "        NDRI       Date de mesure  Biomasse (gMS/m2)  Biomasse (kg/ha)  \n",
       "35 -0.140221                01/22              28.70             287.0  \n",
       "36 -0.119902                03/22              65.70             657.0  \n",
       "37 -0.238907                05/22               8.40              84.0  \n",
       "38 -0.234292  2022-10-05 00:00:00             100.44            1004.4  \n",
       "39 -0.205971             17/10/23              23.15             231.5  "
      ]
     },
     "execution_count": 30,
     "metadata": {},
     "output_type": "execute_result"
    }
   ],
   "source": [
    "## Import input data \n",
    "#data_B24 = pd.read_excel(\"./Model_data.xlsx\", sheet_name = \"B24 Monthly\") # Jachèere##data_BZ26 = pd.read_excel(\"./Model_data.xlsx\", sheet_name = \"BZ26 Monthly\") # Jachèere\n",
    "data_K40 = pd.read_excel(\"./Model_data_completed.xlsx\", sheet_name = \"K40 Monthly\") # Parcours\n",
    "#data_K6A = pd.read_excel(\"./Model_data.xlsx\", sheet_name = \"K6A Monthly\") # Jachèere\n",
    "#data_KA10 = pd.read_excel(\"./Model_data.xlsx\", sheet_name = \"KA10 Monthly\") # Jachèere\n",
    "#data_KA18C = pd.read_excel(\"./Model_data.xlsx\", sheet_name = \"KA18C Monthly\") # Jachèere\n",
    "data_KA8B = pd.read_excel(\"./Model_data_completed.xlsx\", sheet_name = \"KA8B Monthly\") # Parcours\n",
    "data_KB7 = pd.read_excel(\"./Model_data_completed.xlsx\", sheet_name = \"KB7 Monthly\") # Parcours\n",
    "data_KK15 = pd.read_excel(\"./Model_data_completed.xlsx\", sheet_name = \"KK15 Monthly\") # Parcours\n",
    "#data_KZ7 = pd.read_excel(\"./Model_data.xlsx\", sheet_name = \"KZ7 Monthly\") # Jachèere\n",
    "data_TK28 = pd.read_excel(\"./Model_data_completed.xlsx\", sheet_name = \"TK28 Monthly\") # Parcours\n",
    "#data_TZ22B = pd.read_excel(\"./Model_data.xlsx\", sheet_name = \"TZ22B Monthly\") # Jachèere\n",
    "#\n",
    "data = pd.concat([data_K40, data_KA8B, data_KB7, data_KK15, data_TK28])\n",
    "data = data.reset_index()\n",
    "data = data.iloc[:, 1:22]\n",
    "data.tail(5)"
   ]
  },
  {
   "cell_type": "code",
   "execution_count": 31,
   "metadata": {
    "tags": []
   },
   "outputs": [
    {
     "data": {
      "text/html": [
       "<div>\n",
       "<style scoped>\n",
       "    .dataframe tbody tr th:only-of-type {\n",
       "        vertical-align: middle;\n",
       "    }\n",
       "\n",
       "    .dataframe tbody tr th {\n",
       "        vertical-align: top;\n",
       "    }\n",
       "\n",
       "    .dataframe thead th {\n",
       "        text-align: right;\n",
       "    }\n",
       "</style>\n",
       "<table border=\"1\" class=\"dataframe\">\n",
       "  <thead>\n",
       "    <tr style=\"text-align: right;\">\n",
       "      <th></th>\n",
       "      <th>date</th>\n",
       "      <th>B01</th>\n",
       "      <th>B02</th>\n",
       "      <th>B03</th>\n",
       "      <th>B04</th>\n",
       "      <th>B05</th>\n",
       "      <th>B06</th>\n",
       "      <th>B07</th>\n",
       "      <th>B08</th>\n",
       "      <th>B8A</th>\n",
       "      <th>B11</th>\n",
       "      <th>B12</th>\n",
       "      <th>NDVI</th>\n",
       "      <th>STI</th>\n",
       "      <th>NDTI</th>\n",
       "      <th>DFI</th>\n",
       "      <th>NDRI</th>\n",
       "      <th>Date de mesure</th>\n",
       "      <th>Biomasse (gMS/m2)</th>\n",
       "      <th>Biomasse (kg/ha)</th>\n",
       "    </tr>\n",
       "  </thead>\n",
       "  <tbody>\n",
       "    <tr>\n",
       "      <th>0</th>\n",
       "      <td>2018-11-25</td>\n",
       "      <td>857.123247</td>\n",
       "      <td>1003.681181</td>\n",
       "      <td>1635.597786</td>\n",
       "      <td>2658.839852</td>\n",
       "      <td>2994.291513</td>\n",
       "      <td>3146.185978</td>\n",
       "      <td>3208.977860</td>\n",
       "      <td>3213.756458</td>\n",
       "      <td>3148.088561</td>\n",
       "      <td>4768.813284</td>\n",
       "      <td>3650.064945</td>\n",
       "      <td>0.094493</td>\n",
       "      <td>1.306501</td>\n",
       "      <td>0.132886</td>\n",
       "      <td>19.408917</td>\n",
       "      <td>-0.157115</td>\n",
       "      <td>2018-11-06 00:00:00</td>\n",
       "      <td>283.175</td>\n",
       "      <td>283.175</td>\n",
       "    </tr>\n",
       "    <tr>\n",
       "      <th>1</th>\n",
       "      <td>2019-10-01</td>\n",
       "      <td>959.681181</td>\n",
       "      <td>1072.881919</td>\n",
       "      <td>1677.708487</td>\n",
       "      <td>2545.344649</td>\n",
       "      <td>2963.247232</td>\n",
       "      <td>3223.244280</td>\n",
       "      <td>3358.972694</td>\n",
       "      <td>3095.183764</td>\n",
       "      <td>3345.730627</td>\n",
       "      <td>4800.177860</td>\n",
       "      <td>3490.937269</td>\n",
       "      <td>0.097480</td>\n",
       "      <td>1.375040</td>\n",
       "      <td>0.157909</td>\n",
       "      <td>22.429639</td>\n",
       "      <td>-0.156652</td>\n",
       "      <td>2019-10-04 00:00:00</td>\n",
       "      <td>688.075</td>\n",
       "      <td>688.075</td>\n",
       "    </tr>\n",
       "  </tbody>\n",
       "</table>\n",
       "</div>"
      ],
      "text/plain": [
       "        date         B01          B02          B03          B04          B05  \\\n",
       "0 2018-11-25  857.123247  1003.681181  1635.597786  2658.839852  2994.291513   \n",
       "1 2019-10-01  959.681181  1072.881919  1677.708487  2545.344649  2963.247232   \n",
       "\n",
       "           B06          B07          B08          B8A          B11  \\\n",
       "0  3146.185978  3208.977860  3213.756458  3148.088561  4768.813284   \n",
       "1  3223.244280  3358.972694  3095.183764  3345.730627  4800.177860   \n",
       "\n",
       "           B12      NDVI       STI      NDTI        DFI      NDRI  \\\n",
       "0  3650.064945  0.094493  1.306501  0.132886  19.408917 -0.157115   \n",
       "1  3490.937269  0.097480  1.375040  0.157909  22.429639 -0.156652   \n",
       "\n",
       "        Date de mesure  Biomasse (gMS/m2)  Biomasse (kg/ha)  \n",
       "0  2018-11-06 00:00:00            283.175           283.175  \n",
       "1  2019-10-04 00:00:00            688.075           688.075  "
      ]
     },
     "execution_count": 31,
     "metadata": {},
     "output_type": "execute_result"
    }
   ],
   "source": [
    "#data = pd.read_excel(\"./parcours.xlsx\")\n",
    "data.head(2)"
   ]
  },
  {
   "cell_type": "code",
   "execution_count": 106,
   "metadata": {},
   "outputs": [
    {
     "data": {
      "text/plain": [
       "date\n",
       "2018-11-25    283.175\n",
       "Name: Biomasse (kg/ha), dtype: float64"
      ]
     },
     "execution_count": 106,
     "metadata": {},
     "output_type": "execute_result"
    }
   ],
   "source": [
    "# Observed biomass\n",
    "obs_mass = data[\"Biomasse (kg/ha)\"]\n",
    "obs_mass.index = data.date\n",
    "obs_mass.head(1)"
   ]
  },
  {
   "cell_type": "markdown",
   "metadata": {},
   "source": [
    "## Simple LRMs"
   ]
  },
  {
   "cell_type": "markdown",
   "metadata": {},
   "source": [
    "#### 1. Sites Jachere"
   ]
  },
  {
   "cell_type": "markdown",
   "metadata": {},
   "source": [
    "#### Model 1:  X = STI"
   ]
  },
  {
   "cell_type": "code",
   "execution_count": 32,
   "metadata": {
    "tags": []
   },
   "outputs": [
    {
     "data": {
      "text/html": [
       "<div>\n",
       "<style scoped>\n",
       "    .dataframe tbody tr th:only-of-type {\n",
       "        vertical-align: middle;\n",
       "    }\n",
       "\n",
       "    .dataframe tbody tr th {\n",
       "        vertical-align: top;\n",
       "    }\n",
       "\n",
       "    .dataframe thead th {\n",
       "        text-align: right;\n",
       "    }\n",
       "</style>\n",
       "<table border=\"1\" class=\"dataframe\">\n",
       "  <thead>\n",
       "    <tr style=\"text-align: right;\">\n",
       "      <th></th>\n",
       "      <th>STI</th>\n",
       "      <th>Biomasse (kg/ha)</th>\n",
       "    </tr>\n",
       "  </thead>\n",
       "  <tbody>\n",
       "    <tr>\n",
       "      <th>0</th>\n",
       "      <td>1.306501</td>\n",
       "      <td>283.175</td>\n",
       "    </tr>\n",
       "    <tr>\n",
       "      <th>1</th>\n",
       "      <td>1.375040</td>\n",
       "      <td>688.075</td>\n",
       "    </tr>\n",
       "  </tbody>\n",
       "</table>\n",
       "</div>"
      ],
      "text/plain": [
       "        STI  Biomasse (kg/ha)\n",
       "0  1.306501           283.175\n",
       "1  1.375040           688.075"
      ]
     },
     "execution_count": 32,
     "metadata": {},
     "output_type": "execute_result"
    }
   ],
   "source": [
    "# Define input output data\n",
    "sti_data = data.iloc[:, [13, 19]]\n",
    "sti_data.head(2)"
   ]
  },
  {
   "cell_type": "code",
   "execution_count": 35,
   "metadata": {
    "tags": []
   },
   "outputs": [
    {
     "data": {
      "text/html": [
       "<div>\n",
       "<style scoped>\n",
       "    .dataframe tbody tr th:only-of-type {\n",
       "        vertical-align: middle;\n",
       "    }\n",
       "\n",
       "    .dataframe tbody tr th {\n",
       "        vertical-align: top;\n",
       "    }\n",
       "\n",
       "    .dataframe thead th {\n",
       "        text-align: right;\n",
       "    }\n",
       "</style>\n",
       "<table border=\"1\" class=\"dataframe\">\n",
       "  <thead>\n",
       "    <tr style=\"text-align: right;\">\n",
       "      <th></th>\n",
       "      <th>coef</th>\n",
       "      <th>cste</th>\n",
       "      <th>R2</th>\n",
       "      <th>RMSE</th>\n",
       "      <th>mae</th>\n",
       "      <th>MAPE</th>\n",
       "      <th>RMSPE</th>\n",
       "    </tr>\n",
       "  </thead>\n",
       "  <tbody>\n",
       "    <tr>\n",
       "      <th>22</th>\n",
       "      <td>[954.1674556951766]</td>\n",
       "      <td>-776.034337</td>\n",
       "      <td>0.089963</td>\n",
       "      <td>351.086707</td>\n",
       "      <td>268.972839</td>\n",
       "      <td>1.264499</td>\n",
       "      <td>236.608095</td>\n",
       "    </tr>\n",
       "  </tbody>\n",
       "</table>\n",
       "</div>"
      ],
      "text/plain": [
       "                   coef        cste        R2        RMSE         mae  \\\n",
       "22  [954.1674556951766] -776.034337  0.089963  351.086707  268.972839   \n",
       "\n",
       "        MAPE       RMSPE  \n",
       "22  1.264499  236.608095  "
      ]
     },
     "execution_count": 35,
     "metadata": {},
     "output_type": "execute_result"
    }
   ],
   "source": [
    "# Define predictor and response variables\n",
    "coef_list = []\n",
    "cste_list = []\n",
    "R2_list = []\n",
    "RMSE_list = []\n",
    "mae_list = []\n",
    "MAPE_list = []\n",
    "RMSPE_list = []\n",
    "\n",
    "for i in range(0, len(sti_data)):\n",
    "    X = sti_data[[\"STI\"]]\n",
    "    var_out = X.index.isin([i])\n",
    "    X = X.loc[~var_out]         # Leave one out\n",
    "    \n",
    "    y = sti_data[\"Biomasse (kg/ha)\"][X.index] # same indices as X\n",
    "    \n",
    "    model_1 = LinearRegression().fit(X, y)\n",
    "    \n",
    "    coef = model_1.coef_\n",
    "    coef_list.append(coef)\n",
    "    \n",
    "    cste =  model_1.intercept_\n",
    "    cste_list.append(cste)\n",
    "    X = sti_data[[\"STI\"]]\n",
    "    y = sti_data[\"Biomasse (kg/ha)\"]  \n",
    "    R2 = r2_score(y.values,  (model_1.predict(X)))\n",
    "    R2_list.append(R2)\n",
    "    RMSE = mean_squared_error(y.values, model_1.predict(X), squared=False)\n",
    "    RMSE_list.append(RMSE)\n",
    "    mae = mean_absolute_error(y.values,  model_1.predict(X))\n",
    "    mae_list.append(mae)\n",
    "    mape = np.mean(np.abs((y.values - model_1.predict(X)))/y.values)\n",
    "    MAPE_list.append(mape)\n",
    "    rmspe = rmspe = (np.sqrt(np.mean(np.square((y.values - model_1.predict(X)) / y.values)))) * 100\n",
    "    RMSPE_list.append(rmspe)\n",
    "    \n",
    "result_dic = {\"coef\" : coef_list, \"cste\": cste_list, \"R2\" : R2_list,\"RMSE\": RMSE_list, \"mae\": mae_list, \"MAPE\": MAPE_list, \"RMSPE\": RMSPE_list}    \n",
    "reg_results = pd.DataFrame(result_dic)\n",
    "reg_results.loc[reg_results.RMSE == reg_results.RMSE.min()]        "
   ]
  },
  {
   "cell_type": "code",
   "execution_count": 6,
   "metadata": {},
   "outputs": [],
   "source": [
    "# Predict the out var using the best model\n",
    "model_1 = LinearRegression()\n",
    "model_1.coef_ = reg_results.coef.values[6]\n",
    "model_1.intercept_ = reg_results.cste.values[6]"
   ]
  },
  {
   "cell_type": "code",
   "execution_count": 8,
   "metadata": {
    "tags": []
   },
   "outputs": [],
   "source": [
    "# Save the regression model\n",
    "#joblib.dump(model_1, \"./model 1/model_B24.pkl\") "
   ]
  },
  {
   "cell_type": "markdown",
   "metadata": {},
   "source": [
    "#### 2. Model 2:  X = NDTI"
   ]
  },
  {
   "cell_type": "code",
   "execution_count": 36,
   "metadata": {},
   "outputs": [
    {
     "data": {
      "text/html": [
       "<div>\n",
       "<style scoped>\n",
       "    .dataframe tbody tr th:only-of-type {\n",
       "        vertical-align: middle;\n",
       "    }\n",
       "\n",
       "    .dataframe tbody tr th {\n",
       "        vertical-align: top;\n",
       "    }\n",
       "\n",
       "    .dataframe thead th {\n",
       "        text-align: right;\n",
       "    }\n",
       "</style>\n",
       "<table border=\"1\" class=\"dataframe\">\n",
       "  <thead>\n",
       "    <tr style=\"text-align: right;\">\n",
       "      <th></th>\n",
       "      <th>NDTI</th>\n",
       "      <th>Biomasse (kg/ha)</th>\n",
       "    </tr>\n",
       "  </thead>\n",
       "  <tbody>\n",
       "    <tr>\n",
       "      <th>0</th>\n",
       "      <td>0.132886</td>\n",
       "      <td>283.175</td>\n",
       "    </tr>\n",
       "    <tr>\n",
       "      <th>1</th>\n",
       "      <td>0.157909</td>\n",
       "      <td>688.075</td>\n",
       "    </tr>\n",
       "  </tbody>\n",
       "</table>\n",
       "</div>"
      ],
      "text/plain": [
       "       NDTI  Biomasse (kg/ha)\n",
       "0  0.132886           283.175\n",
       "1  0.157909           688.075"
      ]
     },
     "execution_count": 36,
     "metadata": {},
     "output_type": "execute_result"
    }
   ],
   "source": [
    "# Define input output data\n",
    "ndti_data = data.iloc[:, [14, 19]]\n",
    "ndti_data.head(2)"
   ]
  },
  {
   "cell_type": "code",
   "execution_count": 38,
   "metadata": {},
   "outputs": [
    {
     "data": {
      "text/html": [
       "<div>\n",
       "<style scoped>\n",
       "    .dataframe tbody tr th:only-of-type {\n",
       "        vertical-align: middle;\n",
       "    }\n",
       "\n",
       "    .dataframe tbody tr th {\n",
       "        vertical-align: top;\n",
       "    }\n",
       "\n",
       "    .dataframe thead th {\n",
       "        text-align: right;\n",
       "    }\n",
       "</style>\n",
       "<table border=\"1\" class=\"dataframe\">\n",
       "  <thead>\n",
       "    <tr style=\"text-align: right;\">\n",
       "      <th></th>\n",
       "      <th>coef</th>\n",
       "      <th>cste</th>\n",
       "      <th>R2</th>\n",
       "      <th>RMSE</th>\n",
       "      <th>mae</th>\n",
       "      <th>MAPE</th>\n",
       "    </tr>\n",
       "  </thead>\n",
       "  <tbody>\n",
       "    <tr>\n",
       "      <th>22</th>\n",
       "      <td>[2662.0317860829764]</td>\n",
       "      <td>123.449786</td>\n",
       "      <td>0.094163</td>\n",
       "      <td>350.275587</td>\n",
       "      <td>267.840405</td>\n",
       "      <td>-98.995617</td>\n",
       "    </tr>\n",
       "  </tbody>\n",
       "</table>\n",
       "</div>"
      ],
      "text/plain": [
       "                    coef        cste        R2        RMSE         mae  \\\n",
       "22  [2662.0317860829764]  123.449786  0.094163  350.275587  267.840405   \n",
       "\n",
       "         MAPE  \n",
       "22 -98.995617  "
      ]
     },
     "execution_count": 38,
     "metadata": {},
     "output_type": "execute_result"
    }
   ],
   "source": [
    "# Define predictor and response variables\n",
    "coef_list = []\n",
    "cste_list = []\n",
    "R2_list = []\n",
    "mae_list = []\n",
    "RMSE_list = []\n",
    "MAPE_list = []\n",
    "\n",
    "for i in range(0, len(ndti_data)):\n",
    "    X = ndti_data[[\"NDTI\"]]\n",
    "    var_out = X.index.isin([i])\n",
    "    X = X.loc[~var_out]         # Leave one out\n",
    "    \n",
    "    y = ndti_data[\"Biomasse (kg/ha)\"][X.index] # same indices as X\n",
    "    \n",
    "    model_1 = LinearRegression().fit(X, y)\n",
    "    \n",
    "    coef = model_1.coef_\n",
    "    coef_list.append(coef)\n",
    "    \n",
    "    cste =  model_1.intercept_\n",
    "    cste_list.append(cste)\n",
    "    X = ndti_data[[\"NDTI\"]]\n",
    "    y = ndti_data[\"Biomasse (kg/ha)\"]     \n",
    "    R2 = r2_score(y.values,  (model_1.predict(X)))\n",
    "    R2_list.append(R2)\n",
    "    RMSE = mean_squared_error(y.values, (model_1.predict(X)), squared=False)\n",
    "    RMSE_list.append(RMSE)\n",
    "    mae = mean_absolute_error(y.values,  (model_1.predict(X)))\n",
    "    mae_list.append(mae)\n",
    "    mape = np.mean((y.values - (model_1.predict(X)))/y.values)*100\n",
    "    MAPE_list.append(mape)\n",
    "    \n",
    "result_dic = {\"coef\" : coef_list, \"cste\": cste_list, \"R2\" : R2_list,\"RMSE\": RMSE_list, \"mae\": mae_list, \"MAPE\": MAPE_list}    \n",
    "reg_results = pd.DataFrame(result_dic)\n",
    "reg_results.loc[reg_results.RMSE == reg_results.RMSE.min()]  "
   ]
  },
  {
   "cell_type": "code",
   "execution_count": 39,
   "metadata": {},
   "outputs": [],
   "source": [
    "# Predict the out var using the best model\n",
    "model_1 = LinearRegression()\n",
    "model_1.coef_ = reg_results.coef.values[10]\n",
    "model_1.intercept_ = reg_results.cste.values[10]"
   ]
  },
  {
   "cell_type": "code",
   "execution_count": 40,
   "metadata": {},
   "outputs": [],
   "source": [
    "# Save the regression model\n",
    "#joblib.dump(model_1, \"./model 2/model_B24.pkl\") "
   ]
  },
  {
   "cell_type": "markdown",
   "metadata": {},
   "source": [
    "#### 3. Model 3:  X = DFI"
   ]
  },
  {
   "cell_type": "code",
   "execution_count": 41,
   "metadata": {},
   "outputs": [
    {
     "data": {
      "text/html": [
       "<div>\n",
       "<style scoped>\n",
       "    .dataframe tbody tr th:only-of-type {\n",
       "        vertical-align: middle;\n",
       "    }\n",
       "\n",
       "    .dataframe tbody tr th {\n",
       "        vertical-align: top;\n",
       "    }\n",
       "\n",
       "    .dataframe thead th {\n",
       "        text-align: right;\n",
       "    }\n",
       "</style>\n",
       "<table border=\"1\" class=\"dataframe\">\n",
       "  <thead>\n",
       "    <tr style=\"text-align: right;\">\n",
       "      <th></th>\n",
       "      <th>DFI</th>\n",
       "      <th>Biomasse (kg/ha)</th>\n",
       "    </tr>\n",
       "  </thead>\n",
       "  <tbody>\n",
       "    <tr>\n",
       "      <th>0</th>\n",
       "      <td>19.408917</td>\n",
       "      <td>283.175</td>\n",
       "    </tr>\n",
       "    <tr>\n",
       "      <th>1</th>\n",
       "      <td>22.429639</td>\n",
       "      <td>688.075</td>\n",
       "    </tr>\n",
       "  </tbody>\n",
       "</table>\n",
       "</div>"
      ],
      "text/plain": [
       "         DFI  Biomasse (kg/ha)\n",
       "0  19.408917           283.175\n",
       "1  22.429639           688.075"
      ]
     },
     "execution_count": 41,
     "metadata": {},
     "output_type": "execute_result"
    }
   ],
   "source": [
    "# Define input output data\n",
    "dfi_data = data.iloc[:, [15, 19]]\n",
    "dfi_data.head(2)"
   ]
  },
  {
   "cell_type": "code",
   "execution_count": 42,
   "metadata": {},
   "outputs": [
    {
     "data": {
      "text/html": [
       "<div>\n",
       "<style scoped>\n",
       "    .dataframe tbody tr th:only-of-type {\n",
       "        vertical-align: middle;\n",
       "    }\n",
       "\n",
       "    .dataframe tbody tr th {\n",
       "        vertical-align: top;\n",
       "    }\n",
       "\n",
       "    .dataframe thead th {\n",
       "        text-align: right;\n",
       "    }\n",
       "</style>\n",
       "<table border=\"1\" class=\"dataframe\">\n",
       "  <thead>\n",
       "    <tr style=\"text-align: right;\">\n",
       "      <th></th>\n",
       "      <th>coef</th>\n",
       "      <th>cste</th>\n",
       "      <th>R2</th>\n",
       "      <th>RMSE</th>\n",
       "      <th>mae</th>\n",
       "      <th>MAPE</th>\n",
       "    </tr>\n",
       "  </thead>\n",
       "  <tbody>\n",
       "    <tr>\n",
       "      <th>34</th>\n",
       "      <td>[-2.1287363842519307]</td>\n",
       "      <td>484.641923</td>\n",
       "      <td>0.000682</td>\n",
       "      <td>367.905959</td>\n",
       "      <td>296.954691</td>\n",
       "      <td>-104.522888</td>\n",
       "    </tr>\n",
       "  </tbody>\n",
       "</table>\n",
       "</div>"
      ],
      "text/plain": [
       "                     coef        cste        R2        RMSE         mae  \\\n",
       "34  [-2.1287363842519307]  484.641923  0.000682  367.905959  296.954691   \n",
       "\n",
       "          MAPE  \n",
       "34 -104.522888  "
      ]
     },
     "execution_count": 42,
     "metadata": {},
     "output_type": "execute_result"
    }
   ],
   "source": [
    "# Define predictor and response variables\n",
    "coef_list = []\n",
    "cste_list = []\n",
    "R2_list = []\n",
    "mae_list = []\n",
    "RMSE_list = []\n",
    "MAPE_list = []\n",
    "\n",
    "\n",
    "for i in range(0, len(dfi_data)):\n",
    "    X = dfi_data[[\"DFI\"]]\n",
    "    var_out = X.index.isin([i])\n",
    "    X = X.loc[~var_out]         # Leave one out\n",
    "    \n",
    "    y = dfi_data[\"Biomasse (kg/ha)\"][X.index] # same indices as X\n",
    "    \n",
    "    model_1 = LinearRegression().fit(X, y)\n",
    "    \n",
    "    coef = model_1.coef_\n",
    "    coef_list.append(coef)\n",
    "    \n",
    "    cste =  model_1.intercept_\n",
    "    cste_list.append(cste)\n",
    "    X = dfi_data[[\"DFI\"]]\n",
    "    y = dfi_data[\"Biomasse (kg/ha)\"]   \n",
    "    R2 = r2_score(y.values,  (model_1.predict(X)))\n",
    "    R2_list.append(R2)\n",
    "    RMSE = mean_squared_error(y.values, (model_1.predict(X)), squared=False)\n",
    "    RMSE_list.append(RMSE)\n",
    "    mae = mean_absolute_error(y.values,  (model_1.predict(X)))\n",
    "    mae_list.append(mae)\n",
    "    mape = np.mean((y.values - (model_1.predict(X)))/y.values)*100\n",
    "    MAPE_list.append(mape)\n",
    "    \n",
    "result_dic = {\"coef\" : coef_list, \"cste\": cste_list, \"R2\" : R2_list,\"RMSE\": RMSE_list, \"mae\": mae_list, \"MAPE\": MAPE_list}    \n",
    "reg_results = pd.DataFrame(result_dic)\n",
    "reg_results.loc[reg_results.RMSE == reg_results.RMSE.min()]  "
   ]
  },
  {
   "cell_type": "code",
   "execution_count": 15,
   "metadata": {},
   "outputs": [],
   "source": [
    "# Predict the out var using the best model\n",
    "model_1 = LinearRegression()\n",
    "model_1.coef_ = reg_results.coef.values[10]\n",
    "model_1.intercept_ = reg_results.cste.values[10]"
   ]
  },
  {
   "cell_type": "code",
   "execution_count": 16,
   "metadata": {},
   "outputs": [],
   "source": [
    "# Save the regression model\n",
    "#joblib.dump(model_1, \"./model 3/model_B24.pkl\") "
   ]
  },
  {
   "cell_type": "markdown",
   "metadata": {},
   "source": [
    "#### 4. Model 4:  X = NDRI"
   ]
  },
  {
   "cell_type": "code",
   "execution_count": 43,
   "metadata": {},
   "outputs": [
    {
     "data": {
      "text/html": [
       "<div>\n",
       "<style scoped>\n",
       "    .dataframe tbody tr th:only-of-type {\n",
       "        vertical-align: middle;\n",
       "    }\n",
       "\n",
       "    .dataframe tbody tr th {\n",
       "        vertical-align: top;\n",
       "    }\n",
       "\n",
       "    .dataframe thead th {\n",
       "        text-align: right;\n",
       "    }\n",
       "</style>\n",
       "<table border=\"1\" class=\"dataframe\">\n",
       "  <thead>\n",
       "    <tr style=\"text-align: right;\">\n",
       "      <th></th>\n",
       "      <th>NDRI</th>\n",
       "      <th>Biomasse (kg/ha)</th>\n",
       "    </tr>\n",
       "  </thead>\n",
       "  <tbody>\n",
       "    <tr>\n",
       "      <th>0</th>\n",
       "      <td>-0.157115</td>\n",
       "      <td>283.175</td>\n",
       "    </tr>\n",
       "    <tr>\n",
       "      <th>1</th>\n",
       "      <td>-0.156652</td>\n",
       "      <td>688.075</td>\n",
       "    </tr>\n",
       "  </tbody>\n",
       "</table>\n",
       "</div>"
      ],
      "text/plain": [
       "       NDRI  Biomasse (kg/ha)\n",
       "0 -0.157115           283.175\n",
       "1 -0.156652           688.075"
      ]
     },
     "execution_count": 43,
     "metadata": {},
     "output_type": "execute_result"
    }
   ],
   "source": [
    "# Define input output data\n",
    "ndri_data = data.iloc[:, [16, 19]]\n",
    "ndri_data.head(2)"
   ]
  },
  {
   "cell_type": "code",
   "execution_count": 45,
   "metadata": {},
   "outputs": [
    {
     "data": {
      "text/html": [
       "<div>\n",
       "<style scoped>\n",
       "    .dataframe tbody tr th:only-of-type {\n",
       "        vertical-align: middle;\n",
       "    }\n",
       "\n",
       "    .dataframe tbody tr th {\n",
       "        vertical-align: top;\n",
       "    }\n",
       "\n",
       "    .dataframe thead th {\n",
       "        text-align: right;\n",
       "    }\n",
       "</style>\n",
       "<table border=\"1\" class=\"dataframe\">\n",
       "  <thead>\n",
       "    <tr style=\"text-align: right;\">\n",
       "      <th></th>\n",
       "      <th>coef</th>\n",
       "      <th>cste</th>\n",
       "      <th>R2</th>\n",
       "      <th>RMSE</th>\n",
       "      <th>mae</th>\n",
       "      <th>MAPE</th>\n",
       "    </tr>\n",
       "  </thead>\n",
       "  <tbody>\n",
       "    <tr>\n",
       "      <th>3</th>\n",
       "      <td>[-4364.123314373005]</td>\n",
       "      <td>-387.642091</td>\n",
       "      <td>0.401222</td>\n",
       "      <td>284.785366</td>\n",
       "      <td>212.231134</td>\n",
       "      <td>-74.328977</td>\n",
       "    </tr>\n",
       "  </tbody>\n",
       "</table>\n",
       "</div>"
      ],
      "text/plain": [
       "                   coef        cste        R2        RMSE         mae  \\\n",
       "3  [-4364.123314373005] -387.642091  0.401222  284.785366  212.231134   \n",
       "\n",
       "        MAPE  \n",
       "3 -74.328977  "
      ]
     },
     "execution_count": 45,
     "metadata": {},
     "output_type": "execute_result"
    }
   ],
   "source": [
    "# Define predictor and response variables\n",
    "coef_list = []\n",
    "cste_list = []\n",
    "R2_list = []\n",
    "mae_list = []\n",
    "RMSE_list = []\n",
    "MAPE_list = []\n",
    "\n",
    "\n",
    "for i in range(0, len(ndri_data)):\n",
    "    X = ndri_data[[\"NDRI\"]]\n",
    "    var_out = X.index.isin([i])\n",
    "    X = X.loc[~var_out]         # Leave one out\n",
    "    \n",
    "    y = ndri_data[\"Biomasse (kg/ha)\"][X.index] # same indices as X\n",
    "    \n",
    "    model_1 = LinearRegression().fit(X, y)\n",
    "    \n",
    "    coef = model_1.coef_\n",
    "    coef_list.append(coef)\n",
    "    \n",
    "    cste =  model_1.intercept_\n",
    "    cste_list.append(cste)\n",
    "    X = ndri_data[[\"NDRI\"]]\n",
    "    y = ndri_data[\"Biomasse (kg/ha)\"]    \n",
    "    R2 = r2_score(y.values,  (model_1.predict(X)))\n",
    "    R2_list.append(R2)\n",
    "    RMSE = mean_squared_error(y.values, (model_1.predict(X)), squared=False)\n",
    "    RMSE_list.append(RMSE)\n",
    "    mae = mean_absolute_error(y.values,  (model_1.predict(X)))\n",
    "    mae_list.append(mae)\n",
    "    mape = np.mean((y.values - (model_1.predict(X)))/y.values)*100\n",
    "    MAPE_list.append(mape)\n",
    "    \n",
    "result_dic = {\"coef\" : coef_list, \"cste\": cste_list, \"R2\" : R2_list,\"RMSE\": RMSE_list, \"mae\": mae_list, \"MAPE\": MAPE_list}    \n",
    "reg_results = pd.DataFrame(result_dic)\n",
    "reg_results.loc[reg_results.RMSE == reg_results.RMSE.min()]  "
   ]
  },
  {
   "cell_type": "code",
   "execution_count": 46,
   "metadata": {},
   "outputs": [],
   "source": [
    "# Predict the out var using the best model\n",
    "model_1 = LinearRegression()\n",
    "model_1.coef_ = reg_results.coef.values[3]\n",
    "model_1.intercept_ = reg_results.cste.values[3]"
   ]
  },
  {
   "cell_type": "code",
   "execution_count": 49,
   "metadata": {},
   "outputs": [],
   "source": [
    "# Save the regression model\n",
    "#joblib.dump(model_1, \"./model 4/model_B24.pkl\") "
   ]
  },
  {
   "cell_type": "markdown",
   "metadata": {},
   "source": [
    "#### 5. Model 5:  X = [STI, NDTI]"
   ]
  },
  {
   "cell_type": "code",
   "execution_count": 50,
   "metadata": {},
   "outputs": [
    {
     "data": {
      "text/html": [
       "<div>\n",
       "<style scoped>\n",
       "    .dataframe tbody tr th:only-of-type {\n",
       "        vertical-align: middle;\n",
       "    }\n",
       "\n",
       "    .dataframe tbody tr th {\n",
       "        vertical-align: top;\n",
       "    }\n",
       "\n",
       "    .dataframe thead th {\n",
       "        text-align: right;\n",
       "    }\n",
       "</style>\n",
       "<table border=\"1\" class=\"dataframe\">\n",
       "  <thead>\n",
       "    <tr style=\"text-align: right;\">\n",
       "      <th></th>\n",
       "      <th>STI</th>\n",
       "      <th>NDTI</th>\n",
       "      <th>Biomasse (kg/ha)</th>\n",
       "    </tr>\n",
       "  </thead>\n",
       "  <tbody>\n",
       "    <tr>\n",
       "      <th>0</th>\n",
       "      <td>1.306501</td>\n",
       "      <td>0.132886</td>\n",
       "      <td>283.175</td>\n",
       "    </tr>\n",
       "    <tr>\n",
       "      <th>1</th>\n",
       "      <td>1.375040</td>\n",
       "      <td>0.157909</td>\n",
       "      <td>688.075</td>\n",
       "    </tr>\n",
       "  </tbody>\n",
       "</table>\n",
       "</div>"
      ],
      "text/plain": [
       "        STI      NDTI  Biomasse (kg/ha)\n",
       "0  1.306501  0.132886           283.175\n",
       "1  1.375040  0.157909           688.075"
      ]
     },
     "execution_count": 50,
     "metadata": {},
     "output_type": "execute_result"
    }
   ],
   "source": [
    "# Define input output data\n",
    "sti_ndti_data = data.iloc[:, [13,14,19]]\n",
    "sti_ndti_data.head(2)"
   ]
  },
  {
   "cell_type": "code",
   "execution_count": 51,
   "metadata": {},
   "outputs": [
    {
     "data": {
      "text/html": [
       "<div>\n",
       "<style scoped>\n",
       "    .dataframe tbody tr th:only-of-type {\n",
       "        vertical-align: middle;\n",
       "    }\n",
       "\n",
       "    .dataframe tbody tr th {\n",
       "        vertical-align: top;\n",
       "    }\n",
       "\n",
       "    .dataframe thead th {\n",
       "        text-align: right;\n",
       "    }\n",
       "</style>\n",
       "<table border=\"1\" class=\"dataframe\">\n",
       "  <thead>\n",
       "    <tr style=\"text-align: right;\">\n",
       "      <th></th>\n",
       "      <th>coef</th>\n",
       "      <th>cste</th>\n",
       "      <th>R2</th>\n",
       "      <th>RMSE</th>\n",
       "      <th>mae</th>\n",
       "      <th>MAPE</th>\n",
       "    </tr>\n",
       "  </thead>\n",
       "  <tbody>\n",
       "    <tr>\n",
       "      <th>23</th>\n",
       "      <td>[-10998.414457510931, 32568.1285520314]</td>\n",
       "      <td>10589.31231</td>\n",
       "      <td>0.116572</td>\n",
       "      <td>345.915929</td>\n",
       "      <td>271.743138</td>\n",
       "      <td>-102.489254</td>\n",
       "    </tr>\n",
       "  </tbody>\n",
       "</table>\n",
       "</div>"
      ],
      "text/plain": [
       "                                       coef         cste        R2  \\\n",
       "23  [-10998.414457510931, 32568.1285520314]  10589.31231  0.116572   \n",
       "\n",
       "          RMSE         mae        MAPE  \n",
       "23  345.915929  271.743138 -102.489254  "
      ]
     },
     "execution_count": 51,
     "metadata": {},
     "output_type": "execute_result"
    }
   ],
   "source": [
    "# Define predictor and response variables\n",
    "coef_list = []\n",
    "cste_list = []\n",
    "R2_list = []\n",
    "mae_list = []\n",
    "RMSE_list = []\n",
    "MAPE_list = []\n",
    "\n",
    "\n",
    "for i in range(0, len(sti_ndti_data)):\n",
    "    X = sti_ndti_data[[\"STI\", \"NDTI\"]]\n",
    "    var_out = X.index.isin([i])\n",
    "    X = X.loc[~var_out]         # Leave one out\n",
    "    \n",
    "    y = sti_ndti_data[\"Biomasse (kg/ha)\"][X.index] # same indices as X\n",
    "    \n",
    "    model_1 = LinearRegression().fit(X, y)\n",
    "    \n",
    "    coef = model_1.coef_\n",
    "    coef_list.append(coef)\n",
    "    \n",
    "    cste =  model_1.intercept_\n",
    "    cste_list.append(cste)\n",
    "    X = sti_ndti_data[[\"STI\", \"NDTI\"]]\n",
    "    y = sti_ndti_data[\"Biomasse (kg/ha)\"]    \n",
    "    R2 = r2_score(y.values,  (model_1.predict(X)))\n",
    "    R2_list.append(R2)\n",
    "    RMSE = mean_squared_error(y.values, (model_1.predict(X)), squared=False)\n",
    "    RMSE_list.append(RMSE)\n",
    "    mae = mean_absolute_error(y.values,  (model_1.predict(X)))\n",
    "    mae_list.append(mae)\n",
    "    mape = np.mean((y.values - (model_1.predict(X)))/y.values)*100\n",
    "    MAPE_list.append(mape)\n",
    "    \n",
    "result_dic = {\"coef\" : coef_list, \"cste\": cste_list, \"R2\" : R2_list,\"RMSE\": RMSE_list, \"mae\": mae_list, \"MAPE\": MAPE_list}    \n",
    "reg_results = pd.DataFrame(result_dic)\n",
    "reg_results.loc[reg_results.RMSE == reg_results.RMSE.min()]  "
   ]
  },
  {
   "cell_type": "code",
   "execution_count": 52,
   "metadata": {},
   "outputs": [],
   "source": [
    "# Predict the out var using the best model\n",
    "model_1 = LinearRegression()\n",
    "model_1.coef_ = reg_results.coef.values[10]\n",
    "model_1.intercept_ = reg_results.cste.values[10]"
   ]
  },
  {
   "cell_type": "code",
   "execution_count": 53,
   "metadata": {},
   "outputs": [],
   "source": [
    "# Save the regression model\n",
    "#joblib.dump(model_1, \"./model 5/model_B24.pkl\") "
   ]
  },
  {
   "cell_type": "markdown",
   "metadata": {},
   "source": [
    "#### 6. Model 6:  X = [STI, DFI]"
   ]
  },
  {
   "cell_type": "code",
   "execution_count": 54,
   "metadata": {},
   "outputs": [
    {
     "data": {
      "text/html": [
       "<div>\n",
       "<style scoped>\n",
       "    .dataframe tbody tr th:only-of-type {\n",
       "        vertical-align: middle;\n",
       "    }\n",
       "\n",
       "    .dataframe tbody tr th {\n",
       "        vertical-align: top;\n",
       "    }\n",
       "\n",
       "    .dataframe thead th {\n",
       "        text-align: right;\n",
       "    }\n",
       "</style>\n",
       "<table border=\"1\" class=\"dataframe\">\n",
       "  <thead>\n",
       "    <tr style=\"text-align: right;\">\n",
       "      <th></th>\n",
       "      <th>STI</th>\n",
       "      <th>DFI</th>\n",
       "      <th>Biomasse (kg/ha)</th>\n",
       "    </tr>\n",
       "  </thead>\n",
       "  <tbody>\n",
       "    <tr>\n",
       "      <th>0</th>\n",
       "      <td>1.306501</td>\n",
       "      <td>19.408917</td>\n",
       "      <td>283.175</td>\n",
       "    </tr>\n",
       "    <tr>\n",
       "      <th>1</th>\n",
       "      <td>1.375040</td>\n",
       "      <td>22.429639</td>\n",
       "      <td>688.075</td>\n",
       "    </tr>\n",
       "  </tbody>\n",
       "</table>\n",
       "</div>"
      ],
      "text/plain": [
       "        STI        DFI  Biomasse (kg/ha)\n",
       "0  1.306501  19.408917           283.175\n",
       "1  1.375040  22.429639           688.075"
      ]
     },
     "execution_count": 54,
     "metadata": {},
     "output_type": "execute_result"
    }
   ],
   "source": [
    "# Define input output data\n",
    "sti_dfi_data = data.iloc[:, [13,15,19]]\n",
    "sti_dfi_data.head(2)"
   ]
  },
  {
   "cell_type": "code",
   "execution_count": 59,
   "metadata": {},
   "outputs": [
    {
     "data": {
      "text/html": [
       "<div>\n",
       "<style scoped>\n",
       "    .dataframe tbody tr th:only-of-type {\n",
       "        vertical-align: middle;\n",
       "    }\n",
       "\n",
       "    .dataframe tbody tr th {\n",
       "        vertical-align: top;\n",
       "    }\n",
       "\n",
       "    .dataframe thead th {\n",
       "        text-align: right;\n",
       "    }\n",
       "</style>\n",
       "<table border=\"1\" class=\"dataframe\">\n",
       "  <thead>\n",
       "    <tr style=\"text-align: right;\">\n",
       "      <th></th>\n",
       "      <th>coef</th>\n",
       "      <th>cste</th>\n",
       "      <th>R2</th>\n",
       "      <th>RMSE</th>\n",
       "      <th>mae</th>\n",
       "      <th>MAPE</th>\n",
       "    </tr>\n",
       "  </thead>\n",
       "  <tbody>\n",
       "    <tr>\n",
       "      <th>33</th>\n",
       "      <td>[4971.4999891914595, -115.07439676253975]</td>\n",
       "      <td>-4081.038975</td>\n",
       "      <td>0.503679</td>\n",
       "      <td>259.278461</td>\n",
       "      <td>193.188309</td>\n",
       "      <td>-45.00385</td>\n",
       "    </tr>\n",
       "  </tbody>\n",
       "</table>\n",
       "</div>"
      ],
      "text/plain": [
       "                                         coef         cste        R2  \\\n",
       "33  [4971.4999891914595, -115.07439676253975] -4081.038975  0.503679   \n",
       "\n",
       "          RMSE         mae      MAPE  \n",
       "33  259.278461  193.188309 -45.00385  "
      ]
     },
     "execution_count": 59,
     "metadata": {},
     "output_type": "execute_result"
    }
   ],
   "source": [
    "# Define predictor and response variables\n",
    "coef_list = []\n",
    "cste_list = []\n",
    "R2_list = []\n",
    "mae_list = []\n",
    "RMSE_list = []\n",
    "MAPE_list = []\n",
    "\n",
    "\n",
    "for i in range(0, len(sti_dfi_data)):\n",
    "    X = sti_dfi_data[[\"STI\", \"DFI\"]]\n",
    "    var_out = X.index.isin([i])\n",
    "    X = X.loc[~var_out]         # Leave one out\n",
    "    \n",
    "    y = sti_dfi_data[\"Biomasse (kg/ha)\"][X.index] # same indices as X\n",
    "    \n",
    "    model_1 = LinearRegression().fit(X, y)\n",
    "    \n",
    "    coef = model_1.coef_\n",
    "    coef_list.append(coef)\n",
    "    \n",
    "    cste =  model_1.intercept_\n",
    "    cste_list.append(cste)\n",
    "    X = sti_dfi_data[[\"STI\", \"DFI\"]]\n",
    "    y = sti_dfi_data[\"Biomasse (kg/ha)\"]      \n",
    "    R2 = r2_score(y.values,  (model_1.predict(X)))\n",
    "    R2_list.append(R2)\n",
    "    RMSE = mean_squared_error(y.values, (model_1.predict(X)), squared=False)\n",
    "    RMSE_list.append(RMSE)\n",
    "    mae = mean_absolute_error(y.values,  (model_1.predict(X)))\n",
    "    mae_list.append(mae)\n",
    "    mape = np.mean((y.values - (model_1.predict(X)))/y.values)*100\n",
    "    MAPE_list.append(mape)\n",
    "    \n",
    "result_dic = {\"coef\" : coef_list, \"cste\": cste_list, \"R2\" : R2_list,\"RMSE\": RMSE_list, \"mae\": mae_list, \"MAPE\": MAPE_list}    \n",
    "reg_results = pd.DataFrame(result_dic)\n",
    "reg_results.loc[reg_results.RMSE == reg_results.RMSE.min()]  "
   ]
  },
  {
   "cell_type": "code",
   "execution_count": 60,
   "metadata": {},
   "outputs": [],
   "source": [
    "model_1 = LinearRegression()\n",
    "model_1.coef_ = reg_results.coef.values[33]\n",
    "model_1.intercept_ = reg_results.cste.values[33]"
   ]
  },
  {
   "cell_type": "code",
   "execution_count": 61,
   "metadata": {},
   "outputs": [],
   "source": [
    "# Save the regression model\n",
    "#joblib.dump(model_1, \"./model 6/model_B24.pkl\") "
   ]
  },
  {
   "cell_type": "markdown",
   "metadata": {},
   "source": [
    "#### 7. Model 7:  X = [STI, NDRI]"
   ]
  },
  {
   "cell_type": "code",
   "execution_count": 62,
   "metadata": {},
   "outputs": [
    {
     "data": {
      "text/html": [
       "<div>\n",
       "<style scoped>\n",
       "    .dataframe tbody tr th:only-of-type {\n",
       "        vertical-align: middle;\n",
       "    }\n",
       "\n",
       "    .dataframe tbody tr th {\n",
       "        vertical-align: top;\n",
       "    }\n",
       "\n",
       "    .dataframe thead th {\n",
       "        text-align: right;\n",
       "    }\n",
       "</style>\n",
       "<table border=\"1\" class=\"dataframe\">\n",
       "  <thead>\n",
       "    <tr style=\"text-align: right;\">\n",
       "      <th></th>\n",
       "      <th>STI</th>\n",
       "      <th>NDRI</th>\n",
       "      <th>Biomasse (kg/ha)</th>\n",
       "    </tr>\n",
       "  </thead>\n",
       "  <tbody>\n",
       "    <tr>\n",
       "      <th>0</th>\n",
       "      <td>1.306501</td>\n",
       "      <td>-0.157115</td>\n",
       "      <td>283.175</td>\n",
       "    </tr>\n",
       "    <tr>\n",
       "      <th>1</th>\n",
       "      <td>1.375040</td>\n",
       "      <td>-0.156652</td>\n",
       "      <td>688.075</td>\n",
       "    </tr>\n",
       "  </tbody>\n",
       "</table>\n",
       "</div>"
      ],
      "text/plain": [
       "        STI      NDRI  Biomasse (kg/ha)\n",
       "0  1.306501 -0.157115           283.175\n",
       "1  1.375040 -0.156652           688.075"
      ]
     },
     "execution_count": 62,
     "metadata": {},
     "output_type": "execute_result"
    }
   ],
   "source": [
    "# Define input output data\n",
    "sti_ndri_data = data.iloc[:, [13,16,19]]\n",
    "sti_ndri_data.head(2)"
   ]
  },
  {
   "cell_type": "code",
   "execution_count": 64,
   "metadata": {},
   "outputs": [
    {
     "data": {
      "text/html": [
       "<div>\n",
       "<style scoped>\n",
       "    .dataframe tbody tr th:only-of-type {\n",
       "        vertical-align: middle;\n",
       "    }\n",
       "\n",
       "    .dataframe tbody tr th {\n",
       "        vertical-align: top;\n",
       "    }\n",
       "\n",
       "    .dataframe thead th {\n",
       "        text-align: right;\n",
       "    }\n",
       "</style>\n",
       "<table border=\"1\" class=\"dataframe\">\n",
       "  <thead>\n",
       "    <tr style=\"text-align: right;\">\n",
       "      <th></th>\n",
       "      <th>coef</th>\n",
       "      <th>cste</th>\n",
       "      <th>R2</th>\n",
       "      <th>RMSE</th>\n",
       "      <th>mae</th>\n",
       "      <th>MAPE</th>\n",
       "    </tr>\n",
       "  </thead>\n",
       "  <tbody>\n",
       "    <tr>\n",
       "      <th>16</th>\n",
       "      <td>[842.5891311707312, -4258.29884165223]</td>\n",
       "      <td>-1450.930942</td>\n",
       "      <td>0.47061</td>\n",
       "      <td>267.776737</td>\n",
       "      <td>188.451272</td>\n",
       "      <td>-69.356018</td>\n",
       "    </tr>\n",
       "  </tbody>\n",
       "</table>\n",
       "</div>"
      ],
      "text/plain": [
       "                                      coef         cste       R2        RMSE  \\\n",
       "16  [842.5891311707312, -4258.29884165223] -1450.930942  0.47061  267.776737   \n",
       "\n",
       "           mae       MAPE  \n",
       "16  188.451272 -69.356018  "
      ]
     },
     "execution_count": 64,
     "metadata": {},
     "output_type": "execute_result"
    }
   ],
   "source": [
    "# Define predictor and response variables\n",
    "coef_list = []\n",
    "cste_list = []\n",
    "R2_list = []\n",
    "mae_list = []\n",
    "RMSE_list = []\n",
    "MAPE_list = []\n",
    "\n",
    "\n",
    "for i in range(0, len(sti_ndri_data)):\n",
    "    X = sti_ndri_data[[\"STI\", \"NDRI\"]]\n",
    "    var_out = X.index.isin([i])\n",
    "    X = X.loc[~var_out]         # Leave one out\n",
    "    \n",
    "    y = sti_ndri_data[\"Biomasse (kg/ha)\"][X.index] # same indices as X\n",
    "    \n",
    "    model_1 = LinearRegression().fit(X, y)\n",
    "    \n",
    "    coef = model_1.coef_\n",
    "    coef_list.append(coef)\n",
    "    \n",
    "    cste =  model_1.intercept_\n",
    "    cste_list.append(cste)\n",
    "    X = sti_ndri_data[[\"STI\", \"NDRI\"]]\n",
    "    y = sti_ndri_data[\"Biomasse (kg/ha)\"]     \n",
    "    R2 = r2_score(y.values,  (model_1.predict(X)))\n",
    "    R2_list.append(R2)\n",
    "    RMSE = mean_squared_error(y.values, (model_1.predict(X)), squared=False)\n",
    "    RMSE_list.append(RMSE)\n",
    "    mae = mean_absolute_error(y.values,  (model_1.predict(X)))\n",
    "    mae_list.append(mae)\n",
    "    mape = np.mean((y.values - (model_1.predict(X)))/y.values)*100\n",
    "    MAPE_list.append(mape)\n",
    "    \n",
    "result_dic = {\"coef\" : coef_list, \"cste\": cste_list, \"R2\" : R2_list,\"RMSE\": RMSE_list, \"mae\": mae_list, \"MAPE\": MAPE_list}    \n",
    "reg_results = pd.DataFrame(result_dic)\n",
    "reg_results.loc[reg_results.RMSE == reg_results.RMSE.min()] "
   ]
  },
  {
   "cell_type": "code",
   "execution_count": null,
   "metadata": {},
   "outputs": [],
   "source": [
    "# Predict the out var using the best model\n",
    "model_1 = LinearRegression()\n",
    "model_1.coef_ = reg_results.coef.values[16]\n",
    "model_1.intercept_ = reg_results.cste.values[16]"
   ]
  },
  {
   "cell_type": "code",
   "execution_count": null,
   "metadata": {},
   "outputs": [],
   "source": [
    "# Save the regression model\n",
    "#joblib.dump(model_1, \"./model 7/model_B24.pkl\") "
   ]
  },
  {
   "cell_type": "markdown",
   "metadata": {},
   "source": [
    "#### 8. Model 8:  X = [NDTI, DFI]"
   ]
  },
  {
   "cell_type": "code",
   "execution_count": 65,
   "metadata": {},
   "outputs": [
    {
     "data": {
      "text/html": [
       "<div>\n",
       "<style scoped>\n",
       "    .dataframe tbody tr th:only-of-type {\n",
       "        vertical-align: middle;\n",
       "    }\n",
       "\n",
       "    .dataframe tbody tr th {\n",
       "        vertical-align: top;\n",
       "    }\n",
       "\n",
       "    .dataframe thead th {\n",
       "        text-align: right;\n",
       "    }\n",
       "</style>\n",
       "<table border=\"1\" class=\"dataframe\">\n",
       "  <thead>\n",
       "    <tr style=\"text-align: right;\">\n",
       "      <th></th>\n",
       "      <th>NDTI</th>\n",
       "      <th>DFI</th>\n",
       "      <th>Biomasse (kg/ha)</th>\n",
       "    </tr>\n",
       "  </thead>\n",
       "  <tbody>\n",
       "    <tr>\n",
       "      <th>0</th>\n",
       "      <td>0.132886</td>\n",
       "      <td>19.408917</td>\n",
       "      <td>283.175</td>\n",
       "    </tr>\n",
       "    <tr>\n",
       "      <th>1</th>\n",
       "      <td>0.157909</td>\n",
       "      <td>22.429639</td>\n",
       "      <td>688.075</td>\n",
       "    </tr>\n",
       "  </tbody>\n",
       "</table>\n",
       "</div>"
      ],
      "text/plain": [
       "       NDTI        DFI  Biomasse (kg/ha)\n",
       "0  0.132886  19.408917           283.175\n",
       "1  0.157909  22.429639           688.075"
      ]
     },
     "execution_count": 65,
     "metadata": {},
     "output_type": "execute_result"
    }
   ],
   "source": [
    "# Define input output data\n",
    "ndti_dfi_data = data.iloc[:, [14,15,19]]\n",
    "ndti_dfi_data.head(2)"
   ]
  },
  {
   "cell_type": "code",
   "execution_count": 68,
   "metadata": {},
   "outputs": [
    {
     "data": {
      "text/html": [
       "<div>\n",
       "<style scoped>\n",
       "    .dataframe tbody tr th:only-of-type {\n",
       "        vertical-align: middle;\n",
       "    }\n",
       "\n",
       "    .dataframe tbody tr th {\n",
       "        vertical-align: top;\n",
       "    }\n",
       "\n",
       "    .dataframe thead th {\n",
       "        text-align: right;\n",
       "    }\n",
       "</style>\n",
       "<table border=\"1\" class=\"dataframe\">\n",
       "  <thead>\n",
       "    <tr style=\"text-align: right;\">\n",
       "      <th></th>\n",
       "      <th>coef</th>\n",
       "      <th>cste</th>\n",
       "      <th>R2</th>\n",
       "      <th>RMSE</th>\n",
       "      <th>mae</th>\n",
       "      <th>MAPE</th>\n",
       "    </tr>\n",
       "  </thead>\n",
       "  <tbody>\n",
       "    <tr>\n",
       "      <th>24</th>\n",
       "      <td>[14498.114185465218, -124.06750246245565]</td>\n",
       "      <td>674.787748</td>\n",
       "      <td>0.55305</td>\n",
       "      <td>246.044849</td>\n",
       "      <td>178.709425</td>\n",
       "      <td>-42.221232</td>\n",
       "    </tr>\n",
       "  </tbody>\n",
       "</table>\n",
       "</div>"
      ],
      "text/plain": [
       "                                         coef        cste       R2  \\\n",
       "24  [14498.114185465218, -124.06750246245565]  674.787748  0.55305   \n",
       "\n",
       "          RMSE         mae       MAPE  \n",
       "24  246.044849  178.709425 -42.221232  "
      ]
     },
     "execution_count": 68,
     "metadata": {},
     "output_type": "execute_result"
    }
   ],
   "source": [
    "# Define predictor and response variables\n",
    "coef_list = []\n",
    "cste_list = []\n",
    "R2_list = []\n",
    "mae_list = []\n",
    "RMSE_list = []\n",
    "MAPE_list = []\n",
    "\n",
    "\n",
    "for i in range(0, len(ndti_dfi_data)):\n",
    "    X = ndti_dfi_data[[\"NDTI\", \"DFI\"]]\n",
    "    var_out = X.index.isin([i])\n",
    "    X = X.loc[~var_out]         # Leave one out\n",
    "    \n",
    "    y = ndti_dfi_data[\"Biomasse (kg/ha)\"][X.index] # same indices as X\n",
    "    \n",
    "    model_1 = LinearRegression().fit(X, y)\n",
    "    \n",
    "    coef = model_1.coef_\n",
    "    coef_list.append(coef)\n",
    "    \n",
    "    cste =  model_1.intercept_\n",
    "    cste_list.append(cste)\n",
    "    X = ndti_dfi_data[[\"NDTI\", \"DFI\"]]\n",
    "    y = ndti_dfi_data[\"Biomasse (kg/ha)\"]   \n",
    "    R2 = r2_score(y.values,  (model_1.predict(X)))\n",
    "    R2_list.append(R2)\n",
    "    RMSE = mean_squared_error(y.values, (model_1.predict(X)), squared=False)\n",
    "    RMSE_list.append(RMSE)\n",
    "    mae = mean_absolute_error(y.values,  (model_1.predict(X)))\n",
    "    mae_list.append(mae)\n",
    "    mape = np.mean((y.values - (model_1.predict(X)))/y.values)*100\n",
    "    MAPE_list.append(mape)\n",
    "    \n",
    "result_dic = {\"coef\" : coef_list, \"cste\": cste_list, \"R2\" : R2_list,\"RMSE\": RMSE_list, \"mae\": mae_list, \"MAPE\": MAPE_list}    \n",
    "reg_results = pd.DataFrame(result_dic)\n",
    "reg_results.loc[reg_results.RMSE == reg_results.RMSE.min()]   "
   ]
  },
  {
   "cell_type": "code",
   "execution_count": 69,
   "metadata": {},
   "outputs": [],
   "source": [
    "# Predict the out var using the best model\n",
    "model_1 = LinearRegression()\n",
    "model_1.coef_ = reg_results.coef.values[24]\n",
    "model_1.intercept_ = reg_results.cste.values[24]"
   ]
  },
  {
   "cell_type": "code",
   "execution_count": 70,
   "metadata": {},
   "outputs": [],
   "source": [
    "# Save the regression model\n",
    "#joblib.dump(model_1, \"./model 8/model_B24.pkl\") "
   ]
  },
  {
   "cell_type": "markdown",
   "metadata": {},
   "source": [
    "#### 9. Model 9:  X = [NDTI, NDRI]"
   ]
  },
  {
   "cell_type": "code",
   "execution_count": 71,
   "metadata": {},
   "outputs": [
    {
     "data": {
      "text/html": [
       "<div>\n",
       "<style scoped>\n",
       "    .dataframe tbody tr th:only-of-type {\n",
       "        vertical-align: middle;\n",
       "    }\n",
       "\n",
       "    .dataframe tbody tr th {\n",
       "        vertical-align: top;\n",
       "    }\n",
       "\n",
       "    .dataframe thead th {\n",
       "        text-align: right;\n",
       "    }\n",
       "</style>\n",
       "<table border=\"1\" class=\"dataframe\">\n",
       "  <thead>\n",
       "    <tr style=\"text-align: right;\">\n",
       "      <th></th>\n",
       "      <th>NDTI</th>\n",
       "      <th>NDRI</th>\n",
       "      <th>Biomasse (kg/ha)</th>\n",
       "    </tr>\n",
       "  </thead>\n",
       "  <tbody>\n",
       "    <tr>\n",
       "      <th>0</th>\n",
       "      <td>0.132886</td>\n",
       "      <td>-0.157115</td>\n",
       "      <td>283.175</td>\n",
       "    </tr>\n",
       "    <tr>\n",
       "      <th>1</th>\n",
       "      <td>0.157909</td>\n",
       "      <td>-0.156652</td>\n",
       "      <td>688.075</td>\n",
       "    </tr>\n",
       "  </tbody>\n",
       "</table>\n",
       "</div>"
      ],
      "text/plain": [
       "       NDTI      NDRI  Biomasse (kg/ha)\n",
       "0  0.132886 -0.157115           283.175\n",
       "1  0.157909 -0.156652           688.075"
      ]
     },
     "execution_count": 71,
     "metadata": {},
     "output_type": "execute_result"
    }
   ],
   "source": [
    "# Define input output data\n",
    "ndti_ndri_data = data.iloc[:, [14,16,19]]\n",
    "ndti_ndri_data.head(2)"
   ]
  },
  {
   "cell_type": "code",
   "execution_count": 73,
   "metadata": {},
   "outputs": [
    {
     "data": {
      "text/html": [
       "<div>\n",
       "<style scoped>\n",
       "    .dataframe tbody tr th:only-of-type {\n",
       "        vertical-align: middle;\n",
       "    }\n",
       "\n",
       "    .dataframe tbody tr th {\n",
       "        vertical-align: top;\n",
       "    }\n",
       "\n",
       "    .dataframe thead th {\n",
       "        text-align: right;\n",
       "    }\n",
       "</style>\n",
       "<table border=\"1\" class=\"dataframe\">\n",
       "  <thead>\n",
       "    <tr style=\"text-align: right;\">\n",
       "      <th></th>\n",
       "      <th>coef</th>\n",
       "      <th>cste</th>\n",
       "      <th>R2</th>\n",
       "      <th>RMSE</th>\n",
       "      <th>mae</th>\n",
       "      <th>MAPE</th>\n",
       "    </tr>\n",
       "  </thead>\n",
       "  <tbody>\n",
       "    <tr>\n",
       "      <th>16</th>\n",
       "      <td>[2341.0165962575134, -4252.317121349747]</td>\n",
       "      <td>-654.093319</td>\n",
       "      <td>0.473577</td>\n",
       "      <td>267.025347</td>\n",
       "      <td>187.261927</td>\n",
       "      <td>-69.564283</td>\n",
       "    </tr>\n",
       "  </tbody>\n",
       "</table>\n",
       "</div>"
      ],
      "text/plain": [
       "                                        coef        cste        R2  \\\n",
       "16  [2341.0165962575134, -4252.317121349747] -654.093319  0.473577   \n",
       "\n",
       "          RMSE         mae       MAPE  \n",
       "16  267.025347  187.261927 -69.564283  "
      ]
     },
     "execution_count": 73,
     "metadata": {},
     "output_type": "execute_result"
    }
   ],
   "source": [
    "# Define predictor and response variables\n",
    "coef_list = []\n",
    "cste_list = []\n",
    "R2_list = []\n",
    "mae_list = []\n",
    "RMSE_list = []\n",
    "MAPE_list = []\n",
    "\n",
    "\n",
    "for i in range(0, len(ndti_ndri_data)):\n",
    "    X = ndti_ndri_data[[\"NDTI\", \"NDRI\"]]\n",
    "    var_out = X.index.isin([i])\n",
    "    X = X.loc[~var_out]         # Leave one out\n",
    "    \n",
    "    y = ndti_ndri_data[\"Biomasse (kg/ha)\"][X.index] # same indices as X\n",
    "    \n",
    "    model_1 = LinearRegression().fit(X, y)\n",
    "    \n",
    "    coef = model_1.coef_\n",
    "    coef_list.append(coef)\n",
    "    \n",
    "    cste =  model_1.intercept_\n",
    "    cste_list.append(cste)\n",
    "    X = ndti_ndri_data[[\"NDTI\", \"NDRI\"]]\n",
    "    y = ndti_ndri_data[\"Biomasse (kg/ha)\"]    \n",
    "    R2 = r2_score(y.values,  (model_1.predict(X)))\n",
    "    R2_list.append(R2)\n",
    "    RMSE = mean_squared_error(y.values, (model_1.predict(X)), squared=False)\n",
    "    RMSE_list.append(RMSE)\n",
    "    mae = mean_absolute_error(y.values,  (model_1.predict(X)))\n",
    "    mae_list.append(mae)\n",
    "    mape = np.mean((y.values - (model_1.predict(X)))/y.values)*100\n",
    "    MAPE_list.append(mape)\n",
    "    \n",
    "result_dic = {\"coef\" : coef_list, \"cste\": cste_list, \"R2\" : R2_list,\"RMSE\": RMSE_list, \"mae\": mae_list, \"MAPE\": MAPE_list}    \n",
    "reg_results = pd.DataFrame(result_dic)\n",
    "reg_results.loc[reg_results.RMSE == reg_results.RMSE.min()]  "
   ]
  },
  {
   "cell_type": "code",
   "execution_count": null,
   "metadata": {},
   "outputs": [],
   "source": [
    "# Predict the out var using the best model\n",
    "model_1 = LinearRegression()\n",
    "model_1.coef_ = reg_results.coef.values[10]\n",
    "model_1.intercept_ = reg_results.cste.values[10]"
   ]
  },
  {
   "cell_type": "code",
   "execution_count": null,
   "metadata": {},
   "outputs": [],
   "source": [
    "# Save the regression model\n",
    "#joblib.dump(model_1, \"./model 9/model_B24.pkl\") "
   ]
  },
  {
   "cell_type": "markdown",
   "metadata": {},
   "source": [
    "#### 10. Model 10:  X = [DFI, NDRI]"
   ]
  },
  {
   "cell_type": "code",
   "execution_count": 74,
   "metadata": {},
   "outputs": [
    {
     "data": {
      "text/html": [
       "<div>\n",
       "<style scoped>\n",
       "    .dataframe tbody tr th:only-of-type {\n",
       "        vertical-align: middle;\n",
       "    }\n",
       "\n",
       "    .dataframe tbody tr th {\n",
       "        vertical-align: top;\n",
       "    }\n",
       "\n",
       "    .dataframe thead th {\n",
       "        text-align: right;\n",
       "    }\n",
       "</style>\n",
       "<table border=\"1\" class=\"dataframe\">\n",
       "  <thead>\n",
       "    <tr style=\"text-align: right;\">\n",
       "      <th></th>\n",
       "      <th>DFI</th>\n",
       "      <th>NDRI</th>\n",
       "      <th>Biomasse (kg/ha)</th>\n",
       "    </tr>\n",
       "  </thead>\n",
       "  <tbody>\n",
       "    <tr>\n",
       "      <th>0</th>\n",
       "      <td>19.408917</td>\n",
       "      <td>-0.157115</td>\n",
       "      <td>283.175</td>\n",
       "    </tr>\n",
       "    <tr>\n",
       "      <th>1</th>\n",
       "      <td>22.429639</td>\n",
       "      <td>-0.156652</td>\n",
       "      <td>688.075</td>\n",
       "    </tr>\n",
       "  </tbody>\n",
       "</table>\n",
       "</div>"
      ],
      "text/plain": [
       "         DFI      NDRI  Biomasse (kg/ha)\n",
       "0  19.408917 -0.157115           283.175\n",
       "1  22.429639 -0.156652           688.075"
      ]
     },
     "execution_count": 74,
     "metadata": {},
     "output_type": "execute_result"
    }
   ],
   "source": [
    "# Define input output data\n",
    "dfi_ndri_data = data.iloc[:, [15,16,19]]\n",
    "dfi_ndri_data.head(2)"
   ]
  },
  {
   "cell_type": "code",
   "execution_count": 76,
   "metadata": {},
   "outputs": [
    {
     "data": {
      "text/html": [
       "<div>\n",
       "<style scoped>\n",
       "    .dataframe tbody tr th:only-of-type {\n",
       "        vertical-align: middle;\n",
       "    }\n",
       "\n",
       "    .dataframe tbody tr th {\n",
       "        vertical-align: top;\n",
       "    }\n",
       "\n",
       "    .dataframe thead th {\n",
       "        text-align: right;\n",
       "    }\n",
       "</style>\n",
       "<table border=\"1\" class=\"dataframe\">\n",
       "  <thead>\n",
       "    <tr style=\"text-align: right;\">\n",
       "      <th></th>\n",
       "      <th>coef</th>\n",
       "      <th>cste</th>\n",
       "      <th>R2</th>\n",
       "      <th>RMSE</th>\n",
       "      <th>mae</th>\n",
       "      <th>MAPE</th>\n",
       "    </tr>\n",
       "  </thead>\n",
       "  <tbody>\n",
       "    <tr>\n",
       "      <th>17</th>\n",
       "      <td>[13.886864778327155, -4698.230541469566]</td>\n",
       "      <td>-676.564364</td>\n",
       "      <td>0.427841</td>\n",
       "      <td>278.383372</td>\n",
       "      <td>200.988978</td>\n",
       "      <td>-75.133131</td>\n",
       "    </tr>\n",
       "  </tbody>\n",
       "</table>\n",
       "</div>"
      ],
      "text/plain": [
       "                                        coef        cste        R2  \\\n",
       "17  [13.886864778327155, -4698.230541469566] -676.564364  0.427841   \n",
       "\n",
       "          RMSE         mae       MAPE  \n",
       "17  278.383372  200.988978 -75.133131  "
      ]
     },
     "execution_count": 76,
     "metadata": {},
     "output_type": "execute_result"
    }
   ],
   "source": [
    "# Define predictor and response variables\n",
    "coef_list = []\n",
    "cste_list = []\n",
    "R2_list = []\n",
    "mae_list = []\n",
    "RMSE_list = []\n",
    "MAPE_list = []\n",
    "\n",
    "\n",
    "for i in range(0, len(dfi_ndri_data)):\n",
    "    X = dfi_ndri_data[[\"DFI\", \"NDRI\"]]\n",
    "    var_out = X.index.isin([i])\n",
    "    X = X.loc[~var_out]         # Leave one out\n",
    "    \n",
    "    y = dfi_ndri_data[\"Biomasse (kg/ha)\"][X.index] # same indices as X\n",
    "    \n",
    "    model_1 = LinearRegression().fit(X, y)\n",
    "    \n",
    "    coef = model_1.coef_\n",
    "    coef_list.append(coef)\n",
    "    \n",
    "    cste =  model_1.intercept_\n",
    "    cste_list.append(cste)\n",
    "    X = dfi_ndri_data[[\"DFI\", \"NDRI\"]]\n",
    "    y = dfi_ndri_data[\"Biomasse (kg/ha)\"]    \n",
    "    R2 = r2_score(y.values,  (model_1.predict(X)))\n",
    "    R2_list.append(R2)\n",
    "    RMSE = mean_squared_error(y.values, (model_1.predict(X)), squared=False)\n",
    "    RMSE_list.append(RMSE)\n",
    "    mae = mean_absolute_error(y.values,  (model_1.predict(X)))\n",
    "    mae_list.append(mae)\n",
    "    mape = np.mean((y.values - (model_1.predict(X)))/y.values)*100\n",
    "    MAPE_list.append(mape)\n",
    "    \n",
    "result_dic = {\"coef\" : coef_list, \"cste\": cste_list, \"R2\" : R2_list,\"RMSE\": RMSE_list, \"mae\": mae_list, \"MAPE\": MAPE_list}    \n",
    "reg_results = pd.DataFrame(result_dic)\n",
    "reg_results.loc[reg_results.RMSE == reg_results.RMSE.min()] "
   ]
  },
  {
   "cell_type": "code",
   "execution_count": 77,
   "metadata": {},
   "outputs": [],
   "source": [
    "# Predict the out var using the best model\n",
    "model_1 = LinearRegression()\n",
    "model_1.coef_ = reg_results.coef.values[17]\n",
    "model_1.intercept_ = reg_results.cste.values[17]"
   ]
  },
  {
   "cell_type": "code",
   "execution_count": null,
   "metadata": {},
   "outputs": [],
   "source": [
    "# Save the regression model\n",
    "#joblib.dump(model_1, \"./model 10/model_B24.pkl\") "
   ]
  },
  {
   "cell_type": "markdown",
   "metadata": {},
   "source": [
    "#### 11. Model 11:  X = [STI, NDTI, DFI]"
   ]
  },
  {
   "cell_type": "code",
   "execution_count": 82,
   "metadata": {},
   "outputs": [
    {
     "data": {
      "text/html": [
       "<div>\n",
       "<style scoped>\n",
       "    .dataframe tbody tr th:only-of-type {\n",
       "        vertical-align: middle;\n",
       "    }\n",
       "\n",
       "    .dataframe tbody tr th {\n",
       "        vertical-align: top;\n",
       "    }\n",
       "\n",
       "    .dataframe thead th {\n",
       "        text-align: right;\n",
       "    }\n",
       "</style>\n",
       "<table border=\"1\" class=\"dataframe\">\n",
       "  <thead>\n",
       "    <tr style=\"text-align: right;\">\n",
       "      <th></th>\n",
       "      <th>STI</th>\n",
       "      <th>NDTI</th>\n",
       "      <th>DFI</th>\n",
       "      <th>Biomasse (kg/ha)</th>\n",
       "    </tr>\n",
       "  </thead>\n",
       "  <tbody>\n",
       "    <tr>\n",
       "      <th>0</th>\n",
       "      <td>1.306501</td>\n",
       "      <td>0.132886</td>\n",
       "      <td>19.408917</td>\n",
       "      <td>283.175</td>\n",
       "    </tr>\n",
       "    <tr>\n",
       "      <th>1</th>\n",
       "      <td>1.375040</td>\n",
       "      <td>0.157909</td>\n",
       "      <td>22.429639</td>\n",
       "      <td>688.075</td>\n",
       "    </tr>\n",
       "  </tbody>\n",
       "</table>\n",
       "</div>"
      ],
      "text/plain": [
       "        STI      NDTI        DFI  Biomasse (kg/ha)\n",
       "0  1.306501  0.132886  19.408917           283.175\n",
       "1  1.375040  0.157909  22.429639           688.075"
      ]
     },
     "execution_count": 82,
     "metadata": {},
     "output_type": "execute_result"
    }
   ],
   "source": [
    "# Define input output data\n",
    "sti_ndti_dfi_data = data.iloc[:, [13, 14, 15,19]]\n",
    "sti_ndti_dfi_data.head(2)"
   ]
  },
  {
   "cell_type": "code",
   "execution_count": 84,
   "metadata": {},
   "outputs": [
    {
     "data": {
      "text/html": [
       "<div>\n",
       "<style scoped>\n",
       "    .dataframe tbody tr th:only-of-type {\n",
       "        vertical-align: middle;\n",
       "    }\n",
       "\n",
       "    .dataframe tbody tr th {\n",
       "        vertical-align: top;\n",
       "    }\n",
       "\n",
       "    .dataframe thead th {\n",
       "        text-align: right;\n",
       "    }\n",
       "</style>\n",
       "<table border=\"1\" class=\"dataframe\">\n",
       "  <thead>\n",
       "    <tr style=\"text-align: right;\">\n",
       "      <th></th>\n",
       "      <th>coef</th>\n",
       "      <th>cste</th>\n",
       "      <th>R2</th>\n",
       "      <th>RMSE</th>\n",
       "      <th>mae</th>\n",
       "      <th>MAPE</th>\n",
       "    </tr>\n",
       "  </thead>\n",
       "  <tbody>\n",
       "    <tr>\n",
       "      <th>16</th>\n",
       "      <td>[-24297.705846224813, 81973.23558145386, -139....</td>\n",
       "      <td>23872.128651</td>\n",
       "      <td>0.659643</td>\n",
       "      <td>214.709931</td>\n",
       "      <td>159.382395</td>\n",
       "      <td>-44.014352</td>\n",
       "    </tr>\n",
       "  </tbody>\n",
       "</table>\n",
       "</div>"
      ],
      "text/plain": [
       "                                                 coef          cste        R2  \\\n",
       "16  [-24297.705846224813, 81973.23558145386, -139....  23872.128651  0.659643   \n",
       "\n",
       "          RMSE         mae       MAPE  \n",
       "16  214.709931  159.382395 -44.014352  "
      ]
     },
     "execution_count": 84,
     "metadata": {},
     "output_type": "execute_result"
    }
   ],
   "source": [
    "# Define predictor and response variables\n",
    "coef_list = []\n",
    "cste_list = []\n",
    "R2_list = []\n",
    "mae_list = []\n",
    "RMSE_list = []\n",
    "MAPE_list = []\n",
    "\n",
    "\n",
    "for i in range(0, len(sti_ndti_dfi_data)):\n",
    "    X = sti_ndti_dfi_data[[\"STI\", \"NDTI\", \"DFI\"]]\n",
    "    var_out = X.index.isin([i])\n",
    "    X = X.loc[~var_out]         # Leave one out\n",
    "    \n",
    "    y = sti_ndti_dfi_data[\"Biomasse (kg/ha)\"][X.index] # same indices as X\n",
    "    \n",
    "    model_1 = LinearRegression().fit(X, y)\n",
    "    \n",
    "    coef = model_1.coef_\n",
    "    coef_list.append(coef)\n",
    "    \n",
    "    cste =  model_1.intercept_\n",
    "    cste_list.append(cste)\n",
    "    X = sti_ndti_dfi_data[[\"STI\", \"NDTI\", \"DFI\"]]\n",
    "    y = sti_ndti_dfi_data[\"Biomasse (kg/ha)\"]   \n",
    "    R2 = r2_score(y.values,  (model_1.predict(X)))\n",
    "    R2_list.append(R2)\n",
    "    RMSE = mean_squared_error(y.values, (model_1.predict(X)), squared=False)\n",
    "    RMSE_list.append(RMSE)\n",
    "    mae = mean_absolute_error(y.values,  (model_1.predict(X)))\n",
    "    mae_list.append(mae)\n",
    "    mape = np.mean((y.values - (model_1.predict(X)))/y.values)*100\n",
    "    MAPE_list.append(mape)\n",
    "    \n",
    "result_dic = {\"coef\" : coef_list, \"cste\": cste_list, \"R2\" : R2_list,\"RMSE\": RMSE_list, \"mae\": mae_list, \"MAPE\": MAPE_list}    \n",
    "reg_results = pd.DataFrame(result_dic)\n",
    "reg_results.loc[reg_results.RMSE == reg_results.RMSE.min()]      "
   ]
  },
  {
   "cell_type": "code",
   "execution_count": 85,
   "metadata": {},
   "outputs": [],
   "source": [
    "# Predict the out var using the best model\n",
    "model_1 = LinearRegression()\n",
    "model_1.coef_ = reg_results.coef.values[16]\n",
    "model_1.intercept_ = reg_results.cste.values[16]"
   ]
  },
  {
   "cell_type": "code",
   "execution_count": 86,
   "metadata": {},
   "outputs": [
    {
     "data": {
      "text/plain": [
       "array([-24297.70584622,  81973.23558145,   -139.34012176])"
      ]
     },
     "execution_count": 86,
     "metadata": {},
     "output_type": "execute_result"
    }
   ],
   "source": [
    "model_1.coef_"
   ]
  },
  {
   "cell_type": "code",
   "execution_count": null,
   "metadata": {},
   "outputs": [],
   "source": [
    "# Save the regression model\n",
    "#joblib.dump(model_1, \"./model 11/model_B24.pkl\") "
   ]
  },
  {
   "cell_type": "markdown",
   "metadata": {},
   "source": [
    "#### 12. Model 12:  X = [STI, NDTI, NDRI]"
   ]
  },
  {
   "cell_type": "code",
   "execution_count": 91,
   "metadata": {},
   "outputs": [
    {
     "data": {
      "text/html": [
       "<div>\n",
       "<style scoped>\n",
       "    .dataframe tbody tr th:only-of-type {\n",
       "        vertical-align: middle;\n",
       "    }\n",
       "\n",
       "    .dataframe tbody tr th {\n",
       "        vertical-align: top;\n",
       "    }\n",
       "\n",
       "    .dataframe thead th {\n",
       "        text-align: right;\n",
       "    }\n",
       "</style>\n",
       "<table border=\"1\" class=\"dataframe\">\n",
       "  <thead>\n",
       "    <tr style=\"text-align: right;\">\n",
       "      <th></th>\n",
       "      <th>STI</th>\n",
       "      <th>NDTI</th>\n",
       "      <th>NDRI</th>\n",
       "      <th>Biomasse (kg/ha)</th>\n",
       "    </tr>\n",
       "  </thead>\n",
       "  <tbody>\n",
       "    <tr>\n",
       "      <th>0</th>\n",
       "      <td>1.306501</td>\n",
       "      <td>0.132886</td>\n",
       "      <td>-0.157115</td>\n",
       "      <td>283.175</td>\n",
       "    </tr>\n",
       "    <tr>\n",
       "      <th>1</th>\n",
       "      <td>1.375040</td>\n",
       "      <td>0.157909</td>\n",
       "      <td>-0.156652</td>\n",
       "      <td>688.075</td>\n",
       "    </tr>\n",
       "  </tbody>\n",
       "</table>\n",
       "</div>"
      ],
      "text/plain": [
       "        STI      NDTI      NDRI  Biomasse (kg/ha)\n",
       "0  1.306501  0.132886 -0.157115           283.175\n",
       "1  1.375040  0.157909 -0.156652           688.075"
      ]
     },
     "execution_count": 91,
     "metadata": {},
     "output_type": "execute_result"
    }
   ],
   "source": [
    "# Define input output data\n",
    "sti_ndti_ndri_data = data.iloc[:, [13, 14, 16,19]]\n",
    "sti_ndti_ndri_data.head(2)"
   ]
  },
  {
   "cell_type": "code",
   "execution_count": 92,
   "metadata": {},
   "outputs": [
    {
     "data": {
      "text/html": [
       "<div>\n",
       "<style scoped>\n",
       "    .dataframe tbody tr th:only-of-type {\n",
       "        vertical-align: middle;\n",
       "    }\n",
       "\n",
       "    .dataframe tbody tr th {\n",
       "        vertical-align: top;\n",
       "    }\n",
       "\n",
       "    .dataframe thead th {\n",
       "        text-align: right;\n",
       "    }\n",
       "</style>\n",
       "<table border=\"1\" class=\"dataframe\">\n",
       "  <thead>\n",
       "    <tr style=\"text-align: right;\">\n",
       "      <th></th>\n",
       "      <th>coef</th>\n",
       "      <th>cste</th>\n",
       "      <th>R2</th>\n",
       "      <th>RMSE</th>\n",
       "      <th>mae</th>\n",
       "      <th>MAPE</th>\n",
       "    </tr>\n",
       "  </thead>\n",
       "  <tbody>\n",
       "    <tr>\n",
       "      <th>3</th>\n",
       "      <td>[-8695.56401509066, 25966.969821158295, -4210....</td>\n",
       "      <td>7631.690703</td>\n",
       "      <td>0.487989</td>\n",
       "      <td>263.344776</td>\n",
       "      <td>183.337914</td>\n",
       "      <td>-73.136222</td>\n",
       "    </tr>\n",
       "  </tbody>\n",
       "</table>\n",
       "</div>"
      ],
      "text/plain": [
       "                                                coef         cste        R2  \\\n",
       "3  [-8695.56401509066, 25966.969821158295, -4210....  7631.690703  0.487989   \n",
       "\n",
       "         RMSE         mae       MAPE  \n",
       "3  263.344776  183.337914 -73.136222  "
      ]
     },
     "execution_count": 92,
     "metadata": {},
     "output_type": "execute_result"
    }
   ],
   "source": [
    "# Define predictor and response variables\n",
    "coef_list = []\n",
    "cste_list = []\n",
    "R2_list = []\n",
    "mae_list = []\n",
    "RMSE_list = []\n",
    "MAPE_list = []\n",
    "\n",
    "\n",
    "for i in range(0, len(sti_ndti_ndri_data)):\n",
    "    X = sti_ndti_ndri_data[[\"STI\",\"NDTI\", \"NDRI\"]]\n",
    "    var_out = X.index.isin([i])\n",
    "    X = X.loc[~var_out]         # Leave one out\n",
    "    \n",
    "    y = sti_ndti_ndri_data[\"Biomasse (kg/ha)\"][X.index] # same indices as X\n",
    "    \n",
    "    model_1 = LinearRegression().fit(X, y)\n",
    "    \n",
    "    coef = model_1.coef_\n",
    "    coef_list.append(coef)\n",
    "    \n",
    "    cste =  model_1.intercept_\n",
    "    cste_list.append(cste)\n",
    "    X = sti_ndti_ndri_data[[\"STI\",\"NDTI\", \"NDRI\"]]\n",
    "    y = sti_ndti_ndri_data[\"Biomasse (kg/ha)\"]   \n",
    "    R2 = r2_score(y.values,  (model_1.predict(X)))\n",
    "    R2_list.append(R2)\n",
    "    RMSE = mean_squared_error(y.values, (model_1.predict(X)), squared=False)\n",
    "    RMSE_list.append(RMSE)\n",
    "    mae = mean_absolute_error(y.values,  (model_1.predict(X)))\n",
    "    mae_list.append(mae)\n",
    "    mape = np.mean((y.values - (model_1.predict(X)))/y.values)*100\n",
    "    MAPE_list.append(mape)\n",
    "    \n",
    "result_dic = {\"coef\" : coef_list, \"cste\": cste_list, \"R2\" : R2_list,\"RMSE\": RMSE_list, \"mae\": mae_list, \"MAPE\": MAPE_list}    \n",
    "reg_results = pd.DataFrame(result_dic)\n",
    "reg_results.loc[reg_results.RMSE == reg_results.RMSE.min()]          "
   ]
  },
  {
   "cell_type": "code",
   "execution_count": 93,
   "metadata": {},
   "outputs": [],
   "source": [
    "# Predict the out var using the best model\n",
    "model_1 = LinearRegression()\n",
    "model_1.coef_ = reg_results.coef.values[3]\n",
    "model_1.intercept_ = reg_results.cste.values[3]"
   ]
  },
  {
   "cell_type": "code",
   "execution_count": null,
   "metadata": {},
   "outputs": [],
   "source": [
    "# Save the regression model\n",
    "#joblib.dump(model_1, \"./model 12/model_B24.pkl\") "
   ]
  },
  {
   "cell_type": "markdown",
   "metadata": {},
   "source": [
    "#### 13. Model 13:  X = [STI, DFI, NDRI]"
   ]
  },
  {
   "cell_type": "code",
   "execution_count": 94,
   "metadata": {},
   "outputs": [
    {
     "data": {
      "text/html": [
       "<div>\n",
       "<style scoped>\n",
       "    .dataframe tbody tr th:only-of-type {\n",
       "        vertical-align: middle;\n",
       "    }\n",
       "\n",
       "    .dataframe tbody tr th {\n",
       "        vertical-align: top;\n",
       "    }\n",
       "\n",
       "    .dataframe thead th {\n",
       "        text-align: right;\n",
       "    }\n",
       "</style>\n",
       "<table border=\"1\" class=\"dataframe\">\n",
       "  <thead>\n",
       "    <tr style=\"text-align: right;\">\n",
       "      <th></th>\n",
       "      <th>STI</th>\n",
       "      <th>DFI</th>\n",
       "      <th>NDRI</th>\n",
       "      <th>Biomasse (kg/ha)</th>\n",
       "    </tr>\n",
       "  </thead>\n",
       "  <tbody>\n",
       "    <tr>\n",
       "      <th>0</th>\n",
       "      <td>1.306501</td>\n",
       "      <td>19.408917</td>\n",
       "      <td>-0.157115</td>\n",
       "      <td>283.175</td>\n",
       "    </tr>\n",
       "    <tr>\n",
       "      <th>1</th>\n",
       "      <td>1.375040</td>\n",
       "      <td>22.429639</td>\n",
       "      <td>-0.156652</td>\n",
       "      <td>688.075</td>\n",
       "    </tr>\n",
       "  </tbody>\n",
       "</table>\n",
       "</div>"
      ],
      "text/plain": [
       "        STI        DFI      NDRI  Biomasse (kg/ha)\n",
       "0  1.306501  19.408917 -0.157115           283.175\n",
       "1  1.375040  22.429639 -0.156652           688.075"
      ]
     },
     "execution_count": 94,
     "metadata": {},
     "output_type": "execute_result"
    }
   ],
   "source": [
    "# Define input output data\n",
    "sti_dfi_ndri_data = data.iloc[:, [13, 15, 16,19]]\n",
    "sti_dfi_ndri_data.head(2)"
   ]
  },
  {
   "cell_type": "code",
   "execution_count": 95,
   "metadata": {},
   "outputs": [
    {
     "data": {
      "text/html": [
       "<div>\n",
       "<style scoped>\n",
       "    .dataframe tbody tr th:only-of-type {\n",
       "        vertical-align: middle;\n",
       "    }\n",
       "\n",
       "    .dataframe tbody tr th {\n",
       "        vertical-align: top;\n",
       "    }\n",
       "\n",
       "    .dataframe thead th {\n",
       "        text-align: right;\n",
       "    }\n",
       "</style>\n",
       "<table border=\"1\" class=\"dataframe\">\n",
       "  <thead>\n",
       "    <tr style=\"text-align: right;\">\n",
       "      <th></th>\n",
       "      <th>coef</th>\n",
       "      <th>cste</th>\n",
       "      <th>R2</th>\n",
       "      <th>RMSE</th>\n",
       "      <th>mae</th>\n",
       "      <th>MAPE</th>\n",
       "    </tr>\n",
       "  </thead>\n",
       "  <tbody>\n",
       "    <tr>\n",
       "      <th>16</th>\n",
       "      <td>[3469.020174176503, -73.75167034147259, -2129....</td>\n",
       "      <td>-3226.455088</td>\n",
       "      <td>0.545812</td>\n",
       "      <td>248.029184</td>\n",
       "      <td>175.166391</td>\n",
       "      <td>-49.625178</td>\n",
       "    </tr>\n",
       "  </tbody>\n",
       "</table>\n",
       "</div>"
      ],
      "text/plain": [
       "                                                 coef         cste        R2  \\\n",
       "16  [3469.020174176503, -73.75167034147259, -2129.... -3226.455088  0.545812   \n",
       "\n",
       "          RMSE         mae       MAPE  \n",
       "16  248.029184  175.166391 -49.625178  "
      ]
     },
     "execution_count": 95,
     "metadata": {},
     "output_type": "execute_result"
    }
   ],
   "source": [
    "# Define predictor and response variables\n",
    "coef_list = []\n",
    "cste_list = []\n",
    "R2_list = []\n",
    "mae_list = []\n",
    "RMSE_list = []\n",
    "MAPE_list = []\n",
    "\n",
    "for i in range(0, len(sti_dfi_ndri_data)):\n",
    "    X = sti_dfi_ndri_data[[\"STI\",\"DFI\", \"NDRI\"]]\n",
    "    var_out = X.index.isin([i])\n",
    "    X = X.loc[~var_out]         # Leave one out\n",
    "    \n",
    "    y = sti_dfi_ndri_data[\"Biomasse (kg/ha)\"][X.index] # same indices as X\n",
    "    \n",
    "    model_1 = LinearRegression().fit(X, y)\n",
    "    \n",
    "    coef = model_1.coef_\n",
    "    coef_list.append(coef)\n",
    "    \n",
    "    cste =  model_1.intercept_\n",
    "    cste_list.append(cste)\n",
    "    X = sti_dfi_ndri_data[[\"STI\",\"DFI\", \"NDRI\"]]\n",
    "    y = sti_dfi_ndri_data[\"Biomasse (kg/ha)\"]     \n",
    "    R2 = r2_score(y.values,  (model_1.predict(X)))\n",
    "    R2_list.append(R2)\n",
    "    RMSE = mean_squared_error(y.values, (model_1.predict(X)), squared=False)\n",
    "    RMSE_list.append(RMSE)\n",
    "    mae = mean_absolute_error(y.values,  (model_1.predict(X)))\n",
    "    mae_list.append(mae)\n",
    "    mape = np.mean((y.values - (model_1.predict(X)))/y.values)*100\n",
    "    MAPE_list.append(mape)\n",
    "    \n",
    "result_dic = {\"coef\" : coef_list, \"cste\": cste_list, \"R2\" : R2_list,\"RMSE\": RMSE_list, \"mae\": mae_list, \"MAPE\": MAPE_list}    \n",
    "reg_results = pd.DataFrame(result_dic)\n",
    "reg_results.loc[reg_results.RMSE == reg_results.RMSE.min()]         "
   ]
  },
  {
   "cell_type": "code",
   "execution_count": 96,
   "metadata": {},
   "outputs": [],
   "source": [
    "# Predict the out var using the best model\n",
    "model_1 = LinearRegression()\n",
    "model_1.coef_ = reg_results.coef.values[10]\n",
    "model_1.intercept_ = reg_results.cste.values[10]"
   ]
  },
  {
   "cell_type": "code",
   "execution_count": null,
   "metadata": {},
   "outputs": [],
   "source": [
    "# Save the regression model\n",
    "#joblib.dump(model_1, \"./model 13/model_B24.pkl\") "
   ]
  },
  {
   "cell_type": "markdown",
   "metadata": {},
   "source": [
    "#### 14. Model 14:  X = [NDTI, DFI, NDRI]"
   ]
  },
  {
   "cell_type": "code",
   "execution_count": 97,
   "metadata": {},
   "outputs": [
    {
     "data": {
      "text/html": [
       "<div>\n",
       "<style scoped>\n",
       "    .dataframe tbody tr th:only-of-type {\n",
       "        vertical-align: middle;\n",
       "    }\n",
       "\n",
       "    .dataframe tbody tr th {\n",
       "        vertical-align: top;\n",
       "    }\n",
       "\n",
       "    .dataframe thead th {\n",
       "        text-align: right;\n",
       "    }\n",
       "</style>\n",
       "<table border=\"1\" class=\"dataframe\">\n",
       "  <thead>\n",
       "    <tr style=\"text-align: right;\">\n",
       "      <th></th>\n",
       "      <th>NDTI</th>\n",
       "      <th>DFI</th>\n",
       "      <th>NDRI</th>\n",
       "      <th>Biomasse (kg/ha)</th>\n",
       "    </tr>\n",
       "  </thead>\n",
       "  <tbody>\n",
       "    <tr>\n",
       "      <th>0</th>\n",
       "      <td>0.132886</td>\n",
       "      <td>19.408917</td>\n",
       "      <td>-0.157115</td>\n",
       "      <td>283.175</td>\n",
       "    </tr>\n",
       "    <tr>\n",
       "      <th>1</th>\n",
       "      <td>0.157909</td>\n",
       "      <td>22.429639</td>\n",
       "      <td>-0.156652</td>\n",
       "      <td>688.075</td>\n",
       "    </tr>\n",
       "  </tbody>\n",
       "</table>\n",
       "</div>"
      ],
      "text/plain": [
       "       NDTI        DFI      NDRI  Biomasse (kg/ha)\n",
       "0  0.132886  19.408917 -0.157115           283.175\n",
       "1  0.157909  22.429639 -0.156652           688.075"
      ]
     },
     "execution_count": 97,
     "metadata": {},
     "output_type": "execute_result"
    }
   ],
   "source": [
    "# Define input output data\n",
    "ndti_dfi_ndri_data = data.iloc[:, [14, 15, 16,19]]\n",
    "ndti_dfi_ndri_data.head(2)"
   ]
  },
  {
   "cell_type": "code",
   "execution_count": 99,
   "metadata": {},
   "outputs": [
    {
     "data": {
      "text/html": [
       "<div>\n",
       "<style scoped>\n",
       "    .dataframe tbody tr th:only-of-type {\n",
       "        vertical-align: middle;\n",
       "    }\n",
       "\n",
       "    .dataframe tbody tr th {\n",
       "        vertical-align: top;\n",
       "    }\n",
       "\n",
       "    .dataframe thead th {\n",
       "        text-align: right;\n",
       "    }\n",
       "</style>\n",
       "<table border=\"1\" class=\"dataframe\">\n",
       "  <thead>\n",
       "    <tr style=\"text-align: right;\">\n",
       "      <th></th>\n",
       "      <th>coef</th>\n",
       "      <th>cste</th>\n",
       "      <th>R2</th>\n",
       "      <th>RMSE</th>\n",
       "      <th>mae</th>\n",
       "      <th>MAPE</th>\n",
       "    </tr>\n",
       "  </thead>\n",
       "  <tbody>\n",
       "    <tr>\n",
       "      <th>16</th>\n",
       "      <td>[11275.45773198697, -91.56828176465764, -1591....</td>\n",
       "      <td>239.830882</td>\n",
       "      <td>0.574597</td>\n",
       "      <td>240.040909</td>\n",
       "      <td>169.330638</td>\n",
       "      <td>-46.161938</td>\n",
       "    </tr>\n",
       "  </tbody>\n",
       "</table>\n",
       "</div>"
      ],
      "text/plain": [
       "                                                 coef        cste        R2  \\\n",
       "16  [11275.45773198697, -91.56828176465764, -1591....  239.830882  0.574597   \n",
       "\n",
       "          RMSE         mae       MAPE  \n",
       "16  240.040909  169.330638 -46.161938  "
      ]
     },
     "execution_count": 99,
     "metadata": {},
     "output_type": "execute_result"
    }
   ],
   "source": [
    "# Define predictor and response variables\n",
    "coef_list = []\n",
    "cste_list = []\n",
    "R2_list = []\n",
    "mae_list = []\n",
    "RMSE_list = []\n",
    "MAPE_list = []\n",
    "\n",
    "\n",
    "for i in range(0, len(ndti_dfi_ndri_data)):\n",
    "    X = ndti_dfi_ndri_data[[\"NDTI\",\"DFI\", \"NDRI\"]]\n",
    "    var_out = X.index.isin([i])\n",
    "    X = X.loc[~var_out]         # Leave one out\n",
    "    \n",
    "    y = ndti_dfi_ndri_data[\"Biomasse (kg/ha)\"][X.index] # same indices as X\n",
    "    \n",
    "    model_1 = LinearRegression().fit(X, y)\n",
    "    \n",
    "    coef = model_1.coef_\n",
    "    coef_list.append(coef)\n",
    "    \n",
    "    cste =  model_1.intercept_\n",
    "    cste_list.append(cste)\n",
    "    X = ndti_dfi_ndri_data[[\"NDTI\",\"DFI\", \"NDRI\"]]\n",
    "    y = ndti_dfi_ndri_data[\"Biomasse (kg/ha)\"]    \n",
    "    R2 = r2_score(y.values,  (model_1.predict(X)))\n",
    "    R2_list.append(R2)\n",
    "    RMSE = mean_squared_error(y.values, (model_1.predict(X)), squared=False)\n",
    "    RMSE_list.append(RMSE)\n",
    "    mae = mean_absolute_error(y.values,  (model_1.predict(X)))\n",
    "    mae_list.append(mae)\n",
    "    mape = np.mean((y.values - (model_1.predict(X)))/y.values)*100\n",
    "    MAPE_list.append(mape)\n",
    "    \n",
    "result_dic = {\"coef\" : coef_list, \"cste\": cste_list, \"R2\" : R2_list,\"RMSE\": RMSE_list, \"mae\": mae_list, \"MAPE\": MAPE_list}    \n",
    "reg_results = pd.DataFrame(result_dic)\n",
    "reg_results.loc[reg_results.RMSE == reg_results.RMSE.min()]           "
   ]
  },
  {
   "cell_type": "code",
   "execution_count": 100,
   "metadata": {},
   "outputs": [],
   "source": [
    "# Predict the out var using the best model\n",
    "model_1 = LinearRegression()\n",
    "model_1.coef_ = reg_results.coef.values[16]\n",
    "model_1.intercept_ = reg_results.cste.values[16]"
   ]
  },
  {
   "cell_type": "code",
   "execution_count": null,
   "metadata": {},
   "outputs": [],
   "source": [
    "# Save the regression model\n",
    "#joblib.dump(model_1, \"./model 14/model_B24.pkl\") "
   ]
  },
  {
   "cell_type": "markdown",
   "metadata": {},
   "source": [
    "#### 15. Model 15:  X = [STI, NDTI, DFI, NDRI]"
   ]
  },
  {
   "cell_type": "code",
   "execution_count": 132,
   "metadata": {},
   "outputs": [
    {
     "data": {
      "text/html": [
       "<div>\n",
       "<style scoped>\n",
       "    .dataframe tbody tr th:only-of-type {\n",
       "        vertical-align: middle;\n",
       "    }\n",
       "\n",
       "    .dataframe tbody tr th {\n",
       "        vertical-align: top;\n",
       "    }\n",
       "\n",
       "    .dataframe thead th {\n",
       "        text-align: right;\n",
       "    }\n",
       "</style>\n",
       "<table border=\"1\" class=\"dataframe\">\n",
       "  <thead>\n",
       "    <tr style=\"text-align: right;\">\n",
       "      <th></th>\n",
       "      <th>STI</th>\n",
       "      <th>NDTI</th>\n",
       "      <th>DFI</th>\n",
       "      <th>NDRI</th>\n",
       "      <th>Biomasse (kg/ha)</th>\n",
       "    </tr>\n",
       "  </thead>\n",
       "  <tbody>\n",
       "    <tr>\n",
       "      <th>0</th>\n",
       "      <td>1.306501</td>\n",
       "      <td>0.132886</td>\n",
       "      <td>19.408917</td>\n",
       "      <td>-0.157115</td>\n",
       "      <td>283.175</td>\n",
       "    </tr>\n",
       "    <tr>\n",
       "      <th>1</th>\n",
       "      <td>1.375040</td>\n",
       "      <td>0.157909</td>\n",
       "      <td>22.429639</td>\n",
       "      <td>-0.156652</td>\n",
       "      <td>688.075</td>\n",
       "    </tr>\n",
       "  </tbody>\n",
       "</table>\n",
       "</div>"
      ],
      "text/plain": [
       "        STI      NDTI        DFI      NDRI  Biomasse (kg/ha)\n",
       "0  1.306501  0.132886  19.408917 -0.157115           283.175\n",
       "1  1.375040  0.157909  22.429639 -0.156652           688.075"
      ]
     },
     "execution_count": 132,
     "metadata": {},
     "output_type": "execute_result"
    }
   ],
   "source": [
    "# Define input output data\n",
    "sti_ndti_dfi_ndri_data = data.iloc[:, [13, 14, 15, 16,19]]\n",
    "sti_ndti_dfi_ndri_data.head(2)"
   ]
  },
  {
   "cell_type": "code",
   "execution_count": 133,
   "metadata": {},
   "outputs": [
    {
     "data": {
      "text/html": [
       "<div>\n",
       "<style scoped>\n",
       "    .dataframe tbody tr th:only-of-type {\n",
       "        vertical-align: middle;\n",
       "    }\n",
       "\n",
       "    .dataframe tbody tr th {\n",
       "        vertical-align: top;\n",
       "    }\n",
       "\n",
       "    .dataframe thead th {\n",
       "        text-align: right;\n",
       "    }\n",
       "</style>\n",
       "<table border=\"1\" class=\"dataframe\">\n",
       "  <thead>\n",
       "    <tr style=\"text-align: right;\">\n",
       "      <th></th>\n",
       "      <th>coef</th>\n",
       "      <th>cste</th>\n",
       "      <th>R2</th>\n",
       "      <th>RMSE</th>\n",
       "      <th>mae</th>\n",
       "      <th>MAPE</th>\n",
       "      <th>RMSPE</th>\n",
       "    </tr>\n",
       "  </thead>\n",
       "  <tbody>\n",
       "    <tr>\n",
       "      <th>16</th>\n",
       "      <td>[-23606.022992506063, 79523.87921568174, -133....</td>\n",
       "      <td>23140.012296</td>\n",
       "      <td>0.660145</td>\n",
       "      <td>214.551569</td>\n",
       "      <td>157.792545</td>\n",
       "      <td>67.681262</td>\n",
       "      <td>114.795907</td>\n",
       "    </tr>\n",
       "  </tbody>\n",
       "</table>\n",
       "</div>"
      ],
      "text/plain": [
       "                                                 coef          cste        R2  \\\n",
       "16  [-23606.022992506063, 79523.87921568174, -133....  23140.012296  0.660145   \n",
       "\n",
       "          RMSE         mae       MAPE       RMSPE  \n",
       "16  214.551569  157.792545  67.681262  114.795907  "
      ]
     },
     "execution_count": 133,
     "metadata": {},
     "output_type": "execute_result"
    }
   ],
   "source": [
    "# Define predictor and response variables\n",
    "coef_list = []\n",
    "cste_list = []\n",
    "R2_list = []\n",
    "mae_list = []\n",
    "RMSE_list = []\n",
    "MAPE_list = []\n",
    "RMSPE_list = []\n",
    "for i in range(0, len(sti_ndti_dfi_ndri_data)):\n",
    "    X = sti_ndti_dfi_ndri_data[[\"STI\",\"NDTI\",\"DFI\", \"NDRI\"]]\n",
    "    var_out = X.index.isin([i])\n",
    "    X = X.loc[~var_out]         # Leave one out\n",
    "    \n",
    "    y = sti_ndti_dfi_ndri_data[\"Biomasse (kg/ha)\"][X.index] # same indices as X\n",
    "    \n",
    "    model_1 = LinearRegression().fit(X, y)\n",
    "    \n",
    "    coef = model_1.coef_\n",
    "    coef_list.append(coef)\n",
    "    \n",
    "    cste =  model_1.intercept_\n",
    "    cste_list.append(cste)\n",
    "    \n",
    "    X = sti_ndti_dfi_ndri_data[[\"STI\",\"NDTI\",\"DFI\", \"NDRI\"]]\n",
    "    y = sti_ndti_dfi_ndri_data[\"Biomasse (kg/ha)\"] \n",
    "    R2 = r2_score(y.values,  (model_1.predict(X)))\n",
    "    R2_list.append(R2)\n",
    "    RMSE = mean_squared_error(y.values, model_1.predict(X), squared=False)\n",
    "    RMSE_list.append(RMSE)\n",
    "    mae = mean_absolute_error(y.values,  model_1.predict(X))\n",
    "    mae_list.append(mae)\n",
    "    mape = np.mean(np.abs((y.values - model_1.predict(X))/y.values))*100\n",
    "    MAPE_list.append(mape)\n",
    "    rmspe = rmspe = (np.sqrt(np.mean(np.square((y.values - model_1.predict(X)) / y.values)))) * 100\n",
    "    RMSPE_list.append(rmspe)\n",
    "    \n",
    "result_dic = {\"coef\" : coef_list, \"cste\": cste_list, \"R2\" : R2_list,\"RMSE\": RMSE_list, \"mae\": mae_list, \"MAPE\": MAPE_list, \"RMSPE\": RMSPE_list}    \n",
    "reg_results = pd.DataFrame(result_dic)\n",
    "reg_results.loc[reg_results.RMSE == reg_results.RMSE.min()]         "
   ]
  },
  {
   "cell_type": "code",
   "execution_count": 134,
   "metadata": {
    "tags": []
   },
   "outputs": [],
   "source": [
    "# Predict the out var using the best model\n",
    "model_1 = LinearRegression()\n",
    "model_1.coef_ = reg_results.coef.values[16]\n",
    "model_1.intercept_ = reg_results.cste.values[16]"
   ]
  },
  {
   "cell_type": "code",
   "execution_count": 135,
   "metadata": {},
   "outputs": [
    {
     "data": {
      "text/plain": [
       "array([-23606.02299251,  79523.87921568,   -133.56162732,   -261.55073492])"
      ]
     },
     "execution_count": 135,
     "metadata": {},
     "output_type": "execute_result"
    }
   ],
   "source": [
    "model_1.coef_"
   ]
  },
  {
   "cell_type": "markdown",
   "metadata": {},
   "source": [
    "### Plot the results"
   ]
  },
  {
   "cell_type": "code",
   "execution_count": 136,
   "metadata": {},
   "outputs": [
    {
     "name": "stderr",
     "output_type": "stream",
     "text": [
      "C:\\Users\\GARBA\\anaconda3\\envs\\geo_env\\lib\\site-packages\\sklearn\\base.py:443: UserWarning: X has feature names, but LinearRegression was fitted without feature names\n",
      "  warnings.warn(\n"
     ]
    }
   ],
   "source": [
    "X = sti_ndti_dfi_ndri_data[[\"STI\",\"NDTI\",\"DFI\", \"NDRI\"]]\n",
    "y = sti_ndti_dfi_ndri_data[\"Biomasse (kg/ha)\"]\n",
    "y_predicted = (model_1.predict(X))"
   ]
  },
  {
   "cell_type": "code",
   "execution_count": 137,
   "metadata": {},
   "outputs": [
    {
     "data": {
      "image/png": "[encoded data removed]",
      "text/plain": [
       "<Figure size 560x200 with 1 Axes>"
      ]
     },
     "metadata": {},
     "output_type": "display_data"
    }
   ],
   "source": [
    "fig, ax = plt.subplots(1, 1, figsize = (5.6,2.), constrained_layout = True)\n",
    "ax.scatter(range(1, 41, 1), obs_mass.values, label = \"Observed Biomass\", color = \"darkblue\", s = 6)\n",
    "ax.plot(range(1, 41, 1),y_predicted, lw = .9, label = \"Estimated biomass\", color = \"r\", alpha = .5)\n",
    "#ax.set_xticks(sti_data.index)\n",
    "#ax.set_yticks(np.arange(0, 1500, 200))\n",
    "ax.set_ylabel(\"kgMS/ha\", fontsize = 7)\n",
    "ax.set_xlabel(\"Index\",  fontsize = 7)\n",
    "ax.tick_params(axis='both', which='major', labelsize=8)\n",
    "ax.legend(fontsize = 7, loc = (0.74, 0.78))\n",
    "ax.set_title(\"Rangeland sites - Combination of\\n STI, NDTI,DFI and NDRI\", fontsize = 7, fontweight = \"bold\", x = 0.2, y = .78)\n",
    "ax.grid(\"both\", alpha = 0.2)\n",
    "plt.savefig(\"./output/model_15.png\", dpi = 600)"
   ]
  },
  {
   "cell_type": "code",
   "execution_count": null,
   "metadata": {
    "tags": []
   },
   "outputs": [
    {
     "data": {
      "image/png": "[encoded data removed]",
      "text/plain": [
       "<Figure size 400x220 with 1 Axes>"
      ]
     },
     "metadata": {},
     "output_type": "display_data"
    }
   ],
   "source": [
    "fig, ax = plt.subplots(1, 1, figsize = (4,2.2))\n",
    "ax.plot(np.arange(1, 41, 1), y, lw = .9, label = \"Observed dry biomass\")\n",
    "ax.plot(np.arange(1, 41, 1), y_predicted, lw = .9, label = \"Estimated dry biomass\")\n",
    "\n",
    "ax.set_xticks(np.arange(1, 41, 2))\n",
    "#ax.set_yticks(np.arange(0, 9000, 1000))\n",
    "ax.set_ylabel(\"Biomasse (kg/ha)\", fontsize = 7)\n",
    "ax.set_xlabel(\"Index\",  fontsize = 7)\n",
    "ax.tick_params(axis='both', which='major', labelsize=8)\n",
    "ax.legend(fontsize = 7)\n",
    "ax.set_title(\"Rangeland \\nModel 15\", fontsize = 8, fontweight = \"bold\", x = 0.5, y = .53)\n",
    "ax.grid(\"both\", alpha = 0.2)\n",
    "plt.tight_layout()\n",
    "plt.savefig(\"./model_15_parcours.png\", dpi = 600)"
   ]
  },
  {
   "cell_type": "code",
   "execution_count": null,
   "metadata": {},
   "outputs": [],
   "source": []
  }
 ],
 "metadata": {
  "kernelspec": {
   "display_name": "Python 3",
   "language": "python",
   "name": "python3"
  },
  "language_info": {
   "codemirror_mode": {
    "name": "ipython",
    "version": 3
   },
   "file_extension": ".py",
   "mimetype": "text/x-python",
   "name": "python",
   "nbconvert_exporter": "python",
   "pygments_lexer": "ipython3",
   "version": "3.8.2"
  }
 },
 "nbformat": 4,
 "nbformat_minor": 4
}
