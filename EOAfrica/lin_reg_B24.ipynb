{
 "cells": [
  {
   "cell_type": "markdown",
   "metadata": {},
   "source": [
    "# Regression model for dry biomasse assessment"
   ]
  },
  {
   "cell_type": "code",
   "execution_count": 1,
   "metadata": {},
   "outputs": [],
   "source": [
    "# Import required packages\n",
    "import numpy as np\n",
    "np.float = float\n",
    "\n",
    "import pandas as pd\n",
    "from sklearn.model_selection import train_test_split\n",
    "from sklearn.model_selection import KFold\n",
    "from sklearn.model_selection import cross_val_score\n",
    "from sklearn.model_selection import LeaveOneOut\n",
    "\n",
    "from sklearn.metrics import mean_absolute_error\n",
    "from sklearn.metrics import mean_squared_error\n",
    "from sklearn.metrics import mean_absolute_error\n",
    "from sklearn.metrics import r2_score\n",
    "from math import sqrt\n",
    "from sklearn.linear_model import LinearRegression\n",
    "from numpy import mean\n",
    "from numpy import absolute\n",
    "from numpy import sqrt\n",
    "from sklearn.metrics import mean_squared_error\n",
    "\n",
    "\n",
    "from sklearn import preprocessing\n",
    "import joblib\n",
    "import matplotlib.pyplot as plt"
   ]
  },
  {
   "cell_type": "markdown",
   "metadata": {},
   "source": [
    "## Simple LRMs"
   ]
  },
  {
   "cell_type": "markdown",
   "metadata": {},
   "source": [
    "#### 1. Sites B24"
   ]
  },
  {
   "cell_type": "code",
   "execution_count": 2,
   "metadata": {
    "tags": []
   },
   "outputs": [
    {
     "data": {
      "text/html": [
       "<div>\n",
       "<style scoped>\n",
       "    .dataframe tbody tr th:only-of-type {\n",
       "        vertical-align: middle;\n",
       "    }\n",
       "\n",
       "    .dataframe tbody tr th {\n",
       "        vertical-align: top;\n",
       "    }\n",
       "\n",
       "    .dataframe thead th {\n",
       "        text-align: right;\n",
       "    }\n",
       "</style>\n",
       "<table border=\"1\" class=\"dataframe\">\n",
       "  <thead>\n",
       "    <tr style=\"text-align: right;\">\n",
       "      <th></th>\n",
       "      <th>date</th>\n",
       "      <th>B01</th>\n",
       "      <th>B02</th>\n",
       "      <th>B03</th>\n",
       "      <th>B04</th>\n",
       "      <th>B05</th>\n",
       "      <th>B06</th>\n",
       "      <th>B07</th>\n",
       "      <th>B08</th>\n",
       "      <th>B8A</th>\n",
       "      <th>B11</th>\n",
       "      <th>B12</th>\n",
       "      <th>NDVI</th>\n",
       "      <th>STI</th>\n",
       "      <th>NDTI</th>\n",
       "      <th>DFI</th>\n",
       "      <th>NDRI</th>\n",
       "      <th>Date de mesure</th>\n",
       "      <th>Biomasse (gMS/m2)</th>\n",
       "      <th>Biomasse (kg/ha)</th>\n",
       "    </tr>\n",
       "  </thead>\n",
       "  <tbody>\n",
       "    <tr>\n",
       "      <th>0</th>\n",
       "      <td>2019-10-16</td>\n",
       "      <td>856.812641</td>\n",
       "      <td>1194.920993</td>\n",
       "      <td>1841.963883</td>\n",
       "      <td>2640.952596</td>\n",
       "      <td>3107.124153</td>\n",
       "      <td>3301.909707</td>\n",
       "      <td>3598.733634</td>\n",
       "      <td>3580.55079</td>\n",
       "      <td>3845.920993</td>\n",
       "      <td>5343.772009</td>\n",
       "      <td>4622.185102</td>\n",
       "      <td>0.151024</td>\n",
       "      <td>1.156114</td>\n",
       "      <td>0.072405</td>\n",
       "      <td>9.95982</td>\n",
       "      <td>-0.272779</td>\n",
       "      <td>2019-10-07 00:00:00</td>\n",
       "      <td>77.65</td>\n",
       "      <td>776.5</td>\n",
       "    </tr>\n",
       "  </tbody>\n",
       "</table>\n",
       "</div>"
      ],
      "text/plain": [
       "        date         B01          B02          B03          B04          B05  \\\n",
       "0 2019-10-16  856.812641  1194.920993  1841.963883  2640.952596  3107.124153   \n",
       "\n",
       "           B06          B07         B08          B8A          B11  \\\n",
       "0  3301.909707  3598.733634  3580.55079  3845.920993  5343.772009   \n",
       "\n",
       "           B12      NDVI       STI      NDTI      DFI      NDRI  \\\n",
       "0  4622.185102  0.151024  1.156114  0.072405  9.95982 -0.272779   \n",
       "\n",
       "        Date de mesure  Biomasse (gMS/m2)  Biomasse (kg/ha)  \n",
       "0  2019-10-07 00:00:00              77.65             776.5  "
      ]
     },
     "execution_count": 2,
     "metadata": {},
     "output_type": "execute_result"
    }
   ],
   "source": [
    "# Import input data \n",
    "data_B24 = pd.read_excel(\"./Model_data_completed.xlsx\", sheet_name = \"B24 Monthly\", parse_dates=True)\n",
    "data_B24.head(1)"
   ]
  },
  {
   "cell_type": "code",
   "execution_count": 3,
   "metadata": {},
   "outputs": [
    {
     "data": {
      "text/plain": [
       "date\n",
       "2019-10-16    776.5\n",
       "Name: Biomasse (kg/ha), dtype: float64"
      ]
     },
     "execution_count": 3,
     "metadata": {},
     "output_type": "execute_result"
    }
   ],
   "source": [
    "# Observed biomass\n",
    "obs_mass = data_B24[\"Biomasse (kg/ha)\"]\n",
    "obs_mass.index = data_B24.date\n",
    "obs_mass.head(1)"
   ]
  },
  {
   "cell_type": "code",
   "execution_count": 4,
   "metadata": {},
   "outputs": [
    {
     "data": {
      "text/html": [
       "<div>\n",
       "<style scoped>\n",
       "    .dataframe tbody tr th:only-of-type {\n",
       "        vertical-align: middle;\n",
       "    }\n",
       "\n",
       "    .dataframe tbody tr th {\n",
       "        vertical-align: top;\n",
       "    }\n",
       "\n",
       "    .dataframe thead th {\n",
       "        text-align: right;\n",
       "    }\n",
       "</style>\n",
       "<table border=\"1\" class=\"dataframe\">\n",
       "  <thead>\n",
       "    <tr style=\"text-align: right;\">\n",
       "      <th></th>\n",
       "      <th>date</th>\n",
       "      <th>B01</th>\n",
       "      <th>B02</th>\n",
       "      <th>B03</th>\n",
       "      <th>B04</th>\n",
       "      <th>B05</th>\n",
       "      <th>B06</th>\n",
       "      <th>B07</th>\n",
       "      <th>B08</th>\n",
       "      <th>B8A</th>\n",
       "      <th>B11</th>\n",
       "      <th>B12</th>\n",
       "      <th>NDVI</th>\n",
       "      <th>STI</th>\n",
       "      <th>NDTI</th>\n",
       "      <th>DFI</th>\n",
       "      <th>NDRI</th>\n",
       "    </tr>\n",
       "    <tr>\n",
       "      <th>date</th>\n",
       "      <th></th>\n",
       "      <th></th>\n",
       "      <th></th>\n",
       "      <th></th>\n",
       "      <th></th>\n",
       "      <th></th>\n",
       "      <th></th>\n",
       "      <th></th>\n",
       "      <th></th>\n",
       "      <th></th>\n",
       "      <th></th>\n",
       "      <th></th>\n",
       "      <th></th>\n",
       "      <th></th>\n",
       "      <th></th>\n",
       "      <th></th>\n",
       "      <th></th>\n",
       "    </tr>\n",
       "  </thead>\n",
       "  <tbody>\n",
       "    <tr>\n",
       "      <th>2018-01-04</th>\n",
       "      <td>2018-01-04</td>\n",
       "      <td>803.036117</td>\n",
       "      <td>1237.884876</td>\n",
       "      <td>1980.875847</td>\n",
       "      <td>3019.047404</td>\n",
       "      <td>3378.433409</td>\n",
       "      <td>3579.406321</td>\n",
       "      <td>3826.835214</td>\n",
       "      <td>4195.747178</td>\n",
       "      <td>4119.069977</td>\n",
       "      <td>5585.717833</td>\n",
       "      <td>4646.609481</td>\n",
       "      <td>0.163095</td>\n",
       "      <td>1.202106</td>\n",
       "      <td>0.091779</td>\n",
       "      <td>12.097547</td>\n",
       "      <td>-0.212319</td>\n",
       "    </tr>\n",
       "  </tbody>\n",
       "</table>\n",
       "</div>"
      ],
      "text/plain": [
       "                 date         B01          B02          B03          B04  \\\n",
       "date                                                                       \n",
       "2018-01-04 2018-01-04  803.036117  1237.884876  1980.875847  3019.047404   \n",
       "\n",
       "                    B05          B06          B07          B08          B8A  \\\n",
       "date                                                                          \n",
       "2018-01-04  3378.433409  3579.406321  3826.835214  4195.747178  4119.069977   \n",
       "\n",
       "                    B11          B12      NDVI       STI      NDTI        DFI  \\\n",
       "date                                                                            \n",
       "2018-01-04  5585.717833  4646.609481  0.163095  1.202106  0.091779  12.097547   \n",
       "\n",
       "                NDRI  \n",
       "date                  \n",
       "2018-01-04 -0.212319  "
      ]
     },
     "execution_count": 4,
     "metadata": {},
     "output_type": "execute_result"
    }
   ],
   "source": [
    "# Spectral indices\n",
    "si_B24 = pd.read_excel(\"D:/01. Dr Abdourahamane/05. EO-AFRICA-RDF-Project/Article/Last Research Paper/B24_SI.xlsx\", parse_dates=True)\n",
    "si_B24.index = si_B24.date\n",
    "si_B24.head(1)"
   ]
  },
  {
   "cell_type": "code",
   "execution_count": 5,
   "metadata": {
    "tags": []
   },
   "outputs": [],
   "source": [
    "# Dry season\n",
    "d_month =(si_B24.index.month == 10) |(si_B24.index.month == 11) | (si_B24.index.month == 12) | (si_B24.index.month == 1) | (si_B24.index.month == 2) | (si_B24.index.month == 3) | (si_B24.index.month == 4) | (si_B24.index.month == 5)\n",
    "si_B24 = si_B24[d_month]\n",
    "#si_B24.head(2)"
   ]
  },
  {
   "cell_type": "markdown",
   "metadata": {
    "tags": []
   },
   "source": [
    "#### Model 1:  X = STI"
   ]
  },
  {
   "cell_type": "code",
   "execution_count": 6,
   "metadata": {
    "tags": []
   },
   "outputs": [
    {
     "data": {
      "text/html": [
       "<div>\n",
       "<style scoped>\n",
       "    .dataframe tbody tr th:only-of-type {\n",
       "        vertical-align: middle;\n",
       "    }\n",
       "\n",
       "    .dataframe tbody tr th {\n",
       "        vertical-align: top;\n",
       "    }\n",
       "\n",
       "    .dataframe thead th {\n",
       "        text-align: right;\n",
       "    }\n",
       "</style>\n",
       "<table border=\"1\" class=\"dataframe\">\n",
       "  <thead>\n",
       "    <tr style=\"text-align: right;\">\n",
       "      <th></th>\n",
       "      <th>STI</th>\n",
       "      <th>Biomasse (kg/ha)</th>\n",
       "    </tr>\n",
       "  </thead>\n",
       "  <tbody>\n",
       "    <tr>\n",
       "      <th>0</th>\n",
       "      <td>1.156114</td>\n",
       "      <td>776.5</td>\n",
       "    </tr>\n",
       "  </tbody>\n",
       "</table>\n",
       "</div>"
      ],
      "text/plain": [
       "        STI  Biomasse (kg/ha)\n",
       "0  1.156114             776.5"
      ]
     },
     "execution_count": 6,
     "metadata": {},
     "output_type": "execute_result"
    }
   ],
   "source": [
    "# Define input output data\n",
    "sti_data = data_B24.iloc[:, [13, 19]]\n",
    "sti_data.head(1)"
   ]
  },
  {
   "cell_type": "code",
   "execution_count": 7,
   "metadata": {},
   "outputs": [
    {
     "data": {
      "text/html": [
       "<div>\n",
       "<style scoped>\n",
       "    .dataframe tbody tr th:only-of-type {\n",
       "        vertical-align: middle;\n",
       "    }\n",
       "\n",
       "    .dataframe tbody tr th {\n",
       "        vertical-align: top;\n",
       "    }\n",
       "\n",
       "    .dataframe thead th {\n",
       "        text-align: right;\n",
       "    }\n",
       "</style>\n",
       "<table border=\"1\" class=\"dataframe\">\n",
       "  <thead>\n",
       "    <tr style=\"text-align: right;\">\n",
       "      <th></th>\n",
       "      <th>coef</th>\n",
       "      <th>cste</th>\n",
       "      <th>R2</th>\n",
       "      <th>RMSE</th>\n",
       "      <th>mae</th>\n",
       "      <th>MAPE</th>\n",
       "    </tr>\n",
       "  </thead>\n",
       "  <tbody>\n",
       "    <tr>\n",
       "      <th>2</th>\n",
       "      <td>[7302.875524404284]</td>\n",
       "      <td>-8077.577143</td>\n",
       "      <td>0.616252</td>\n",
       "      <td>209.068894</td>\n",
       "      <td>186.145795</td>\n",
       "      <td>0.438833</td>\n",
       "    </tr>\n",
       "  </tbody>\n",
       "</table>\n",
       "</div>"
      ],
      "text/plain": [
       "                  coef         cste        R2        RMSE         mae  \\\n",
       "2  [7302.875524404284] -8077.577143  0.616252  209.068894  186.145795   \n",
       "\n",
       "       MAPE  \n",
       "2  0.438833  "
      ]
     },
     "execution_count": 7,
     "metadata": {},
     "output_type": "execute_result"
    }
   ],
   "source": [
    "# Define predictor and response variables\n",
    "coef_list = []\n",
    "cste_list = []\n",
    "R2_list = []\n",
    "mae_list = []\n",
    "RMSE_list = []\n",
    "MAPE_list = []\n",
    "for i in range(0, len(sti_data)):\n",
    "    X = sti_data[[\"STI\"]]\n",
    "    var_out = X.index.isin([i])\n",
    "    X = X.loc[~var_out]         # Leave one out\n",
    "    \n",
    "    y = sti_data[\"Biomasse (kg/ha)\"][X.index] # same indices as X\n",
    "    \n",
    "    model_1 = LinearRegression().fit(X, y)\n",
    "    \n",
    "    coef = model_1.coef_\n",
    "    coef_list.append(coef)\n",
    "    \n",
    "    cste =  model_1.intercept_\n",
    "    cste_list.append(cste)\n",
    "    \n",
    "    X = sti_data[[\"STI\"]]\n",
    "    y = sti_data[\"Biomasse (kg/ha)\"]\n",
    "    \n",
    "    R2 = r2_score(y.values,  (model_1.predict(X)))\n",
    "    R2_list.append(R2)\n",
    "    RMSE = mean_squared_error(y.values, (model_1.predict(X)), squared=False)\n",
    "    RMSE_list.append(RMSE)\n",
    "    mae = mean_absolute_error(y.values,  (model_1.predict(X)))\n",
    "    mae_list.append(mae)\n",
    "    mape = np.mean(np.abs((y.values - (model_1.predict(X))))/y.values)\n",
    "    MAPE_list.append(mape)\n",
    "    \n",
    "result_dic = {\"coef\" : coef_list, \"cste\": cste_list, \"R2\" : R2_list,\"RMSE\": RMSE_list, \"mae\": mae_list, \"MAPE\": MAPE_list}    \n",
    "reg_results = pd.DataFrame(result_dic)\n",
    "reg_results.loc[reg_results.RMSE == reg_results.RMSE.min()]  "
   ]
  },
  {
   "cell_type": "code",
   "execution_count": 8,
   "metadata": {
    "tags": []
   },
   "outputs": [],
   "source": [
    "# Predict the out var using the best model\n",
    "model_1 = LinearRegression()\n",
    "model_1.coef_ = reg_results.coef.values[2]\n",
    "model_1.intercept_ = reg_results.cste.values[2]"
   ]
  },
  {
   "cell_type": "markdown",
   "metadata": {
    "tags": []
   },
   "source": [
    "### Plot the results"
   ]
  },
  {
   "cell_type": "code",
   "execution_count": 9,
   "metadata": {
    "tags": []
   },
   "outputs": [
    {
     "data": {
      "text/html": [
       "<div>\n",
       "<style scoped>\n",
       "    .dataframe tbody tr th:only-of-type {\n",
       "        vertical-align: middle;\n",
       "    }\n",
       "\n",
       "    .dataframe tbody tr th {\n",
       "        vertical-align: top;\n",
       "    }\n",
       "\n",
       "    .dataframe thead th {\n",
       "        text-align: right;\n",
       "    }\n",
       "</style>\n",
       "<table border=\"1\" class=\"dataframe\">\n",
       "  <thead>\n",
       "    <tr style=\"text-align: right;\">\n",
       "      <th></th>\n",
       "      <th>date</th>\n",
       "      <th>B01</th>\n",
       "      <th>B02</th>\n",
       "      <th>B03</th>\n",
       "      <th>B04</th>\n",
       "      <th>B05</th>\n",
       "      <th>B06</th>\n",
       "      <th>B07</th>\n",
       "      <th>B08</th>\n",
       "      <th>B8A</th>\n",
       "      <th>B11</th>\n",
       "      <th>B12</th>\n",
       "      <th>NDVI</th>\n",
       "      <th>STI</th>\n",
       "      <th>NDTI</th>\n",
       "      <th>DFI</th>\n",
       "      <th>NDRI</th>\n",
       "    </tr>\n",
       "    <tr>\n",
       "      <th>date</th>\n",
       "      <th></th>\n",
       "      <th></th>\n",
       "      <th></th>\n",
       "      <th></th>\n",
       "      <th></th>\n",
       "      <th></th>\n",
       "      <th></th>\n",
       "      <th></th>\n",
       "      <th></th>\n",
       "      <th></th>\n",
       "      <th></th>\n",
       "      <th></th>\n",
       "      <th></th>\n",
       "      <th></th>\n",
       "      <th></th>\n",
       "      <th></th>\n",
       "      <th></th>\n",
       "    </tr>\n",
       "  </thead>\n",
       "  <tbody>\n",
       "    <tr>\n",
       "      <th>2018-01-04</th>\n",
       "      <td>2018-01-04</td>\n",
       "      <td>803.036117</td>\n",
       "      <td>1237.884876</td>\n",
       "      <td>1980.875847</td>\n",
       "      <td>3019.047404</td>\n",
       "      <td>3378.433409</td>\n",
       "      <td>3579.406321</td>\n",
       "      <td>3826.835214</td>\n",
       "      <td>4195.747178</td>\n",
       "      <td>4119.069977</td>\n",
       "      <td>5585.717833</td>\n",
       "      <td>4646.609481</td>\n",
       "      <td>0.163095</td>\n",
       "      <td>1.202106</td>\n",
       "      <td>0.091779</td>\n",
       "      <td>12.097547</td>\n",
       "      <td>-0.212319</td>\n",
       "    </tr>\n",
       "    <tr>\n",
       "      <th>2018-01-09</th>\n",
       "      <td>2018-01-09</td>\n",
       "      <td>926.778781</td>\n",
       "      <td>1176.119639</td>\n",
       "      <td>1914.659142</td>\n",
       "      <td>2909.074492</td>\n",
       "      <td>3279.112867</td>\n",
       "      <td>3465.090293</td>\n",
       "      <td>3674.550790</td>\n",
       "      <td>3980.496614</td>\n",
       "      <td>3962.826185</td>\n",
       "      <td>5398.117381</td>\n",
       "      <td>4346.135440</td>\n",
       "      <td>0.155514</td>\n",
       "      <td>1.242050</td>\n",
       "      <td>0.107959</td>\n",
       "      <td>14.242412</td>\n",
       "      <td>-0.198073</td>\n",
       "    </tr>\n",
       "  </tbody>\n",
       "</table>\n",
       "</div>"
      ],
      "text/plain": [
       "                 date         B01          B02          B03          B04  \\\n",
       "date                                                                       \n",
       "2018-01-04 2018-01-04  803.036117  1237.884876  1980.875847  3019.047404   \n",
       "2018-01-09 2018-01-09  926.778781  1176.119639  1914.659142  2909.074492   \n",
       "\n",
       "                    B05          B06          B07          B08          B8A  \\\n",
       "date                                                                          \n",
       "2018-01-04  3378.433409  3579.406321  3826.835214  4195.747178  4119.069977   \n",
       "2018-01-09  3279.112867  3465.090293  3674.550790  3980.496614  3962.826185   \n",
       "\n",
       "                    B11          B12      NDVI       STI      NDTI        DFI  \\\n",
       "date                                                                            \n",
       "2018-01-04  5585.717833  4646.609481  0.163095  1.202106  0.091779  12.097547   \n",
       "2018-01-09  5398.117381  4346.135440  0.155514  1.242050  0.107959  14.242412   \n",
       "\n",
       "                NDRI  \n",
       "date                  \n",
       "2018-01-04 -0.212319  \n",
       "2018-01-09 -0.198073  "
      ]
     },
     "execution_count": 9,
     "metadata": {},
     "output_type": "execute_result"
    }
   ],
   "source": [
    "# Estimated biomass with spectral indices\n",
    "si_B24.index = si_B24.date\n",
    "si_B24.head(2)"
   ]
  },
  {
   "cell_type": "code",
   "execution_count": 10,
   "metadata": {
    "tags": []
   },
   "outputs": [
    {
     "name": "stderr",
     "output_type": "stream",
     "text": [
      "C:\\Users\\GARBA\\anaconda3\\envs\\geo_env\\lib\\site-packages\\sklearn\\base.py:443: UserWarning: X has feature names, but LinearRegression was fitted without feature names\n",
      "  warnings.warn(\n"
     ]
    }
   ],
   "source": [
    "# inputs\n",
    "x_all = si_B24[[\"STI\"]]\n",
    "y_all = model_1.predict(x_all)\n",
    "#y_all"
   ]
  },
  {
   "cell_type": "code",
   "execution_count": 11,
   "metadata": {
    "tags": []
   },
   "outputs": [
    {
     "data": {
      "image/png": "[encoded data removed]",
      "text/plain": [
       "<Figure size 750x250 with 1 Axes>"
      ]
     },
     "metadata": {},
     "output_type": "display_data"
    }
   ],
   "source": [
    "fig, ax = plt.subplots(1, 1, figsize = (7.5,2.5), constrained_layout = True)\n",
    "ax.scatter(obs_mass.index, obs_mass.values, label = \"Observed Biomass\", color = \"darkblue\", s = 6)\n",
    "ax.plot(si_B24.date, y_all, lw = .9, label = \"Estimated biomass\", color = \"r\", alpha = .5)\n",
    "#ax.set_xticks(sti_data.index)\n",
    "#ax.set_yticks(np.arange(0, 1500, 200))\n",
    "ax.set_ylabel(\"kgMS/ha\", fontsize = 7)\n",
    "#ax.set_xlabel(\"Index\",  fontsize = 7)\n",
    "ax.tick_params(axis='both', which='major', labelsize=8)\n",
    "ax.legend(fontsize = 7, loc = (0.81, 0.81))\n",
    "ax.set_title(\"Fallow site B24 - Model 1: STI\", fontsize = 8, fontweight = \"bold\", x = 0.15, y = .87)\n",
    "ax.grid(\"both\", alpha = 0.2)\n",
    "plt.savefig(\"./output/B24/model_1_jachere.png\", dpi = 600)"
   ]
  },
  {
   "cell_type": "code",
   "execution_count": 12,
   "metadata": {
    "tags": []
   },
   "outputs": [],
   "source": [
    "# Save the regression model\n",
    "#joblib.dump(model_1, \"./model 1/model_B24.pkl\") "
   ]
  },
  {
   "cell_type": "markdown",
   "metadata": {},
   "source": [
    "#### 2. Model 2:  X = NDTI"
   ]
  },
  {
   "cell_type": "code",
   "execution_count": 13,
   "metadata": {},
   "outputs": [
    {
     "data": {
      "text/html": [
       "<div>\n",
       "<style scoped>\n",
       "    .dataframe tbody tr th:only-of-type {\n",
       "        vertical-align: middle;\n",
       "    }\n",
       "\n",
       "    .dataframe tbody tr th {\n",
       "        vertical-align: top;\n",
       "    }\n",
       "\n",
       "    .dataframe thead th {\n",
       "        text-align: right;\n",
       "    }\n",
       "</style>\n",
       "<table border=\"1\" class=\"dataframe\">\n",
       "  <thead>\n",
       "    <tr style=\"text-align: right;\">\n",
       "      <th></th>\n",
       "      <th>NDTI</th>\n",
       "      <th>Biomasse (kg/ha)</th>\n",
       "    </tr>\n",
       "  </thead>\n",
       "  <tbody>\n",
       "    <tr>\n",
       "      <th>0</th>\n",
       "      <td>0.072405</td>\n",
       "      <td>776.500</td>\n",
       "    </tr>\n",
       "    <tr>\n",
       "      <th>1</th>\n",
       "      <td>0.108308</td>\n",
       "      <td>857.175</td>\n",
       "    </tr>\n",
       "  </tbody>\n",
       "</table>\n",
       "</div>"
      ],
      "text/plain": [
       "       NDTI  Biomasse (kg/ha)\n",
       "0  0.072405           776.500\n",
       "1  0.108308           857.175"
      ]
     },
     "execution_count": 13,
     "metadata": {},
     "output_type": "execute_result"
    }
   ],
   "source": [
    "# Define input output data\n",
    "ndti_data = data_B24.iloc[:, [14, 19]]\n",
    "ndti_data.head(2)"
   ]
  },
  {
   "cell_type": "code",
   "execution_count": 14,
   "metadata": {},
   "outputs": [
    {
     "data": {
      "text/html": [
       "<div>\n",
       "<style scoped>\n",
       "    .dataframe tbody tr th:only-of-type {\n",
       "        vertical-align: middle;\n",
       "    }\n",
       "\n",
       "    .dataframe tbody tr th {\n",
       "        vertical-align: top;\n",
       "    }\n",
       "\n",
       "    .dataframe thead th {\n",
       "        text-align: right;\n",
       "    }\n",
       "</style>\n",
       "<table border=\"1\" class=\"dataframe\">\n",
       "  <thead>\n",
       "    <tr style=\"text-align: right;\">\n",
       "      <th></th>\n",
       "      <th>coef</th>\n",
       "      <th>cste</th>\n",
       "      <th>R2</th>\n",
       "      <th>RMSE</th>\n",
       "      <th>mae</th>\n",
       "      <th>MAPE</th>\n",
       "    </tr>\n",
       "  </thead>\n",
       "  <tbody>\n",
       "    <tr>\n",
       "      <th>2</th>\n",
       "      <td>[17644.431351812767]</td>\n",
       "      <td>-913.035733</td>\n",
       "      <td>0.617036</td>\n",
       "      <td>208.855167</td>\n",
       "      <td>185.607103</td>\n",
       "      <td>0.437662</td>\n",
       "    </tr>\n",
       "  </tbody>\n",
       "</table>\n",
       "</div>"
      ],
      "text/plain": [
       "                   coef        cste        R2        RMSE         mae  \\\n",
       "2  [17644.431351812767] -913.035733  0.617036  208.855167  185.607103   \n",
       "\n",
       "       MAPE  \n",
       "2  0.437662  "
      ]
     },
     "execution_count": 14,
     "metadata": {},
     "output_type": "execute_result"
    }
   ],
   "source": [
    "# Define predictor and response variables\n",
    "coef_list = []\n",
    "cste_list = []\n",
    "R2_list = []\n",
    "mae_list = []\n",
    "RMSE_list = []\n",
    "MAPE_list = []\n",
    "\n",
    "for i in range(0, len(ndti_data)):\n",
    "    X = ndti_data[[\"NDTI\"]]\n",
    "    var_out = X.index.isin([i])\n",
    "    X = X.loc[~var_out]         # Leave one out\n",
    "    \n",
    "    y = ndti_data[\"Biomasse (kg/ha)\"][X.index] # same indices as X\n",
    "    \n",
    "    model_1 = LinearRegression().fit(X, y)\n",
    "    \n",
    "    coef = model_1.coef_\n",
    "    coef_list.append(coef)\n",
    "    \n",
    "    cste =  model_1.intercept_\n",
    "    cste_list.append(cste)\n",
    "    \n",
    "    X = ndti_data[[\"NDTI\"]]\n",
    "    y = ndti_data[\"Biomasse (kg/ha)\"]\n",
    "    \n",
    "    R2 = r2_score(y.values,  (model_1.predict(X)))\n",
    "    R2_list.append(R2)\n",
    "    RMSE = mean_squared_error(y.values, (model_1.predict(X)), squared=False)\n",
    "    RMSE_list.append(RMSE)\n",
    "    mae = mean_absolute_error(y.values,  (model_1.predict(X)))\n",
    "    mae_list.append(mae)\n",
    "    mape = np.mean(np.abs((y.values - (model_1.predict(X))))/y.values)\n",
    "    MAPE_list.append(mape)\n",
    "    \n",
    "result_dic = {\"coef\" : coef_list, \"cste\": cste_list, \"R2\" : R2_list,\"RMSE\": RMSE_list, \"mae\": mae_list, \"MAPE\": MAPE_list}    \n",
    "reg_results = pd.DataFrame(result_dic)\n",
    "reg_results.loc[reg_results.RMSE == reg_results.RMSE.min()]  "
   ]
  },
  {
   "cell_type": "code",
   "execution_count": 15,
   "metadata": {},
   "outputs": [],
   "source": [
    "# Predict the out var using the best model\n",
    "model_1 = LinearRegression()\n",
    "model_1.coef_ = reg_results.coef.values[2]\n",
    "model_1.intercept_ = reg_results.cste.values[2]"
   ]
  },
  {
   "cell_type": "markdown",
   "metadata": {
    "tags": []
   },
   "source": [
    "### Plot the results"
   ]
  },
  {
   "cell_type": "code",
   "execution_count": 16,
   "metadata": {
    "tags": []
   },
   "outputs": [
    {
     "name": "stderr",
     "output_type": "stream",
     "text": [
      "C:\\Users\\GARBA\\anaconda3\\envs\\geo_env\\lib\\site-packages\\sklearn\\base.py:443: UserWarning: X has feature names, but LinearRegression was fitted without feature names\n",
      "  warnings.warn(\n"
     ]
    }
   ],
   "source": [
    "# inputs\n",
    "x_all = si_B24[[\"NDTI\"]]\n",
    "y_all = model_1.predict(x_all)\n",
    "#y_all"
   ]
  },
  {
   "cell_type": "code",
   "execution_count": 17,
   "metadata": {
    "tags": []
   },
   "outputs": [
    {
     "data": {
      "image/png": "[encoded data removed]",
      "text/plain": [
       "<Figure size 750x250 with 1 Axes>"
      ]
     },
     "metadata": {},
     "output_type": "display_data"
    }
   ],
   "source": [
    "fig, ax = plt.subplots(1, 1, figsize = (7.5,2.5), constrained_layout = True)\n",
    "ax.scatter(obs_mass.index, obs_mass.values, label = \"Observed Biomass\", color = \"darkblue\", s = 6)\n",
    "ax.plot(si_B24.date, y_all, lw = .9, label = \"Estimated biomass\", color = \"r\", alpha = .5)\n",
    "#ax.set_xticks(sti_data.index)\n",
    "#ax.set_yticks(np.arange(0, 1500, 200))\n",
    "ax.set_ylabel(\"kgMS/ha\", fontsize = 7)\n",
    "#ax.set_xlabel(\"Index\",  fontsize = 7)\n",
    "ax.tick_params(axis='both', which='major', labelsize=8)\n",
    "ax.legend(fontsize = 7, loc = (0.01, 0.01))\n",
    "ax.set_title(\"Fallow site B24 - Model 2: NDTI\", fontsize = 8, fontweight = \"bold\", x = 0.2, y = .9)\n",
    "ax.grid(\"both\", alpha = 0.2)\n",
    "plt.savefig(\"./output/B24/model_2_jachere.png\", dpi = 600)"
   ]
  },
  {
   "cell_type": "code",
   "execution_count": 18,
   "metadata": {},
   "outputs": [],
   "source": [
    "# Save the regression model\n",
    "#joblib.dump(model_1, \"./model 2/model_B24.pkl\") "
   ]
  },
  {
   "cell_type": "markdown",
   "metadata": {},
   "source": [
    "#### 3. Model 3:  X = DFI"
   ]
  },
  {
   "cell_type": "code",
   "execution_count": 19,
   "metadata": {},
   "outputs": [
    {
     "data": {
      "text/html": [
       "<div>\n",
       "<style scoped>\n",
       "    .dataframe tbody tr th:only-of-type {\n",
       "        vertical-align: middle;\n",
       "    }\n",
       "\n",
       "    .dataframe tbody tr th {\n",
       "        vertical-align: top;\n",
       "    }\n",
       "\n",
       "    .dataframe thead th {\n",
       "        text-align: right;\n",
       "    }\n",
       "</style>\n",
       "<table border=\"1\" class=\"dataframe\">\n",
       "  <thead>\n",
       "    <tr style=\"text-align: right;\">\n",
       "      <th></th>\n",
       "      <th>DFI</th>\n",
       "      <th>Biomasse (kg/ha)</th>\n",
       "    </tr>\n",
       "  </thead>\n",
       "  <tbody>\n",
       "    <tr>\n",
       "      <th>0</th>\n",
       "      <td>9.95982</td>\n",
       "      <td>776.5</td>\n",
       "    </tr>\n",
       "  </tbody>\n",
       "</table>\n",
       "</div>"
      ],
      "text/plain": [
       "       DFI  Biomasse (kg/ha)\n",
       "0  9.95982             776.5"
      ]
     },
     "execution_count": 19,
     "metadata": {},
     "output_type": "execute_result"
    }
   ],
   "source": [
    "# Define input output data\n",
    "dfi_data = data_B24.iloc[:, [15, 19]]\n",
    "dfi_data.head(1)"
   ]
  },
  {
   "cell_type": "code",
   "execution_count": 20,
   "metadata": {},
   "outputs": [
    {
     "data": {
      "text/html": [
       "<div>\n",
       "<style scoped>\n",
       "    .dataframe tbody tr th:only-of-type {\n",
       "        vertical-align: middle;\n",
       "    }\n",
       "\n",
       "    .dataframe tbody tr th {\n",
       "        vertical-align: top;\n",
       "    }\n",
       "\n",
       "    .dataframe thead th {\n",
       "        text-align: right;\n",
       "    }\n",
       "</style>\n",
       "<table border=\"1\" class=\"dataframe\">\n",
       "  <thead>\n",
       "    <tr style=\"text-align: right;\">\n",
       "      <th></th>\n",
       "      <th>coef</th>\n",
       "      <th>cste</th>\n",
       "      <th>R2</th>\n",
       "      <th>RMSE</th>\n",
       "      <th>mae</th>\n",
       "      <th>MAPE</th>\n",
       "    </tr>\n",
       "  </thead>\n",
       "  <tbody>\n",
       "    <tr>\n",
       "      <th>2</th>\n",
       "      <td>[149.88861593583795]</td>\n",
       "      <td>-1159.749402</td>\n",
       "      <td>0.276038</td>\n",
       "      <td>287.160122</td>\n",
       "      <td>252.655157</td>\n",
       "      <td>0.696375</td>\n",
       "    </tr>\n",
       "  </tbody>\n",
       "</table>\n",
       "</div>"
      ],
      "text/plain": [
       "                   coef         cste        R2        RMSE         mae  \\\n",
       "2  [149.88861593583795] -1159.749402  0.276038  287.160122  252.655157   \n",
       "\n",
       "       MAPE  \n",
       "2  0.696375  "
      ]
     },
     "execution_count": 20,
     "metadata": {},
     "output_type": "execute_result"
    }
   ],
   "source": [
    "# Define predictor and response variables\n",
    "coef_list = []\n",
    "cste_list = []\n",
    "R2_list = []\n",
    "mae_list = []\n",
    "RMSE_list = []\n",
    "MAPE_list = []\n",
    "\n",
    "for i in range(0, len(dfi_data)):\n",
    "    X = dfi_data[[\"DFI\"]]\n",
    "    var_out = X.index.isin([i])\n",
    "    X = X.loc[~var_out]         # Leave one out\n",
    "    \n",
    "    y = dfi_data[\"Biomasse (kg/ha)\"][X.index] # same indices as X\n",
    "    \n",
    "    model_1 = LinearRegression().fit(X, y)\n",
    "    \n",
    "    coef = model_1.coef_\n",
    "    coef_list.append(coef)\n",
    "    \n",
    "    cste =  model_1.intercept_\n",
    "    cste_list.append(cste)\n",
    "    \n",
    "    X = dfi_data[[\"DFI\"]]\n",
    "    y = dfi_data[\"Biomasse (kg/ha)\"]\n",
    "    \n",
    "    R2 = r2_score(y.values,  (model_1.predict(X)))\n",
    "    R2_list.append(R2)\n",
    "    RMSE = mean_squared_error(y.values, (model_1.predict(X)), squared=False)\n",
    "    RMSE_list.append(RMSE)\n",
    "    mae = mean_absolute_error(y.values,  (model_1.predict(X)))\n",
    "    mae_list.append(mae)\n",
    "    mape = np.mean(np.abs((y.values - (model_1.predict(X))))/y.values)\n",
    "    MAPE_list.append(mape)\n",
    "    \n",
    "result_dic = {\"coef\" : coef_list, \"cste\": cste_list, \"R2\" : R2_list,\"RMSE\": RMSE_list, \"mae\": mae_list, \"MAPE\": MAPE_list}    \n",
    "reg_results = pd.DataFrame(result_dic)\n",
    "reg_results.loc[reg_results.RMSE == reg_results.RMSE.min()]"
   ]
  },
  {
   "cell_type": "code",
   "execution_count": 21,
   "metadata": {},
   "outputs": [],
   "source": [
    "# Predict the out var using the best model\n",
    "model_1 = LinearRegression()\n",
    "model_1.coef_ = reg_results.coef.values[2]\n",
    "model_1.intercept_ = reg_results.cste.values[2]"
   ]
  },
  {
   "cell_type": "markdown",
   "metadata": {
    "tags": []
   },
   "source": [
    "### Plot the results"
   ]
  },
  {
   "cell_type": "code",
   "execution_count": 22,
   "metadata": {
    "tags": []
   },
   "outputs": [
    {
     "name": "stderr",
     "output_type": "stream",
     "text": [
      "C:\\Users\\GARBA\\anaconda3\\envs\\geo_env\\lib\\site-packages\\sklearn\\base.py:443: UserWarning: X has feature names, but LinearRegression was fitted without feature names\n",
      "  warnings.warn(\n"
     ]
    }
   ],
   "source": [
    "# inputs\n",
    "x_all = si_B24[[\"DFI\"]]\n",
    "y_all = model_1.predict(x_all)\n",
    "#y_all"
   ]
  },
  {
   "cell_type": "code",
   "execution_count": 23,
   "metadata": {
    "tags": []
   },
   "outputs": [
    {
     "data": {
      "image/png": "[encoded data removed]",
      "text/plain": [
       "<Figure size 750x250 with 1 Axes>"
      ]
     },
     "metadata": {},
     "output_type": "display_data"
    }
   ],
   "source": [
    "fig, ax = plt.subplots(1, 1, figsize = (7.5,2.5), constrained_layout = True)\n",
    "ax.scatter(obs_mass.index, obs_mass.values, label = \"Observed Biomass\", color = \"darkblue\", s = 6)\n",
    "ax.plot(si_B24.date, y_all, lw = .9, label = \"Estimated biomass\", color = \"r\", alpha = .5)\n",
    "#ax.set_xticks(sti_data.index)\n",
    "#ax.set_yticks(np.arange(0, 1500, 200))\n",
    "ax.set_ylabel(\"kgMS/ha\", fontsize = 7)\n",
    "#ax.set_xlabel(\"Index\",  fontsize = 7)\n",
    "ax.tick_params(axis='both', which='major', labelsize=8)\n",
    "ax.legend(fontsize = 7, loc = (0.01, 0.01))\n",
    "ax.set_title(\"Fallow site B24 - Model 3: DFI\", fontsize = 8, fontweight = \"bold\", x = 0.18, y = .9)\n",
    "ax.grid(\"both\", alpha = 0.2)\n",
    "plt.savefig(\"./output/B24/model_3_jachere.png\", dpi = 600)"
   ]
  },
  {
   "cell_type": "code",
   "execution_count": 24,
   "metadata": {},
   "outputs": [],
   "source": [
    "# Save the regression model\n",
    "#joblib.dump(model_1, \"./model 3/model_B24.pkl\") "
   ]
  },
  {
   "cell_type": "markdown",
   "metadata": {},
   "source": [
    "#### 4. Model 4:  X = NDRI"
   ]
  },
  {
   "cell_type": "code",
   "execution_count": 25,
   "metadata": {},
   "outputs": [
    {
     "data": {
      "text/html": [
       "<div>\n",
       "<style scoped>\n",
       "    .dataframe tbody tr th:only-of-type {\n",
       "        vertical-align: middle;\n",
       "    }\n",
       "\n",
       "    .dataframe tbody tr th {\n",
       "        vertical-align: top;\n",
       "    }\n",
       "\n",
       "    .dataframe thead th {\n",
       "        text-align: right;\n",
       "    }\n",
       "</style>\n",
       "<table border=\"1\" class=\"dataframe\">\n",
       "  <thead>\n",
       "    <tr style=\"text-align: right;\">\n",
       "      <th></th>\n",
       "      <th>NDRI</th>\n",
       "      <th>Biomasse (kg/ha)</th>\n",
       "    </tr>\n",
       "  </thead>\n",
       "  <tbody>\n",
       "    <tr>\n",
       "      <th>0</th>\n",
       "      <td>-0.272779</td>\n",
       "      <td>776.5</td>\n",
       "    </tr>\n",
       "  </tbody>\n",
       "</table>\n",
       "</div>"
      ],
      "text/plain": [
       "       NDRI  Biomasse (kg/ha)\n",
       "0 -0.272779             776.5"
      ]
     },
     "execution_count": 25,
     "metadata": {},
     "output_type": "execute_result"
    }
   ],
   "source": [
    "# Define input output data\n",
    "ndri_data = data_B24.iloc[:, [16, 19]]\n",
    "ndri_data.head(1)"
   ]
  },
  {
   "cell_type": "code",
   "execution_count": 26,
   "metadata": {},
   "outputs": [
    {
     "data": {
      "text/html": [
       "<div>\n",
       "<style scoped>\n",
       "    .dataframe tbody tr th:only-of-type {\n",
       "        vertical-align: middle;\n",
       "    }\n",
       "\n",
       "    .dataframe tbody tr th {\n",
       "        vertical-align: top;\n",
       "    }\n",
       "\n",
       "    .dataframe thead th {\n",
       "        text-align: right;\n",
       "    }\n",
       "</style>\n",
       "<table border=\"1\" class=\"dataframe\">\n",
       "  <thead>\n",
       "    <tr style=\"text-align: right;\">\n",
       "      <th></th>\n",
       "      <th>coef</th>\n",
       "      <th>cste</th>\n",
       "      <th>R2</th>\n",
       "      <th>RMSE</th>\n",
       "      <th>mae</th>\n",
       "      <th>MAPE</th>\n",
       "    </tr>\n",
       "  </thead>\n",
       "  <tbody>\n",
       "    <tr>\n",
       "      <th>2</th>\n",
       "      <td>[-3394.2230219063163]</td>\n",
       "      <td>-70.900653</td>\n",
       "      <td>0.107133</td>\n",
       "      <td>318.903796</td>\n",
       "      <td>278.613149</td>\n",
       "      <td>0.711592</td>\n",
       "    </tr>\n",
       "  </tbody>\n",
       "</table>\n",
       "</div>"
      ],
      "text/plain": [
       "                    coef       cste        R2        RMSE         mae  \\\n",
       "2  [-3394.2230219063163] -70.900653  0.107133  318.903796  278.613149   \n",
       "\n",
       "       MAPE  \n",
       "2  0.711592  "
      ]
     },
     "execution_count": 26,
     "metadata": {},
     "output_type": "execute_result"
    }
   ],
   "source": [
    "# Define predictor and response variables\n",
    "coef_list = []\n",
    "cste_list = []\n",
    "R2_list = []\n",
    "mae_list = []\n",
    "RMSE_list = []\n",
    "MAPE_list = []\n",
    "\n",
    "for i in range(0, len(ndri_data)):\n",
    "    X = ndri_data[[\"NDRI\"]]\n",
    "    var_out = X.index.isin([i])\n",
    "    X = X.loc[~var_out]         # Leave one out\n",
    "    \n",
    "    y = ndri_data[\"Biomasse (kg/ha)\"][X.index] # same indices as X\n",
    "    \n",
    "    model_1 = LinearRegression().fit(X, y)\n",
    "    \n",
    "    coef = model_1.coef_\n",
    "    coef_list.append(coef)\n",
    "    \n",
    "    cste =  model_1.intercept_\n",
    "    cste_list.append(cste)\n",
    "    \n",
    "    X = ndri_data[[\"NDRI\"]]\n",
    "    y = ndri_data[\"Biomasse (kg/ha)\"]\n",
    "    \n",
    "    R2 = r2_score(y.values,  (model_1.predict(X)))\n",
    "    R2_list.append(R2)\n",
    "    RMSE = mean_squared_error(y.values, (model_1.predict(X)), squared=False)\n",
    "    RMSE_list.append(RMSE)\n",
    "    mae = mean_absolute_error(y.values,  (model_1.predict(X)))\n",
    "    mae_list.append(mae)\n",
    "    mape = np.mean(np.abs((y.values - (model_1.predict(X))))/y.values)\n",
    "    MAPE_list.append(mape)\n",
    "    \n",
    "result_dic = {\"coef\" : coef_list, \"cste\": cste_list, \"R2\" : R2_list,\"RMSE\": RMSE_list, \"mae\": mae_list, \"MAPE\": MAPE_list}    \n",
    "reg_results = pd.DataFrame(result_dic)\n",
    "reg_results.loc[reg_results.RMSE == reg_results.RMSE.min()]"
   ]
  },
  {
   "cell_type": "code",
   "execution_count": 27,
   "metadata": {},
   "outputs": [],
   "source": [
    "# Predict the out var using the best model\n",
    "model_1 = LinearRegression()\n",
    "model_1.coef_ = reg_results.coef.values[2]\n",
    "model_1.intercept_ = reg_results.cste.values[2]"
   ]
  },
  {
   "cell_type": "markdown",
   "metadata": {
    "tags": []
   },
   "source": [
    "### Plot the results"
   ]
  },
  {
   "cell_type": "code",
   "execution_count": 28,
   "metadata": {
    "tags": []
   },
   "outputs": [
    {
     "name": "stderr",
     "output_type": "stream",
     "text": [
      "C:\\Users\\GARBA\\anaconda3\\envs\\geo_env\\lib\\site-packages\\sklearn\\base.py:443: UserWarning: X has feature names, but LinearRegression was fitted without feature names\n",
      "  warnings.warn(\n"
     ]
    }
   ],
   "source": [
    "# inputs\n",
    "x_all = si_B24[[\"NDRI\"]]\n",
    "y_all = model_1.predict(x_all)\n",
    "#y_all"
   ]
  },
  {
   "cell_type": "code",
   "execution_count": 29,
   "metadata": {
    "tags": []
   },
   "outputs": [
    {
     "data": {
      "image/png": "[encoded data removed]",
      "text/plain": [
       "<Figure size 750x250 with 1 Axes>"
      ]
     },
     "metadata": {},
     "output_type": "display_data"
    }
   ],
   "source": [
    "fig, ax = plt.subplots(1, 1, figsize = (7.5,2.5), constrained_layout = True)\n",
    "ax.scatter(obs_mass.index, obs_mass.values, label = \"Observed Biomass\", color = \"darkblue\", s = 6)\n",
    "ax.plot(si_B24.date, y_all, lw = .9, label = \"Estimated biomass\", color = \"r\", alpha = .5)\n",
    "#ax.set_xticks(sti_data.index)\n",
    "#ax.set_yticks(np.arange(0, 1500, 200))\n",
    "ax.set_ylabel(\"kgMS/ha\", fontsize = 7)\n",
    "#ax.set_xlabel(\"Index\",  fontsize = 7)\n",
    "ax.tick_params(axis='both', which='major', labelsize=8)\n",
    "ax.legend(fontsize = 7, loc = (0.01, 0.01))\n",
    "ax.set_title(\"Fallow site B24 - Model 4: NDRI\", fontsize = 8, fontweight = \"bold\", x = 0.2, y = .91)\n",
    "ax.grid(\"both\", alpha = 0.2)\n",
    "plt.savefig(\"./output/B24/model_4_jachere.png\", dpi = 600)"
   ]
  },
  {
   "cell_type": "code",
   "execution_count": 30,
   "metadata": {},
   "outputs": [],
   "source": [
    "# Save the regression model\n",
    "#joblib.dump(model_1, \"./model 4/model_B24.pkl\") "
   ]
  },
  {
   "cell_type": "markdown",
   "metadata": {},
   "source": [
    "#### 5. Model 5:  X = [STI, NDTI]"
   ]
  },
  {
   "cell_type": "code",
   "execution_count": 31,
   "metadata": {
    "tags": []
   },
   "outputs": [
    {
     "data": {
      "text/html": [
       "<div>\n",
       "<style scoped>\n",
       "    .dataframe tbody tr th:only-of-type {\n",
       "        vertical-align: middle;\n",
       "    }\n",
       "\n",
       "    .dataframe tbody tr th {\n",
       "        vertical-align: top;\n",
       "    }\n",
       "\n",
       "    .dataframe thead th {\n",
       "        text-align: right;\n",
       "    }\n",
       "</style>\n",
       "<table border=\"1\" class=\"dataframe\">\n",
       "  <thead>\n",
       "    <tr style=\"text-align: right;\">\n",
       "      <th></th>\n",
       "      <th>STI</th>\n",
       "      <th>NDTI</th>\n",
       "      <th>Biomasse (kg/ha)</th>\n",
       "    </tr>\n",
       "  </thead>\n",
       "  <tbody>\n",
       "    <tr>\n",
       "      <th>0</th>\n",
       "      <td>1.156114</td>\n",
       "      <td>0.072405</td>\n",
       "      <td>776.5</td>\n",
       "    </tr>\n",
       "  </tbody>\n",
       "</table>\n",
       "</div>"
      ],
      "text/plain": [
       "        STI      NDTI  Biomasse (kg/ha)\n",
       "0  1.156114  0.072405             776.5"
      ]
     },
     "execution_count": 31,
     "metadata": {},
     "output_type": "execute_result"
    }
   ],
   "source": [
    "# Define input output data\n",
    "sti_ndti_data = data_B24.iloc[:, [13,14,19]]\n",
    "sti_ndti_data.head(1)"
   ]
  },
  {
   "cell_type": "code",
   "execution_count": 32,
   "metadata": {},
   "outputs": [
    {
     "data": {
      "text/html": [
       "<div>\n",
       "<style scoped>\n",
       "    .dataframe tbody tr th:only-of-type {\n",
       "        vertical-align: middle;\n",
       "    }\n",
       "\n",
       "    .dataframe tbody tr th {\n",
       "        vertical-align: top;\n",
       "    }\n",
       "\n",
       "    .dataframe thead th {\n",
       "        text-align: right;\n",
       "    }\n",
       "</style>\n",
       "<table border=\"1\" class=\"dataframe\">\n",
       "  <thead>\n",
       "    <tr style=\"text-align: right;\">\n",
       "      <th></th>\n",
       "      <th>coef</th>\n",
       "      <th>cste</th>\n",
       "      <th>R2</th>\n",
       "      <th>RMSE</th>\n",
       "      <th>mae</th>\n",
       "      <th>MAPE</th>\n",
       "    </tr>\n",
       "  </thead>\n",
       "  <tbody>\n",
       "    <tr>\n",
       "      <th>4</th>\n",
       "      <td>[-76960.77142495221, 202479.0644649048]</td>\n",
       "      <td>74725.533157</td>\n",
       "      <td>0.607268</td>\n",
       "      <td>211.501902</td>\n",
       "      <td>189.321903</td>\n",
       "      <td>0.509097</td>\n",
       "    </tr>\n",
       "  </tbody>\n",
       "</table>\n",
       "</div>"
      ],
      "text/plain": [
       "                                      coef          cste        R2  \\\n",
       "4  [-76960.77142495221, 202479.0644649048]  74725.533157  0.607268   \n",
       "\n",
       "         RMSE         mae      MAPE  \n",
       "4  211.501902  189.321903  0.509097  "
      ]
     },
     "execution_count": 32,
     "metadata": {},
     "output_type": "execute_result"
    }
   ],
   "source": [
    "# Define predictor and response variables\n",
    "coef_list = []\n",
    "cste_list = []\n",
    "R2_list = []\n",
    "mae_list = []\n",
    "RMSE_list = []\n",
    "MAPE_list = []\n",
    "\n",
    "for i in range(0, len(sti_ndti_data)):\n",
    "    X = sti_ndti_data[[\"STI\", \"NDTI\"]]\n",
    "    var_out = X.index.isin([i])\n",
    "    X = X.loc[~var_out]         # Leave one out\n",
    "    \n",
    "    y = sti_ndti_data[\"Biomasse (kg/ha)\"][X.index] # same indices as X\n",
    "    \n",
    "    model_1 = LinearRegression().fit(X, y)\n",
    "    \n",
    "    coef = model_1.coef_\n",
    "    coef_list.append(coef)\n",
    "    \n",
    "    cste =  model_1.intercept_\n",
    "    cste_list.append(cste)\n",
    "    \n",
    "    X = sti_ndti_data[[\"STI\", \"NDTI\"]]\n",
    "    y = sti_ndti_data[\"Biomasse (kg/ha)\"]\n",
    "        \n",
    "    R2 = r2_score(y.values,  (model_1.predict(X)))\n",
    "    R2_list.append(R2)\n",
    "    RMSE = mean_squared_error(y.values, (model_1.predict(X)), squared=False)\n",
    "    RMSE_list.append(RMSE)\n",
    "    mae = mean_absolute_error(y.values,  (model_1.predict(X)))\n",
    "    mae_list.append(mae)\n",
    "    mape = np.mean(np.abs((y.values - (model_1.predict(X))))/y.values)\n",
    "    MAPE_list.append(mape)\n",
    "    \n",
    "result_dic = {\"coef\" : coef_list, \"cste\": cste_list, \"R2\" : R2_list,\"RMSE\": RMSE_list, \"mae\": mae_list, \"MAPE\": MAPE_list}    \n",
    "reg_results = pd.DataFrame(result_dic)\n",
    "reg_results.loc[reg_results.RMSE == reg_results.RMSE.min()]  "
   ]
  },
  {
   "cell_type": "code",
   "execution_count": 33,
   "metadata": {},
   "outputs": [],
   "source": [
    "# Predict the out var using the best model\n",
    "model_1 = LinearRegression()\n",
    "model_1.coef_ = reg_results.coef.values[4]\n",
    "model_1.intercept_ = reg_results.cste.values[4]"
   ]
  },
  {
   "cell_type": "markdown",
   "metadata": {
    "tags": []
   },
   "source": [
    "### Plot the results"
   ]
  },
  {
   "cell_type": "code",
   "execution_count": 34,
   "metadata": {
    "tags": []
   },
   "outputs": [
    {
     "name": "stderr",
     "output_type": "stream",
     "text": [
      "C:\\Users\\GARBA\\anaconda3\\envs\\geo_env\\lib\\site-packages\\sklearn\\base.py:443: UserWarning: X has feature names, but LinearRegression was fitted without feature names\n",
      "  warnings.warn(\n"
     ]
    }
   ],
   "source": [
    "# inputs\n",
    "x_all = si_B24[[\"STI\", \"NDTI\"]]\n",
    "y_all = model_1.predict(x_all)\n",
    "#y_all"
   ]
  },
  {
   "cell_type": "code",
   "execution_count": 35,
   "metadata": {
    "tags": []
   },
   "outputs": [
    {
     "data": {
      "image/png": "[encoded data removed]",
      "text/plain": [
       "<Figure size 750x250 with 1 Axes>"
      ]
     },
     "metadata": {},
     "output_type": "display_data"
    }
   ],
   "source": [
    "fig, ax = plt.subplots(1, 1, figsize = (7.5,2.5), constrained_layout = True)\n",
    "ax.scatter(obs_mass.index, obs_mass.values, label = \"Observed Biomass\", color = \"darkblue\", s = 6)\n",
    "ax.plot(si_B24.date, y_all, lw = .9, label = \"Estimated biomass\", color = \"r\", alpha = .5)\n",
    "#ax.set_xticks(sti_data.index)\n",
    "#ax.set_yticks(np.arange(0, 1500, 200))\n",
    "ax.set_ylabel(\"kgMS/ha\", fontsize = 7)\n",
    "#ax.set_xlabel(\"Index\",  fontsize = 7)\n",
    "ax.tick_params(axis='both', which='major', labelsize=8)\n",
    "ax.legend(fontsize = 7, loc = (0.8, 0.08))\n",
    "ax.set_title(\"Fallow site B24 - Model 5: STI and NDTI\", fontsize = 8, fontweight = \"bold\", x = 0.2, y = .9)\n",
    "ax.grid(\"both\", alpha = 0.2)\n",
    "plt.savefig(\"./output/B24/model_5_jachere.png\", dpi = 600)"
   ]
  },
  {
   "cell_type": "code",
   "execution_count": 36,
   "metadata": {},
   "outputs": [],
   "source": [
    "# Save the regression model\n",
    "#joblib.dump(model_1, \"./model 5/model_B24.pkl\") "
   ]
  },
  {
   "cell_type": "markdown",
   "metadata": {},
   "source": [
    "#### 6. Model 6:  X = [STI, DFI]"
   ]
  },
  {
   "cell_type": "code",
   "execution_count": 37,
   "metadata": {},
   "outputs": [
    {
     "data": {
      "text/html": [
       "<div>\n",
       "<style scoped>\n",
       "    .dataframe tbody tr th:only-of-type {\n",
       "        vertical-align: middle;\n",
       "    }\n",
       "\n",
       "    .dataframe tbody tr th {\n",
       "        vertical-align: top;\n",
       "    }\n",
       "\n",
       "    .dataframe thead th {\n",
       "        text-align: right;\n",
       "    }\n",
       "</style>\n",
       "<table border=\"1\" class=\"dataframe\">\n",
       "  <thead>\n",
       "    <tr style=\"text-align: right;\">\n",
       "      <th></th>\n",
       "      <th>STI</th>\n",
       "      <th>DFI</th>\n",
       "      <th>Biomasse (kg/ha)</th>\n",
       "    </tr>\n",
       "  </thead>\n",
       "  <tbody>\n",
       "    <tr>\n",
       "      <th>0</th>\n",
       "      <td>1.156114</td>\n",
       "      <td>9.95982</td>\n",
       "      <td>776.5</td>\n",
       "    </tr>\n",
       "  </tbody>\n",
       "</table>\n",
       "</div>"
      ],
      "text/plain": [
       "        STI      DFI  Biomasse (kg/ha)\n",
       "0  1.156114  9.95982             776.5"
      ]
     },
     "execution_count": 37,
     "metadata": {},
     "output_type": "execute_result"
    }
   ],
   "source": [
    "# Define input output data\n",
    "sti_dfi_data = data_B24.iloc[:, [13,15,19]]\n",
    "sti_dfi_data.head(1)"
   ]
  },
  {
   "cell_type": "code",
   "execution_count": 38,
   "metadata": {},
   "outputs": [
    {
     "data": {
      "text/html": [
       "<div>\n",
       "<style scoped>\n",
       "    .dataframe tbody tr th:only-of-type {\n",
       "        vertical-align: middle;\n",
       "    }\n",
       "\n",
       "    .dataframe tbody tr th {\n",
       "        vertical-align: top;\n",
       "    }\n",
       "\n",
       "    .dataframe thead th {\n",
       "        text-align: right;\n",
       "    }\n",
       "</style>\n",
       "<table border=\"1\" class=\"dataframe\">\n",
       "  <thead>\n",
       "    <tr style=\"text-align: right;\">\n",
       "      <th></th>\n",
       "      <th>coef</th>\n",
       "      <th>cste</th>\n",
       "      <th>R2</th>\n",
       "      <th>RMSE</th>\n",
       "      <th>mae</th>\n",
       "      <th>MAPE</th>\n",
       "    </tr>\n",
       "  </thead>\n",
       "  <tbody>\n",
       "    <tr>\n",
       "      <th>0</th>\n",
       "      <td>[22085.25469143205, -489.29971052841455]</td>\n",
       "      <td>-19884.441702</td>\n",
       "      <td>0.956311</td>\n",
       "      <td>70.542509</td>\n",
       "      <td>58.637112</td>\n",
       "      <td>0.155685</td>\n",
       "    </tr>\n",
       "  </tbody>\n",
       "</table>\n",
       "</div>"
      ],
      "text/plain": [
       "                                       coef          cste        R2  \\\n",
       "0  [22085.25469143205, -489.29971052841455] -19884.441702  0.956311   \n",
       "\n",
       "        RMSE        mae      MAPE  \n",
       "0  70.542509  58.637112  0.155685  "
      ]
     },
     "execution_count": 38,
     "metadata": {},
     "output_type": "execute_result"
    }
   ],
   "source": [
    "# Define predictor and response variables\n",
    "coef_list = []\n",
    "cste_list = []\n",
    "R2_list = []\n",
    "mae_list = []\n",
    "RMSE_list = []\n",
    "MAPE_list = []\n",
    "for i in range(0, len(sti_dfi_data)):\n",
    "    X = sti_dfi_data[[\"STI\", \"DFI\"]]\n",
    "    var_out = X.index.isin([i])\n",
    "    X = X.loc[~var_out]         # Leave one out\n",
    "    \n",
    "    y = sti_dfi_data[\"Biomasse (kg/ha)\"][X.index] # same indices as X\n",
    "    \n",
    "    model_1 = LinearRegression().fit(X, y)\n",
    "    \n",
    "    coef = model_1.coef_\n",
    "    coef_list.append(coef)\n",
    "    \n",
    "    cste =  model_1.intercept_\n",
    "    cste_list.append(cste)\n",
    "    \n",
    "    X = sti_dfi_data[[\"STI\", \"DFI\"]]\n",
    "    y = sti_dfi_data[\"Biomasse (kg/ha)\"]\n",
    "    \n",
    "    R2 = r2_score(y.values,  (model_1.predict(X)))\n",
    "    R2_list.append(R2)\n",
    "    RMSE = mean_squared_error(y.values, (model_1.predict(X)), squared=False)\n",
    "    RMSE_list.append(RMSE)\n",
    "    mae = mean_absolute_error(y.values,  (model_1.predict(X)))\n",
    "    mae_list.append(mae)\n",
    "    mape = np.mean(np.abs((y.values - (model_1.predict(X))))/y.values)\n",
    "    MAPE_list.append(mape)\n",
    "    \n",
    "result_dic = {\"coef\" : coef_list, \"cste\": cste_list, \"R2\" : R2_list,\"RMSE\": RMSE_list, \"mae\": mae_list, \"MAPE\": MAPE_list}    \n",
    "reg_results = pd.DataFrame(result_dic)\n",
    "reg_results.loc[reg_results.RMSE == reg_results.RMSE.min()]     "
   ]
  },
  {
   "cell_type": "code",
   "execution_count": 39,
   "metadata": {},
   "outputs": [],
   "source": [
    "model_1 = LinearRegression()\n",
    "model_1.coef_ = reg_results.coef.values[0]\n",
    "model_1.intercept_ = reg_results.cste.values[0]"
   ]
  },
  {
   "cell_type": "markdown",
   "metadata": {
    "tags": []
   },
   "source": [
    "### Plot the results"
   ]
  },
  {
   "cell_type": "code",
   "execution_count": 40,
   "metadata": {
    "tags": []
   },
   "outputs": [
    {
     "name": "stderr",
     "output_type": "stream",
     "text": [
      "C:\\Users\\GARBA\\anaconda3\\envs\\geo_env\\lib\\site-packages\\sklearn\\base.py:443: UserWarning: X has feature names, but LinearRegression was fitted without feature names\n",
      "  warnings.warn(\n"
     ]
    }
   ],
   "source": [
    "# inputs\n",
    "x_all = si_B24[[\"STI\", \"DFI\"]]\n",
    "y_all = model_1.predict(x_all)\n",
    "#y_all"
   ]
  },
  {
   "cell_type": "code",
   "execution_count": 41,
   "metadata": {
    "tags": []
   },
   "outputs": [
    {
     "data": {
      "image/png": "[encoded data removed]",
      "text/plain": [
       "<Figure size 750x250 with 1 Axes>"
      ]
     },
     "metadata": {},
     "output_type": "display_data"
    }
   ],
   "source": [
    "fig, ax = plt.subplots(1, 1, figsize = (7.5,2.5), constrained_layout = True)\n",
    "ax.scatter(obs_mass.index, obs_mass.values, label = \"Observed Biomass\", color = \"darkblue\", s = 6)\n",
    "ax.plot(si_B24.date, y_all, lw = .9, label = \"Estimated biomass\", color = \"r\", alpha = .5)\n",
    "#ax.set_xticks(sti_data.index)\n",
    "#ax.set_yticks(np.arange(0, 1500, 200))\n",
    "ax.set_ylabel(\"kgMS/ha\", fontsize = 7)\n",
    "#ax.set_xlabel(\"Index\",  fontsize = 7)\n",
    "ax.tick_params(axis='both', which='major', labelsize=8)\n",
    "ax.legend(fontsize = 7, loc = (0.81, 0.81))\n",
    "ax.set_title(\"Fallow site B24 - Model 6: STI and DFI\", fontsize = 8, fontweight = \"bold\", x = 0.25, y = .88)\n",
    "ax.grid(\"both\", alpha = 0.2)\n",
    "plt.savefig(\"./output/B24/model_6_jachere.png\", dpi = 600)"
   ]
  },
  {
   "cell_type": "code",
   "execution_count": 42,
   "metadata": {},
   "outputs": [],
   "source": [
    "# Save the regression model\n",
    "#joblib.dump(model_1, \"./model 6/model_B24.pkl\") "
   ]
  },
  {
   "cell_type": "markdown",
   "metadata": {},
   "source": [
    "#### 7. Model 7:  X = [STI, NDRI]"
   ]
  },
  {
   "cell_type": "code",
   "execution_count": 43,
   "metadata": {},
   "outputs": [
    {
     "data": {
      "text/html": [
       "<div>\n",
       "<style scoped>\n",
       "    .dataframe tbody tr th:only-of-type {\n",
       "        vertical-align: middle;\n",
       "    }\n",
       "\n",
       "    .dataframe tbody tr th {\n",
       "        vertical-align: top;\n",
       "    }\n",
       "\n",
       "    .dataframe thead th {\n",
       "        text-align: right;\n",
       "    }\n",
       "</style>\n",
       "<table border=\"1\" class=\"dataframe\">\n",
       "  <thead>\n",
       "    <tr style=\"text-align: right;\">\n",
       "      <th></th>\n",
       "      <th>STI</th>\n",
       "      <th>NDRI</th>\n",
       "      <th>Biomasse (kg/ha)</th>\n",
       "    </tr>\n",
       "  </thead>\n",
       "  <tbody>\n",
       "    <tr>\n",
       "      <th>0</th>\n",
       "      <td>1.156114</td>\n",
       "      <td>-0.272779</td>\n",
       "      <td>776.5</td>\n",
       "    </tr>\n",
       "  </tbody>\n",
       "</table>\n",
       "</div>"
      ],
      "text/plain": [
       "        STI      NDRI  Biomasse (kg/ha)\n",
       "0  1.156114 -0.272779             776.5"
      ]
     },
     "execution_count": 43,
     "metadata": {},
     "output_type": "execute_result"
    }
   ],
   "source": [
    "# Define input output data\n",
    "sti_ndri_data = data_B24.iloc[:, [13,16,19]]\n",
    "sti_ndri_data.head(1)"
   ]
  },
  {
   "cell_type": "code",
   "execution_count": 44,
   "metadata": {},
   "outputs": [
    {
     "data": {
      "text/html": [
       "<div>\n",
       "<style scoped>\n",
       "    .dataframe tbody tr th:only-of-type {\n",
       "        vertical-align: middle;\n",
       "    }\n",
       "\n",
       "    .dataframe tbody tr th {\n",
       "        vertical-align: top;\n",
       "    }\n",
       "\n",
       "    .dataframe thead th {\n",
       "        text-align: right;\n",
       "    }\n",
       "</style>\n",
       "<table border=\"1\" class=\"dataframe\">\n",
       "  <thead>\n",
       "    <tr style=\"text-align: right;\">\n",
       "      <th></th>\n",
       "      <th>coef</th>\n",
       "      <th>cste</th>\n",
       "      <th>R2</th>\n",
       "      <th>RMSE</th>\n",
       "      <th>mae</th>\n",
       "      <th>MAPE</th>\n",
       "    </tr>\n",
       "  </thead>\n",
       "  <tbody>\n",
       "    <tr>\n",
       "      <th>2</th>\n",
       "      <td>[8207.210867580274, -4999.784238404026]</td>\n",
       "      <td>-10130.150279</td>\n",
       "      <td>0.861288</td>\n",
       "      <td>125.696783</td>\n",
       "      <td>105.277173</td>\n",
       "      <td>0.190146</td>\n",
       "    </tr>\n",
       "  </tbody>\n",
       "</table>\n",
       "</div>"
      ],
      "text/plain": [
       "                                      coef          cste        R2  \\\n",
       "2  [8207.210867580274, -4999.784238404026] -10130.150279  0.861288   \n",
       "\n",
       "         RMSE         mae      MAPE  \n",
       "2  125.696783  105.277173  0.190146  "
      ]
     },
     "execution_count": 44,
     "metadata": {},
     "output_type": "execute_result"
    }
   ],
   "source": [
    "# Define predictor and response variables\n",
    "coef_list = []\n",
    "cste_list = []\n",
    "R2_list = []\n",
    "mae_list = []\n",
    "RMSE_list = []\n",
    "MAPE_list = []\n",
    "\n",
    "for i in range(0, len(sti_ndri_data)):\n",
    "    X = sti_ndri_data[[\"STI\", \"NDRI\"]]\n",
    "    var_out = X.index.isin([i])\n",
    "    X = X.loc[~var_out]         # Leave one out\n",
    "    \n",
    "    y = sti_ndri_data[\"Biomasse (kg/ha)\"][X.index] # same indices as X\n",
    "    \n",
    "    model_1 = LinearRegression().fit(X, y)\n",
    "    \n",
    "    coef = model_1.coef_\n",
    "    coef_list.append(coef)\n",
    "    \n",
    "    cste =  model_1.intercept_\n",
    "    cste_list.append(cste)\n",
    "    X = sti_ndri_data[[\"STI\", \"NDRI\"]]\n",
    "    y = sti_ndri_data[\"Biomasse (kg/ha)\"]\n",
    "    R2 = r2_score(y.values,  (model_1.predict(X)))\n",
    "    R2_list.append(R2)\n",
    "    RMSE = mean_squared_error(y.values, (model_1.predict(X)), squared=False)\n",
    "    RMSE_list.append(RMSE)\n",
    "    mae = mean_absolute_error(y.values,  (model_1.predict(X)))\n",
    "    mae_list.append(mae)\n",
    "    mape = np.mean(np.abs((y.values - (model_1.predict(X))))/y.values)\n",
    "    MAPE_list.append(mape)\n",
    "    \n",
    "result_dic = {\"coef\" : coef_list, \"cste\": cste_list, \"R2\" : R2_list,\"RMSE\": RMSE_list, \"mae\": mae_list, \"MAPE\": MAPE_list}    \n",
    "reg_results = pd.DataFrame(result_dic)\n",
    "reg_results.loc[reg_results.RMSE == reg_results.RMSE.min()]   "
   ]
  },
  {
   "cell_type": "code",
   "execution_count": 45,
   "metadata": {},
   "outputs": [],
   "source": [
    "model_1 = LinearRegression()\n",
    "model_1.coef_ = reg_results.coef.values[2]\n",
    "model_1.intercept_ = reg_results.cste.values[2]"
   ]
  },
  {
   "cell_type": "markdown",
   "metadata": {
    "tags": []
   },
   "source": [
    "### Plot the results"
   ]
  },
  {
   "cell_type": "code",
   "execution_count": 46,
   "metadata": {
    "tags": []
   },
   "outputs": [
    {
     "name": "stderr",
     "output_type": "stream",
     "text": [
      "C:\\Users\\GARBA\\anaconda3\\envs\\geo_env\\lib\\site-packages\\sklearn\\base.py:443: UserWarning: X has feature names, but LinearRegression was fitted without feature names\n",
      "  warnings.warn(\n"
     ]
    }
   ],
   "source": [
    "# inputs\n",
    "x_all = si_B24[[\"STI\", \"NDRI\"]]\n",
    "y_all = model_1.predict(x_all)\n",
    "#y_all"
   ]
  },
  {
   "cell_type": "code",
   "execution_count": 47,
   "metadata": {
    "tags": []
   },
   "outputs": [
    {
     "data": {
      "image/png": "[encoded data removed]",
      "text/plain": [
       "<Figure size 750x250 with 1 Axes>"
      ]
     },
     "metadata": {},
     "output_type": "display_data"
    }
   ],
   "source": [
    "fig, ax = plt.subplots(1, 1, figsize = (7.5,2.5), constrained_layout = True)\n",
    "ax.scatter(obs_mass.index, obs_mass.values, label = \"Observed Biomass\", color = \"darkblue\", s = 6)\n",
    "ax.plot(si_B24.date, y_all, lw = .9, label = \"Estimated biomass\", color = \"r\", alpha = .5)\n",
    "#ax.set_xticks(sti_data.index)\n",
    "#ax.set_yticks(np.arange(0, 1500, 200))\n",
    "ax.set_ylabel(\"kgMS/ha\", fontsize = 7)\n",
    "#ax.set_xlabel(\"Index\",  fontsize = 7)\n",
    "ax.tick_params(axis='both', which='major', labelsize=8)\n",
    "ax.legend(fontsize = 7, loc = (0.8, 0.8))\n",
    "ax.set_title(\"Fallow site B24 - Model 7: STI and NDRI\", fontsize = 8, fontweight = \"bold\", x = 0.22, y = .9)\n",
    "ax.grid(\"both\", alpha = 0.2)\n",
    "plt.savefig(\"./output/B24/model_7_jachere.png\", dpi = 600)"
   ]
  },
  {
   "cell_type": "code",
   "execution_count": 48,
   "metadata": {},
   "outputs": [],
   "source": [
    "# Save the regression model\n",
    "#joblib.dump(model_1, \"./model 7/model_B24.pkl\") "
   ]
  },
  {
   "cell_type": "markdown",
   "metadata": {},
   "source": [
    "#### 8. Model 8:  X = [NDTI, DFI]"
   ]
  },
  {
   "cell_type": "code",
   "execution_count": 49,
   "metadata": {},
   "outputs": [
    {
     "data": {
      "text/html": [
       "<div>\n",
       "<style scoped>\n",
       "    .dataframe tbody tr th:only-of-type {\n",
       "        vertical-align: middle;\n",
       "    }\n",
       "\n",
       "    .dataframe tbody tr th {\n",
       "        vertical-align: top;\n",
       "    }\n",
       "\n",
       "    .dataframe thead th {\n",
       "        text-align: right;\n",
       "    }\n",
       "</style>\n",
       "<table border=\"1\" class=\"dataframe\">\n",
       "  <thead>\n",
       "    <tr style=\"text-align: right;\">\n",
       "      <th></th>\n",
       "      <th>NDTI</th>\n",
       "      <th>DFI</th>\n",
       "      <th>Biomasse (kg/ha)</th>\n",
       "    </tr>\n",
       "  </thead>\n",
       "  <tbody>\n",
       "    <tr>\n",
       "      <th>0</th>\n",
       "      <td>0.072405</td>\n",
       "      <td>9.95982</td>\n",
       "      <td>776.5</td>\n",
       "    </tr>\n",
       "  </tbody>\n",
       "</table>\n",
       "</div>"
      ],
      "text/plain": [
       "       NDTI      DFI  Biomasse (kg/ha)\n",
       "0  0.072405  9.95982             776.5"
      ]
     },
     "execution_count": 49,
     "metadata": {},
     "output_type": "execute_result"
    }
   ],
   "source": [
    "# Define input output data\n",
    "ndti_dfi_data = data_B24.iloc[:, [14,15,19]]\n",
    "ndti_dfi_data.head(1)"
   ]
  },
  {
   "cell_type": "code",
   "execution_count": 50,
   "metadata": {},
   "outputs": [
    {
     "data": {
      "text/html": [
       "<div>\n",
       "<style scoped>\n",
       "    .dataframe tbody tr th:only-of-type {\n",
       "        vertical-align: middle;\n",
       "    }\n",
       "\n",
       "    .dataframe tbody tr th {\n",
       "        vertical-align: top;\n",
       "    }\n",
       "\n",
       "    .dataframe thead th {\n",
       "        text-align: right;\n",
       "    }\n",
       "</style>\n",
       "<table border=\"1\" class=\"dataframe\">\n",
       "  <thead>\n",
       "    <tr style=\"text-align: right;\">\n",
       "      <th></th>\n",
       "      <th>coef</th>\n",
       "      <th>cste</th>\n",
       "      <th>R2</th>\n",
       "      <th>RMSE</th>\n",
       "      <th>mae</th>\n",
       "      <th>MAPE</th>\n",
       "    </tr>\n",
       "  </thead>\n",
       "  <tbody>\n",
       "    <tr>\n",
       "      <th>6</th>\n",
       "      <td>[52564.9529554085, -483.9538084057245]</td>\n",
       "      <td>1782.045968</td>\n",
       "      <td>0.957858</td>\n",
       "      <td>69.282462</td>\n",
       "      <td>60.049496</td>\n",
       "      <td>0.161867</td>\n",
       "    </tr>\n",
       "  </tbody>\n",
       "</table>\n",
       "</div>"
      ],
      "text/plain": [
       "                                     coef         cste        R2       RMSE  \\\n",
       "6  [52564.9529554085, -483.9538084057245]  1782.045968  0.957858  69.282462   \n",
       "\n",
       "         mae      MAPE  \n",
       "6  60.049496  0.161867  "
      ]
     },
     "execution_count": 50,
     "metadata": {},
     "output_type": "execute_result"
    }
   ],
   "source": [
    "# Define predictor and response variables\n",
    "coef_list = []\n",
    "cste_list = []\n",
    "R2_list = []\n",
    "mae_list = []\n",
    "RMSE_list = []\n",
    "MAPE_list = []\n",
    "\n",
    "for i in range(0, len(ndti_dfi_data)):\n",
    "    X = ndti_dfi_data[[\"NDTI\", \"DFI\"]]\n",
    "    var_out = X.index.isin([i])\n",
    "    X = X.loc[~var_out]         # Leave one out\n",
    "    \n",
    "    y = ndti_dfi_data[\"Biomasse (kg/ha)\"][X.index] # same indices as X\n",
    "    \n",
    "    model_1 = LinearRegression().fit(X, y)\n",
    "    \n",
    "    coef = model_1.coef_\n",
    "    coef_list.append(coef)\n",
    "    \n",
    "    cste =  model_1.intercept_\n",
    "    cste_list.append(cste)\n",
    "    \n",
    "    X = ndti_dfi_data[[\"NDTI\", \"DFI\"]]\n",
    "    y = ndti_dfi_data[\"Biomasse (kg/ha)\"]\n",
    "    \n",
    "    R2 = r2_score(y.values,  (model_1.predict(X)))\n",
    "    R2_list.append(R2)\n",
    "    RMSE = mean_squared_error(y.values, (model_1.predict(X)), squared=False)\n",
    "    RMSE_list.append(RMSE)\n",
    "    mae = mean_absolute_error(y.values,  (model_1.predict(X)))\n",
    "    mae_list.append(mae)\n",
    "    mape = np.mean(np.abs((y.values - (model_1.predict(X))))/y.values)\n",
    "    MAPE_list.append(mape)\n",
    "    \n",
    "result_dic = {\"coef\" : coef_list, \"cste\": cste_list, \"R2\" : R2_list,\"RMSE\": RMSE_list, \"mae\": mae_list, \"MAPE\": MAPE_list}    \n",
    "reg_results = pd.DataFrame(result_dic)\n",
    "reg_results.loc[reg_results.RMSE == reg_results.RMSE.min()]      "
   ]
  },
  {
   "cell_type": "code",
   "execution_count": 51,
   "metadata": {},
   "outputs": [],
   "source": [
    "model_1 = LinearRegression()\n",
    "model_1.coef_ = reg_results.coef.values[6]\n",
    "model_1.intercept_ = reg_results.cste.values[6]"
   ]
  },
  {
   "cell_type": "markdown",
   "metadata": {
    "tags": []
   },
   "source": [
    "### Plot the results"
   ]
  },
  {
   "cell_type": "code",
   "execution_count": 52,
   "metadata": {
    "tags": []
   },
   "outputs": [
    {
     "name": "stderr",
     "output_type": "stream",
     "text": [
      "C:\\Users\\GARBA\\anaconda3\\envs\\geo_env\\lib\\site-packages\\sklearn\\base.py:443: UserWarning: X has feature names, but LinearRegression was fitted without feature names\n",
      "  warnings.warn(\n"
     ]
    }
   ],
   "source": [
    "# inputs\n",
    "x_all = si_B24[[\"NDTI\", \"DFI\"]]\n",
    "y_all = model_1.predict(x_all)\n",
    "#y_all"
   ]
  },
  {
   "cell_type": "code",
   "execution_count": 53,
   "metadata": {
    "tags": []
   },
   "outputs": [
    {
     "data": {
      "image/png": "[encoded data removed]",
      "text/plain": [
       "<Figure size 750x250 with 1 Axes>"
      ]
     },
     "metadata": {},
     "output_type": "display_data"
    }
   ],
   "source": [
    "fig, ax = plt.subplots(1, 1, figsize = (7.5,2.5), constrained_layout = True)\n",
    "ax.scatter(obs_mass.index, obs_mass.values, label = \"Observed Biomass\", color = \"darkblue\", s = 6)\n",
    "ax.plot(si_B24.date, y_all, lw = .9, label = \"Estimated biomass\", color = \"r\", alpha = .5)\n",
    "#ax.set_xticks(sti_data.index)\n",
    "#ax.set_yticks(np.arange(0, 1500, 200))\n",
    "ax.set_ylabel(\"kgMS/ha\", fontsize = 7)\n",
    "#ax.set_xlabel(\"Index\",  fontsize = 7)\n",
    "ax.tick_params(axis='both', which='major', labelsize=8)\n",
    "ax.legend(fontsize = 7, loc = (0.8, 0.8))\n",
    "ax.set_title(\"Fallow site B24 - Model 8: NDTI and DFI\", fontsize = 8, fontweight = \"bold\", x = 0.2, y = .92)\n",
    "ax.grid(\"both\", alpha = 0.2)\n",
    "plt.savefig(\"./output/B24/model_8_jachere.png\", dpi = 600)"
   ]
  },
  {
   "cell_type": "code",
   "execution_count": 54,
   "metadata": {},
   "outputs": [],
   "source": [
    "# Save the regression model\n",
    "#joblib.dump(model_1, \"./model 8/model_B24.pkl\") "
   ]
  },
  {
   "cell_type": "markdown",
   "metadata": {},
   "source": [
    "#### 9. Model 9:  X = [NDTI, NDRI]"
   ]
  },
  {
   "cell_type": "code",
   "execution_count": 55,
   "metadata": {},
   "outputs": [
    {
     "data": {
      "text/html": [
       "<div>\n",
       "<style scoped>\n",
       "    .dataframe tbody tr th:only-of-type {\n",
       "        vertical-align: middle;\n",
       "    }\n",
       "\n",
       "    .dataframe tbody tr th {\n",
       "        vertical-align: top;\n",
       "    }\n",
       "\n",
       "    .dataframe thead th {\n",
       "        text-align: right;\n",
       "    }\n",
       "</style>\n",
       "<table border=\"1\" class=\"dataframe\">\n",
       "  <thead>\n",
       "    <tr style=\"text-align: right;\">\n",
       "      <th></th>\n",
       "      <th>NDTI</th>\n",
       "      <th>NDRI</th>\n",
       "      <th>Biomasse (kg/ha)</th>\n",
       "    </tr>\n",
       "  </thead>\n",
       "  <tbody>\n",
       "    <tr>\n",
       "      <th>0</th>\n",
       "      <td>0.072405</td>\n",
       "      <td>-0.272779</td>\n",
       "      <td>776.5</td>\n",
       "    </tr>\n",
       "  </tbody>\n",
       "</table>\n",
       "</div>"
      ],
      "text/plain": [
       "       NDTI      NDRI  Biomasse (kg/ha)\n",
       "0  0.072405 -0.272779             776.5"
      ]
     },
     "execution_count": 55,
     "metadata": {},
     "output_type": "execute_result"
    }
   ],
   "source": [
    "# Define input output data\n",
    "ndti_ndri_data = data_B24.iloc[:, [14,16,19]]\n",
    "ndti_ndri_data.head(1)"
   ]
  },
  {
   "cell_type": "code",
   "execution_count": 56,
   "metadata": {},
   "outputs": [
    {
     "data": {
      "text/html": [
       "<div>\n",
       "<style scoped>\n",
       "    .dataframe tbody tr th:only-of-type {\n",
       "        vertical-align: middle;\n",
       "    }\n",
       "\n",
       "    .dataframe tbody tr th {\n",
       "        vertical-align: top;\n",
       "    }\n",
       "\n",
       "    .dataframe thead th {\n",
       "        text-align: right;\n",
       "    }\n",
       "</style>\n",
       "<table border=\"1\" class=\"dataframe\">\n",
       "  <thead>\n",
       "    <tr style=\"text-align: right;\">\n",
       "      <th></th>\n",
       "      <th>coef</th>\n",
       "      <th>cste</th>\n",
       "      <th>R2</th>\n",
       "      <th>RMSE</th>\n",
       "      <th>mae</th>\n",
       "      <th>MAPE</th>\n",
       "    </tr>\n",
       "  </thead>\n",
       "  <tbody>\n",
       "    <tr>\n",
       "      <th>2</th>\n",
       "      <td>[19860.51366878907, -5017.548914980102]</td>\n",
       "      <td>-2084.53914</td>\n",
       "      <td>0.863483</td>\n",
       "      <td>124.697853</td>\n",
       "      <td>104.041376</td>\n",
       "      <td>0.186558</td>\n",
       "    </tr>\n",
       "  </tbody>\n",
       "</table>\n",
       "</div>"
      ],
      "text/plain": [
       "                                      coef        cste        R2        RMSE  \\\n",
       "2  [19860.51366878907, -5017.548914980102] -2084.53914  0.863483  124.697853   \n",
       "\n",
       "          mae      MAPE  \n",
       "2  104.041376  0.186558  "
      ]
     },
     "execution_count": 56,
     "metadata": {},
     "output_type": "execute_result"
    }
   ],
   "source": [
    "# Define predictor and response variables\n",
    "coef_list = []\n",
    "cste_list = []\n",
    "R2_list = []\n",
    "mae_list = []\n",
    "RMSE_list = []\n",
    "MAPE_list = []\n",
    "\n",
    "for i in range(0, len(ndti_ndri_data)):\n",
    "    X = ndti_ndri_data[[\"NDTI\", \"NDRI\"]]\n",
    "    var_out = X.index.isin([i])\n",
    "    X = X.loc[~var_out]         # Leave one out\n",
    "    \n",
    "    y = ndti_ndri_data[\"Biomasse (kg/ha)\"][X.index] # same indices as X\n",
    "    \n",
    "    model_1 = LinearRegression().fit(X, y)\n",
    "    \n",
    "    coef = model_1.coef_\n",
    "    coef_list.append(coef)\n",
    "    \n",
    "    cste =  model_1.intercept_\n",
    "    cste_list.append(cste)\n",
    "    \n",
    "    X = ndti_ndri_data[[\"NDTI\", \"NDRI\"]]\n",
    "    y = ndti_ndri_data[\"Biomasse (kg/ha)\"]\n",
    "    \n",
    "    R2 = r2_score(y.values,  (model_1.predict(X)))\n",
    "    R2_list.append(R2)\n",
    "    RMSE = mean_squared_error(y.values, (model_1.predict(X)), squared=False)\n",
    "    RMSE_list.append(RMSE)\n",
    "    mae = mean_absolute_error(y.values,  (model_1.predict(X)))\n",
    "    mae_list.append(mae)\n",
    "    mape = np.mean(np.abs((y.values - (model_1.predict(X))))/y.values)\n",
    "    MAPE_list.append(mape)\n",
    "    \n",
    "result_dic = {\"coef\" : coef_list, \"cste\": cste_list, \"R2\" : R2_list,\"RMSE\": RMSE_list, \"mae\": mae_list, \"MAPE\": MAPE_list}    \n",
    "reg_results = pd.DataFrame(result_dic)\n",
    "reg_results.loc[reg_results.RMSE == reg_results.RMSE.min()]      "
   ]
  },
  {
   "cell_type": "code",
   "execution_count": 57,
   "metadata": {},
   "outputs": [],
   "source": [
    "model_1 = LinearRegression()\n",
    "model_1.coef_ = reg_results.coef.values[2]\n",
    "model_1.intercept_ = reg_results.cste.values[2]"
   ]
  },
  {
   "cell_type": "markdown",
   "metadata": {
    "tags": []
   },
   "source": [
    "### Plot the results"
   ]
  },
  {
   "cell_type": "code",
   "execution_count": 58,
   "metadata": {
    "tags": []
   },
   "outputs": [
    {
     "name": "stderr",
     "output_type": "stream",
     "text": [
      "C:\\Users\\GARBA\\anaconda3\\envs\\geo_env\\lib\\site-packages\\sklearn\\base.py:443: UserWarning: X has feature names, but LinearRegression was fitted without feature names\n",
      "  warnings.warn(\n"
     ]
    }
   ],
   "source": [
    "# inputs\n",
    "x_all = si_B24[[\"NDTI\", \"NDRI\"]]\n",
    "y_all = model_1.predict(x_all)\n",
    "#y_all"
   ]
  },
  {
   "cell_type": "code",
   "execution_count": 59,
   "metadata": {
    "tags": []
   },
   "outputs": [
    {
     "data": {
      "image/png": "[encoded data removed]",
      "text/plain": [
       "<Figure size 750x250 with 1 Axes>"
      ]
     },
     "metadata": {},
     "output_type": "display_data"
    }
   ],
   "source": [
    "fig, ax = plt.subplots(1, 1, figsize = (7.5,2.5), constrained_layout = True)\n",
    "ax.scatter(obs_mass.index, obs_mass.values, label = \"Observed Biomass\", color = \"darkblue\", s = 6)\n",
    "ax.plot(si_B24.date, y_all, lw = .9, label = \"Estimated biomass\", color = \"r\", alpha = .5)\n",
    "#ax.set_xticks(sti_data.index)\n",
    "#ax.set_yticks(np.arange(0, 1500, 200))\n",
    "ax.set_ylabel(\"kgMS/ha\", fontsize = 7)\n",
    "#ax.set_xlabel(\"Index\",  fontsize = 7)\n",
    "ax.tick_params(axis='both', which='major', labelsize=8)\n",
    "ax.legend(fontsize = 7, loc = (0.8, 0.8))\n",
    "ax.set_title(\"Fallow site B24 - Model 9: NDTI and NDRI\", fontsize = 8, fontweight = \"bold\", x = 0.22, y = .9)\n",
    "ax.grid(\"both\", alpha = 0.2)\n",
    "plt.savefig(\"./output/B24/model_9_jachere.png\", dpi = 600)"
   ]
  },
  {
   "cell_type": "code",
   "execution_count": 60,
   "metadata": {},
   "outputs": [],
   "source": [
    "# Save the regression model\n",
    "#joblib.dump(model_1, \"./model 9/model_B24.pkl\") "
   ]
  },
  {
   "cell_type": "markdown",
   "metadata": {},
   "source": [
    "#### 10. Model 10:  X = [DFI, NDRI]"
   ]
  },
  {
   "cell_type": "code",
   "execution_count": 61,
   "metadata": {},
   "outputs": [
    {
     "data": {
      "text/html": [
       "<div>\n",
       "<style scoped>\n",
       "    .dataframe tbody tr th:only-of-type {\n",
       "        vertical-align: middle;\n",
       "    }\n",
       "\n",
       "    .dataframe tbody tr th {\n",
       "        vertical-align: top;\n",
       "    }\n",
       "\n",
       "    .dataframe thead th {\n",
       "        text-align: right;\n",
       "    }\n",
       "</style>\n",
       "<table border=\"1\" class=\"dataframe\">\n",
       "  <thead>\n",
       "    <tr style=\"text-align: right;\">\n",
       "      <th></th>\n",
       "      <th>DFI</th>\n",
       "      <th>NDRI</th>\n",
       "      <th>Biomasse (kg/ha)</th>\n",
       "    </tr>\n",
       "  </thead>\n",
       "  <tbody>\n",
       "    <tr>\n",
       "      <th>0</th>\n",
       "      <td>9.95982</td>\n",
       "      <td>-0.272779</td>\n",
       "      <td>776.5</td>\n",
       "    </tr>\n",
       "  </tbody>\n",
       "</table>\n",
       "</div>"
      ],
      "text/plain": [
       "       DFI      NDRI  Biomasse (kg/ha)\n",
       "0  9.95982 -0.272779             776.5"
      ]
     },
     "execution_count": 61,
     "metadata": {},
     "output_type": "execute_result"
    }
   ],
   "source": [
    "# Define input output data\n",
    "dfi_ndri_data = data_B24.iloc[:, [15,16,19]]\n",
    "dfi_ndri_data.head(1)"
   ]
  },
  {
   "cell_type": "code",
   "execution_count": 62,
   "metadata": {},
   "outputs": [
    {
     "data": {
      "text/html": [
       "<div>\n",
       "<style scoped>\n",
       "    .dataframe tbody tr th:only-of-type {\n",
       "        vertical-align: middle;\n",
       "    }\n",
       "\n",
       "    .dataframe tbody tr th {\n",
       "        vertical-align: top;\n",
       "    }\n",
       "\n",
       "    .dataframe thead th {\n",
       "        text-align: right;\n",
       "    }\n",
       "</style>\n",
       "<table border=\"1\" class=\"dataframe\">\n",
       "  <thead>\n",
       "    <tr style=\"text-align: right;\">\n",
       "      <th></th>\n",
       "      <th>coef</th>\n",
       "      <th>cste</th>\n",
       "      <th>R2</th>\n",
       "      <th>RMSE</th>\n",
       "      <th>mae</th>\n",
       "      <th>MAPE</th>\n",
       "    </tr>\n",
       "  </thead>\n",
       "  <tbody>\n",
       "    <tr>\n",
       "      <th>2</th>\n",
       "      <td>[251.4929503495206, -7248.470034851239]</td>\n",
       "      <td>-3767.292745</td>\n",
       "      <td>0.705643</td>\n",
       "      <td>183.106301</td>\n",
       "      <td>150.906361</td>\n",
       "      <td>0.33923</td>\n",
       "    </tr>\n",
       "  </tbody>\n",
       "</table>\n",
       "</div>"
      ],
      "text/plain": [
       "                                      coef         cste        R2        RMSE  \\\n",
       "2  [251.4929503495206, -7248.470034851239] -3767.292745  0.705643  183.106301   \n",
       "\n",
       "          mae     MAPE  \n",
       "2  150.906361  0.33923  "
      ]
     },
     "execution_count": 62,
     "metadata": {},
     "output_type": "execute_result"
    }
   ],
   "source": [
    "# Define predictor and response variables\n",
    "coef_list = []\n",
    "cste_list = []\n",
    "R2_list = []\n",
    "mae_list = []\n",
    "RMSE_list = []\n",
    "MAPE_list = []\n",
    "\n",
    "for i in range(0, len(dfi_ndri_data)):\n",
    "    X = dfi_ndri_data[[\"DFI\", \"NDRI\"]]\n",
    "    var_out = X.index.isin([i])\n",
    "    X = X.loc[~var_out]         # Leave one out\n",
    "    \n",
    "    y = dfi_ndri_data[\"Biomasse (kg/ha)\"][X.index] # same indices as X\n",
    "    \n",
    "    model_1 = LinearRegression().fit(X, y)\n",
    "    \n",
    "    coef = model_1.coef_\n",
    "    coef_list.append(coef)\n",
    "    \n",
    "    cste =  model_1.intercept_\n",
    "    cste_list.append(cste)\n",
    "    \n",
    "    X = dfi_ndri_data[[\"DFI\", \"NDRI\"]]\n",
    "    y = dfi_ndri_data[\"Biomasse (kg/ha)\"]\n",
    "    \n",
    "    R2 = r2_score(y.values,  (model_1.predict(X)))\n",
    "    R2_list.append(R2)\n",
    "    RMSE = mean_squared_error(y.values, (model_1.predict(X)), squared=False)\n",
    "    RMSE_list.append(RMSE)\n",
    "    mae = mean_absolute_error(y.values,  (model_1.predict(X)))\n",
    "    mae_list.append(mae)\n",
    "    mape = np.mean(np.abs((y.values - (model_1.predict(X))))/y.values)\n",
    "    MAPE_list.append(mape)\n",
    "    \n",
    "result_dic = {\"coef\" : coef_list, \"cste\": cste_list, \"R2\" : R2_list,\"RMSE\": RMSE_list, \"mae\": mae_list, \"MAPE\": MAPE_list}    \n",
    "reg_results = pd.DataFrame(result_dic)\n",
    "reg_results.loc[reg_results.RMSE == reg_results.RMSE.min()]  "
   ]
  },
  {
   "cell_type": "code",
   "execution_count": 63,
   "metadata": {},
   "outputs": [],
   "source": [
    "model_1 = LinearRegression()\n",
    "model_1.coef_ = reg_results.coef.values[2]\n",
    "model_1.intercept_ = reg_results.cste.values[2]"
   ]
  },
  {
   "cell_type": "markdown",
   "metadata": {
    "tags": []
   },
   "source": [
    "### Plot the results"
   ]
  },
  {
   "cell_type": "code",
   "execution_count": 64,
   "metadata": {
    "tags": []
   },
   "outputs": [
    {
     "name": "stderr",
     "output_type": "stream",
     "text": [
      "C:\\Users\\GARBA\\anaconda3\\envs\\geo_env\\lib\\site-packages\\sklearn\\base.py:443: UserWarning: X has feature names, but LinearRegression was fitted without feature names\n",
      "  warnings.warn(\n"
     ]
    }
   ],
   "source": [
    "# inputs\n",
    "x_all = si_B24[[\"DFI\", \"NDRI\"]]\n",
    "y_all = model_1.predict(x_all)\n",
    "#y_all"
   ]
  },
  {
   "cell_type": "code",
   "execution_count": 65,
   "metadata": {
    "tags": []
   },
   "outputs": [
    {
     "data": {
      "image/png": "[encoded data removed]",
      "text/plain": [
       "<Figure size 750x250 with 1 Axes>"
      ]
     },
     "metadata": {},
     "output_type": "display_data"
    }
   ],
   "source": [
    "fig, ax = plt.subplots(1, 1, figsize = (7.5,2.5), constrained_layout = True)\n",
    "ax.scatter(obs_mass.index, obs_mass.values, label = \"Observed Biomass\", color = \"darkblue\", s = 6)\n",
    "ax.plot(si_B24.date, y_all, lw = .9, label = \"Estimated biomass\", color = \"r\", alpha = .5)\n",
    "#ax.set_xticks(sti_data.index)\n",
    "#ax.set_yticks(np.arange(0, 1500, 200))\n",
    "ax.set_ylabel(\"kgMS/ha\", fontsize = 7)\n",
    "#ax.set_xlabel(\"Index\",  fontsize = 7)\n",
    "ax.tick_params(axis='both', which='major', labelsize=8)\n",
    "ax.legend(fontsize = 7, loc = (0.12, 0.01))\n",
    "ax.set_title(\"Fallow site B24 - Model 10: DFI and NDRI\", fontsize = 8, fontweight = \"bold\", x = 0.22, y = .9)\n",
    "ax.grid(\"both\", alpha = 0.2)\n",
    "plt.savefig(\"./output/B24/model_10_jachere.png\", dpi = 600)"
   ]
  },
  {
   "cell_type": "code",
   "execution_count": 66,
   "metadata": {},
   "outputs": [],
   "source": [
    "# Save the regression model\n",
    "#joblib.dump(model_1, \"./model 10/model_B24.pkl\") "
   ]
  },
  {
   "cell_type": "markdown",
   "metadata": {},
   "source": [
    "#### 11. Model 11:  X = [STI, NDTI, DFI]"
   ]
  },
  {
   "cell_type": "code",
   "execution_count": 67,
   "metadata": {},
   "outputs": [
    {
     "data": {
      "text/html": [
       "<div>\n",
       "<style scoped>\n",
       "    .dataframe tbody tr th:only-of-type {\n",
       "        vertical-align: middle;\n",
       "    }\n",
       "\n",
       "    .dataframe tbody tr th {\n",
       "        vertical-align: top;\n",
       "    }\n",
       "\n",
       "    .dataframe thead th {\n",
       "        text-align: right;\n",
       "    }\n",
       "</style>\n",
       "<table border=\"1\" class=\"dataframe\">\n",
       "  <thead>\n",
       "    <tr style=\"text-align: right;\">\n",
       "      <th></th>\n",
       "      <th>STI</th>\n",
       "      <th>NDTI</th>\n",
       "      <th>DFI</th>\n",
       "      <th>Biomasse (kg/ha)</th>\n",
       "    </tr>\n",
       "  </thead>\n",
       "  <tbody>\n",
       "    <tr>\n",
       "      <th>0</th>\n",
       "      <td>1.156114</td>\n",
       "      <td>0.072405</td>\n",
       "      <td>9.95982</td>\n",
       "      <td>776.5</td>\n",
       "    </tr>\n",
       "  </tbody>\n",
       "</table>\n",
       "</div>"
      ],
      "text/plain": [
       "        STI      NDTI      DFI  Biomasse (kg/ha)\n",
       "0  1.156114  0.072405  9.95982             776.5"
      ]
     },
     "execution_count": 67,
     "metadata": {},
     "output_type": "execute_result"
    }
   ],
   "source": [
    "# Define input output data\n",
    "sti_ndti_dfi_data = data_B24.iloc[:, [13, 14, 15,19]]\n",
    "sti_ndti_dfi_data.head(1)"
   ]
  },
  {
   "cell_type": "code",
   "execution_count": 68,
   "metadata": {},
   "outputs": [
    {
     "data": {
      "text/html": [
       "<div>\n",
       "<style scoped>\n",
       "    .dataframe tbody tr th:only-of-type {\n",
       "        vertical-align: middle;\n",
       "    }\n",
       "\n",
       "    .dataframe tbody tr th {\n",
       "        vertical-align: top;\n",
       "    }\n",
       "\n",
       "    .dataframe thead th {\n",
       "        text-align: right;\n",
       "    }\n",
       "</style>\n",
       "<table border=\"1\" class=\"dataframe\">\n",
       "  <thead>\n",
       "    <tr style=\"text-align: right;\">\n",
       "      <th></th>\n",
       "      <th>coef</th>\n",
       "      <th>cste</th>\n",
       "      <th>R2</th>\n",
       "      <th>RMSE</th>\n",
       "      <th>mae</th>\n",
       "      <th>MAPE</th>\n",
       "    </tr>\n",
       "  </thead>\n",
       "  <tbody>\n",
       "    <tr>\n",
       "      <th>6</th>\n",
       "      <td>[-45907.05219374399, 163161.54266623678, -481....</td>\n",
       "      <td>46817.991394</td>\n",
       "      <td>0.959007</td>\n",
       "      <td>68.3312</td>\n",
       "      <td>61.401088</td>\n",
       "      <td>0.179982</td>\n",
       "    </tr>\n",
       "  </tbody>\n",
       "</table>\n",
       "</div>"
      ],
      "text/plain": [
       "                                                coef          cste        R2  \\\n",
       "6  [-45907.05219374399, 163161.54266623678, -481....  46817.991394  0.959007   \n",
       "\n",
       "      RMSE        mae      MAPE  \n",
       "6  68.3312  61.401088  0.179982  "
      ]
     },
     "execution_count": 68,
     "metadata": {},
     "output_type": "execute_result"
    }
   ],
   "source": [
    "# Define predictor and response variables\n",
    "coef_list = []\n",
    "cste_list = []\n",
    "R2_list = []\n",
    "mae_list = []\n",
    "RMSE_list = []\n",
    "MAPE_list = []\n",
    "\n",
    "for i in range(0, len(sti_ndti_dfi_data)):\n",
    "    X = sti_ndti_dfi_data[[\"STI\", \"NDTI\", \"DFI\"]]\n",
    "    var_out = X.index.isin([i])\n",
    "    X = X.loc[~var_out]         # Leave one out\n",
    "    \n",
    "    y = sti_ndti_dfi_data[\"Biomasse (kg/ha)\"][X.index] # same indices as X\n",
    "    \n",
    "    model_1 = LinearRegression().fit(X, y)\n",
    "    \n",
    "    coef = model_1.coef_\n",
    "    coef_list.append(coef)\n",
    "    \n",
    "    cste =  model_1.intercept_\n",
    "    cste_list.append(cste)\n",
    "    \n",
    "    X = sti_ndti_dfi_data[[\"STI\", \"NDTI\", \"DFI\"]]   \n",
    "    y = sti_ndti_dfi_data[\"Biomasse (kg/ha)\"]\n",
    "        \n",
    "    R2 = r2_score(y.values,  (model_1.predict(X)))\n",
    "    R2_list.append(R2)\n",
    "    RMSE = mean_squared_error(y.values, (model_1.predict(X)), squared=False)\n",
    "    RMSE_list.append(RMSE)\n",
    "    mae = mean_absolute_error(y.values,  (model_1.predict(X)))\n",
    "    mae_list.append(mae)\n",
    "    mape = np.mean(np.abs((y.values - (model_1.predict(X))))/y.values)\n",
    "    MAPE_list.append(mape)\n",
    "    \n",
    "result_dic = {\"coef\" : coef_list, \"cste\": cste_list, \"R2\" : R2_list,\"RMSE\": RMSE_list, \"mae\": mae_list, \"MAPE\": MAPE_list}    \n",
    "reg_results = pd.DataFrame(result_dic)\n",
    "reg_results.loc[reg_results.RMSE == reg_results.RMSE.min()]  "
   ]
  },
  {
   "cell_type": "code",
   "execution_count": 69,
   "metadata": {},
   "outputs": [],
   "source": [
    "model_1 = LinearRegression()\n",
    "model_1.coef_ = reg_results.coef.values[6]\n",
    "model_1.intercept_ = reg_results.cste.values[6]"
   ]
  },
  {
   "cell_type": "markdown",
   "metadata": {
    "tags": []
   },
   "source": [
    "### Plot the results"
   ]
  },
  {
   "cell_type": "code",
   "execution_count": 70,
   "metadata": {
    "tags": []
   },
   "outputs": [
    {
     "name": "stderr",
     "output_type": "stream",
     "text": [
      "C:\\Users\\GARBA\\anaconda3\\envs\\geo_env\\lib\\site-packages\\sklearn\\base.py:443: UserWarning: X has feature names, but LinearRegression was fitted without feature names\n",
      "  warnings.warn(\n"
     ]
    }
   ],
   "source": [
    "# inputs\n",
    "x_all = si_B24[[\"STI\", \"NDTI\", \"DFI\"]]\n",
    "y_all = model_1.predict(x_all)\n",
    "#y_all"
   ]
  },
  {
   "cell_type": "code",
   "execution_count": 71,
   "metadata": {
    "tags": []
   },
   "outputs": [
    {
     "data": {
      "image/png": "[encoded data removed]",
      "text/plain": [
       "<Figure size 750x250 with 1 Axes>"
      ]
     },
     "metadata": {},
     "output_type": "display_data"
    }
   ],
   "source": [
    "fig, ax = plt.subplots(1, 1, figsize = (7.5,2.5), constrained_layout = True)\n",
    "ax.scatter(obs_mass.index, obs_mass.values, label = \"Observed Biomass\", color = \"darkblue\", s = 6)\n",
    "ax.plot(si_B24.date, y_all, lw = .9, label = \"Estimated biomass\", color = \"r\", alpha = .5)\n",
    "#ax.set_xticks(sti_data.index)\n",
    "#ax.set_yticks(np.arange(0, 1500, 200))\n",
    "ax.set_ylabel(\"kgMS/ha\", fontsize = 7)\n",
    "#ax.set_xlabel(\"Index\",  fontsize = 7)\n",
    "ax.tick_params(axis='both', which='major', labelsize=8)\n",
    "ax.legend(fontsize = 7, loc = (0.81, 0.81))\n",
    "ax.set_title(\"Fallow site B24- Model 11:\\n STI, NDTI and DFI\", fontsize = 7, fontweight = \"bold\", x = 0.14, y = .82)\n",
    "ax.grid(\"both\", alpha = 0.2)\n",
    "plt.savefig(\"./output/B24/model_11_jachere.png\", dpi = 600)"
   ]
  },
  {
   "cell_type": "code",
   "execution_count": 72,
   "metadata": {},
   "outputs": [],
   "source": [
    "# Save the regression model\n",
    "#joblib.dump(model_1, \"./model 11/model_B24.pkl\") "
   ]
  },
  {
   "cell_type": "markdown",
   "metadata": {},
   "source": [
    "#### 12. Model 12:  X = [STI, NDTI, NDRI]"
   ]
  },
  {
   "cell_type": "code",
   "execution_count": 73,
   "metadata": {},
   "outputs": [
    {
     "data": {
      "text/html": [
       "<div>\n",
       "<style scoped>\n",
       "    .dataframe tbody tr th:only-of-type {\n",
       "        vertical-align: middle;\n",
       "    }\n",
       "\n",
       "    .dataframe tbody tr th {\n",
       "        vertical-align: top;\n",
       "    }\n",
       "\n",
       "    .dataframe thead th {\n",
       "        text-align: right;\n",
       "    }\n",
       "</style>\n",
       "<table border=\"1\" class=\"dataframe\">\n",
       "  <thead>\n",
       "    <tr style=\"text-align: right;\">\n",
       "      <th></th>\n",
       "      <th>STI</th>\n",
       "      <th>NDTI</th>\n",
       "      <th>NDRI</th>\n",
       "      <th>Biomasse (kg/ha)</th>\n",
       "    </tr>\n",
       "  </thead>\n",
       "  <tbody>\n",
       "    <tr>\n",
       "      <th>0</th>\n",
       "      <td>1.156114</td>\n",
       "      <td>0.072405</td>\n",
       "      <td>-0.272779</td>\n",
       "      <td>776.5</td>\n",
       "    </tr>\n",
       "  </tbody>\n",
       "</table>\n",
       "</div>"
      ],
      "text/plain": [
       "        STI      NDTI      NDRI  Biomasse (kg/ha)\n",
       "0  1.156114  0.072405 -0.272779             776.5"
      ]
     },
     "execution_count": 73,
     "metadata": {},
     "output_type": "execute_result"
    }
   ],
   "source": [
    "# Define input output data\n",
    "sti_ndti_ndri_data = data_B24.iloc[:, [13, 14, 16,19]]\n",
    "sti_ndti_ndri_data.head(1)"
   ]
  },
  {
   "cell_type": "code",
   "execution_count": 74,
   "metadata": {},
   "outputs": [
    {
     "data": {
      "text/html": [
       "<div>\n",
       "<style scoped>\n",
       "    .dataframe tbody tr th:only-of-type {\n",
       "        vertical-align: middle;\n",
       "    }\n",
       "\n",
       "    .dataframe tbody tr th {\n",
       "        vertical-align: top;\n",
       "    }\n",
       "\n",
       "    .dataframe thead th {\n",
       "        text-align: right;\n",
       "    }\n",
       "</style>\n",
       "<table border=\"1\" class=\"dataframe\">\n",
       "  <thead>\n",
       "    <tr style=\"text-align: right;\">\n",
       "      <th></th>\n",
       "      <th>coef</th>\n",
       "      <th>cste</th>\n",
       "      <th>R2</th>\n",
       "      <th>RMSE</th>\n",
       "      <th>mae</th>\n",
       "      <th>MAPE</th>\n",
       "    </tr>\n",
       "  </thead>\n",
       "  <tbody>\n",
       "    <tr>\n",
       "      <th>5</th>\n",
       "      <td>[-125569.52583641344, 323366.40533414774, -522...</td>\n",
       "      <td>121057.131536</td>\n",
       "      <td>0.880365</td>\n",
       "      <td>116.733552</td>\n",
       "      <td>86.077741</td>\n",
       "      <td>0.137736</td>\n",
       "    </tr>\n",
       "  </tbody>\n",
       "</table>\n",
       "</div>"
      ],
      "text/plain": [
       "                                                coef           cste        R2  \\\n",
       "5  [-125569.52583641344, 323366.40533414774, -522...  121057.131536  0.880365   \n",
       "\n",
       "         RMSE        mae      MAPE  \n",
       "5  116.733552  86.077741  0.137736  "
      ]
     },
     "execution_count": 74,
     "metadata": {},
     "output_type": "execute_result"
    }
   ],
   "source": [
    "# Define predictor and response variables\n",
    "coef_list = []\n",
    "cste_list = []\n",
    "R2_list = []\n",
    "mae_list = []\n",
    "RMSE_list = []\n",
    "MAPE_list = []\n",
    "\n",
    "for i in range(0, len(sti_ndti_ndri_data)):\n",
    "    X = sti_ndti_ndri_data[[\"STI\",\"NDTI\", \"NDRI\"]]\n",
    "    var_out = X.index.isin([i])\n",
    "    X = X.loc[~var_out]         # Leave one out\n",
    "    \n",
    "    y = sti_ndti_ndri_data[\"Biomasse (kg/ha)\"][X.index] # same indices as X\n",
    "    \n",
    "    model_1 = LinearRegression().fit(X, y)\n",
    "    \n",
    "    coef = model_1.coef_\n",
    "    coef_list.append(coef)\n",
    "    \n",
    "    cste =  model_1.intercept_\n",
    "    cste_list.append(cste)\n",
    "    \n",
    "    X = sti_ndti_ndri_data[[\"STI\",\"NDTI\", \"NDRI\"]]\n",
    "    y = sti_ndti_ndri_data[\"Biomasse (kg/ha)\"]\n",
    "    \n",
    "    R2 = r2_score(y.values,  (model_1.predict(X)))\n",
    "    R2_list.append(R2)\n",
    "    RMSE = mean_squared_error(y.values, (model_1.predict(X)), squared=False)\n",
    "    RMSE_list.append(RMSE)\n",
    "    mae = mean_absolute_error(y.values,  (model_1.predict(X)))\n",
    "    mae_list.append(mae)\n",
    "    mape = np.mean(np.abs((y.values - (model_1.predict(X))))/y.values)\n",
    "    MAPE_list.append(mape)\n",
    "    \n",
    "result_dic = {\"coef\" : coef_list, \"cste\": cste_list, \"R2\" : R2_list,\"RMSE\": RMSE_list, \"mae\": mae_list, \"MAPE\": MAPE_list}    \n",
    "reg_results = pd.DataFrame(result_dic)\n",
    "reg_results.loc[reg_results.RMSE == reg_results.RMSE.min()]   "
   ]
  },
  {
   "cell_type": "code",
   "execution_count": 75,
   "metadata": {},
   "outputs": [],
   "source": [
    "model_1 = LinearRegression()\n",
    "model_1.coef_ = reg_results.coef.values[5]\n",
    "model_1.intercept_ = reg_results.cste.values[5]"
   ]
  },
  {
   "cell_type": "code",
   "execution_count": 76,
   "metadata": {},
   "outputs": [],
   "source": [
    "# Save the regression model\n",
    "#joblib.dump(model_1, \"./model 12/model_B24.pkl\")"
   ]
  },
  {
   "cell_type": "markdown",
   "metadata": {
    "tags": []
   },
   "source": [
    "### Plot the results"
   ]
  },
  {
   "cell_type": "code",
   "execution_count": 77,
   "metadata": {
    "tags": []
   },
   "outputs": [
    {
     "name": "stderr",
     "output_type": "stream",
     "text": [
      "C:\\Users\\GARBA\\anaconda3\\envs\\geo_env\\lib\\site-packages\\sklearn\\base.py:443: UserWarning: X has feature names, but LinearRegression was fitted without feature names\n",
      "  warnings.warn(\n"
     ]
    }
   ],
   "source": [
    "# inputs\n",
    "x_all = si_B24[[\"STI\",\"NDTI\", \"NDRI\"]]\n",
    "y_all = model_1.predict(x_all)\n",
    "#y_all"
   ]
  },
  {
   "cell_type": "code",
   "execution_count": 78,
   "metadata": {
    "tags": []
   },
   "outputs": [
    {
     "data": {
      "image/png": "[encoded data removed]",
      "text/plain": [
       "<Figure size 750x250 with 1 Axes>"
      ]
     },
     "metadata": {},
     "output_type": "display_data"
    }
   ],
   "source": [
    "fig, ax = plt.subplots(1, 1, figsize = (7.5,2.5), constrained_layout = True)\n",
    "ax.scatter(obs_mass.index, obs_mass.values, label = \"Observed Biomass\", color = \"darkblue\", s = 6)\n",
    "ax.plot(si_B24.date, y_all, lw = .9, label = \"Estimated biomass\", color = \"r\", alpha = .5)\n",
    "#ax.set_xticks(sti_data.index)\n",
    "#ax.set_yticks(np.arange(0, 1500, 200))\n",
    "ax.set_ylabel(\"kgMS/ha\", fontsize = 7)\n",
    "#ax.set_xlabel(\"Index\",  fontsize = 7)\n",
    "ax.tick_params(axis='both', which='major', labelsize=8)\n",
    "ax.legend(fontsize = 7, loc = (0.8, 0.8))\n",
    "ax.set_title(\"Fallow site B24 - Model 12: STI, NDTI and NDRI\", fontsize = 8, fontweight = \"bold\", x = 0.23, y = .9)\n",
    "ax.grid(\"both\", alpha = 0.2)\n",
    "plt.savefig(\"./output/B24/model_12_jachere.png\", dpi = 600)"
   ]
  },
  {
   "cell_type": "markdown",
   "metadata": {},
   "source": [
    "#### 13. Model 13:  X = [STI, DFI, NDRI]"
   ]
  },
  {
   "cell_type": "code",
   "execution_count": 79,
   "metadata": {},
   "outputs": [
    {
     "data": {
      "text/html": [
       "<div>\n",
       "<style scoped>\n",
       "    .dataframe tbody tr th:only-of-type {\n",
       "        vertical-align: middle;\n",
       "    }\n",
       "\n",
       "    .dataframe tbody tr th {\n",
       "        vertical-align: top;\n",
       "    }\n",
       "\n",
       "    .dataframe thead th {\n",
       "        text-align: right;\n",
       "    }\n",
       "</style>\n",
       "<table border=\"1\" class=\"dataframe\">\n",
       "  <thead>\n",
       "    <tr style=\"text-align: right;\">\n",
       "      <th></th>\n",
       "      <th>STI</th>\n",
       "      <th>DFI</th>\n",
       "      <th>NDRI</th>\n",
       "      <th>Biomasse (kg/ha)</th>\n",
       "    </tr>\n",
       "  </thead>\n",
       "  <tbody>\n",
       "    <tr>\n",
       "      <th>0</th>\n",
       "      <td>1.156114</td>\n",
       "      <td>9.95982</td>\n",
       "      <td>-0.272779</td>\n",
       "      <td>776.5</td>\n",
       "    </tr>\n",
       "  </tbody>\n",
       "</table>\n",
       "</div>"
      ],
      "text/plain": [
       "        STI      DFI      NDRI  Biomasse (kg/ha)\n",
       "0  1.156114  9.95982 -0.272779             776.5"
      ]
     },
     "execution_count": 79,
     "metadata": {},
     "output_type": "execute_result"
    }
   ],
   "source": [
    "# Define input output data\n",
    "sti_dfi_ndri_data = data_B24.iloc[:, [13, 15, 16,19]]\n",
    "sti_dfi_ndri_data.head(1)"
   ]
  },
  {
   "cell_type": "code",
   "execution_count": 80,
   "metadata": {},
   "outputs": [
    {
     "data": {
      "text/html": [
       "<div>\n",
       "<style scoped>\n",
       "    .dataframe tbody tr th:only-of-type {\n",
       "        vertical-align: middle;\n",
       "    }\n",
       "\n",
       "    .dataframe tbody tr th {\n",
       "        vertical-align: top;\n",
       "    }\n",
       "\n",
       "    .dataframe thead th {\n",
       "        text-align: right;\n",
       "    }\n",
       "</style>\n",
       "<table border=\"1\" class=\"dataframe\">\n",
       "  <thead>\n",
       "    <tr style=\"text-align: right;\">\n",
       "      <th></th>\n",
       "      <th>coef</th>\n",
       "      <th>cste</th>\n",
       "      <th>R2</th>\n",
       "      <th>RMSE</th>\n",
       "      <th>mae</th>\n",
       "      <th>MAPE</th>\n",
       "    </tr>\n",
       "  </thead>\n",
       "  <tbody>\n",
       "    <tr>\n",
       "      <th>3</th>\n",
       "      <td>[20547.433548128392, -440.3719165114006, -606....</td>\n",
       "      <td>-18737.962012</td>\n",
       "      <td>0.956198</td>\n",
       "      <td>70.633547</td>\n",
       "      <td>62.459755</td>\n",
       "      <td>0.141204</td>\n",
       "    </tr>\n",
       "  </tbody>\n",
       "</table>\n",
       "</div>"
      ],
      "text/plain": [
       "                                                coef          cste        R2  \\\n",
       "3  [20547.433548128392, -440.3719165114006, -606.... -18737.962012  0.956198   \n",
       "\n",
       "        RMSE        mae      MAPE  \n",
       "3  70.633547  62.459755  0.141204  "
      ]
     },
     "execution_count": 80,
     "metadata": {},
     "output_type": "execute_result"
    }
   ],
   "source": [
    "# Define predictor and response variables\n",
    "coef_list = []\n",
    "cste_list = []\n",
    "R2_list = []\n",
    "mae_list = []\n",
    "RMSE_list = []\n",
    "MAPE_list = []\n",
    "\n",
    "for i in range(0, len(sti_dfi_ndri_data)):\n",
    "    X = sti_dfi_ndri_data[[\"STI\",\"DFI\", \"NDRI\"]]\n",
    "    var_out = X.index.isin([i])\n",
    "    X = X.loc[~var_out]         # Leave one out\n",
    "    \n",
    "    y = sti_dfi_ndri_data[\"Biomasse (kg/ha)\"][X.index] # same indices as X\n",
    "    \n",
    "    model_1 = LinearRegression().fit(X, y)\n",
    "    \n",
    "    coef = model_1.coef_\n",
    "    coef_list.append(coef)\n",
    "    \n",
    "    cste =  model_1.intercept_\n",
    "    cste_list.append(cste)\n",
    "    \n",
    "    X = sti_dfi_ndri_data[[\"STI\",\"DFI\", \"NDRI\"]]\n",
    "    y = sti_dfi_ndri_data[\"Biomasse (kg/ha)\"]\n",
    "    \n",
    "    R2 = r2_score(y.values,  (model_1.predict(X)))\n",
    "    R2_list.append(R2)\n",
    "    RMSE = mean_squared_error(y.values, (model_1.predict(X)), squared=False)\n",
    "    RMSE_list.append(RMSE)\n",
    "    mae = mean_absolute_error(y.values,  (model_1.predict(X)))\n",
    "    mae_list.append(mae)\n",
    "    mape = np.mean(np.abs((y.values - (model_1.predict(X))))/y.values)\n",
    "    MAPE_list.append(mape)\n",
    "    \n",
    "result_dic = {\"coef\" : coef_list, \"cste\": cste_list, \"R2\" : R2_list,\"RMSE\": RMSE_list, \"mae\": mae_list, \"MAPE\": MAPE_list}    \n",
    "reg_results = pd.DataFrame(result_dic)\n",
    "reg_results.loc[reg_results.RMSE == reg_results.RMSE.min()]   "
   ]
  },
  {
   "cell_type": "code",
   "execution_count": 81,
   "metadata": {},
   "outputs": [],
   "source": [
    "model_1 = LinearRegression()\n",
    "model_1.coef_ = reg_results.coef.values[3]\n",
    "model_1.intercept_ = reg_results.cste.values[3]"
   ]
  },
  {
   "cell_type": "markdown",
   "metadata": {
    "tags": []
   },
   "source": [
    "### Plot the results"
   ]
  },
  {
   "cell_type": "code",
   "execution_count": 82,
   "metadata": {
    "tags": []
   },
   "outputs": [
    {
     "name": "stderr",
     "output_type": "stream",
     "text": [
      "C:\\Users\\GARBA\\anaconda3\\envs\\geo_env\\lib\\site-packages\\sklearn\\base.py:443: UserWarning: X has feature names, but LinearRegression was fitted without feature names\n",
      "  warnings.warn(\n"
     ]
    }
   ],
   "source": [
    "# inputs\n",
    "x_all = si_B24[[\"STI\",\"DFI\", \"NDRI\"]]\n",
    "y_all = model_1.predict(x_all)\n",
    "#y_all"
   ]
  },
  {
   "cell_type": "code",
   "execution_count": 83,
   "metadata": {
    "tags": []
   },
   "outputs": [
    {
     "data": {
      "image/png": "[encoded data removed]",
      "text/plain": [
       "<Figure size 750x250 with 1 Axes>"
      ]
     },
     "metadata": {},
     "output_type": "display_data"
    }
   ],
   "source": [
    "fig, ax = plt.subplots(1, 1, figsize = (7.5,2.5), constrained_layout = True)\n",
    "ax.scatter(obs_mass.index, obs_mass.values, label = \"Observed Biomass\", color = \"darkblue\", s = 6)\n",
    "ax.plot(si_B24.date, y_all, lw = .9, label = \"Estimated biomass\", color = \"r\", alpha = .5)\n",
    "#ax.set_xticks(sti_data.index)\n",
    "#ax.set_yticks(np.arange(0, 1500, 200))\n",
    "ax.set_ylabel(\"kgMS/ha\", fontsize = 7)\n",
    "#ax.set_xlabel(\"Index\",  fontsize = 7)\n",
    "ax.tick_params(axis='both', which='major', labelsize=8)\n",
    "ax.legend(fontsize = 7, loc = (0.78, 0.82))\n",
    "ax.set_title(\"Fallow site B24 - Model 13: STI, DFI and NDRI\", fontsize = 8, fontweight = \"bold\", x = 0.23, y = .9)\n",
    "ax.grid(\"both\", alpha = 0.2)\n",
    "plt.savefig(\"./output/B24/model_13_jachere.png\", dpi = 600)"
   ]
  },
  {
   "cell_type": "code",
   "execution_count": 84,
   "metadata": {},
   "outputs": [],
   "source": [
    "# Save the regression model\n",
    "#joblib.dump(model_1, \"./model 13/model_B24.pkl\") "
   ]
  },
  {
   "cell_type": "markdown",
   "metadata": {},
   "source": [
    "#### 14. Model 14:  X = [NDTI, DFI, NDRI]"
   ]
  },
  {
   "cell_type": "code",
   "execution_count": 85,
   "metadata": {},
   "outputs": [
    {
     "data": {
      "text/html": [
       "<div>\n",
       "<style scoped>\n",
       "    .dataframe tbody tr th:only-of-type {\n",
       "        vertical-align: middle;\n",
       "    }\n",
       "\n",
       "    .dataframe tbody tr th {\n",
       "        vertical-align: top;\n",
       "    }\n",
       "\n",
       "    .dataframe thead th {\n",
       "        text-align: right;\n",
       "    }\n",
       "</style>\n",
       "<table border=\"1\" class=\"dataframe\">\n",
       "  <thead>\n",
       "    <tr style=\"text-align: right;\">\n",
       "      <th></th>\n",
       "      <th>NDTI</th>\n",
       "      <th>DFI</th>\n",
       "      <th>NDRI</th>\n",
       "      <th>Biomasse (kg/ha)</th>\n",
       "    </tr>\n",
       "  </thead>\n",
       "  <tbody>\n",
       "    <tr>\n",
       "      <th>0</th>\n",
       "      <td>0.072405</td>\n",
       "      <td>9.95982</td>\n",
       "      <td>-0.272779</td>\n",
       "      <td>776.5</td>\n",
       "    </tr>\n",
       "  </tbody>\n",
       "</table>\n",
       "</div>"
      ],
      "text/plain": [
       "       NDTI      DFI      NDRI  Biomasse (kg/ha)\n",
       "0  0.072405  9.95982 -0.272779             776.5"
      ]
     },
     "execution_count": 85,
     "metadata": {},
     "output_type": "execute_result"
    }
   ],
   "source": [
    "# Define input output data\n",
    "ndti_dfi_ndri_data = data_B24.iloc[:, [14, 15, 16,19]]\n",
    "ndti_dfi_ndri_data.head(1)"
   ]
  },
  {
   "cell_type": "code",
   "execution_count": 86,
   "metadata": {},
   "outputs": [
    {
     "data": {
      "text/html": [
       "<div>\n",
       "<style scoped>\n",
       "    .dataframe tbody tr th:only-of-type {\n",
       "        vertical-align: middle;\n",
       "    }\n",
       "\n",
       "    .dataframe tbody tr th {\n",
       "        vertical-align: top;\n",
       "    }\n",
       "\n",
       "    .dataframe thead th {\n",
       "        text-align: right;\n",
       "    }\n",
       "</style>\n",
       "<table border=\"1\" class=\"dataframe\">\n",
       "  <thead>\n",
       "    <tr style=\"text-align: right;\">\n",
       "      <th></th>\n",
       "      <th>coef</th>\n",
       "      <th>cste</th>\n",
       "      <th>R2</th>\n",
       "      <th>RMSE</th>\n",
       "      <th>mae</th>\n",
       "      <th>MAPE</th>\n",
       "    </tr>\n",
       "  </thead>\n",
       "  <tbody>\n",
       "    <tr>\n",
       "      <th>3</th>\n",
       "      <td>[49537.220678815, -439.2704734746822, -643.614...</td>\n",
       "      <td>1408.185858</td>\n",
       "      <td>0.958314</td>\n",
       "      <td>68.907084</td>\n",
       "      <td>62.161694</td>\n",
       "      <td>0.148255</td>\n",
       "    </tr>\n",
       "  </tbody>\n",
       "</table>\n",
       "</div>"
      ],
      "text/plain": [
       "                                                coef         cste        R2  \\\n",
       "3  [49537.220678815, -439.2704734746822, -643.614...  1408.185858  0.958314   \n",
       "\n",
       "        RMSE        mae      MAPE  \n",
       "3  68.907084  62.161694  0.148255  "
      ]
     },
     "execution_count": 86,
     "metadata": {},
     "output_type": "execute_result"
    }
   ],
   "source": [
    "# Define predictor and response variables\n",
    "coef_list = []\n",
    "cste_list = []\n",
    "R2_list = []\n",
    "mae_list = []\n",
    "RMSE_list = []\n",
    "MAPE_list = []\n",
    "\n",
    "for i in range(0, len(ndti_dfi_ndri_data)):\n",
    "    X = ndti_dfi_ndri_data[[\"NDTI\",\"DFI\", \"NDRI\"]]\n",
    "    var_out = X.index.isin([i])\n",
    "    X = X.loc[~var_out]         # Leave one out\n",
    "    \n",
    "    y = ndti_dfi_ndri_data[\"Biomasse (kg/ha)\"][X.index] # same indices as X\n",
    "    \n",
    "    model_1 = LinearRegression().fit(X, y)\n",
    "    \n",
    "    coef = model_1.coef_\n",
    "    coef_list.append(coef)\n",
    "    \n",
    "    cste =  model_1.intercept_\n",
    "    cste_list.append(cste)\n",
    "    X = ndti_dfi_ndri_data[[\"NDTI\",\"DFI\", \"NDRI\"]]\n",
    "    y = ndti_dfi_ndri_data[\"Biomasse (kg/ha)\"]\n",
    "    R2 = r2_score(y.values,  (model_1.predict(X)))\n",
    "    R2_list.append(R2)\n",
    "    RMSE = mean_squared_error(y.values, (model_1.predict(X)), squared=False)\n",
    "    RMSE_list.append(RMSE)\n",
    "    mae = mean_absolute_error(y.values,  (model_1.predict(X)))\n",
    "    mae_list.append(mae)\n",
    "    mape = np.mean(np.abs((y.values - (model_1.predict(X))))/y.values)\n",
    "    MAPE_list.append(mape)\n",
    "    \n",
    "result_dic = {\"coef\" : coef_list, \"cste\": cste_list, \"R2\" : R2_list,\"RMSE\": RMSE_list, \"mae\": mae_list, \"MAPE\": MAPE_list}    \n",
    "reg_results = pd.DataFrame(result_dic)\n",
    "reg_results.loc[reg_results.RMSE == reg_results.RMSE.min()]  "
   ]
  },
  {
   "cell_type": "code",
   "execution_count": 87,
   "metadata": {},
   "outputs": [],
   "source": [
    "model_1 = LinearRegression()\n",
    "model_1.coef_ = reg_results.coef.values[3]\n",
    "model_1.intercept_ = reg_results.cste.values[3]"
   ]
  },
  {
   "cell_type": "markdown",
   "metadata": {
    "tags": []
   },
   "source": [
    "### Plot the results"
   ]
  },
  {
   "cell_type": "code",
   "execution_count": 88,
   "metadata": {
    "tags": []
   },
   "outputs": [
    {
     "name": "stderr",
     "output_type": "stream",
     "text": [
      "C:\\Users\\GARBA\\anaconda3\\envs\\geo_env\\lib\\site-packages\\sklearn\\base.py:443: UserWarning: X has feature names, but LinearRegression was fitted without feature names\n",
      "  warnings.warn(\n"
     ]
    }
   ],
   "source": [
    "# inputs\n",
    "x_all = si_B24[[\"NDTI\",\"DFI\", \"NDRI\"]]\n",
    "y_all = model_1.predict(x_all)\n",
    "#y_all"
   ]
  },
  {
   "cell_type": "code",
   "execution_count": 89,
   "metadata": {
    "tags": []
   },
   "outputs": [
    {
     "data": {
      "image/png": "[encoded data removed]",
      "text/plain": [
       "<Figure size 750x250 with 1 Axes>"
      ]
     },
     "metadata": {},
     "output_type": "display_data"
    }
   ],
   "source": [
    "fig, ax = plt.subplots(1, 1, figsize = (7.5,2.5), constrained_layout = True)\n",
    "ax.scatter(obs_mass.index, obs_mass.values, label = \"Observed Biomass\", color = \"darkblue\", s = 6)\n",
    "ax.plot(si_B24.date, y_all, lw = .9, label = \"Estimated biomass\", color = \"r\", alpha = .5)\n",
    "#ax.set_xticks(sti_data.index)\n",
    "#ax.set_yticks(np.arange(0, 1500, 200))\n",
    "ax.set_ylabel(\"kgMS/ha\", fontsize = 7)\n",
    "#ax.set_xlabel(\"Index\",  fontsize = 7)\n",
    "ax.tick_params(axis='both', which='major', labelsize=8)\n",
    "ax.legend(fontsize = 7, loc = (0.8, 0.8))\n",
    "ax.set_title(\"Fallow site B24 - Model 14: NDTI, DFI and NDRI\", fontsize = 8, fontweight = \"bold\", x = 0.23, y = .88)\n",
    "ax.grid(\"both\", alpha = 0.2)\n",
    "plt.savefig(\"./output/B24/model_14_jachere.png\", dpi = 600)"
   ]
  },
  {
   "cell_type": "code",
   "execution_count": 90,
   "metadata": {},
   "outputs": [],
   "source": [
    "# Save the regression model\n",
    "#joblib.dump(model_1, \"./model 14/model_B24.pkl\") "
   ]
  },
  {
   "cell_type": "markdown",
   "metadata": {},
   "source": [
    "#### 15. Model 15:  X = [STI, NDTI, DFI, NDRI]"
   ]
  },
  {
   "cell_type": "code",
   "execution_count": 106,
   "metadata": {},
   "outputs": [
    {
     "data": {
      "text/html": [
       "<div>\n",
       "<style scoped>\n",
       "    .dataframe tbody tr th:only-of-type {\n",
       "        vertical-align: middle;\n",
       "    }\n",
       "\n",
       "    .dataframe tbody tr th {\n",
       "        vertical-align: top;\n",
       "    }\n",
       "\n",
       "    .dataframe thead th {\n",
       "        text-align: right;\n",
       "    }\n",
       "</style>\n",
       "<table border=\"1\" class=\"dataframe\">\n",
       "  <thead>\n",
       "    <tr style=\"text-align: right;\">\n",
       "      <th></th>\n",
       "      <th>STI</th>\n",
       "      <th>NDTI</th>\n",
       "      <th>DFI</th>\n",
       "      <th>NDRI</th>\n",
       "      <th>Biomasse (kg/ha)</th>\n",
       "    </tr>\n",
       "  </thead>\n",
       "  <tbody>\n",
       "    <tr>\n",
       "      <th>0</th>\n",
       "      <td>1.156114</td>\n",
       "      <td>0.072405</td>\n",
       "      <td>9.95982</td>\n",
       "      <td>-0.272779</td>\n",
       "      <td>776.5</td>\n",
       "    </tr>\n",
       "  </tbody>\n",
       "</table>\n",
       "</div>"
      ],
      "text/plain": [
       "        STI      NDTI      DFI      NDRI  Biomasse (kg/ha)\n",
       "0  1.156114  0.072405  9.95982 -0.272779             776.5"
      ]
     },
     "execution_count": 106,
     "metadata": {},
     "output_type": "execute_result"
    }
   ],
   "source": [
    "# Define input output data\n",
    "sti_ndti_dfi_ndri_data = data_B24.iloc[:, [13, 14, 15, 16,19]]\n",
    "sti_ndti_dfi_ndri_data.head(1)"
   ]
  },
  {
   "cell_type": "code",
   "execution_count": 107,
   "metadata": {},
   "outputs": [
    {
     "data": {
      "text/html": [
       "<div>\n",
       "<style scoped>\n",
       "    .dataframe tbody tr th:only-of-type {\n",
       "        vertical-align: middle;\n",
       "    }\n",
       "\n",
       "    .dataframe tbody tr th {\n",
       "        vertical-align: top;\n",
       "    }\n",
       "\n",
       "    .dataframe thead th {\n",
       "        text-align: right;\n",
       "    }\n",
       "</style>\n",
       "<table border=\"1\" class=\"dataframe\">\n",
       "  <thead>\n",
       "    <tr style=\"text-align: right;\">\n",
       "      <th></th>\n",
       "      <th>coef</th>\n",
       "      <th>cste</th>\n",
       "      <th>R2</th>\n",
       "      <th>RMSE</th>\n",
       "      <th>mae</th>\n",
       "      <th>MAPE</th>\n",
       "      <th>RMSPE</th>\n",
       "    </tr>\n",
       "  </thead>\n",
       "  <tbody>\n",
       "    <tr>\n",
       "      <th>3</th>\n",
       "      <td>[-108504.7560419711, 309105.37042654917, -405....</td>\n",
       "      <td>107586.806966</td>\n",
       "      <td>0.957352</td>\n",
       "      <td>69.696973</td>\n",
       "      <td>60.898647</td>\n",
       "      <td>0.176398</td>\n",
       "      <td>23.817371</td>\n",
       "    </tr>\n",
       "  </tbody>\n",
       "</table>\n",
       "</div>"
      ],
      "text/plain": [
       "                                                coef           cste        R2  \\\n",
       "3  [-108504.7560419711, 309105.37042654917, -405....  107586.806966  0.957352   \n",
       "\n",
       "        RMSE        mae      MAPE      RMSPE  \n",
       "3  69.696973  60.898647  0.176398  23.817371  "
      ]
     },
     "execution_count": 107,
     "metadata": {},
     "output_type": "execute_result"
    }
   ],
   "source": [
    "# Define predictor and response variables\n",
    "coef_list = []\n",
    "cste_list = []\n",
    "R2_list = []\n",
    "mae_list = []\n",
    "RMSE_list = []\n",
    "MAPE_list = []\n",
    "RMSPE_list = []\n",
    "for i in range(0, len(sti_ndti_dfi_ndri_data)):\n",
    "    X = sti_ndti_dfi_ndri_data[[\"STI\",\"NDTI\",\"DFI\", \"NDRI\"]]\n",
    "    var_out = X.index.isin([i])\n",
    "    X = X.loc[~var_out]         # Leave one out\n",
    "    \n",
    "    y = sti_ndti_dfi_ndri_data[\"Biomasse (kg/ha)\"][X.index] # same indices as X\n",
    "    \n",
    "    model_1 = LinearRegression().fit(X, y)\n",
    "    \n",
    "    coef = model_1.coef_\n",
    "    coef_list.append(coef)\n",
    "    \n",
    "    cste =  model_1.intercept_\n",
    "    cste_list.append(cste)\n",
    "    X = sti_ndti_dfi_ndri_data[[\"STI\",\"NDTI\",\"DFI\", \"NDRI\"]]\n",
    "    y = sti_ndti_dfi_ndri_data[\"Biomasse (kg/ha)\"]   \n",
    "    R2 = r2_score(y.values,  (model_1.predict(X)))\n",
    "    R2_list.append(R2)\n",
    "    RMSE = mean_squared_error(y.values, model_1.predict(X), squared=False)\n",
    "    RMSE_list.append(RMSE)\n",
    "    mae = mean_absolute_error(y.values,  model_1.predict(X))\n",
    "    mae_list.append(mae)\n",
    "    mape = np.mean(np.abs((y.values - model_1.predict(X)))/y.values)\n",
    "    MAPE_list.append(mape)\n",
    "    rmspe = rmspe = (np.sqrt(np.mean(np.square((y.values - model_1.predict(X)) / y.values)))) * 100\n",
    "    RMSPE_list.append(rmspe)\n",
    "    \n",
    "result_dic = {\"coef\" : coef_list, \"cste\": cste_list, \"R2\" : R2_list,\"RMSE\": RMSE_list, \"mae\": mae_list, \"MAPE\": MAPE_list, \"RMSPE\": RMSPE_list}    \n",
    "reg_results = pd.DataFrame(result_dic)\n",
    "reg_results.loc[reg_results.RMSE == reg_results.RMSE.min()]    "
   ]
  },
  {
   "cell_type": "code",
   "execution_count": 108,
   "metadata": {
    "tags": []
   },
   "outputs": [],
   "source": [
    "# Predict the out var using the best model\n",
    "model_1 = LinearRegression()\n",
    "model_1.coef_ = reg_results.coef.values[3]\n",
    "model_1.intercept_ = reg_results.cste.values[3]"
   ]
  },
  {
   "cell_type": "markdown",
   "metadata": {
    "tags": []
   },
   "source": [
    "### Plot the results"
   ]
  },
  {
   "cell_type": "code",
   "execution_count": 109,
   "metadata": {
    "tags": []
   },
   "outputs": [
    {
     "name": "stderr",
     "output_type": "stream",
     "text": [
      "C:\\Users\\GARBA\\anaconda3\\envs\\geo_env\\lib\\site-packages\\sklearn\\base.py:443: UserWarning: X has feature names, but LinearRegression was fitted without feature names\n",
      "  warnings.warn(\n"
     ]
    }
   ],
   "source": [
    "# inputs\n",
    "x_all = si_B24[[\"STI\",\"NDTI\",\"DFI\", \"NDRI\"]]\n",
    "y_all = model_1.predict(x_all)\n",
    "#y_all"
   ]
  },
  {
   "cell_type": "code",
   "execution_count": 110,
   "metadata": {
    "tags": []
   },
   "outputs": [
    {
     "data": {
      "image/png": "[encoded data removed]",
      "text/plain": [
       "<Figure size 560x200 with 1 Axes>"
      ]
     },
     "metadata": {},
     "output_type": "display_data"
    }
   ],
   "source": [
    "fig, ax = plt.subplots(1, 1, figsize = (5.6,2.), constrained_layout = True)\n",
    "ax.scatter(obs_mass.index, obs_mass.values, label = \"Observed Biomass\", color = \"darkblue\", s = 7)\n",
    "ax.plot(si_B24.date, y_all, lw = .9, label = \"Estimated biomass\", color = \"r\", alpha = .5)\n",
    "#ax.set_xticks(sti_data.index)\n",
    "#ax.set_yticks(np.arange(0, 1500, 200))\n",
    "ax.set_ylabel(\"kgMS/ha\", fontsize = 7)\n",
    "#ax.set_xlabel(\"Index\",  fontsize = 7)\n",
    "ax.tick_params(axis='both', which='major', labelsize=8)\n",
    "#ax.legend(fontsize = 7, loc = (0.71, 0.78))\n",
    "ax.set_title(\"Fallow site B24 - Combination of\\n STI, NDTI, DFI and NDRI\", fontsize = 8, fontweight = \"bold\", x = 0.22, y = .8)\n",
    "ax.grid(\"both\", alpha = 0.2)\n",
    "plt.savefig(\"./output/B24/model_15_jachere.png\", dpi = 600)"
   ]
  },
  {
   "cell_type": "code",
   "execution_count": 96,
   "metadata": {},
   "outputs": [],
   "source": [
    "# Save the regression model\n",
    "#import joblib\n",
    "## save\n",
    "#joblib.dump(model_1, \"./model 15/model_B24.pkl\") "
   ]
  },
  {
   "cell_type": "code",
   "execution_count": null,
   "metadata": {},
   "outputs": [],
   "source": []
  }
 ],
 "metadata": {
  "kernelspec": {
   "display_name": "Python 3",
   "language": "python",
   "name": "python3"
  },
  "language_info": {
   "codemirror_mode": {
    "name": "ipython",
    "version": 3
   },
   "file_extension": ".py",
   "mimetype": "text/x-python",
   "name": "python",
   "nbconvert_exporter": "python",
   "pygments_lexer": "ipython3",
   "version": "3.8.2"
  }
 },
 "nbformat": 4,
 "nbformat_minor": 4
}
